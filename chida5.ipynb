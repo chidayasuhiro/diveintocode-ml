{
 "cells": [
  {
   "cell_type": "markdown",
   "metadata": {},
   "source": [
    "【問題1】2×2マスのチェス盤の小麦の数"
   ]
  },
  {
   "cell_type": "code",
   "execution_count": 1,
   "metadata": {},
   "outputs": [
    {
     "name": "stdout",
     "output_type": "stream",
     "text": [
      "4マスの板に小麦を並べる（リスト）：[1, 2, 4, 8]\n"
     ]
    }
   ],
   "source": [
    "# サンプル１\n",
    "\n",
    "n_squares = 4\n",
    "small_board_list = [1]\n",
    "for _ in range(n_squares - 1):\n",
    "    small_board_list.append(2*small_board_list[-1])\n",
    "print(\"4マスの板に小麦を並べる（リスト）：{}\".format(small_board_list))"
   ]
  },
  {
   "cell_type": "code",
   "execution_count": 2,
   "metadata": {},
   "outputs": [
    {
     "name": "stdout",
     "output_type": "stream",
     "text": [
      "4マスの板に小麦を並べる（ndarray）：[1 2 4 8]\n"
     ]
    }
   ],
   "source": [
    "#　サンプル２\n",
    "\n",
    "import numpy as np\n",
    "small_board_ndarray = np.array(small_board_list)\n",
    "print(\"4マスの板に小麦を並べる（ndarray）：{}\".format(small_board_ndarray))"
   ]
  },
  {
   "cell_type": "code",
   "execution_count": 4,
   "metadata": {},
   "outputs": [
    {
     "data": {
      "text/plain": [
       "array([[1, 2],\n",
       "       [4, 8]])"
      ]
     },
     "execution_count": 4,
     "metadata": {},
     "output_type": "execute_result"
    }
   ],
   "source": [
    "# 2×2マスのチェス盤をndarrayによって表現\n",
    "\n",
    "small_board_ndarray.reshape((2,2))"
   ]
  },
  {
   "cell_type": "markdown",
   "metadata": {},
   "source": [
    "【問題2】n×mマスへの拡張"
   ]
  },
  {
   "cell_type": "code",
   "execution_count": 118,
   "metadata": {},
   "outputs": [
    {
     "data": {
      "text/plain": [
       "array([[  1,   2,   4],\n",
       "       [  8,  16,  32],\n",
       "       [ 64, 128, 256]])"
      ]
     },
     "execution_count": 118,
     "metadata": {},
     "output_type": "execute_result"
    }
   ],
   "source": [
    "# 関数名はchidaとする\n",
    "# 入力値はリストをマスの数をsuとし、行列をn×mとする\n",
    "# 出力値はn×mの行列(matrix)とする\n",
    "# 出力例として3×3の行列を出力\n",
    "\n",
    "def chida(su,n,m):\n",
    "    n_squares = su\n",
    "    board_list = [1]\n",
    "    for _ in range(n_squares - 1):\n",
    "        board_list.append(2*board_list[-1])\n",
    "    import numpy as np\n",
    "    ya2=np.array(board_list)\n",
    "    matrix=ya2.reshape(n,m)\n",
    "    return matrix\n",
    "\n",
    "chida(9,3,3)"
   ]
  },
  {
   "cell_type": "code",
   "execution_count": 120,
   "metadata": {},
   "outputs": [
    {
     "data": {
      "text/plain": [
       "array([[1.00000000e+00, 2.00000000e+00, 4.00000000e+00, 8.00000000e+00,\n",
       "        1.60000000e+01, 3.20000000e+01, 6.40000000e+01, 1.28000000e+02],\n",
       "       [2.56000000e+02, 5.12000000e+02, 1.02400000e+03, 2.04800000e+03,\n",
       "        4.09600000e+03, 8.19200000e+03, 1.63840000e+04, 3.27680000e+04],\n",
       "       [6.55360000e+04, 1.31072000e+05, 2.62144000e+05, 5.24288000e+05,\n",
       "        1.04857600e+06, 2.09715200e+06, 4.19430400e+06, 8.38860800e+06],\n",
       "       [1.67772160e+07, 3.35544320e+07, 6.71088640e+07, 1.34217728e+08,\n",
       "        2.68435456e+08, 5.36870912e+08, 1.07374182e+09, 2.14748365e+09],\n",
       "       [4.29496730e+09, 8.58993459e+09, 1.71798692e+10, 3.43597384e+10,\n",
       "        6.87194767e+10, 1.37438953e+11, 2.74877907e+11, 5.49755814e+11],\n",
       "       [1.09951163e+12, 2.19902326e+12, 4.39804651e+12, 8.79609302e+12,\n",
       "        1.75921860e+13, 3.51843721e+13, 7.03687442e+13, 1.40737488e+14],\n",
       "       [2.81474977e+14, 5.62949953e+14, 1.12589991e+15, 2.25179981e+15,\n",
       "        4.50359963e+15, 9.00719925e+15, 1.80143985e+16, 3.60287970e+16],\n",
       "       [7.20575940e+16, 1.44115188e+17, 2.88230376e+17, 5.76460752e+17,\n",
       "        1.15292150e+18, 2.30584301e+18, 4.61168602e+18, 9.22337204e+18]])"
      ]
     },
     "execution_count": 120,
     "metadata": {},
     "output_type": "execute_result"
    }
   ],
   "source": [
    "# 8×8の小麦の数を出力\n",
    "\n",
    "def chida(su,n,m):\n",
    "    n_squares = su\n",
    "    board_list = [1]\n",
    "    for _ in range(n_squares - 1):\n",
    "        board_list.append(2*board_list[-1])\n",
    "    import numpy as np\n",
    "    ya2=np.array(board_list)\n",
    "    matrix=ya2.reshape(n,m)\n",
    "    return matrix\n",
    "\n",
    "chida(64,8,8)"
   ]
  },
  {
   "cell_type": "markdown",
   "metadata": {},
   "source": [
    "【問題3】小麦の数の合計"
   ]
  },
  {
   "cell_type": "code",
   "execution_count": 122,
   "metadata": {},
   "outputs": [
    {
     "name": "stdout",
     "output_type": "stream",
     "text": [
      "1.8446744073709552e+19\n"
     ]
    }
   ],
   "source": [
    "# 8×8のboard_listの行列（小麦の数）の合計\n",
    "\n",
    "def chida(su,n,m):\n",
    "    n_squares = su\n",
    "    board_list = [1]\n",
    "    for _ in range(n_squares - 1):\n",
    "        board_list.append(2*board_list[-1])\n",
    "    import numpy as np\n",
    "    ya2=np.array(board_list)\n",
    "    matrix=ya2.reshape(n,m)\n",
    "    return matrix\n",
    "\n",
    "ya=chida(64,8,8)\n",
    "\n",
    "print(np.sum(ya))"
   ]
  },
  {
   "cell_type": "code",
   "execution_count": 123,
   "metadata": {},
   "outputs": [
    {
     "name": "stdout",
     "output_type": "stream",
     "text": [
      "[9.04252160e+15 1.80850432e+16 3.61700864e+16 7.23401728e+16\n",
      " 1.44680346e+17 2.89360691e+17 5.78721383e+17 1.15744277e+18]\n"
     ]
    },
    {
     "data": {
      "image/png": "[encoded data removed]",
      "text/plain": [
       "<Figure size 432x288 with 1 Axes>"
      ]
     },
     "metadata": {
      "needs_background": "light"
     },
     "output_type": "display_data"
    }
   ],
   "source": [
    "# 8×8のboard_listの列の合計と列平均と平均のグラフ化\n",
    "\n",
    "def chida(su,n,m):\n",
    "    n_squares = su\n",
    "    board_list = [1]\n",
    "    for _ in range(n_squares - 1):\n",
    "        board_list.append(2*board_list[-1])\n",
    "    import numpy as np\n",
    "    ya2=np.array(board_list)\n",
    "    matrix=ya2.reshape(n,m)\n",
    "    return matrix\n",
    "\n",
    "ya=chida(64,8,8)\n",
    "\n",
    "su=np.sum(ya,axis=0)/8\n",
    "print(su)\n",
    "\n",
    "hi=np.array(su)\n",
    "\n",
    "import matplotlib.pyplot as plt\n",
    "%matplotlib inline\n",
    "plt.xlabel(\"column\")\n",
    "plt.ylabel(\"number\")\n",
    "plt.title(\"number in each column\")\n",
    "x = np.array(['1col', '2col', '3col', '4col', '5col','6col','7col','8col'])\n",
    "plt.bar(x, hi)\n",
    "plt.show()"
   ]
  },
  {
   "cell_type": "markdown",
   "metadata": {},
   "source": [
    "【問題4】小麦の数のヒートマップ"
   ]
  },
  {
   "cell_type": "code",
   "execution_count": 86,
   "metadata": {},
   "outputs": [
    {
     "data": {
      "image/png": "[encoded data removed]",
      "text/plain": [
       "<Figure size 432x288 with 1 Axes>"
      ]
     },
     "metadata": {
      "needs_background": "light"
     },
     "output_type": "display_data"
    }
   ],
   "source": [
    "plt.xlabel(\"column\")\n",
    "plt.ylabel(\"row\")\n",
    "plt.title(\"heatmap\")\n",
    "plt.pcolor(np.array(ya).reshape(8, 8))\n",
    "plt.show()"
   ]
  },
  {
   "cell_type": "markdown",
   "metadata": {},
   "source": [
    "【問題5】後半は前半の何倍か"
   ]
  },
  {
   "cell_type": "code",
   "execution_count": 115,
   "metadata": {},
   "outputs": [
    {
     "name": "stdout",
     "output_type": "stream",
     "text": [
      "4294967295.0\n",
      "1.8446744069414584e+19\n",
      "後半は前半の 4294967296.0 倍\n"
     ]
    }
   ],
   "source": [
    "#　8×8の小麦の行列は引き続きyaとする\n",
    "\n",
    "su=np.sum(ya,axis=1)\n",
    "\n",
    "# 配列の0から3行目の合計\n",
    "print(sum(su[:4]))\n",
    "\n",
    "# 配列の4から7行目の合計\n",
    "print(sum(su[4:]))\n",
    "\n",
    "#何倍か\n",
    "\n",
    "print(\"後半は前半の\",sum(su[4:])/sum(su[:4]),\"倍\")"
   ]
  },
  {
   "cell_type": "markdown",
   "metadata": {},
   "source": [
    "【問題6】他の計算方法によるn×mマスへの拡張"
   ]
  },
  {
   "cell_type": "code",
   "execution_count": 119,
   "metadata": {},
   "outputs": [
    {
     "data": {
      "text/plain": [
       "array([[  1,   2,   4],\n",
       "       [  8,  16,  32],\n",
       "       [ 64, 128, 256]])"
      ]
     },
     "execution_count": 119,
     "metadata": {},
     "output_type": "execute_result"
    }
   ],
   "source": [
    "# n×mマスのnp.append()によるもの\n",
    "# 出力例として3×3の行列を出力\n",
    "\n",
    "def chida(su,n,m):\n",
    "    n_squares = su\n",
    "    board_list = [1]\n",
    "    for _ in range(n_squares - 1):\n",
    "        board_list.append(2*board_list[-1])\n",
    "    import numpy as np\n",
    "    ya2=np.array(board_list)\n",
    "    matrix=ya2.reshape(n,m)\n",
    "    return matrix\n",
    "\n",
    "chida(9,3,3)"
   ]
  },
  {
   "cell_type": "code",
   "execution_count": 135,
   "metadata": {},
   "outputs": [
    {
     "name": "stdout",
     "output_type": "stream",
     "text": [
      "[[  1   2   4]\n",
      " [  8  16  32]\n",
      " [ 64 128 256]]\n"
     ]
    }
   ],
   "source": [
    "# n×mマスのブロードキャストによるもの\n",
    "# uint64を使用\n",
    "# 出力例として3×3の行列を出力\n",
    "\n",
    "def chida(su,n,m):\n",
    "    import numpy as np\n",
    "    n_squares = su\n",
    "    indices_of_squares = np.arange(n_squares).astype(np.uint64)\n",
    "    board_list = 2**indices_of_squares\n",
    "\n",
    "    ya2=np.array(board_list)\n",
    "    matrix=ya2.reshape(n,m)\n",
    "    return matrix\n",
    "\n",
    "ya=chida(9,3,3)\n",
    "print(ya)"
   ]
  },
  {
   "cell_type": "code",
   "execution_count": 137,
   "metadata": {},
   "outputs": [
    {
     "name": "stdout",
     "output_type": "stream",
     "text": [
      "1.8446744073709552e+19\n"
     ]
    }
   ],
   "source": [
    "# n×mマスのnp.append()によるもの\n",
    "# 8×8マスのチェス盤の小麦の数を求める\n",
    "\n",
    "def chida(su,n,m):\n",
    "    n_squares = su\n",
    "    board_list = [1]\n",
    "    for _ in range(n_squares - 1):\n",
    "        board_list.append(2*board_list[-1])\n",
    "    import numpy as np\n",
    "    ya2=np.array(board_list)\n",
    "    matrix=ya2.reshape(n,m)\n",
    "    return matrix\n",
    "\n",
    "ya=chida(64,8,8)\n",
    "\n",
    "print(np.sum(ya))"
   ]
  },
  {
   "cell_type": "code",
   "execution_count": 138,
   "metadata": {},
   "outputs": [
    {
     "name": "stdout",
     "output_type": "stream",
     "text": [
      "18446744073709551615\n"
     ]
    }
   ],
   "source": [
    "# n×mマスのブロードキャストによるもの\n",
    "# uint64を使用\n",
    "# 8×8マスのチェス盤の小麦の数を求める\n",
    "\n",
    "def chida(su,n,m):\n",
    "    import numpy as np\n",
    "    n_squares = su\n",
    "    indices_of_squares = np.arange(n_squares).astype(np.uint64)\n",
    "    board_list = 2**indices_of_squares\n",
    "\n",
    "    ya2=np.array(board_list)\n",
    "    matrix=ya2.reshape(n,m)\n",
    "    return matrix\n",
    "\n",
    "ya=chida(64,8,8)\n",
    "\n",
    "print(np.sum(ya))"
   ]
  },
  {
   "cell_type": "markdown",
   "metadata": {},
   "source": [
    "【問題7】計算時間の比較"
   ]
  },
  {
   "cell_type": "code",
   "execution_count": 155,
   "metadata": {},
   "outputs": [
    {
     "name": "stdout",
     "output_type": "stream",
     "text": [
      "14.8 µs ± 45.3 ns per loop (mean ± std. dev. of 7 runs, 100000 loops each)\n"
     ]
    }
   ],
   "source": [
    "%%timeit\n",
    "def chida(su,n,m):\n",
    "    n_squares = su\n",
    "    board_list = [1]\n",
    "    for _ in range(n_squares - 1):\n",
    "        board_list.append(2*board_list[-1])\n",
    "    import numpy as np\n",
    "    ya2=np.array(board_list)\n",
    "    matrix=ya2.reshape(n,m)\n",
    "    return matrix\n",
    "\n",
    "ya=chida(64,8,8)\n",
    "np.sum(ya)"
   ]
  },
  {
   "cell_type": "code",
   "execution_count": 156,
   "metadata": {},
   "outputs": [
    {
     "name": "stdout",
     "output_type": "stream",
     "text": [
      "14.8 µs ± 63.1 ns per loop (mean ± std. dev. of 7 runs, 100000 loops each)\n"
     ]
    }
   ],
   "source": [
    "%%timeit\n",
    "def chida(su,n,m):\n",
    "    n_squares = su\n",
    "    board_list = [1]\n",
    "    for _ in range(n_squares - 1):\n",
    "        board_list.append(2*board_list[-1])\n",
    "    import numpy as np\n",
    "    ya2=np.array(board_list)\n",
    "    matrix=ya2.reshape(n,m)\n",
    "    return matrix\n",
    "\n",
    "ya=chida(64,8,8)\n",
    "np.sum(ya)"
   ]
  },
  {
   "cell_type": "code",
   "execution_count": 157,
   "metadata": {},
   "outputs": [
    {
     "name": "stdout",
     "output_type": "stream",
     "text": [
      "7.68 µs ± 120 ns per loop (mean ± std. dev. of 7 runs, 100000 loops each)\n"
     ]
    }
   ],
   "source": [
    "%%timeit\n",
    "def chida(su,n,m):\n",
    "    import numpy as np\n",
    "    n_squares = su\n",
    "    indices_of_squares = np.arange(n_squares).astype(np.uint64)\n",
    "    board_list = 2**indices_of_squares\n",
    "\n",
    "    ya2=np.array(board_list)\n",
    "    matrix=ya2.reshape(n,m)\n",
    "    return matrix\n",
    "\n",
    "ya=chida(64,8,8)\n",
    "np.sum(ya)"
   ]
  },
  {
   "cell_type": "markdown",
   "metadata": {},
   "source": [
    "●比較と考察\n",
    "\n",
    "３つを比較すると、numpyのブロードキャストを使用したものが他の二つと比べてかなり早いことがわかる。\n",
    "コードは他の２つと比べて少しではあるがシンプルになっている。\n",
    "\n",
    "「6.他の計算方法」の説明にもある、\n",
    "ブロードキャストを使うメリットの\n",
    "①コードが短くなるため、実行速度が早くなる\n",
    "というのが実際に例として見てわかった。"
   ]
  },
  {
   "cell_type": "code",
   "execution_count": null,
   "metadata": {},
   "outputs": [],
   "source": []
  }
 ],
 "metadata": {
  "kernelspec": {
   "display_name": "Python 3",
   "language": "python",
   "name": "python3"
  },
  "language_info": {
   "codemirror_mode": {
    "name": "ipython",
    "version": 3
   },
   "file_extension": ".py",
   "mimetype": "text/x-python",
   "name": "python",
   "nbconvert_exporter": "python",
   "pygments_lexer": "ipython3",
   "version": "3.7.0"
  }
 },
 "nbformat": 4,
 "nbformat_minor": 2
}
