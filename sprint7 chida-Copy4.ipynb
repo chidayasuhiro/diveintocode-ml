{
 "cells": [
  {
   "cell_type": "markdown",
   "metadata": {},
   "source": [
    "クラスタリング"
   ]
  },
  {
   "cell_type": "code",
   "execution_count": 1,
   "metadata": {},
   "outputs": [],
   "source": [
    "# クラスタリングのための人工データセット確認\n",
    "import numpy as np\n",
    "from sklearn.datasets import make_blobs\n",
    "X, _ = make_blobs(n_samples=100, n_features=2, centers=4, cluster_std=0.5, shuffle=True, random_state=0)"
   ]
  },
  {
   "cell_type": "markdown",
   "metadata": {},
   "source": [
    "【問題1】中心点の初期値を決める"
   ]
  },
  {
   "cell_type": "code",
   "execution_count": 2,
   "metadata": {},
   "outputs": [],
   "source": [
    "#　ランダムにデータ点 Xn の中からランダムに K 個選ぶ関数を作成\n",
    "\n",
    "def random_sample(X,k):\n",
    "    \"\"\"\n",
    "    データ点 X の中からランダムに K 個選ぶ\n",
    "    Parameters\n",
    "    ----------\n",
    "    X : 次の形のndarray, shape (n_samples, n_features)\n",
    "    k:選ぶ数\n",
    "    \n",
    "    Returns\n",
    "    -------\n",
    "    sample_point   次の形のndarray, shape (k, n_features)\n",
    "        k個のサンプル\n",
    "    \n",
    "    \"\"\"\n",
    "    import numpy as np\n",
    "    import random\n",
    "    a=random.sample(range(len(X)),k)\n",
    "    sample_point=[X[a[0]]]\n",
    "    if not(len(a)==1):    \n",
    "        for i in range(1,len(a)):\n",
    "            sample_point=np.vstack([sample_point,X[a[i]]])\n",
    "\n",
    "    return sample_point\n"
   ]
  },
  {
   "cell_type": "markdown",
   "metadata": {},
   "source": [
    "【問題2】SSEを求める関数の作成"
   ]
  },
  {
   "cell_type": "code",
   "execution_count": 115,
   "metadata": {},
   "outputs": [],
   "source": [
    "# list_wariはこの先で作る、関数から得られる割り当てリスト\n",
    "\n",
    "def SSE_sampel(list_wari,jushin):\n",
    "    \"\"\"\n",
    "    SSEを計算\n",
    "    Parameters\n",
    "    ----------\n",
    "    list_wari:SSEを計算する際の振り分けリスト、リストの中にndarray\n",
    "    jushin : 次の形のndarray, shape (k, n_features)\n",
    "    Returns\n",
    "    -------\n",
    "    SSE: SSEの値を返す \n",
    "    \"\"\"\n",
    "    \n",
    "    chi=0\n",
    "    lista=[]\n",
    "    for j in range(len(daz[0])):\n",
    "            for i in range(len(daz[0][j])):\n",
    "                chi+=np.linalg.norm((daz[0][j][i]-chiz[0][j]), ord=2)\n",
    "    \n",
    "    SSE=chi \n",
    "    return chi"
   ]
  },
  {
   "cell_type": "markdown",
   "metadata": {},
   "source": [
    "【問題3】クラスタへの割り当て"
   ]
  },
  {
   "cell_type": "code",
   "execution_count": 314,
   "metadata": {},
   "outputs": [],
   "source": [
    "# すべてのデータ点 Xn を最も近い中心点 μk に割り当てるコードを作成\n",
    "# データを任意のk個のクラスに分ける、その際に中心点から最も近いものをそのクラスにする\n",
    "\n",
    "def wariate_sample(X,k,tyusin):\n",
    "    \"\"\"\n",
    "    クラスの割り当てリストを作成\n",
    "    Parameters\n",
    "    ----------\n",
    "    X : 次の形のndarray, shape (n_samples, n_features)\n",
    "    k:クラス数\n",
    "    tyusin:k個の中心点　(k, n_features)\n",
    "    \n",
    "    Returns\n",
    "    -------\n",
    "    class_list:   割り当てクラスリストを返す\n",
    "    \n",
    "    \"\"\"\n",
    "    # k個のからのリスト（割り当てリストの元）を作成\n",
    "    lists = [[] for _ in range(k)]\n",
    "    \n",
    "    # iでiのデータのk個の距離を計算しリスト化→最小のものを選択しリストへiを入れる\n",
    "    # 上のをXのデータの数だけ（j）続ける\n",
    "    \n",
    "    \n",
    "    for j in range(len(X)):\n",
    "        chi=0\n",
    "        chi2=0\n",
    "        lista=[]\n",
    "        for i in range(len(tyusin)):\n",
    "            chi=np.linalg.norm((X[j]-tyusin[i]), ord=2)\n",
    "            lista.append(chi)            \n",
    "        lists[lista.index(min(lista))].append(X[j])\n",
    "    \n",
    "    return lists"
   ]
  },
  {
   "cell_type": "markdown",
   "metadata": {},
   "source": [
    "【問題4】中心点の移動"
   ]
  },
  {
   "cell_type": "code",
   "execution_count": 20,
   "metadata": {},
   "outputs": [],
   "source": [
    "# k個の平均値（重心）を計算するコードコードを作成\n",
    "\n",
    "def jushin_sample(lists,k,X_index=2):\n",
    "    \"\"\"\n",
    "    重心を計算\n",
    "    Parameters\n",
    "    ----------\n",
    "    lists : 問題３の割り当てリスト\n",
    "    k:クラスの数\n",
    "    X_index:特徴量の数、デフォルトは２\n",
    "    \n",
    "    Returns\n",
    "    -------\n",
    "    jushin:   k個の重心の座標を返す\n",
    "    \n",
    "    \"\"\"\n",
    "    import numpy as np\n",
    "    jushin=[]\n",
    "    for i in (range(len(lists))):\n",
    "        for j in range(X_index):\n",
    "            da=0\n",
    "            for m in range(len(lists[i])):\n",
    "                da+=lists[i][m][j]\n",
    "            da1=da/len(lists[i])\n",
    "            jushin.append(da1)\n",
    "    jushin=np.array(jushin)\n",
    "    jushin=jushin.reshape(k,X_index)\n",
    "    \n",
    "    return jushin"
   ]
  },
  {
   "cell_type": "code",
   "execution_count": 21,
   "metadata": {},
   "outputs": [
    {
     "data": {
      "text/plain": [
       "array([[-0.47896085,  7.36839231],\n",
       "       [-1.60597389,  7.73276669],\n",
       "       [ 0.46700853,  2.73795614]])"
      ]
     },
     "execution_count": 21,
     "metadata": {},
     "output_type": "execute_result"
    }
   ],
   "source": [
    "jushin_sample(bb,3,X_index=2)"
   ]
  },
  {
   "cell_type": "code",
   "execution_count": 23,
   "metadata": {},
   "outputs": [
    {
     "data": {
      "text/plain": [
       "(3, 2)"
      ]
     },
     "execution_count": 23,
     "metadata": {},
     "output_type": "execute_result"
    }
   ],
   "source": [
    "a=jushin_sample(bb,3,X_index=2)\n",
    "a.shape"
   ]
  },
  {
   "cell_type": "markdown",
   "metadata": {},
   "source": [
    "【問題5】繰り返し"
   ]
  },
  {
   "cell_type": "code",
   "execution_count": 6,
   "metadata": {},
   "outputs": [
    {
     "data": {
      "text/plain": [
       "array([[0.99914934, 4.2101954 ],\n",
       "       [1.85367905, 1.5088862 ],\n",
       "       [1.05374379, 4.49286859]])"
      ]
     },
     "execution_count": 6,
     "metadata": {},
     "output_type": "execute_result"
    }
   ],
   "source": [
    "# 問題４までの関数がそれぞれしっかりと動いているか確認（SSEは計算しない）し、その上で繰り返しを行う\n",
    "#　データはX、クラス数のkは４、X_index=2とする\n",
    "\n",
    "#　まず初期値をランダムで決定\n",
    "#　適当な初期値k=3が返ってきた\n",
    "random_sample(X,3)"
   ]
  },
  {
   "cell_type": "code",
   "execution_count": 7,
   "metadata": {},
   "outputs": [
    {
     "data": {
      "text/plain": [
       "[[array([0.72086751, 3.71347124]),\n",
       "  array([1.35678894, 4.36462484]),\n",
       "  array([1.05374379, 4.49286859]),\n",
       "  array([1.59141542, 4.90497725]),\n",
       "  array([0.78260667, 4.15263595]),\n",
       "  array([-1.95751686,  3.87291474]),\n",
       "  array([0.12313498, 5.27917503]),\n",
       "  array([-0.33533163,  3.390122  ]),\n",
       "  array([-1.86407034,  2.93379754]),\n",
       "  array([2.11114739, 3.57660449]),\n",
       "  array([-1.91186205,  3.18750686]),\n",
       "  array([0.5285368 , 4.49723858]),\n",
       "  array([-1.57613028,  2.58614312]),\n",
       "  array([-0.565433  ,  3.65813966]),\n",
       "  array([0.802314  , 4.38196181]),\n",
       "  array([-1.21986433,  3.3789856 ]),\n",
       "  array([1.13280393, 3.87673946]),\n",
       "  array([-1.89928142,  2.50466299]),\n",
       "  array([1.04829186, 5.03092408]),\n",
       "  array([-1.44356727,  3.23539798]),\n",
       "  array([-1.98331513,  3.47639041]),\n",
       "  array([-1.87418794,  2.84306499]),\n",
       "  array([-1.84482705,  3.25609891]),\n",
       "  array([0.72144399, 4.08475018]),\n",
       "  array([0.5323772 , 3.31338909]),\n",
       "  array([0.3498724 , 4.69253251]),\n",
       "  array([-1.2386086 ,  2.81373288]),\n",
       "  array([-1.74448079,  3.84251413]),\n",
       "  array([-0.96358605,  2.37791651]),\n",
       "  array([1.74265969, 5.03846671]),\n",
       "  array([-2.18485772,  2.68708996]),\n",
       "  array([-1.32890066,  2.37135151]),\n",
       "  array([1.19820169, 4.47062449]),\n",
       "  array([0.92466065, 4.50908658]),\n",
       "  array([0.99914934, 4.2101954 ]),\n",
       "  array([1.40848818, 3.93270482]),\n",
       "  array([-0.59312453,  3.37090459]),\n",
       "  array([-1.6609057 ,  3.31911046]),\n",
       "  array([-1.37778493,  3.58107521]),\n",
       "  array([0.16932115, 4.19741719]),\n",
       "  array([-1.05327803,  2.84037721]),\n",
       "  array([1.72330962, 4.2012082 ]),\n",
       "  array([1.00952869, 4.45502328]),\n",
       "  array([0.96217896, 4.51795326]),\n",
       "  array([-1.33869125,  2.36818187]),\n",
       "  array([0.4519936 , 3.59377836]),\n",
       "  array([-1.19075663,  3.12161318]),\n",
       "  array([-2.27253281,  3.13757811]),\n",
       "  array([-1.56102482,  3.77455362]),\n",
       "  array([-0.30022483,  4.63059663])],\n",
       " [array([2.99684287, 0.22378413]),\n",
       "  array([1.46870582, 1.86947425]),\n",
       "  array([2.62496786, 0.28025075]),\n",
       "  array([2.28809874, 0.12954182]),\n",
       "  array([2.79939362, 1.84560825]),\n",
       "  array([2.64465731, 0.80770124]),\n",
       "  array([1.7190373 , 0.71788708]),\n",
       "  array([2.14398059, 0.69677319]),\n",
       "  array([2.06051753, 1.79059891]),\n",
       "  array([1.85367905, 1.5088862 ]),\n",
       "  array([1.61986895, 0.60823883]),\n",
       "  array([1.89949126, 0.92574633]),\n",
       "  array([2.4198128 , 0.96215512]),\n",
       "  array([2.23345072, 1.25095024]),\n",
       "  array([1.51989121, 1.42488952]),\n",
       "  array([2.11872357, 1.09865834]),\n",
       "  array([1.42002502, 1.38236201]),\n",
       "  array([2.15940501, 1.38598318]),\n",
       "  array([1.4726926, 1.3480769]),\n",
       "  array([2.25643834, 0.55525861]),\n",
       "  array([1.24016835, 1.12905479]),\n",
       "  array([1.64869438, 0.03452236]),\n",
       "  array([1.73810647, 0.71629308]),\n",
       "  array([1.60161834, 0.92363636]),\n",
       "  array([1.84845803, 0.52393625])],\n",
       " [array([-1.89468423,  7.96898545]),\n",
       "  array([-0.77354537,  7.87923564]),\n",
       "  array([-1.43284669,  7.71577043]),\n",
       "  array([-0.92819001,  7.02698199]),\n",
       "  array([-1.74836345,  7.06307447]),\n",
       "  array([-1.26789718,  7.25141327]),\n",
       "  array([-0.98661744,  7.74968685]),\n",
       "  array([-0.81984047,  7.50994722]),\n",
       "  array([-1.8219901 ,  7.61654999]),\n",
       "  array([-0.93564005,  7.03443119]),\n",
       "  array([-1.497272  ,  8.80022604]),\n",
       "  array([-0.1666378 ,  8.50372399]),\n",
       "  array([-1.57006498,  6.72375844]),\n",
       "  array([-1.86097353,  8.2576415 ]),\n",
       "  array([-1.26041884,  7.46644456]),\n",
       "  array([-0.8623605 ,  8.24721209]),\n",
       "  array([-0.65424088,  7.99393132]),\n",
       "  array([-1.42525273,  7.14798437]),\n",
       "  array([-0.69842598,  8.16309188]),\n",
       "  array([-1.7653772 ,  8.17625727]),\n",
       "  array([-1.47602203,  7.8441996 ]),\n",
       "  array([-1.61803727,  8.60696731]),\n",
       "  array([-1.80044744,  7.86154256]),\n",
       "  array([-1.64996061,  7.49068513]),\n",
       "  array([-0.78782636,  7.99482384])]]"
      ]
     },
     "execution_count": 7,
     "metadata": {},
     "output_type": "execute_result"
    }
   ],
   "source": [
    "# 次に上の中心点からXの割り当てリストを得る\n",
    "\n",
    "tyushin1=random_sample(X,3)\n",
    "wariate_sample(X,3,tyushin1)"
   ]
  },
  {
   "cell_type": "code",
   "execution_count": 8,
   "metadata": {},
   "outputs": [
    {
     "data": {
      "text/plain": [
       "array([[-0.27678616,  3.72096344],\n",
       "       [ 1.99186903,  0.96561071],\n",
       "       [-1.26811733,  7.76378266]])"
      ]
     },
     "execution_count": 8,
     "metadata": {},
     "output_type": "execute_result"
    }
   ],
   "source": [
    "# 初期値から３つのグループに割り当てたリストが返ってきたので、それぞれのクラスの重心を計算する\n",
    "# こうして新たな重心が返ってきたのでまた上に戻りそれを繰り返す\n",
    "\n",
    "listsa=wariate_sample(X,3,tyushin1)\n",
    "jushin_sample(listsa,k=3,X_index=2)"
   ]
  },
  {
   "cell_type": "code",
   "execution_count": 25,
   "metadata": {},
   "outputs": [],
   "source": [
    "#　指定した回数に到達するループ分を作成\n",
    "\n",
    "def sample_kmeans(X,k,n,X_index=2):\n",
    "    \"\"\"\n",
    "    中心点決定、割り当て、中心点移動をn回繰り返し中心点とその時の割り当てを返す\n",
    "    Parameters\n",
    "    ----------\n",
    "    X : 次の形のndarray, shape (n_samples, n_features)\n",
    "    k:クラスの数\n",
    "    X_index:特徴量の数、デフォルトは２\n",
    "    n: 繰り返しの回数\n",
    "\n",
    "    Returns\n",
    "    -------\n",
    "    tyushin: k個の重心の座標を返す\n",
    "    lists: 割り当てリスト  \n",
    "    \"\"\"\n",
    "    \n",
    "    import numpy as np\n",
    "    import random\n",
    "    a=random.sample(range(len(X)),k)\n",
    "    sample_point=[X[a[0]]]\n",
    "    if not(len(a)==1):    \n",
    "        for i in range(1,len(a)):\n",
    "            sample_point=np.vstack([sample_point,X[a[i]]])\n",
    "    tyusin=sample_point\n",
    "    \n",
    "    for i in range(n):\n",
    "        # k個のからのリスト（割り当てリストの元）を作成\n",
    "        lists = [[] for _ in range(k)]\n",
    "\n",
    "        # iでiのデータのk個の距離を計算しリスト化→最小のものを選択しリストへiを入れる\n",
    "        # 上のをXのデータの数だけ（j）続ける    \n",
    "        for j in range(len(X)):\n",
    "            chi=0\n",
    "            chi2=0\n",
    "            lista=[]\n",
    "            for i in range(len(tyusin)):\n",
    "                chi=np.linalg.norm((X[j]-tyusin[i]), ord=2)\n",
    "                lista.append(chi)            \n",
    "            lists[lista.index(min(lista))].append(X[j])\n",
    "\n",
    "        jushin=[]\n",
    "        for i in (range(len(lists))):\n",
    "            for j in range(X_index):\n",
    "                da=0\n",
    "                for m in range(len(lists[i])):\n",
    "                    da+=lists[i][m][j]\n",
    "                da1=da/len(lists[i])\n",
    "                jushin.append(da1)\n",
    "        jushin=np.array(jushin)\n",
    "        jushin=jushin.reshape(k,X_index)\n",
    "        tyusin=jushin\n",
    "    \n",
    "    return jushin,lists"
   ]
  },
  {
   "cell_type": "code",
   "execution_count": 31,
   "metadata": {},
   "outputs": [],
   "source": [
    "a,b=sample_kmeans(X,3,5,X_index=2)"
   ]
  },
  {
   "cell_type": "code",
   "execution_count": 32,
   "metadata": {},
   "outputs": [
    {
     "data": {
      "text/plain": [
       "array([[-1.20377598,  3.37420613],\n",
       "       [-1.26811733,  7.76378266],\n",
       "       [ 1.60157104,  2.42138346]])"
      ]
     },
     "execution_count": 32,
     "metadata": {},
     "output_type": "execute_result"
    }
   ],
   "source": [
    "a"
   ]
  },
  {
   "cell_type": "markdown",
   "metadata": {},
   "source": [
    "これで任意のn回の繰り返しの関数を制作することができた"
   ]
  },
  {
   "cell_type": "markdown",
   "metadata": {},
   "source": [
    "【問題6】異なる初期値で計算"
   ]
  },
  {
   "cell_type": "code",
   "execution_count": 69,
   "metadata": {},
   "outputs": [],
   "source": [
    "def sample_kmeans(X,k,n,syoki,X_index=2):\n",
    "    \"\"\"\n",
    "    中心点決定、割り当て、中心点移動をn回繰り返し中心点とその時の割り当てを返す\n",
    "    Parameters\n",
    "    ----------\n",
    "    X : 次の形のndarray, shape (n_samples, n_features)\n",
    "    k:クラスの数\n",
    "    X_index:特徴量の数、デフォルトは２\n",
    "    n: 繰り返しの回数\n",
    "    syoki:初期値の変更回数\n",
    "\n",
    "    Returns\n",
    "    -------\n",
    "    tyushin: k個の重心の座標を返す\n",
    "    lists: 割り当てリスト  \n",
    "    \"\"\"\n",
    "    \n",
    "    import numpy as np\n",
    "    import random\n",
    "    lists_list=[]\n",
    "    tyushin_list=[]\n",
    "    for m in range(syoki):\n",
    "        a=random.sample(range(len(X)),k)\n",
    "        sample_point=[X[a[0]]]\n",
    "        if not(len(a)==1):    \n",
    "            for i in range(1,len(a)):\n",
    "                sample_point=np.vstack([sample_point,X[a[i]]])\n",
    "        tyusin=sample_point\n",
    "\n",
    "        for i in range(n):\n",
    "            # k個のからのリスト（割り当てリストの元）を作成\n",
    "            lists = [[] for _ in range(k)]\n",
    "\n",
    "            # iでiのデータのk個の距離を計算しリスト化→最小のものを選択しリストへiを入れる\n",
    "            # 上のをXのデータの数だけ（j）続ける    \n",
    "            for j in range(len(X)):\n",
    "                chi=0\n",
    "                chi2=0\n",
    "                lista=[]\n",
    "                for i in range(len(tyusin)):\n",
    "                    chi=np.linalg.norm((X[j]-tyusin[i]), ord=2)\n",
    "                    lista.append(chi)            \n",
    "                lists[lista.index(min(lista))].append(X[j])\n",
    "\n",
    "            jushin=[]\n",
    "            for i in (range(len(lists))):\n",
    "                for j in range(X_index):\n",
    "                    da=0\n",
    "                    for m in range(len(lists[i])):\n",
    "                        da+=lists[i][m][j]\n",
    "                    da1=da/len(lists[i])\n",
    "                    jushin.append(da1)\n",
    "            jushin=np.array(jushin)\n",
    "            jushin=jushin.reshape(k,X_index)\n",
    "            tyusin=jushin\n",
    "        \n",
    "        lists_list.append(lists)\n",
    "        tyushin_list.append(tyusin)\n",
    "    return tyushin_list,lists_list"
   ]
  },
  {
   "cell_type": "code",
   "execution_count": 70,
   "metadata": {},
   "outputs": [],
   "source": [
    "a,b=sample_kmeans(X,3,5,3,2)"
   ]
  },
  {
   "cell_type": "code",
   "execution_count": 72,
   "metadata": {},
   "outputs": [
    {
     "data": {
      "text/plain": [
       "array([[-1.43082991,  7.40869776],\n",
       "       [-1.06102858,  8.21570889],\n",
       "       [ 0.47943223,  2.80251253]])"
      ]
     },
     "execution_count": 72,
     "metadata": {},
     "output_type": "execute_result"
    }
   ],
   "source": [
    "a[0]"
   ]
  },
  {
   "cell_type": "code",
   "execution_count": 73,
   "metadata": {},
   "outputs": [
    {
     "data": {
      "text/plain": [
       "array([[-0.27678616,  3.72096344],\n",
       "       [ 1.99186903,  0.96561071],\n",
       "       [-1.26811733,  7.76378266]])"
      ]
     },
     "execution_count": 73,
     "metadata": {},
     "output_type": "execute_result"
    }
   ],
   "source": [
    "a[1]"
   ]
  },
  {
   "cell_type": "code",
   "execution_count": 74,
   "metadata": {},
   "outputs": [
    {
     "data": {
      "text/plain": [
       "array([[ 2.37364895,  1.12337448],\n",
       "       [-0.64396471,  5.08873154],\n",
       "       [ 1.61926437,  1.00869261]])"
      ]
     },
     "execution_count": 74,
     "metadata": {},
     "output_type": "execute_result"
    }
   ],
   "source": [
    "a[2]"
   ]
  },
  {
   "cell_type": "markdown",
   "metadata": {},
   "source": [
    "こうして初期値をnが３、初期値を３回変更して５回繰り返しを行った結果が返ってきた"
   ]
  },
  {
   "cell_type": "markdown",
   "metadata": {},
   "source": [
    "【問題7】推定"
   ]
  },
  {
   "cell_type": "code",
   "execution_count": 77,
   "metadata": {},
   "outputs": [],
   "source": [
    "#ここまで何度か実際に値を入れて計算している、参考にデータX,クラスは３つ、繰り返しの回数は１回、特徴量の種類は２種の、中心値と振り分けリストになる。\n",
    "\n",
    "a,b=sample_kmeans(X,3,1,1,2)"
   ]
  },
  {
   "cell_type": "code",
   "execution_count": 78,
   "metadata": {},
   "outputs": [
    {
     "data": {
      "text/plain": [
       "[array([[-0.77779392,  8.28383486],\n",
       "        [ 0.62660718,  2.62072893],\n",
       "        [-1.22449751,  6.62930216]])]"
      ]
     },
     "execution_count": 78,
     "metadata": {},
     "output_type": "execute_result"
    }
   ],
   "source": [
    "# 推定結果の中心点\n",
    "a"
   ]
  },
  {
   "cell_type": "code",
   "execution_count": 80,
   "metadata": {},
   "outputs": [
    {
     "data": {
      "text/plain": [
       "[[[array([-1.497272  ,  8.80022604]),\n",
       "   array([-0.1666378 ,  8.50372399]),\n",
       "   array([-0.8623605 ,  8.24721209]),\n",
       "   array([-0.65424088,  7.99393132]),\n",
       "   array([-0.69842598,  8.16309188]),\n",
       "   array([-0.78782636,  7.99482384])],\n",
       "  [array([0.72086751, 3.71347124]),\n",
       "   array([1.35678894, 4.36462484]),\n",
       "   array([1.05374379, 4.49286859]),\n",
       "   array([1.59141542, 4.90497725]),\n",
       "   array([0.78260667, 4.15263595]),\n",
       "   array([2.99684287, 0.22378413]),\n",
       "   array([1.46870582, 1.86947425]),\n",
       "   array([-0.33533163,  3.390122  ]),\n",
       "   array([-1.86407034,  2.93379754]),\n",
       "   array([2.62496786, 0.28025075]),\n",
       "   array([2.11114739, 3.57660449]),\n",
       "   array([-1.91186205,  3.18750686]),\n",
       "   array([2.28809874, 0.12954182]),\n",
       "   array([0.5285368 , 4.49723858]),\n",
       "   array([-1.57613028,  2.58614312]),\n",
       "   array([-0.565433  ,  3.65813966]),\n",
       "   array([0.802314  , 4.38196181]),\n",
       "   array([2.79939362, 1.84560825]),\n",
       "   array([2.64465731, 0.80770124]),\n",
       "   array([1.7190373 , 0.71788708]),\n",
       "   array([2.14398059, 0.69677319]),\n",
       "   array([2.06051753, 1.79059891]),\n",
       "   array([-1.21986433,  3.3789856 ]),\n",
       "   array([1.13280393, 3.87673946]),\n",
       "   array([1.85367905, 1.5088862 ]),\n",
       "   array([-1.89928142,  2.50466299]),\n",
       "   array([-1.44356727,  3.23539798]),\n",
       "   array([-1.87418794,  2.84306499]),\n",
       "   array([1.61986895, 0.60823883]),\n",
       "   array([-1.84482705,  3.25609891]),\n",
       "   array([0.72144399, 4.08475018]),\n",
       "   array([0.5323772 , 3.31338909]),\n",
       "   array([1.89949126, 0.92574633]),\n",
       "   array([-1.2386086 ,  2.81373288]),\n",
       "   array([-0.96358605,  2.37791651]),\n",
       "   array([2.4198128 , 0.96215512]),\n",
       "   array([2.23345072, 1.25095024]),\n",
       "   array([1.51989121, 1.42488952]),\n",
       "   array([2.11872357, 1.09865834]),\n",
       "   array([1.74265969, 5.03846671]),\n",
       "   array([1.42002502, 1.38236201]),\n",
       "   array([-2.18485772,  2.68708996]),\n",
       "   array([-1.32890066,  2.37135151]),\n",
       "   array([2.15940501, 1.38598318]),\n",
       "   array([1.19820169, 4.47062449]),\n",
       "   array([1.4726926, 1.3480769]),\n",
       "   array([0.92466065, 4.50908658]),\n",
       "   array([0.99914934, 4.2101954 ]),\n",
       "   array([1.40848818, 3.93270482]),\n",
       "   array([-0.59312453,  3.37090459]),\n",
       "   array([-1.6609057 ,  3.31911046]),\n",
       "   array([2.25643834, 0.55525861]),\n",
       "   array([1.24016835, 1.12905479]),\n",
       "   array([1.64869438, 0.03452236]),\n",
       "   array([-1.37778493,  3.58107521]),\n",
       "   array([0.16932115, 4.19741719]),\n",
       "   array([1.73810647, 0.71629308]),\n",
       "   array([-1.05327803,  2.84037721]),\n",
       "   array([1.60161834, 0.92363636]),\n",
       "   array([1.84845803, 0.52393625]),\n",
       "   array([1.72330962, 4.2012082 ]),\n",
       "   array([1.00952869, 4.45502328]),\n",
       "   array([0.96217896, 4.51795326]),\n",
       "   array([-1.33869125,  2.36818187]),\n",
       "   array([0.4519936 , 3.59377836]),\n",
       "   array([-1.19075663,  3.12161318]),\n",
       "   array([-2.27253281,  3.13757811])],\n",
       "  [array([-1.89468423,  7.96898545]),\n",
       "   array([-1.95751686,  3.87291474]),\n",
       "   array([-0.77354537,  7.87923564]),\n",
       "   array([0.12313498, 5.27917503]),\n",
       "   array([-1.43284669,  7.71577043]),\n",
       "   array([-0.92819001,  7.02698199]),\n",
       "   array([-1.74836345,  7.06307447]),\n",
       "   array([-1.26789718,  7.25141327]),\n",
       "   array([-0.98661744,  7.74968685]),\n",
       "   array([-0.81984047,  7.50994722]),\n",
       "   array([-1.8219901 ,  7.61654999]),\n",
       "   array([-0.93564005,  7.03443119]),\n",
       "   array([1.04829186, 5.03092408]),\n",
       "   array([-1.57006498,  6.72375844]),\n",
       "   array([-1.98331513,  3.47639041]),\n",
       "   array([-1.86097353,  8.2576415 ]),\n",
       "   array([0.3498724 , 4.69253251]),\n",
       "   array([-1.74448079,  3.84251413]),\n",
       "   array([-1.26041884,  7.46644456]),\n",
       "   array([-1.42525273,  7.14798437]),\n",
       "   array([-1.7653772 ,  8.17625727]),\n",
       "   array([-1.47602203,  7.8441996 ]),\n",
       "   array([-1.61803727,  8.60696731]),\n",
       "   array([-1.80044744,  7.86154256]),\n",
       "   array([-1.64996061,  7.49068513]),\n",
       "   array([-1.56102482,  3.77455362]),\n",
       "   array([-0.30022483,  4.63059663])]]]"
      ]
     },
     "execution_count": 80,
     "metadata": {},
     "output_type": "execute_result"
    }
   ],
   "source": [
    "# 推定結果のクラスの割り当てリスト\n",
    "b"
   ]
  },
  {
   "cell_type": "markdown",
   "metadata": {},
   "source": [
    "【問題8】エルボー法の実装\n",
    "\n",
    "Kを1から10ほどまでそれぞれ計算しグラフを作り、エルボー法を行う"
   ]
  },
  {
   "cell_type": "code",
   "execution_count": 8,
   "metadata": {},
   "outputs": [],
   "source": [
    "def sample_kmeans(X,k,n,syoki,X_index=2):\n",
    "    \"\"\"\n",
    "    中心点決定、割り当て、中心点移動をn回繰り返し中心点とその時の割り当てを返す\n",
    "    Parameters\n",
    "    ----------\n",
    "    X : 次の形のndarray, shape (n_samples, n_features)\n",
    "    k:クラスの数\n",
    "    X_index:特徴量の数、デフォルトは２\n",
    "    n: 繰り返しの回数\n",
    "    syoki:初期値の変更回数\n",
    "\n",
    "    Returns\n",
    "    -------\n",
    "    tyushin: k個の重心の座標を返す\n",
    "    lists: 割り当てリスト  \n",
    "    \"\"\"\n",
    "    \n",
    "    import numpy as np\n",
    "    import random\n",
    "    lists_list=[]\n",
    "    tyushin_list=[]\n",
    "    for m in range(syoki):\n",
    "        a=random.sample(range(len(X)),k)\n",
    "        sample_point=[X[a[0]]]\n",
    "        if not(len(a)==1):    \n",
    "            for i in range(1,len(a)):\n",
    "                sample_point=np.vstack([sample_point,X[a[i]]])\n",
    "        tyusin=sample_point\n",
    "\n",
    "        for i in range(n):\n",
    "            # k個のからのリスト（割り当てリストの元）を作成\n",
    "            lists = [[] for _ in range(k)]\n",
    "\n",
    "            # iでiのデータのk個の距離を計算しリスト化→最小のものを選択しリストへiを入れる\n",
    "            # 上のをXのデータの数だけ（j）続ける    \n",
    "            for j in range(len(X)):\n",
    "                chi=0\n",
    "                chi2=0\n",
    "                lista=[]\n",
    "                for i in range(len(tyusin)):\n",
    "                    chi=np.linalg.norm((X[j]-tyusin[i]), ord=2)\n",
    "                    lista.append(chi)            \n",
    "                lists[lista.index(min(lista))].append(X[j])\n",
    "\n",
    "            jushin=[]\n",
    "            for i in (range(len(lists))):\n",
    "                for j in range(X_index):\n",
    "                    da=0\n",
    "                    for m in range(len(lists[i])):\n",
    "                        da+=lists[i][m][j]\n",
    "                    da1=da/len(lists[i])\n",
    "                    jushin.append(da1)\n",
    "            jushin=np.array(jushin)\n",
    "            jushin=jushin.reshape(k,X_index)\n",
    "            tyusin=jushin\n",
    "        \n",
    "        lists_list.append(lists)\n",
    "        tyushin_list.append(tyusin)\n",
    "    return tyushin_list,lists_list"
   ]
  },
  {
   "cell_type": "code",
   "execution_count": 9,
   "metadata": {},
   "outputs": [],
   "source": [
    "# list_wariはこの先で作る、関数から得られる割り当てリスト\n",
    "\n",
    "def SSE_sampel(list_wari,jushin):\n",
    "    \"\"\"\n",
    "    SSEを計算\n",
    "    Parameters\n",
    "    ----------\n",
    "    list_wari:SSEを計算する際の振り分けリスト、リストの中にndarray\n",
    "    jushin : 次の形のndarray, shape (k, n_features)\n",
    "    Returns\n",
    "    -------\n",
    "    SSE: SSEの値を返す \n",
    "    \"\"\"\n",
    "    \n",
    "    chi=0\n",
    "    lista=[]\n",
    "    for j in range(len(daz[0])):\n",
    "            for i in range(len(daz[0][j])):\n",
    "                chi+=np.linalg.norm((daz[0][j][i]-chiz[0][j]), ord=2)\n",
    "    \n",
    "    SSE=chi \n",
    "    return chi"
   ]
  },
  {
   "cell_type": "code",
   "execution_count": 95,
   "metadata": {},
   "outputs": [],
   "source": [
    "# k=1の場合\n",
    "k=1\n",
    "n=3\n",
    "shoki=1\n",
    "X_index=2\n",
    "chiz,daz=sample_kmeans(X,k,n,shoki,X_index)\n",
    "k1=SSE_sampel(daz,chiz)\n",
    "\n",
    "# k=2の場合\n",
    "k=2\n",
    "n=3\n",
    "shoki=1\n",
    "X_index=2\n",
    "chiz,daz=sample_kmeans(X,k,n,shoki,X_index)\n",
    "k2=SSE_sampel(daz,chiz)\n",
    "\n",
    "# k=3の場合\n",
    "k=3\n",
    "n=3\n",
    "shoki=1\n",
    "X_index=2\n",
    "chiz,daz=sample_kmeans(X,k,n,shoki,X_index)\n",
    "k3=SSE_sampel(daz,chiz)\n",
    "\n",
    "# k=4の場合\n",
    "k=4\n",
    "n=3\n",
    "shoki=1\n",
    "X_index=2\n",
    "chiz,daz=sample_kmeans(X,k,n,shoki,X_index)\n",
    "k4=SSE_sampel(daz,chiz)\n",
    "\n",
    "# k=5の場合\n",
    "k=5\n",
    "n=3\n",
    "shoki=1\n",
    "X_index=2\n",
    "chiz,daz=sample_kmeans(X,k,n,shoki,X_index)\n",
    "k5=SSE_sampel(daz,chiz)\n",
    "\n",
    "# k=6の場合\n",
    "k=6\n",
    "n=3\n",
    "shoki=1\n",
    "X_index=2\n",
    "chiz,daz=sample_kmeans(X,k,n,shoki,X_index)\n",
    "k6=SSE_sampel(daz,chiz)\n",
    "\n",
    "# k=7の場合\n",
    "k=7\n",
    "n=3\n",
    "shoki=1\n",
    "X_index=2\n",
    "chiz,daz=sample_kmeans(X,k,n,shoki,X_index)\n",
    "k7=SSE_sampel(daz,chiz)\n",
    "\n",
    "# k=8の場合\n",
    "k=8\n",
    "n=3\n",
    "shoki=1\n",
    "X_index=2\n",
    "chiz,daz=sample_kmeans(X,k,n,shoki,X_index)\n",
    "k8=SSE_sampel(daz,chiz)\n",
    "\n",
    "# k=9の場合\n",
    "k=9\n",
    "n=3\n",
    "shoki=1\n",
    "X_index=2\n",
    "chiz,daz=sample_kmeans(X,k,n,shoki,X_index)\n",
    "k9=SSE_sampel(daz,chiz)\n",
    "\n",
    "# k=10の場合\n",
    "k=10\n",
    "n=3\n",
    "shoki=1\n",
    "X_index=2\n",
    "chiz,daz=sample_kmeans(X,k,n,shoki,X_index)\n",
    "k10=SSE_sampel(daz,chiz)"
   ]
  },
  {
   "cell_type": "code",
   "execution_count": 114,
   "metadata": {},
   "outputs": [
    {
     "data": {
      "image/png": "[encoded data removed]",
      "text/plain": [
       "<Figure size 432x288 with 1 Axes>"
      ]
     },
     "metadata": {
      "needs_background": "light"
     },
     "output_type": "display_data"
    }
   ],
   "source": [
    "list_eru=[k1,k2,k3,k4,k5,k6,k7,k8,k9,k10]\n",
    "import matplotlib.pyplot as plt\n",
    "plt.plot(list_eru)\n",
    "plt.show()"
   ]
  },
  {
   "cell_type": "markdown",
   "metadata": {},
   "source": [
    "エルボー法を可視化することができた、適切なkとして、４があげられる"
   ]
  },
  {
   "cell_type": "markdown",
   "metadata": {},
   "source": [
    "＜クラスタ分析＞"
   ]
  },
  {
   "cell_type": "code",
   "execution_count": 2,
   "metadata": {},
   "outputs": [
    {
     "data": {
      "text/html": [
       "<div>\n",
       "<style scoped>\n",
       "    .dataframe tbody tr th:only-of-type {\n",
       "        vertical-align: middle;\n",
       "    }\n",
       "\n",
       "    .dataframe tbody tr th {\n",
       "        vertical-align: top;\n",
       "    }\n",
       "\n",
       "    .dataframe thead th {\n",
       "        text-align: right;\n",
       "    }\n",
       "</style>\n",
       "<table border=\"1\" class=\"dataframe\">\n",
       "  <thead>\n",
       "    <tr style=\"text-align: right;\">\n",
       "      <th></th>\n",
       "      <th>Channel</th>\n",
       "      <th>Region</th>\n",
       "      <th>Fresh</th>\n",
       "      <th>Milk</th>\n",
       "      <th>Grocery</th>\n",
       "      <th>Frozen</th>\n",
       "      <th>Detergents_Paper</th>\n",
       "      <th>Delicassen</th>\n",
       "    </tr>\n",
       "  </thead>\n",
       "  <tbody>\n",
       "    <tr>\n",
       "      <th>0</th>\n",
       "      <td>2</td>\n",
       "      <td>3</td>\n",
       "      <td>12669</td>\n",
       "      <td>9656</td>\n",
       "      <td>7561</td>\n",
       "      <td>214</td>\n",
       "      <td>2674</td>\n",
       "      <td>1338</td>\n",
       "    </tr>\n",
       "    <tr>\n",
       "      <th>1</th>\n",
       "      <td>2</td>\n",
       "      <td>3</td>\n",
       "      <td>7057</td>\n",
       "      <td>9810</td>\n",
       "      <td>9568</td>\n",
       "      <td>1762</td>\n",
       "      <td>3293</td>\n",
       "      <td>1776</td>\n",
       "    </tr>\n",
       "    <tr>\n",
       "      <th>2</th>\n",
       "      <td>2</td>\n",
       "      <td>3</td>\n",
       "      <td>6353</td>\n",
       "      <td>8808</td>\n",
       "      <td>7684</td>\n",
       "      <td>2405</td>\n",
       "      <td>3516</td>\n",
       "      <td>7844</td>\n",
       "    </tr>\n",
       "    <tr>\n",
       "      <th>3</th>\n",
       "      <td>1</td>\n",
       "      <td>3</td>\n",
       "      <td>13265</td>\n",
       "      <td>1196</td>\n",
       "      <td>4221</td>\n",
       "      <td>6404</td>\n",
       "      <td>507</td>\n",
       "      <td>1788</td>\n",
       "    </tr>\n",
       "    <tr>\n",
       "      <th>4</th>\n",
       "      <td>2</td>\n",
       "      <td>3</td>\n",
       "      <td>22615</td>\n",
       "      <td>5410</td>\n",
       "      <td>7198</td>\n",
       "      <td>3915</td>\n",
       "      <td>1777</td>\n",
       "      <td>5185</td>\n",
       "    </tr>\n",
       "    <tr>\n",
       "      <th>...</th>\n",
       "      <td>...</td>\n",
       "      <td>...</td>\n",
       "      <td>...</td>\n",
       "      <td>...</td>\n",
       "      <td>...</td>\n",
       "      <td>...</td>\n",
       "      <td>...</td>\n",
       "      <td>...</td>\n",
       "    </tr>\n",
       "    <tr>\n",
       "      <th>435</th>\n",
       "      <td>1</td>\n",
       "      <td>3</td>\n",
       "      <td>29703</td>\n",
       "      <td>12051</td>\n",
       "      <td>16027</td>\n",
       "      <td>13135</td>\n",
       "      <td>182</td>\n",
       "      <td>2204</td>\n",
       "    </tr>\n",
       "    <tr>\n",
       "      <th>436</th>\n",
       "      <td>1</td>\n",
       "      <td>3</td>\n",
       "      <td>39228</td>\n",
       "      <td>1431</td>\n",
       "      <td>764</td>\n",
       "      <td>4510</td>\n",
       "      <td>93</td>\n",
       "      <td>2346</td>\n",
       "    </tr>\n",
       "    <tr>\n",
       "      <th>437</th>\n",
       "      <td>2</td>\n",
       "      <td>3</td>\n",
       "      <td>14531</td>\n",
       "      <td>15488</td>\n",
       "      <td>30243</td>\n",
       "      <td>437</td>\n",
       "      <td>14841</td>\n",
       "      <td>1867</td>\n",
       "    </tr>\n",
       "    <tr>\n",
       "      <th>438</th>\n",
       "      <td>1</td>\n",
       "      <td>3</td>\n",
       "      <td>10290</td>\n",
       "      <td>1981</td>\n",
       "      <td>2232</td>\n",
       "      <td>1038</td>\n",
       "      <td>168</td>\n",
       "      <td>2125</td>\n",
       "    </tr>\n",
       "    <tr>\n",
       "      <th>439</th>\n",
       "      <td>1</td>\n",
       "      <td>3</td>\n",
       "      <td>2787</td>\n",
       "      <td>1698</td>\n",
       "      <td>2510</td>\n",
       "      <td>65</td>\n",
       "      <td>477</td>\n",
       "      <td>52</td>\n",
       "    </tr>\n",
       "  </tbody>\n",
       "</table>\n",
       "<p>440 rows × 8 columns</p>\n",
       "</div>"
      ],
      "text/plain": [
       "     Channel  Region  Fresh   Milk  Grocery  Frozen  Detergents_Paper  \\\n",
       "0          2       3  12669   9656     7561     214              2674   \n",
       "1          2       3   7057   9810     9568    1762              3293   \n",
       "2          2       3   6353   8808     7684    2405              3516   \n",
       "3          1       3  13265   1196     4221    6404               507   \n",
       "4          2       3  22615   5410     7198    3915              1777   \n",
       "..       ...     ...    ...    ...      ...     ...               ...   \n",
       "435        1       3  29703  12051    16027   13135               182   \n",
       "436        1       3  39228   1431      764    4510                93   \n",
       "437        2       3  14531  15488    30243     437             14841   \n",
       "438        1       3  10290   1981     2232    1038               168   \n",
       "439        1       3   2787   1698     2510      65               477   \n",
       "\n",
       "     Delicassen  \n",
       "0          1338  \n",
       "1          1776  \n",
       "2          7844  \n",
       "3          1788  \n",
       "4          5185  \n",
       "..          ...  \n",
       "435        2204  \n",
       "436        2346  \n",
       "437        1867  \n",
       "438        2125  \n",
       "439          52  \n",
       "\n",
       "[440 rows x 8 columns]"
      ]
     },
     "execution_count": 2,
     "metadata": {},
     "output_type": "execute_result"
    }
   ],
   "source": [
    "# Wholesale customers Data Setをダウンロードし取り込み\n",
    "import pandas as pd\n",
    "import numpy as np\n",
    "\n",
    "ap_data=pd.read_csv(\"/Users/chidayasuhiro/diveintocode-ml/Wholesale customers data.csv\")\n",
    "\n",
    "ap_data"
   ]
  },
  {
   "cell_type": "code",
   "execution_count": 3,
   "metadata": {},
   "outputs": [],
   "source": [
    "# RegionとChannelを取り除く\n",
    "ap_data1=ap_data[[\"Fresh\",\"Milk\",\"Grocery\",\"Frozen\",\"Detergents_Paper\",\"Delicassen\"]]"
   ]
  },
  {
   "cell_type": "code",
   "execution_count": 4,
   "metadata": {},
   "outputs": [],
   "source": [
    "# PCAのサンプルコードを使用\n",
    "from sklearn.decomposition import PCA\n",
    "pca = PCA(n_components = 2)\n",
    "pca = pca.fit(ap_data1)\n",
    "data_pca = pca.transform(ap_data1)"
   ]
  },
  {
   "cell_type": "code",
   "execution_count": 6,
   "metadata": {},
   "outputs": [
    {
     "name": "stdout",
     "output_type": "stream",
     "text": [
      "[0.45961362 0.86478588 0.93481597 0.97883941 0.99386152 1.        ]\n"
     ]
    },
    {
     "data": {
      "image/png": "[encoded data removed]",
      "text/plain": [
       "<Figure size 432x288 with 1 Axes>"
      ]
     },
     "metadata": {
      "needs_background": "light"
     },
     "output_type": "display_data"
    }
   ],
   "source": [
    "from sklearn.decomposition import PCA\n",
    "import matplotlib.pyplot as plt\n",
    "pca = PCA(n_components=None)\n",
    "pca = pca.fit(ap_data1)\n",
    "var_exp = pca.explained_variance_ratio_\n",
    "cum_var_exp = np.cumsum(var_exp)\n",
    "print(cum_var_exp)\n",
    "plt.bar(range(1,7), var_exp, alpha=0.5, align='center', label='individual explained variance')\n",
    "plt.step(range(1,7), cum_var_exp, where='mid', label='cumulative expalined variance')\n",
    "plt.ylabel('Explained variance ratio')\n",
    "plt.xlabel('Principal components')\n",
    "plt.hlines(0.7, 0, 6,  \"blue\", linestyles='dashed')\n",
    "plt.legend(loc='best')\n",
    "plt.grid()\n",
    "plt.show()"
   ]
  },
  {
   "cell_type": "markdown",
   "metadata": {},
   "source": [
    "【問題10】クラスタ数kの選択"
   ]
  },
  {
   "cell_type": "code",
   "execution_count": 20,
   "metadata": {},
   "outputs": [],
   "source": [
    "# エルボー法でクラスタ数を確認し、可視化する\n",
    "\n",
    "# k=1の場合\n",
    "k=1\n",
    "n=3\n",
    "shoki=1\n",
    "X_index=2\n",
    "chiz,daz=sample_kmeans(data_pca,k,n,shoki,X_index)\n",
    "k1=SSE_sampel(daz,chiz)\n",
    "\n",
    "# k=2の場合\n",
    "k=2\n",
    "n=3\n",
    "shoki=1\n",
    "X_index=2\n",
    "chiz,daz=sample_kmeans(data_pca,k,n,shoki,X_index)\n",
    "k2=SSE_sampel(daz,chiz)\n",
    "\n",
    "# k=3の場合\n",
    "k=3\n",
    "n=3\n",
    "shoki=1\n",
    "X_index=2\n",
    "chiz,daz=sample_kmeans(data_pca,k,n,shoki,X_index)\n",
    "k3=SSE_sampel(daz,chiz)\n",
    "\n",
    "# k=4の場合\n",
    "k=4\n",
    "n=3\n",
    "shoki=1\n",
    "X_index=2\n",
    "chiz,daz=sample_kmeans(data_pca,k,n,shoki,X_index)\n",
    "k4=SSE_sampel(daz,chiz)\n",
    "\n",
    "# k=5の場合\n",
    "k=5\n",
    "n=3\n",
    "shoki=1\n",
    "X_index=2\n",
    "chiz,daz=sample_kmeans(data_pca,k,n,shoki,X_index)\n",
    "k5=SSE_sampel(daz,chiz)\n",
    "\n",
    "# k=6の場合\n",
    "k=6\n",
    "n=3\n",
    "shoki=1\n",
    "X_index=2\n",
    "chiz,daz=sample_kmeans(data_pca,k,n,shoki,X_index)\n",
    "k6=SSE_sampel(daz,chiz)\n",
    "\n",
    "# k=7の場合\n",
    "k=7\n",
    "n=3\n",
    "shoki=1\n",
    "X_index=2\n",
    "chiz,daz=sample_kmeans(data_pca,k,n,shoki,X_index)\n",
    "k7=SSE_sampel(daz,chiz)\n",
    "\n",
    "# k=8の場合\n",
    "k=8\n",
    "n=3\n",
    "shoki=1\n",
    "X_index=2\n",
    "chiz,daz=sample_kmeans(data_pca,k,n,shoki,X_index)\n",
    "k8=SSE_sampel(daz,chiz)\n",
    "\n",
    "# k=9の場合\n",
    "k=9\n",
    "n=3\n",
    "shoki=1\n",
    "X_index=2\n",
    "chiz,daz=sample_kmeans(data_pca,k,n,shoki,X_index)\n",
    "k9=SSE_sampel(daz,chiz)\n",
    "\n",
    "# k=10の場合\n",
    "k=10\n",
    "n=3\n",
    "shoki=1\n",
    "X_index=2\n",
    "chiz,daz=sample_kmeans(data_pca,k,n,shoki,X_index)\n",
    "k10=SSE_sampel(daz,chiz)"
   ]
  },
  {
   "cell_type": "code",
   "execution_count": 21,
   "metadata": {},
   "outputs": [
    {
     "data": {
      "image/png": "[encoded data removed]",
      "text/plain": [
       "<Figure size 432x288 with 1 Axes>"
      ]
     },
     "metadata": {
      "needs_background": "light"
     },
     "output_type": "display_data"
    }
   ],
   "source": [
    "list_eru=[k1,k2,k3,k4,k5,k6,k7,k8,k9,k10]\n",
    "import matplotlib.pyplot as plt\n",
    "plt.plot(list_eru)\n",
    "plt.show()"
   ]
  },
  {
   "cell_type": "markdown",
   "metadata": {},
   "source": [
    "クラスタ数kについて・・・エルボー法では２か４が適切に思われる。人間が後々どう利用したいのかという点から考えてみると、顧客である小売店やレストランが何段階かのレベルに分けたデータが有用であると思われる、それが２つのクラスでは少し有用度が下がってしまう可能性があるので、クラスタ数は４が妥当に思われ流。それ以上増やしても必要以上に分割されて逆に扱いづらい分析になってしまう可能性がある。"
   ]
  },
  {
   "cell_type": "markdown",
   "metadata": {},
   "source": [
    "【問題11】既知のグループとの比較\n",
    "\n",
    "まず、Channelの場合、Regionの場合の既知のグループを可視化する"
   ]
  },
  {
   "cell_type": "code",
   "execution_count": 24,
   "metadata": {},
   "outputs": [],
   "source": [
    "Channel_data=np.array(ap_data[\"Channel\"])"
   ]
  },
  {
   "cell_type": "code",
   "execution_count": 29,
   "metadata": {},
   "outputs": [],
   "source": [
    "Channel_data1=Channel_data.reshape(440,1)"
   ]
  },
  {
   "cell_type": "code",
   "execution_count": 32,
   "metadata": {},
   "outputs": [
    {
     "data": {
      "text/plain": [
       "(440, 1)"
      ]
     },
     "execution_count": 32,
     "metadata": {},
     "output_type": "execute_result"
    }
   ],
   "source": [
    "Channel_data1.shape"
   ]
  },
  {
   "cell_type": "code",
   "execution_count": 27,
   "metadata": {},
   "outputs": [
    {
     "data": {
      "text/plain": [
       "(440, 2)"
      ]
     },
     "execution_count": 27,
     "metadata": {},
     "output_type": "execute_result"
    }
   ],
   "source": [
    "data_pca.shape"
   ]
  },
  {
   "cell_type": "code",
   "execution_count": 62,
   "metadata": {},
   "outputs": [],
   "source": [
    "Channel_data2=np.concatenate([Channel_data1,data_pca],axis=1)\n",
    "Channel_data3=Channel_data2[np.argsort(Channel_data2[:,0])]\n",
    "\n",
    "Channel_data4_1=Channel_data3[0:297,1]\n",
    "Channel_data4_2=Channel_data3[0:297,2]\n",
    "Channel_data5_1=Channel_data3[298:,1]\n",
    "Channel_data5_2=Channel_data3[298:,2]"
   ]
  },
  {
   "cell_type": "code",
   "execution_count": 64,
   "metadata": {},
   "outputs": [
    {
     "data": {
      "image/png": "[encoded data removed]",
      "text/plain": [
       "<Figure size 432x288 with 1 Axes>"
      ]
     },
     "metadata": {
      "needs_background": "light"
     },
     "output_type": "display_data"
    }
   ],
   "source": [
    "plt.scatter(Channel_data4_1,Channel_data4_2)\n",
    "plt.scatter(Channel_data5_1,Channel_data5_2,color=\"red\")\n",
    "plt.show()"
   ]
  },
  {
   "cell_type": "code",
   "execution_count": 67,
   "metadata": {},
   "outputs": [],
   "source": [
    "Region_data=np.array(ap_data[\"Region\"])\n",
    "Region_data1=Region_data.reshape(440,1)\n",
    "\n",
    "Region_data2=np.concatenate([Region_data1,data_pca],axis=1)\n",
    "Region_data3=Region_data2[np.argsort(Region_data2[:,0])]"
   ]
  },
  {
   "cell_type": "code",
   "execution_count": 80,
   "metadata": {},
   "outputs": [],
   "source": [
    "Region_data3_1=Region_data3[0:76,1]\n",
    "Region_data3_2=Region_data3[0:76,2]\n",
    "\n",
    "Region_data4_1=Region_data3[77:123,1]\n",
    "Region_data4_2=Region_data3[77:123,2]\n",
    "\n",
    "Region_data5_1=Region_data3[124:,1]\n",
    "Region_data5_2=Region_data3[124:,2]"
   ]
  },
  {
   "cell_type": "code",
   "execution_count": 83,
   "metadata": {},
   "outputs": [
    {
     "data": {
      "image/png": "[encoded data removed]",
      "text/plain": [
       "<Figure size 432x288 with 1 Axes>"
      ]
     },
     "metadata": {
      "needs_background": "light"
     },
     "output_type": "display_data"
    }
   ],
   "source": [
    "plt.scatter(Region_data5_1,Region_data5_2,color=\"green\")\n",
    "plt.scatter(Region_data3_1,Region_data3_2)\n",
    "plt.scatter(Region_data4_1,Region_data4_2,color=\"red\")\n",
    "plt.show()"
   ]
  },
  {
   "cell_type": "code",
   "execution_count": 84,
   "metadata": {},
   "outputs": [],
   "source": [
    "# 最適なk=4の場合\n",
    "k=4\n",
    "n=3\n",
    "shoki=1\n",
    "X_index=2\n",
    "chiz,daz=sample_kmeans(data_pca,k,n,shoki,X_index)\n",
    "k4_1=SSE_sampel(daz,chiz)"
   ]
  },
  {
   "cell_type": "code",
   "execution_count": 130,
   "metadata": {},
   "outputs": [],
   "source": [
    "kage=[]\n",
    "kage=np.array(kage)\n",
    "for i in range(len(daz[0][0])):\n",
    "    kage1=np.hstack((kage,daz[0][0][i]))\n",
    "    kage=kage1\n",
    "kage_1=kage.reshape(129,2)\n",
    "kage_1_1=kage_1[:,0]\n",
    "kage_1_2=kage_1[:,1]\n",
    "\n",
    "\n",
    "kage2=[]\n",
    "kage2=np.array(kage2)\n",
    "for i in range(len(daz[0][1])):\n",
    "    kage12=np.hstack((kage2,daz[0][1][i]))\n",
    "    kage2=kage12\n",
    "kage_12=kage2.reshape(62,2)\n",
    "kage_12_1=kage_12[:,0]\n",
    "kage_12_2=kage_12[:,1]\n",
    "\n",
    "kage3=[]\n",
    "kage3=np.array(kage3)\n",
    "for i in range(len(daz[0][2])):\n",
    "    kage13=np.hstack((kage3,daz[0][2][i]))\n",
    "    kage3=kage13\n",
    "kage_13=kage3.reshape(207,2)\n",
    "kage_13_1=kage_13[:,0]\n",
    "kage_13_2=kage_13[:,1]\n",
    "\n",
    "kage4=[]\n",
    "kage4=np.array(kage4)\n",
    "for i in range(len(daz[0][3])):\n",
    "    kage14=np.hstack((kage4,daz[0][3][i]))\n",
    "    kage4=kage14\n",
    "kage_14=kage4.reshape(42,2)\n",
    "kage_14_1=kage_14[:,0]\n",
    "kage_14_2=kage_14[:,1]"
   ]
  },
  {
   "cell_type": "code",
   "execution_count": 131,
   "metadata": {},
   "outputs": [
    {
     "data": {
      "image/png": "[encoded data removed]",
      "text/plain": [
       "<Figure size 432x288 with 1 Axes>"
      ]
     },
     "metadata": {
      "needs_background": "light"
     },
     "output_type": "display_data"
    }
   ],
   "source": [
    "plt.scatter(kage_1_1,kage_1_2)\n",
    "plt.scatter(kage_12_1,kage_12_2,color=\"red\")\n",
    "plt.scatter(kage_13_1,kage_13_2,color=\"green\")\n",
    "plt.scatter(kage_14_1,kage_14_2,color=\"yellow\")\n",
    "plt.show()"
   ]
  },
  {
   "cell_type": "markdown",
   "metadata": {},
   "source": [
    "ここでわかりやすく、それぞれの可視化を並べてみる"
   ]
  },
  {
   "cell_type": "code",
   "execution_count": 132,
   "metadata": {},
   "outputs": [
    {
     "data": {
      "image/png": "[encoded data removed]",
      "text/plain": [
       "<Figure size 432x288 with 1 Axes>"
      ]
     },
     "metadata": {
      "needs_background": "light"
     },
     "output_type": "display_data"
    }
   ],
   "source": [
    "plt.scatter(Channel_data4_1,Channel_data4_2)\n",
    "plt.scatter(Channel_data5_1,Channel_data5_2,color=\"red\")\n",
    "plt.show()"
   ]
  },
  {
   "cell_type": "code",
   "execution_count": 133,
   "metadata": {},
   "outputs": [
    {
     "data": {
      "image/png": "[encoded data removed]",
      "text/plain": [
       "<Figure size 432x288 with 1 Axes>"
      ]
     },
     "metadata": {
      "needs_background": "light"
     },
     "output_type": "display_data"
    }
   ],
   "source": [
    "plt.scatter(Region_data5_1,Region_data5_2,color=\"green\")\n",
    "plt.scatter(Region_data3_1,Region_data3_2)\n",
    "plt.scatter(Region_data4_1,Region_data4_2,color=\"red\")\n",
    "plt.show()"
   ]
  },
  {
   "cell_type": "code",
   "execution_count": 134,
   "metadata": {},
   "outputs": [
    {
     "data": {
      "image/png": "[encoded data removed]",
      "text/plain": [
       "<Figure size 432x288 with 1 Axes>"
      ]
     },
     "metadata": {
      "needs_background": "light"
     },
     "output_type": "display_data"
    }
   ],
   "source": [
    "plt.scatter(kage_1_1,kage_1_2)\n",
    "plt.scatter(kage_12_1,kage_12_2,color=\"red\")\n",
    "plt.scatter(kage_13_1,kage_13_2,color=\"green\")\n",
    "plt.scatter(kage_14_1,kage_14_2,color=\"yellow\")\n",
    "plt.show()"
   ]
  },
  {
   "cell_type": "markdown",
   "metadata": {},
   "source": [
    "既知のグループとはクラスタリングによって明らかにキレイにグループ分けができていることがわかった"
   ]
  },
  {
   "cell_type": "markdown",
   "metadata": {},
   "source": [
    "【問題12】卸売業者にとって有益な情報"
   ]
  },
  {
   "cell_type": "markdown",
   "metadata": {},
   "source": [
    "有益な情報について、ここまでの分析からまとめたい。\n",
    "\n",
    "可視化してわかったことであるが、RegionとChannelのグループわけはあまり良いグループ分けとなっていないことがわかった。一方で、グループを４つほどのクラスに分けることで、割とキレイにクラスを分割できることがわかった。\n",
    "Channelは２つのグループに、Regionは３つのグループに分けていたが、今回のケースでのグループ分けは、４つほどのグループに分けることが有用であるようだ。\n",
    "これ以上分けると、クラスわけの意味が少しずつ薄れてくる（分けても意味がない）可能性がある。\n",
    "\n",
    "小売店やレストランが、卸売業者から何ユーロ購入しているかというデータであるわけだが、購入金額ごとに４つにグループ分けすることで、それぞれのグループに適切なセールスと、とあるグループでは大きなハズレ値があるため、単価の高い商品でも購入の可能性があるグループとも考えられるため、そのクラスにはまた新たなセールスのチャンスも出てくる可能性も見られる。"
   ]
  },
  {
   "cell_type": "code",
   "execution_count": null,
   "metadata": {},
   "outputs": [],
   "source": []
  }
 ],
 "metadata": {
  "kernelspec": {
   "display_name": "Python 3",
   "language": "python",
   "name": "python3"
  },
  "language_info": {
   "codemirror_mode": {
    "name": "ipython",
    "version": 3
   },
   "file_extension": ".py",
   "mimetype": "text/x-python",
   "name": "python",
   "nbconvert_exporter": "python",
   "pygments_lexer": "ipython3",
   "version": "3.7.2"
  }
 },
 "nbformat": 4,
 "nbformat_minor": 2
}
