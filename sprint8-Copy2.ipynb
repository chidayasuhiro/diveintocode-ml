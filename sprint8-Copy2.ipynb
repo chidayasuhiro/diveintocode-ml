{
 "cells": [
  {
   "cell_type": "markdown",
   "metadata": {},
   "source": [
    "アンサンブル学習"
   ]
  },
  {
   "cell_type": "code",
   "execution_count": 8,
   "metadata": {},
   "outputs": [],
   "source": [
    "# データセット準備\n",
    "import pandas as pd\n",
    "import numpy as np\n",
    "\n",
    "train_data=pd.read_csv(\"/Users/chidayasuhiro/diveintocode-ml/train.csv\")\n",
    "\n",
    "# Pandasからndarrayへ変更\n",
    "\n",
    "X =train_data.loc[:,['GrLivArea','YearBuilt']]\n",
    "y =train_data.loc[:,\"SalePrice\"]\n",
    "Xandy=pd.concat([X,y],axis=1)\n",
    "\n",
    "X_np=np.array(X)\n",
    "y_np=np.array(y)"
   ]
  },
  {
   "cell_type": "code",
   "execution_count": 18,
   "metadata": {},
   "outputs": [],
   "source": [
    "#　分割と標準化\n",
    "# 分割\n",
    "from sklearn.model_selection import train_test_split\n",
    "train_X,test_X,train_y,test_y=train_test_split(X_np,y_np)\n",
    "\n",
    "from sklearn.preprocessing import StandardScaler\n",
    "\n",
    "train_X1=train_X.astype(float)\n",
    "test_X1=test_X.astype(float)\n",
    "scaler = StandardScaler()\n",
    "scaler.fit(train_X1)\n",
    "train_X1sd=scaler.transform(train_X1)\n",
    "test_X1sd=scaler.transform(test_X1)"
   ]
  },
  {
   "cell_type": "markdown",
   "metadata": {},
   "source": [
    "【問題1】ブレンディングのスクラッチ実装"
   ]
  },
  {
   "cell_type": "markdown",
   "metadata": {},
   "source": [
    "パターン１　線形回帰と決定木によるブレンディング"
   ]
  },
  {
   "cell_type": "code",
   "execution_count": 19,
   "metadata": {},
   "outputs": [
    {
     "data": {
      "text/plain": [
       "2780059954.010316"
      ]
     },
     "execution_count": 19,
     "metadata": {},
     "output_type": "execute_result"
    }
   ],
   "source": [
    "#　線形回帰による学習\n",
    "from sklearn.linear_model import LinearRegression\n",
    "reg = LinearRegression()\n",
    "reg.fit(train_X,train_y)\n",
    "y_pred1=reg.predict(test_X)\n",
    "from sklearn.metrics import mean_squared_error\n",
    "mean_squared_error(test_y, y_pred1)"
   ]
  },
  {
   "cell_type": "code",
   "execution_count": 20,
   "metadata": {},
   "outputs": [
    {
     "data": {
      "text/plain": [
       "4508115881.435921"
      ]
     },
     "execution_count": 20,
     "metadata": {},
     "output_type": "execute_result"
    }
   ],
   "source": [
    "# 決定木による学習\n",
    "from sklearn.tree import DecisionTreeRegressor\n",
    "DTR = DecisionTreeRegressor(random_state=0)\n",
    "DTR.fit(train_X,train_y)\n",
    "y_pred2=DTR.predict(test_X)\n",
    "from sklearn.metrics import mean_squared_error\n",
    "mean_squared_error(test_y, y_pred2)"
   ]
  },
  {
   "cell_type": "code",
   "execution_count": 12,
   "metadata": {},
   "outputs": [],
   "source": [
    "# 個々の推定結果を与えるとそれらの平均の推定結果を返す関数\n",
    "\n",
    "def pred_func(pred_list):\n",
    "    \"\"\"\n",
    "    pred_list : nadarray(n_sample,sample_function)\n",
    "    \n",
    "    \"\"\"\n",
    "    y_pred=[]\n",
    "    for i in range(len(pred_list)):\n",
    "        pred=sum(pred_list[i])/len(pred_list[1])\n",
    "        y_pred.append(pred)\n",
    "    return y_pred"
   ]
  },
  {
   "cell_type": "code",
   "execution_count": 21,
   "metadata": {},
   "outputs": [],
   "source": [
    "# 実装例\n",
    "# 線形回帰と決定木の結果\n",
    "pred_list1=np.vstack((y_pred1,y_pred2)).T\n",
    "# 制作した関数に入れ平均を得る\n",
    "blending_pred=pred_func(pred_list1)"
   ]
  },
  {
   "cell_type": "code",
   "execution_count": 22,
   "metadata": {},
   "outputs": [
    {
     "data": {
      "text/plain": [
       "3122605268.3684034"
      ]
     },
     "execution_count": 22,
     "metadata": {},
     "output_type": "execute_result"
    }
   ],
   "source": [
    "#　平均二乗誤差を計算し精度を確認\n",
    "\n",
    "from sklearn.metrics import mean_squared_error\n",
    "mean_squared_error(test_y, blending_pred)"
   ]
  },
  {
   "cell_type": "markdown",
   "metadata": {},
   "source": [
    "●１つ目の例として、単一の決定木より精度が上がったことがわかった。"
   ]
  },
  {
   "cell_type": "markdown",
   "metadata": {},
   "source": [
    "パターン２　SVMのカーネルの違いによるブレンディング"
   ]
  },
  {
   "cell_type": "code",
   "execution_count": 24,
   "metadata": {},
   "outputs": [
    {
     "data": {
      "text/plain": [
       "6321589994.02816"
      ]
     },
     "execution_count": 24,
     "metadata": {},
     "output_type": "execute_result"
    }
   ],
   "source": [
    "# SVMの「kernel='rbf」による学習\n",
    "\n",
    "from sklearn.svm import SVR\n",
    "svm=SVR()\n",
    "svm.fit(train_X,train_y)\n",
    "y_pred3=svm.predict(test_X)\n",
    "from sklearn.metrics import mean_squared_error\n",
    "mean_squared_error(test_y, y_pred3)"
   ]
  },
  {
   "cell_type": "code",
   "execution_count": 25,
   "metadata": {},
   "outputs": [
    {
     "data": {
      "text/plain": [
       "2669972880.690646"
      ]
     },
     "execution_count": 25,
     "metadata": {},
     "output_type": "execute_result"
    }
   ],
   "source": [
    "# SVMの「kernel='linear'」による学習\n",
    "svm1=SVR(kernel=\"linear\")\n",
    "svm1.fit(train_X,train_y)\n",
    "y_pred4=svm1.predict(test_X)\n",
    "from sklearn.metrics import mean_squared_error\n",
    "mean_squared_error(test_y, y_pred4)"
   ]
  },
  {
   "cell_type": "code",
   "execution_count": 26,
   "metadata": {},
   "outputs": [
    {
     "data": {
      "text/plain": [
       "6321611846.906849"
      ]
     },
     "execution_count": 26,
     "metadata": {},
     "output_type": "execute_result"
    }
   ],
   "source": [
    "# SVMの「kernel=\"sigmoid\"」による学習\n",
    "svm2=SVR(kernel=\"sigmoid\")\n",
    "svm2.fit(train_X,train_y)\n",
    "y_pred5=svm2.predict(test_X)\n",
    "from sklearn.metrics import mean_squared_error\n",
    "mean_squared_error(test_y, y_pred5)"
   ]
  },
  {
   "cell_type": "code",
   "execution_count": 39,
   "metadata": {},
   "outputs": [
    {
     "data": {
      "text/plain": [
       "4350145758.036012"
      ]
     },
     "execution_count": 39,
     "metadata": {},
     "output_type": "execute_result"
    }
   ],
   "source": [
    "# 実装\n",
    "# 制作した関数に入れ平均を得る\n",
    "pred_list2=np.vstack((y_pred3,y_pred4,y_pred5)).T\n",
    "blending_pred2=pred_func(pred_list2)\n",
    "#　平均二乗誤差を計算し精度を確認\n",
    "from sklearn.metrics import mean_squared_error\n",
    "mean_squared_error(test_y, blending_pred2)"
   ]
  },
  {
   "cell_type": "markdown",
   "metadata": {},
   "source": [
    "●２つ目の例として、単一の「kernel='rbf'」と「kernel=\"sigmoid\"」より精度が上がったことがわかった。"
   ]
  },
  {
   "cell_type": "markdown",
   "metadata": {},
   "source": [
    "パターン３　対数変換の違いによるブレンディング"
   ]
  },
  {
   "cell_type": "code",
   "execution_count": 32,
   "metadata": {},
   "outputs": [
    {
     "data": {
      "text/plain": [
       "2780059954.010316"
      ]
     },
     "execution_count": 32,
     "metadata": {},
     "output_type": "execute_result"
    }
   ],
   "source": [
    "#　通常の変数のままの線形回帰による学習\n",
    "from sklearn.linear_model import LinearRegression\n",
    "reg1 = LinearRegression()\n",
    "reg1.fit(train_X,train_y)\n",
    "y_pred6=reg1.predict(test_X)\n",
    "from sklearn.metrics import mean_squared_error\n",
    "mean_squared_error(test_y, y_pred6)"
   ]
  },
  {
   "cell_type": "code",
   "execution_count": 37,
   "metadata": {},
   "outputs": [
    {
     "data": {
      "text/plain": [
       "2462264344.100039"
      ]
     },
     "execution_count": 37,
     "metadata": {},
     "output_type": "execute_result"
    }
   ],
   "source": [
    "#　対数変換した変数の線形回帰による学習\n",
    "from sklearn.linear_model import LinearRegression\n",
    "reg2 = LinearRegression()\n",
    "reg2.fit(train_X1log,train_y)\n",
    "y_pred7=reg2.predict(test_X1log)\n",
    "from sklearn.metrics import mean_squared_error\n",
    "mean_squared_error(test_y, y_pred7)"
   ]
  },
  {
   "cell_type": "code",
   "execution_count": 38,
   "metadata": {},
   "outputs": [
    {
     "data": {
      "text/plain": [
       "2544257059.257657"
      ]
     },
     "execution_count": 38,
     "metadata": {},
     "output_type": "execute_result"
    }
   ],
   "source": [
    "# 実装\n",
    "# 制作した関数に入れ平均を得る\n",
    "pred_list3=np.vstack((y_pred6,y_pred7)).T\n",
    "blending_pred3=pred_func(pred_list3)\n",
    "#　平均二乗誤差を計算し精度を確認\n",
    "from sklearn.metrics import mean_squared_error\n",
    "mean_squared_error(test_y, blending_pred3)"
   ]
  },
  {
   "cell_type": "markdown",
   "metadata": {},
   "source": [
    "●３つ目の例として、対数化することで単一の線形回帰より精度が上がったことがわかった。"
   ]
  },
  {
   "cell_type": "markdown",
   "metadata": {},
   "source": [
    "【問題2】バギングのスクラッチ実装"
   ]
  },
  {
   "cell_type": "markdown",
   "metadata": {},
   "source": [
    "線形回帰により５種類のサブセットでN個学習し推定結果の平均を取ってみる"
   ]
  },
  {
   "cell_type": "code",
   "execution_count": 44,
   "metadata": {},
   "outputs": [
    {
     "name": "stdout",
     "output_type": "stream",
     "text": [
      "10944360174.061834\n",
      "10530922698.621288\n",
      "9537159080.469467\n",
      "9804105429.485977\n",
      "9150530583.735205\n"
     ]
    }
   ],
   "source": [
    "# 1\n",
    "from sklearn.model_selection import train_test_split\n",
    "train_X1,test_X1,train_y1,test_y1=train_test_split(X_np,y_np)\n",
    "from sklearn.linear_model import LinearRegression\n",
    "reg11 = LinearRegression()\n",
    "reg11.fit(train_X1,train_y1)\n",
    "y_pred11=reg11.predict(test_X1)\n",
    "from sklearn.metrics import mean_squared_error\n",
    "print(mean_squared_error(test_y, y_pred11))\n",
    "\n",
    "# 2\n",
    "from sklearn.model_selection import train_test_split\n",
    "train_X2,test_X2,train_y2,test_y2=train_test_split(X_np,y_np)\n",
    "from sklearn.linear_model import LinearRegression\n",
    "reg12 = LinearRegression()\n",
    "reg12.fit(train_X2,train_y2)\n",
    "y_pred12=reg12.predict(test_X2)\n",
    "from sklearn.metrics import mean_squared_error\n",
    "print(mean_squared_error(test_y, y_pred12))\n",
    "\n",
    "# 3\n",
    "from sklearn.model_selection import train_test_split\n",
    "train_X3,test_X3,train_y3,test_y3=train_test_split(X_np,y_np)\n",
    "from sklearn.linear_model import LinearRegression\n",
    "reg13 = LinearRegression()\n",
    "reg13.fit(train_X3,train_y3)\n",
    "y_pred13=reg13.predict(test_X3)\n",
    "from sklearn.metrics import mean_squared_error\n",
    "print(mean_squared_error(test_y, y_pred13))\n",
    "\n",
    "# 4\n",
    "from sklearn.model_selection import train_test_split\n",
    "train_X4,test_X4,train_y4,test_y4=train_test_split(X_np,y_np)\n",
    "from sklearn.linear_model import LinearRegression\n",
    "reg14 = LinearRegression()\n",
    "reg14.fit(train_X4,train_y4)\n",
    "y_pred14=reg14.predict(test_X4)\n",
    "from sklearn.metrics import mean_squared_error\n",
    "print(mean_squared_error(test_y, y_pred14))\n",
    "\n",
    "# 5\n",
    "from sklearn.model_selection import train_test_split\n",
    "train_X5,test_X5,train_y5,test_y5=train_test_split(X_np,y_np)\n",
    "from sklearn.linear_model import LinearRegression\n",
    "reg15 = LinearRegression()\n",
    "reg15.fit(train_X5,train_y5)\n",
    "y_pred15=reg15.predict(test_X5)\n",
    "from sklearn.metrics import mean_squared_error\n",
    "print(mean_squared_error(test_y, y_pred15))"
   ]
  },
  {
   "cell_type": "code",
   "execution_count": 45,
   "metadata": {},
   "outputs": [
    {
     "data": {
      "text/plain": [
       "6740126327.323547"
      ]
     },
     "execution_count": 45,
     "metadata": {},
     "output_type": "execute_result"
    }
   ],
   "source": [
    "# 制作した関数に入れ平均を得る\n",
    "pred_list4=np.vstack((y_pred11,y_pred12,y_pred13,y_pred14,y_pred15)).T\n",
    "blending_pred4=pred_func(pred_list4)\n",
    "#　平均二乗誤差を計算し精度を確認\n",
    "from sklearn.metrics import mean_squared_error\n",
    "mean_squared_error(test_y, blending_pred4)"
   ]
  },
  {
   "cell_type": "markdown",
   "metadata": {},
   "source": [
    "５回分で行ったところ、平均二乗誤差はかなり小さくなり精度が上がったことがわかった"
   ]
  },
  {
   "cell_type": "markdown",
   "metadata": {},
   "source": [
    "【問題3】スタッキングのスクラッチ実装"
   ]
  },
  {
   "cell_type": "markdown",
   "metadata": {},
   "source": [
    "分割の数Kは３、モデルの数Mは２で行う\n",
    "\n",
    "モデルの１つは線形回帰、もう一つは決定木で行う。\n",
    "\n",
    "第二段階で行うモデルは線形回帰を使用する"
   ]
  },
  {
   "cell_type": "code",
   "execution_count": 46,
   "metadata": {},
   "outputs": [],
   "source": [
    "from sklearn.model_selection import train_test_split\n",
    "train_Xsk,test_Xsk,train_ysk,test_ysk=train_test_split(X_np,y_np)"
   ]
  },
  {
   "cell_type": "code",
   "execution_count": 56,
   "metadata": {},
   "outputs": [],
   "source": [
    "train_Xsk1,train_Xsk2,train_Xsk3=np.array_split(train_Xsk,3)\n",
    "train_ysk1,train_ysk2,train_ysk3=np.array_split(train_ysk,3)\n",
    "test_Xsk1,test_Xsk2,test_Xsk3=np.array_split(test_Xsk,3)"
   ]
  },
  {
   "cell_type": "code",
   "execution_count": 55,
   "metadata": {},
   "outputs": [],
   "source": []
  },
  {
   "cell_type": "code",
   "execution_count": 69,
   "metadata": {},
   "outputs": [],
   "source": [
    "# 第一段階目　線形回帰\n",
    "\n",
    "from sklearn.linear_model import LinearRegression\n",
    "reg21 = LinearRegression()\n",
    "reg21.fit(train_Xsk1,train_ysk1)\n",
    "y_pred_sk2=reg21.predict(train_Xsk2)\n",
    "\n",
    "reg22 = LinearRegression()\n",
    "reg22.fit(train_Xsk2,train_ysk2)\n",
    "y_pred_sk3=reg22.predict(train_Xsk3)\n",
    "\n",
    "reg23 = LinearRegression()\n",
    "reg23.fit(train_Xsk3,train_ysk3)\n",
    "y_pred_sk1=reg21.predict(train_Xsk1)\n",
    "\n",
    "stacking_data1=np.hstack((y_pred_sk1,y_pred_sk2,y_pred_sk3))"
   ]
  },
  {
   "cell_type": "code",
   "execution_count": 67,
   "metadata": {},
   "outputs": [],
   "source": [
    "# 第一段階目　線形回帰\n",
    "\n",
    "from sklearn.linear_model import LinearRegression\n",
    "reg21 = LinearRegression()\n",
    "reg21.fit(train_Xsk1,train_ysk1)\n",
    "y_pred_sk2=reg21.predict(train_Xsk2)\n",
    "\n",
    "reg22 = LinearRegression()\n",
    "reg22.fit(train_Xsk2,train_ysk2)\n",
    "y_pred_sk3=reg22.predict(train_Xsk3)\n",
    "\n",
    "reg23 = LinearRegression()\n",
    "reg23.fit(train_Xsk3,train_ysk3)\n",
    "y_pred_sk1=reg21.predict(train_Xsk1)\n",
    "\n",
    "stacking_data1=np.hstack((y_pred_sk1,y_pred_sk2,y_pred_sk3))"
   ]
  },
  {
   "cell_type": "code",
   "execution_count": 71,
   "metadata": {},
   "outputs": [],
   "source": [
    "# 第一段階　決定木\n",
    "\n",
    "from sklearn.tree import DecisionTreeRegressor\n",
    "DTR21 = DecisionTreeRegressor(random_state=0)\n",
    "DTR21.fit(train_X,train_y)\n",
    "y_pred2=DTR.predict(test_X)\n",
    "\n",
    "\n",
    "DTR21 = DecisionTreeRegressor(random_state=0)\n",
    "DTR21.fit(train_Xsk1,train_ysk1)\n",
    "y_pred_DTRsk2=DTR21.predict(train_Xsk2)\n",
    "\n",
    "DTR22 = DecisionTreeRegressor(random_state=0)\n",
    "DTR22.fit(train_Xsk2,train_ysk2)\n",
    "y_pred_DTRsk3=DTR22.predict(train_Xsk3)\n",
    "\n",
    "DTR23 = DecisionTreeRegressor(random_state=0)\n",
    "DTR23.fit(train_Xsk3,train_ysk3)\n",
    "y_pred_DTRsk1=DTR23.predict(train_Xsk1)\n",
    "\n",
    "stacking_data2=np.hstack((y_pred_DTRsk1,y_pred_DTRsk2,y_pred_DTRsk3))"
   ]
  },
  {
   "cell_type": "code",
   "execution_count": 75,
   "metadata": {},
   "outputs": [],
   "source": [
    "# ブレンドデータの完成\n",
    "blend_data=np.vstack((stacking_data1,stacking_data2)).T"
   ]
  },
  {
   "cell_type": "code",
   "execution_count": 78,
   "metadata": {},
   "outputs": [],
   "source": [
    "# # 第二段階　重回帰分析\n",
    "\n",
    "from sklearn.linear_model import LinearRegression\n",
    "reg31 = LinearRegression()\n",
    "reg31.fit(blend_data,train_y)\n",
    "y_pred=reg31.predict(test_X)"
   ]
  },
  {
   "cell_type": "code",
   "execution_count": 83,
   "metadata": {},
   "outputs": [
    {
     "data": {
      "text/plain": [
       "6058077692.842926"
      ]
     },
     "execution_count": 83,
     "metadata": {},
     "output_type": "execute_result"
    }
   ],
   "source": [
    "#　平均二乗誤差を計算し精度を確認\n",
    "from sklearn.metrics import mean_squared_error\n",
    "mean_squared_error(test_y,y_pred)"
   ]
  },
  {
   "cell_type": "markdown",
   "metadata": {},
   "source": [
    "単一の線形回帰、対数化をしたものとのブレンディング、５回の平均のバギングよりも、さらにこのスタッキングで平均二乗誤差が小さくなり、より精度の分析となったことがわかった。"
   ]
  },
  {
   "cell_type": "code",
   "execution_count": null,
   "metadata": {},
   "outputs": [],
   "source": []
  }
 ],
 "metadata": {
  "kernelspec": {
   "display_name": "Python 3",
   "language": "python",
   "name": "python3"
  },
  "language_info": {
   "codemirror_mode": {
    "name": "ipython",
    "version": 3
   },
   "file_extension": ".py",
   "mimetype": "text/x-python",
   "name": "python",
   "nbconvert_exporter": "python",
   "pygments_lexer": "ipython3",
   "version": "3.7.2"
  }
 },
 "nbformat": 4,
 "nbformat_minor": 2
}
