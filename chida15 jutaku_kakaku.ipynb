{
 "cells": [
  {
   "cell_type": "markdown",
   "metadata": {},
   "source": [
    "住宅価格の予測"
   ]
  },
  {
   "cell_type": "markdown",
   "metadata": {},
   "source": [
    "【問題1】練習のために特徴量の選択"
   ]
  },
  {
   "cell_type": "code",
   "execution_count": 1,
   "metadata": {},
   "outputs": [
    {
     "data": {
      "text/html": [
       "<div>\n",
       "<style scoped>\n",
       "    .dataframe tbody tr th:only-of-type {\n",
       "        vertical-align: middle;\n",
       "    }\n",
       "\n",
       "    .dataframe tbody tr th {\n",
       "        vertical-align: top;\n",
       "    }\n",
       "\n",
       "    .dataframe thead th {\n",
       "        text-align: right;\n",
       "    }\n",
       "</style>\n",
       "<table border=\"1\" class=\"dataframe\">\n",
       "  <thead>\n",
       "    <tr style=\"text-align: right;\">\n",
       "      <th></th>\n",
       "      <th>Id</th>\n",
       "      <th>MSSubClass</th>\n",
       "      <th>MSZoning</th>\n",
       "      <th>LotFrontage</th>\n",
       "      <th>LotArea</th>\n",
       "      <th>Street</th>\n",
       "      <th>Alley</th>\n",
       "      <th>LotShape</th>\n",
       "      <th>LandContour</th>\n",
       "      <th>Utilities</th>\n",
       "      <th>...</th>\n",
       "      <th>PoolArea</th>\n",
       "      <th>PoolQC</th>\n",
       "      <th>Fence</th>\n",
       "      <th>MiscFeature</th>\n",
       "      <th>MiscVal</th>\n",
       "      <th>MoSold</th>\n",
       "      <th>YrSold</th>\n",
       "      <th>SaleType</th>\n",
       "      <th>SaleCondition</th>\n",
       "      <th>SalePrice</th>\n",
       "    </tr>\n",
       "  </thead>\n",
       "  <tbody>\n",
       "    <tr>\n",
       "      <th>0</th>\n",
       "      <td>1</td>\n",
       "      <td>60</td>\n",
       "      <td>RL</td>\n",
       "      <td>65.0</td>\n",
       "      <td>8450</td>\n",
       "      <td>Pave</td>\n",
       "      <td>NaN</td>\n",
       "      <td>Reg</td>\n",
       "      <td>Lvl</td>\n",
       "      <td>AllPub</td>\n",
       "      <td>...</td>\n",
       "      <td>0</td>\n",
       "      <td>NaN</td>\n",
       "      <td>NaN</td>\n",
       "      <td>NaN</td>\n",
       "      <td>0</td>\n",
       "      <td>2</td>\n",
       "      <td>2008</td>\n",
       "      <td>WD</td>\n",
       "      <td>Normal</td>\n",
       "      <td>208500</td>\n",
       "    </tr>\n",
       "    <tr>\n",
       "      <th>1</th>\n",
       "      <td>2</td>\n",
       "      <td>20</td>\n",
       "      <td>RL</td>\n",
       "      <td>80.0</td>\n",
       "      <td>9600</td>\n",
       "      <td>Pave</td>\n",
       "      <td>NaN</td>\n",
       "      <td>Reg</td>\n",
       "      <td>Lvl</td>\n",
       "      <td>AllPub</td>\n",
       "      <td>...</td>\n",
       "      <td>0</td>\n",
       "      <td>NaN</td>\n",
       "      <td>NaN</td>\n",
       "      <td>NaN</td>\n",
       "      <td>0</td>\n",
       "      <td>5</td>\n",
       "      <td>2007</td>\n",
       "      <td>WD</td>\n",
       "      <td>Normal</td>\n",
       "      <td>181500</td>\n",
       "    </tr>\n",
       "    <tr>\n",
       "      <th>2</th>\n",
       "      <td>3</td>\n",
       "      <td>60</td>\n",
       "      <td>RL</td>\n",
       "      <td>68.0</td>\n",
       "      <td>11250</td>\n",
       "      <td>Pave</td>\n",
       "      <td>NaN</td>\n",
       "      <td>IR1</td>\n",
       "      <td>Lvl</td>\n",
       "      <td>AllPub</td>\n",
       "      <td>...</td>\n",
       "      <td>0</td>\n",
       "      <td>NaN</td>\n",
       "      <td>NaN</td>\n",
       "      <td>NaN</td>\n",
       "      <td>0</td>\n",
       "      <td>9</td>\n",
       "      <td>2008</td>\n",
       "      <td>WD</td>\n",
       "      <td>Normal</td>\n",
       "      <td>223500</td>\n",
       "    </tr>\n",
       "    <tr>\n",
       "      <th>3</th>\n",
       "      <td>4</td>\n",
       "      <td>70</td>\n",
       "      <td>RL</td>\n",
       "      <td>60.0</td>\n",
       "      <td>9550</td>\n",
       "      <td>Pave</td>\n",
       "      <td>NaN</td>\n",
       "      <td>IR1</td>\n",
       "      <td>Lvl</td>\n",
       "      <td>AllPub</td>\n",
       "      <td>...</td>\n",
       "      <td>0</td>\n",
       "      <td>NaN</td>\n",
       "      <td>NaN</td>\n",
       "      <td>NaN</td>\n",
       "      <td>0</td>\n",
       "      <td>2</td>\n",
       "      <td>2006</td>\n",
       "      <td>WD</td>\n",
       "      <td>Abnorml</td>\n",
       "      <td>140000</td>\n",
       "    </tr>\n",
       "    <tr>\n",
       "      <th>4</th>\n",
       "      <td>5</td>\n",
       "      <td>60</td>\n",
       "      <td>RL</td>\n",
       "      <td>84.0</td>\n",
       "      <td>14260</td>\n",
       "      <td>Pave</td>\n",
       "      <td>NaN</td>\n",
       "      <td>IR1</td>\n",
       "      <td>Lvl</td>\n",
       "      <td>AllPub</td>\n",
       "      <td>...</td>\n",
       "      <td>0</td>\n",
       "      <td>NaN</td>\n",
       "      <td>NaN</td>\n",
       "      <td>NaN</td>\n",
       "      <td>0</td>\n",
       "      <td>12</td>\n",
       "      <td>2008</td>\n",
       "      <td>WD</td>\n",
       "      <td>Normal</td>\n",
       "      <td>250000</td>\n",
       "    </tr>\n",
       "    <tr>\n",
       "      <th>...</th>\n",
       "      <td>...</td>\n",
       "      <td>...</td>\n",
       "      <td>...</td>\n",
       "      <td>...</td>\n",
       "      <td>...</td>\n",
       "      <td>...</td>\n",
       "      <td>...</td>\n",
       "      <td>...</td>\n",
       "      <td>...</td>\n",
       "      <td>...</td>\n",
       "      <td>...</td>\n",
       "      <td>...</td>\n",
       "      <td>...</td>\n",
       "      <td>...</td>\n",
       "      <td>...</td>\n",
       "      <td>...</td>\n",
       "      <td>...</td>\n",
       "      <td>...</td>\n",
       "      <td>...</td>\n",
       "      <td>...</td>\n",
       "      <td>...</td>\n",
       "    </tr>\n",
       "    <tr>\n",
       "      <th>1455</th>\n",
       "      <td>1456</td>\n",
       "      <td>60</td>\n",
       "      <td>RL</td>\n",
       "      <td>62.0</td>\n",
       "      <td>7917</td>\n",
       "      <td>Pave</td>\n",
       "      <td>NaN</td>\n",
       "      <td>Reg</td>\n",
       "      <td>Lvl</td>\n",
       "      <td>AllPub</td>\n",
       "      <td>...</td>\n",
       "      <td>0</td>\n",
       "      <td>NaN</td>\n",
       "      <td>NaN</td>\n",
       "      <td>NaN</td>\n",
       "      <td>0</td>\n",
       "      <td>8</td>\n",
       "      <td>2007</td>\n",
       "      <td>WD</td>\n",
       "      <td>Normal</td>\n",
       "      <td>175000</td>\n",
       "    </tr>\n",
       "    <tr>\n",
       "      <th>1456</th>\n",
       "      <td>1457</td>\n",
       "      <td>20</td>\n",
       "      <td>RL</td>\n",
       "      <td>85.0</td>\n",
       "      <td>13175</td>\n",
       "      <td>Pave</td>\n",
       "      <td>NaN</td>\n",
       "      <td>Reg</td>\n",
       "      <td>Lvl</td>\n",
       "      <td>AllPub</td>\n",
       "      <td>...</td>\n",
       "      <td>0</td>\n",
       "      <td>NaN</td>\n",
       "      <td>MnPrv</td>\n",
       "      <td>NaN</td>\n",
       "      <td>0</td>\n",
       "      <td>2</td>\n",
       "      <td>2010</td>\n",
       "      <td>WD</td>\n",
       "      <td>Normal</td>\n",
       "      <td>210000</td>\n",
       "    </tr>\n",
       "    <tr>\n",
       "      <th>1457</th>\n",
       "      <td>1458</td>\n",
       "      <td>70</td>\n",
       "      <td>RL</td>\n",
       "      <td>66.0</td>\n",
       "      <td>9042</td>\n",
       "      <td>Pave</td>\n",
       "      <td>NaN</td>\n",
       "      <td>Reg</td>\n",
       "      <td>Lvl</td>\n",
       "      <td>AllPub</td>\n",
       "      <td>...</td>\n",
       "      <td>0</td>\n",
       "      <td>NaN</td>\n",
       "      <td>GdPrv</td>\n",
       "      <td>Shed</td>\n",
       "      <td>2500</td>\n",
       "      <td>5</td>\n",
       "      <td>2010</td>\n",
       "      <td>WD</td>\n",
       "      <td>Normal</td>\n",
       "      <td>266500</td>\n",
       "    </tr>\n",
       "    <tr>\n",
       "      <th>1458</th>\n",
       "      <td>1459</td>\n",
       "      <td>20</td>\n",
       "      <td>RL</td>\n",
       "      <td>68.0</td>\n",
       "      <td>9717</td>\n",
       "      <td>Pave</td>\n",
       "      <td>NaN</td>\n",
       "      <td>Reg</td>\n",
       "      <td>Lvl</td>\n",
       "      <td>AllPub</td>\n",
       "      <td>...</td>\n",
       "      <td>0</td>\n",
       "      <td>NaN</td>\n",
       "      <td>NaN</td>\n",
       "      <td>NaN</td>\n",
       "      <td>0</td>\n",
       "      <td>4</td>\n",
       "      <td>2010</td>\n",
       "      <td>WD</td>\n",
       "      <td>Normal</td>\n",
       "      <td>142125</td>\n",
       "    </tr>\n",
       "    <tr>\n",
       "      <th>1459</th>\n",
       "      <td>1460</td>\n",
       "      <td>20</td>\n",
       "      <td>RL</td>\n",
       "      <td>75.0</td>\n",
       "      <td>9937</td>\n",
       "      <td>Pave</td>\n",
       "      <td>NaN</td>\n",
       "      <td>Reg</td>\n",
       "      <td>Lvl</td>\n",
       "      <td>AllPub</td>\n",
       "      <td>...</td>\n",
       "      <td>0</td>\n",
       "      <td>NaN</td>\n",
       "      <td>NaN</td>\n",
       "      <td>NaN</td>\n",
       "      <td>0</td>\n",
       "      <td>6</td>\n",
       "      <td>2008</td>\n",
       "      <td>WD</td>\n",
       "      <td>Normal</td>\n",
       "      <td>147500</td>\n",
       "    </tr>\n",
       "  </tbody>\n",
       "</table>\n",
       "<p>1460 rows × 81 columns</p>\n",
       "</div>"
      ],
      "text/plain": [
       "        Id  MSSubClass MSZoning  LotFrontage  LotArea Street Alley LotShape  \\\n",
       "0        1          60       RL         65.0     8450   Pave   NaN      Reg   \n",
       "1        2          20       RL         80.0     9600   Pave   NaN      Reg   \n",
       "2        3          60       RL         68.0    11250   Pave   NaN      IR1   \n",
       "3        4          70       RL         60.0     9550   Pave   NaN      IR1   \n",
       "4        5          60       RL         84.0    14260   Pave   NaN      IR1   \n",
       "...    ...         ...      ...          ...      ...    ...   ...      ...   \n",
       "1455  1456          60       RL         62.0     7917   Pave   NaN      Reg   \n",
       "1456  1457          20       RL         85.0    13175   Pave   NaN      Reg   \n",
       "1457  1458          70       RL         66.0     9042   Pave   NaN      Reg   \n",
       "1458  1459          20       RL         68.0     9717   Pave   NaN      Reg   \n",
       "1459  1460          20       RL         75.0     9937   Pave   NaN      Reg   \n",
       "\n",
       "     LandContour Utilities  ... PoolArea PoolQC  Fence MiscFeature MiscVal  \\\n",
       "0            Lvl    AllPub  ...        0    NaN    NaN         NaN       0   \n",
       "1            Lvl    AllPub  ...        0    NaN    NaN         NaN       0   \n",
       "2            Lvl    AllPub  ...        0    NaN    NaN         NaN       0   \n",
       "3            Lvl    AllPub  ...        0    NaN    NaN         NaN       0   \n",
       "4            Lvl    AllPub  ...        0    NaN    NaN         NaN       0   \n",
       "...          ...       ...  ...      ...    ...    ...         ...     ...   \n",
       "1455         Lvl    AllPub  ...        0    NaN    NaN         NaN       0   \n",
       "1456         Lvl    AllPub  ...        0    NaN  MnPrv         NaN       0   \n",
       "1457         Lvl    AllPub  ...        0    NaN  GdPrv        Shed    2500   \n",
       "1458         Lvl    AllPub  ...        0    NaN    NaN         NaN       0   \n",
       "1459         Lvl    AllPub  ...        0    NaN    NaN         NaN       0   \n",
       "\n",
       "     MoSold YrSold  SaleType  SaleCondition  SalePrice  \n",
       "0         2   2008        WD         Normal     208500  \n",
       "1         5   2007        WD         Normal     181500  \n",
       "2         9   2008        WD         Normal     223500  \n",
       "3         2   2006        WD        Abnorml     140000  \n",
       "4        12   2008        WD         Normal     250000  \n",
       "...     ...    ...       ...            ...        ...  \n",
       "1455      8   2007        WD         Normal     175000  \n",
       "1456      2   2010        WD         Normal     210000  \n",
       "1457      5   2010        WD         Normal     266500  \n",
       "1458      4   2010        WD         Normal     142125  \n",
       "1459      6   2008        WD         Normal     147500  \n",
       "\n",
       "[1460 rows x 81 columns]"
      ]
     },
     "execution_count": 1,
     "metadata": {},
     "output_type": "execute_result"
    }
   ],
   "source": [
    "# PandasのDataFrame型のtrain_dataに格納\n",
    "import pandas as pd\n",
    "import numpy as np\n",
    "\n",
    "train_data=pd.read_csv(\"/Users/chidayasuhiro/diveintocode-ml/train.csv\")"
   ]
  },
  {
   "cell_type": "markdown",
   "metadata": {},
   "source": [
    "【問題1】練習のために特徴量の選択"
   ]
  },
  {
   "cell_type": "markdown",
   "metadata": {},
   "source": [
    "説明変数GrLivAreaとYearBuilt、目的変数SalePriceをそれぞれ抜き出してください"
   ]
  },
  {
   "cell_type": "code",
   "execution_count": 2,
   "metadata": {},
   "outputs": [
    {
     "data": {
      "text/html": [
       "<div>\n",
       "<style scoped>\n",
       "    .dataframe tbody tr th:only-of-type {\n",
       "        vertical-align: middle;\n",
       "    }\n",
       "\n",
       "    .dataframe tbody tr th {\n",
       "        vertical-align: top;\n",
       "    }\n",
       "\n",
       "    .dataframe thead th {\n",
       "        text-align: right;\n",
       "    }\n",
       "</style>\n",
       "<table border=\"1\" class=\"dataframe\">\n",
       "  <thead>\n",
       "    <tr style=\"text-align: right;\">\n",
       "      <th></th>\n",
       "      <th>GrLivArea</th>\n",
       "      <th>YearBuilt</th>\n",
       "      <th>SalePrice</th>\n",
       "    </tr>\n",
       "  </thead>\n",
       "  <tbody>\n",
       "    <tr>\n",
       "      <th>0</th>\n",
       "      <td>1710</td>\n",
       "      <td>2003</td>\n",
       "      <td>208500</td>\n",
       "    </tr>\n",
       "    <tr>\n",
       "      <th>1</th>\n",
       "      <td>1262</td>\n",
       "      <td>1976</td>\n",
       "      <td>181500</td>\n",
       "    </tr>\n",
       "    <tr>\n",
       "      <th>2</th>\n",
       "      <td>1786</td>\n",
       "      <td>2001</td>\n",
       "      <td>223500</td>\n",
       "    </tr>\n",
       "    <tr>\n",
       "      <th>3</th>\n",
       "      <td>1717</td>\n",
       "      <td>1915</td>\n",
       "      <td>140000</td>\n",
       "    </tr>\n",
       "    <tr>\n",
       "      <th>4</th>\n",
       "      <td>2198</td>\n",
       "      <td>2000</td>\n",
       "      <td>250000</td>\n",
       "    </tr>\n",
       "    <tr>\n",
       "      <th>...</th>\n",
       "      <td>...</td>\n",
       "      <td>...</td>\n",
       "      <td>...</td>\n",
       "    </tr>\n",
       "    <tr>\n",
       "      <th>1455</th>\n",
       "      <td>1647</td>\n",
       "      <td>1999</td>\n",
       "      <td>175000</td>\n",
       "    </tr>\n",
       "    <tr>\n",
       "      <th>1456</th>\n",
       "      <td>2073</td>\n",
       "      <td>1978</td>\n",
       "      <td>210000</td>\n",
       "    </tr>\n",
       "    <tr>\n",
       "      <th>1457</th>\n",
       "      <td>2340</td>\n",
       "      <td>1941</td>\n",
       "      <td>266500</td>\n",
       "    </tr>\n",
       "    <tr>\n",
       "      <th>1458</th>\n",
       "      <td>1078</td>\n",
       "      <td>1950</td>\n",
       "      <td>142125</td>\n",
       "    </tr>\n",
       "    <tr>\n",
       "      <th>1459</th>\n",
       "      <td>1256</td>\n",
       "      <td>1965</td>\n",
       "      <td>147500</td>\n",
       "    </tr>\n",
       "  </tbody>\n",
       "</table>\n",
       "<p>1460 rows × 3 columns</p>\n",
       "</div>"
      ],
      "text/plain": [
       "      GrLivArea  YearBuilt  SalePrice\n",
       "0          1710       2003     208500\n",
       "1          1262       1976     181500\n",
       "2          1786       2001     223500\n",
       "3          1717       1915     140000\n",
       "4          2198       2000     250000\n",
       "...         ...        ...        ...\n",
       "1455       1647       1999     175000\n",
       "1456       2073       1978     210000\n",
       "1457       2340       1941     266500\n",
       "1458       1078       1950     142125\n",
       "1459       1256       1965     147500\n",
       "\n",
       "[1460 rows x 3 columns]"
      ]
     },
     "execution_count": 2,
     "metadata": {},
     "output_type": "execute_result"
    }
   ],
   "source": [
    "setsumei =train_data.loc[:,['GrLivArea','YearBuilt']]\n",
    "mokuteki =train_data.loc[:,\"SalePrice\"]\n",
    "chi=pd.concat([setsumei,mokuteki],axis=1)\n",
    "\n",
    "chi"
   ]
  },
  {
   "cell_type": "markdown",
   "metadata": {},
   "source": [
    "【問題2】線形回帰による推定と評価"
   ]
  },
  {
   "cell_type": "code",
   "execution_count": 3,
   "metadata": {},
   "outputs": [],
   "source": [
    "from sklearn.model_selection import train_test_split\n",
    "chi_np_sp=train_test_split(chi)"
   ]
  },
  {
   "cell_type": "code",
   "execution_count": 4,
   "metadata": {},
   "outputs": [],
   "source": [
    "# 訓練用データ\n",
    "\n",
    "chi_kunren=chi_np_sp[0]\n",
    "chi_kunren_np=np.array(chi_kunren)\n",
    "chi_kunren_xx=chi_kunren_np[:,0:2]\n",
    "chi_kunren_yy=chi_kunren_np[:,2]"
   ]
  },
  {
   "cell_type": "code",
   "execution_count": 5,
   "metadata": {},
   "outputs": [],
   "source": [
    "# 検証用データ\n",
    "\n",
    "chi_kensyo=chi_np_sp[1]\n",
    "chi_kensyo_np=np.array(chi_kensyo)\n",
    "\n",
    "chi_kensyo_xx=chi_kensyo_np[:,0:2]\n",
    "chi_kensyo_yy=chi_kensyo_np[:,2]"
   ]
  },
  {
   "cell_type": "code",
   "execution_count": 26,
   "metadata": {},
   "outputs": [
    {
     "data": {
      "text/plain": [
       "array([186922.49442882, 260290.57127057, 149123.46432155, 121940.14661621,\n",
       "       141231.4450429 , 240877.56087345, 149123.46432155, 221774.45973602,\n",
       "       252564.76528895, 131663.97233746, 241995.8176434 , 277634.14646864,\n",
       "        57282.29684459, 210894.20444481,  89102.38985644, 210370.25044738,\n",
       "       150206.01336179, 166035.95163166, 189047.68962166, 129013.95810339,\n",
       "       111528.61867081, 103802.81268919, 159645.4455702 , 192506.58470816,\n",
       "       117794.94769153, 283142.95783228, 133206.45512662, 136036.93973738,\n",
       "       218615.61362799, 256015.40012073, 120806.23438063, 259512.46800725,\n",
       "       235226.9852753 , 142482.13910831, 227771.51736738, 143817.97237063,\n",
       "       226155.68739066, 298824.2699989 , 137740.70568296, 119868.77968902,\n",
       "       185358.02764745, 147557.93085585, 206786.64497797, 316331.5934237 ,\n",
       "       115892.25913168, 148988.02861362, 229796.45123983, 119661.06347786,\n",
       "       223690.87203337, 194971.40006546, 117702.08158206, 157297.41204273,\n",
       "       221754.40747194, 189529.60736279, 193775.93265167, 164481.67683316,\n",
       "       294553.4956475 , 176316.97400975, 134575.53104835, 240134.63199768,\n",
       "       120759.8013259 , 203146.41447097, 174955.29329893,  73277.38172717,\n",
       "       150002.69394907,  90587.71426584, 237716.24969512, 114585.80507248,\n",
       "       251870.73453821, 102264.19335631, 183322.36844997, 108732.44340378,\n",
       "       204724.60498984, 179274.96577537, 355121.90648823, 129013.95810339,\n",
       "       148362.41490983, 183264.67672805, 116869.28500928, 260429.87043478,\n",
       "       221723.62988284, 148291.53279258, 218533.47284354, 212289.12781503,\n",
       "       218026.57269772, 148104.40218766, 158261.247525  , 288481.15910045,\n",
       "       127572.06833626,  78250.9804262 , 151289.62908635, 187906.91551733,\n",
       "       156320.38616514, 283693.29262037, 132639.06648692,  48251.96853192,\n",
       "       128302.34015888, 208234.86327168, 243519.31485281, 184379.07004171,\n",
       "       198160.49042043, 259235.80140697, 133925.46828204, 241774.91103691,\n",
       "       152772.48842544,  93293.4884937 , 116031.55829589,  95322.8191646 ,\n",
       "       181072.13117259, 156558.8799654 , 222083.83565354, 103877.55826272,\n",
       "       257275.42112519, 184526.09611848, 229135.12980633, 237577.48387307,\n",
       "       219263.21132399, 207717.771143  , 218170.80200254, 107741.69378868,\n",
       "       167996.33191344, 216714.32345411, 132054.95569726, 127871.25227092,\n",
       "        98298.39812399, 296363.85144005, 193161.04427291, 136277.36526579,\n",
       "       199273.48534812, 280807.58135798, 193371.22555438, 149185.01949976,\n",
       "       217063.80389978, 223136.14044684, 218527.14431696, 210423.0120287 ,\n",
       "       264912.75779578, 163362.88672104, 226734.86803971, 281687.34432766,\n",
       "       197109.25231146, 166572.02934009, 206512.97679016, 164550.09388011,\n",
       "        62151.77076695, 149080.89472309, 182873.16002608,  65449.91603919,\n",
       "       136701.59128499, 103515.42076388, 148773.45053371, 119990.49165946,\n",
       "       173332.60145347, 119404.98248383, 262346.28273213,  41410.32231842,\n",
       "       249883.44012361, 132409.36628355, 178801.84163112, 296527.59966678,\n",
       "       234223.04526488, 245219.21734211, 127172.29137958, 230972.3997317 ,\n",
       "       116721.19224818, 121009.55379335, 191039.38083471, 209917.17856721,\n",
       "       250895.64038875, 182006.58745173, 115195.76331063, 223843.3615929 ,\n",
       "       192630.7617489 , 130189.3732531 , 109899.59829876, 148632.21964137,\n",
       "       139933.78458059, 234854.12245144, 109138.54888705, 153334.08188072,\n",
       "       145964.08487135, 121077.9708403 , 202783.74362997, 153519.81409966,\n",
       "       282336.008708  , 187195.29757282, 206314.05417589, 195665.96415836,\n",
       "       318588.15922767, 149427.91009846, 194306.21517568, 157012.48518774,\n",
       "       202487.55810778,  76447.4865024 , 194113.62108799, 245265.65039684,\n",
       "       228883.44561074, 225322.35747571, 146552.05911729, 128739.75657341,\n",
       "       126533.48728046, 114983.65030103, 271046.64952105, 220065.23030767,\n",
       "       291575.98495997, 232866.82803683, 114425.92030203, 266997.3151183 ,\n",
       "       162503.17601544, 103422.02131225, 182340.94577393, 133056.96397955,\n",
       "       217545.72164091, 229259.30684707, 247498.30048046, 280253.38311362,\n",
       "       236390.27671401, 265966.99431722, 245663.49562539, 235183.01729087,\n",
       "       306494.8493289 , 269293.98545043, 133547.67531757, 158375.56428453,\n",
       "       219305.24758028, 196803.73985022, 281993.39013107,  96669.37775194,\n",
       "       329225.52392017, 177439.62757814, 160113.63957384,  60502.69813083,\n",
       "       239624.40173774, 200034.00141767, 148178.61441903, 176367.80386293,\n",
       "       241452.34472406, 235554.48172876, 232866.82803683, 156201.139265  ,\n",
       "       319978.68579945, 223246.59375008, 190798.42196414,  86317.4732566 ,\n",
       "       131288.6444433 , 152518.33915954, 312792.48928089, 152197.70457483,\n",
       "        91719.69477328, 223034.48074048, 203842.37694985, 145203.5688018 ,\n",
       "       110323.82431797, 128794.98322504, 113515.37974325, 306689.37514473,\n",
       "        90486.05455948, 132103.85382231, 288094.03919692, 302575.48715132,\n",
       "       210297.43660198, 163150.77371144, 226692.83178342, 177765.19230346,\n",
       "       270600.43950962, 136918.63443521, 243269.56238535, 127957.25651165,\n",
       "       168354.605956  , 227610.23421095, 171634.63069231, 216002.70550959,\n",
       "       147743.6630748 , 142416.18713166, 201932.82652125, 104229.5037787 ,\n",
       "       278902.96106999, 238503.67989749, 240767.10757021,  79473.36197281,\n",
       "       305136.4987322 , 197458.73275713, 233284.19218729,  93419.59726258,\n",
       "       162717.75409535, 105157.63153126, 130055.0042295 , 258104.3542417 ,\n",
       "       125211.37775563, 218537.86964198, 224126.35671976, 111787.16473515,\n",
       "       100170.8424369 , 212538.88028249, 200732.42896685, 114459.6963036 ,\n",
       "       224928.37570344, 178540.83049648, 175259.73907584, 157431.78106634,\n",
       "       213557.94241638, 156307.19576981, 108471.43226913, 135130.79597704,\n",
       "       185475.34281944, 195676.68948339, 205045.23957455, 116911.32126557,\n",
       "       153789.08548903, 139226.56343452, 199321.850131  , 180304.75323429,\n",
       "       160856.56844962, 203062.34195838,  83058.89917035, 190570.6534889 ,\n",
       "       144746.10012319, 264490.46350472, 222653.15602137, 181962.61946729,\n",
       "       118401.0424734 , 210328.21419109, 121009.55379335, 195077.98991242,\n",
       "       334595.03611961,  74415.6907612 , 112447.95282648, 158055.46304198,\n",
       "       231588.15315427, 203926.44946243, 235649.81290853, 269340.41850516,\n",
       "       204174.27020175, 196321.82210908,  63898.10631099, 242551.0825721 ,\n",
       "       215943.08205953, 108471.43226913, 197898.08089981, 136335.05698771,\n",
       "       128449.89957781, 117841.91408843, 116378.57367125, 210982.67375584,\n",
       "       149591.12498303, 125063.8183367 , 112713.36075957, 119267.08170559,\n",
       "       142637.09373815, 259225.07608195, 253278.84830377, 210297.43660198,\n",
       "       215741.69437495, 141264.6877023 , 246580.89805293,  67233.89104108,\n",
       "       204267.13631122, 307124.85983113, 190457.20177319, 171929.41782852,\n",
       "       148647.875107  , 128202.07883849, 314335.50541221,  79623.9198042 ,\n",
       "       138207.50130063])"
      ]
     },
     "execution_count": 26,
     "metadata": {},
     "output_type": "execute_result"
    }
   ],
   "source": [
    "#　線形回帰による学習\n",
    "\n",
    "from sklearn.linear_model import LinearRegression\n",
    "\n",
    "reg = LinearRegression()\n",
    "reg.fit(chi_kunren_xx,chi_kunren_yy)\n",
    "y_pred=reg.predict(chi_kensyo_xx)\n",
    "y_pred"
   ]
  },
  {
   "cell_type": "code",
   "execution_count": 27,
   "metadata": {},
   "outputs": [
    {
     "data": {
      "text/plain": [
       "1876664363.8925722"
      ]
     },
     "execution_count": 27,
     "metadata": {},
     "output_type": "execute_result"
    }
   ],
   "source": [
    "#　評価\n",
    "\n",
    "from sklearn.metrics import mean_squared_error\n",
    "mean_squared_error(chi_kensyo_yy, y_pred)\n"
   ]
  },
  {
   "cell_type": "code",
   "execution_count": 39,
   "metadata": {},
   "outputs": [
    {
     "data": {
      "image/png": "[encoded data removed]",
      "text/plain": [
       "<Figure size 432x288 with 1 Axes>"
      ]
     },
     "metadata": {
      "needs_background": "light"
     },
     "output_type": "display_data"
    }
   ],
   "source": [
    "#　可視化\n",
    "\n",
    "import matplotlib.pyplot as plt\n",
    "%matplotlib inline\n",
    "\n",
    "x1 = np.arange(0,500000,100000)\n",
    "y1=x1\n",
    "\n",
    "plt.scatter(chi_kensyo_yy,y_pred)\n",
    "plt.plot(x1,y1,color=\"red\")\n",
    "plt.show()"
   ]
  },
  {
   "cell_type": "markdown",
   "metadata": {},
   "source": [
    "【問題3】手法の比較"
   ]
  },
  {
   "cell_type": "markdown",
   "metadata": {},
   "source": [
    "＜SVM＞"
   ]
  },
  {
   "cell_type": "code",
   "execution_count": 68,
   "metadata": {},
   "outputs": [],
   "source": [
    "from sklearn.svm import SVR\n",
    "from sklearn.pipeline import make_pipeline\n",
    "from sklearn.preprocessing import StandardScaler\n",
    "\n",
    "#　標準化\n",
    "chi_kunren_xx=chi_kunren_xx.astype(np.float64)\n",
    "\n",
    "scaler = StandardScaler()\n",
    "scaler.fit(chi_kunren_xx)\n",
    "chi_kunren_xx_std=scaler.transform(chi_kunren_xx)\n",
    "\n",
    "chi_kensyo_xx=chi_kensyo_xx.astype(np.float64)\n",
    "\n",
    "scaler = StandardScaler()\n",
    "scaler.fit(chi_kensyo_xx)\n",
    "chi_kensyo_xx_std=scaler.transform(chi_kensyo_xx)\n",
    "\n",
    "\n",
    "#　学習\n",
    "regr = make_pipeline(StandardScaler(), SVR(C=1.0, epsilon=0.2))\n",
    "regr.fit(chi_kunren_xx_std,chi_kunren_yy)\n",
    "\n",
    "y_pred=regr.predict(chi_kensyo_xx_std)"
   ]
  },
  {
   "cell_type": "code",
   "execution_count": 70,
   "metadata": {},
   "outputs": [
    {
     "data": {
      "text/plain": [
       "5844177267.376383"
      ]
     },
     "execution_count": 70,
     "metadata": {},
     "output_type": "execute_result"
    }
   ],
   "source": [
    "#　評価\n",
    "\n",
    "from sklearn.metrics import mean_squared_error\n",
    "mean_squared_error(chi_kensyo_yy, y_pred)"
   ]
  },
  {
   "cell_type": "code",
   "execution_count": 94,
   "metadata": {},
   "outputs": [
    {
     "data": {
      "image/png": "[encoded data removed]",
      "text/plain": [
       "<Figure size 432x288 with 1 Axes>"
      ]
     },
     "metadata": {
      "needs_background": "light"
     },
     "output_type": "display_data"
    }
   ],
   "source": [
    "#　可視化\n",
    "\n",
    "import matplotlib.pyplot as plt\n",
    "%matplotlib inline\n",
    "\n",
    "plt.scatter(chi_kensyo_yy1_std,y_pred)\n",
    "plt.show()"
   ]
  },
  {
   "cell_type": "markdown",
   "metadata": {},
   "source": [
    "＜決定木＞"
   ]
  },
  {
   "cell_type": "code",
   "execution_count": 100,
   "metadata": {},
   "outputs": [],
   "source": [
    "from sklearn.datasets import load_diabetes\n",
    "from sklearn.model_selection import cross_val_score\n",
    "from sklearn.tree import DecisionTreeRegressor\n",
    "\n",
    "regressor = DecisionTreeRegressor(random_state=0)\n",
    "regressor.fit(chi_kunren_xx,chi_kunren_yy)\n",
    "\n",
    "y_pred_tree=regressor.predict(chi_kensyo_xx)"
   ]
  },
  {
   "cell_type": "code",
   "execution_count": 101,
   "metadata": {},
   "outputs": [
    {
     "data": {
      "text/plain": [
       "2556411766.6907153"
      ]
     },
     "execution_count": 101,
     "metadata": {},
     "output_type": "execute_result"
    }
   ],
   "source": [
    "#　評価\n",
    "\n",
    "from sklearn.metrics import mean_squared_error\n",
    "mean_squared_error(chi_kensyo_yy, y_pred_tree)"
   ]
  },
  {
   "cell_type": "code",
   "execution_count": 102,
   "metadata": {},
   "outputs": [
    {
     "data": {
      "image/png": "[encoded data removed]",
      "text/plain": [
       "<Figure size 432x288 with 1 Axes>"
      ]
     },
     "metadata": {
      "needs_background": "light"
     },
     "output_type": "display_data"
    }
   ],
   "source": [
    "#　可視化\n",
    "\n",
    "import matplotlib.pyplot as plt\n",
    "%matplotlib inline\n",
    "\n",
    "plt.scatter(chi_kensyo_yy,y_pred_tree)\n",
    "plt.show()"
   ]
  },
  {
   "cell_type": "markdown",
   "metadata": {},
   "source": [
    "＜ランダムフォレスト＞"
   ]
  },
  {
   "cell_type": "code",
   "execution_count": 106,
   "metadata": {},
   "outputs": [],
   "source": [
    "from sklearn.ensemble import RandomForestRegressor\n",
    "from sklearn.datasets import make_regression\n",
    "\n",
    "regr = RandomForestRegressor(max_depth=2, random_state=0)\n",
    "regr.fit(chi_kunren_xx,chi_kunren_yy)\n",
    "\n",
    "y_pred_random=regr.predict(chi_kensyo_xx)"
   ]
  },
  {
   "cell_type": "code",
   "execution_count": 107,
   "metadata": {},
   "outputs": [
    {
     "data": {
      "text/plain": [
       "2097523162.6077576"
      ]
     },
     "execution_count": 107,
     "metadata": {},
     "output_type": "execute_result"
    }
   ],
   "source": [
    "#　評価\n",
    "\n",
    "from sklearn.metrics import mean_squared_error\n",
    "mean_squared_error(chi_kensyo_yy, y_pred_random)"
   ]
  },
  {
   "cell_type": "code",
   "execution_count": 108,
   "metadata": {},
   "outputs": [
    {
     "data": {
      "image/png": "[encoded data removed]",
      "text/plain": [
       "<Figure size 432x288 with 1 Axes>"
      ]
     },
     "metadata": {
      "needs_background": "light"
     },
     "output_type": "display_data"
    }
   ],
   "source": [
    "#　可視化\n",
    "\n",
    "import matplotlib.pyplot as plt\n",
    "%matplotlib inline\n",
    "\n",
    "plt.scatter(chi_kensyo_yy,y_pred_random)\n",
    "plt.show()"
   ]
  },
  {
   "cell_type": "code",
   "execution_count": 113,
   "metadata": {},
   "outputs": [
    {
     "data": {
      "text/html": [
       "<div>\n",
       "<style scoped>\n",
       "    .dataframe tbody tr th:only-of-type {\n",
       "        vertical-align: middle;\n",
       "    }\n",
       "\n",
       "    .dataframe tbody tr th {\n",
       "        vertical-align: top;\n",
       "    }\n",
       "\n",
       "    .dataframe thead th {\n",
       "        text-align: right;\n",
       "    }\n",
       "</style>\n",
       "<table border=\"1\" class=\"dataframe\">\n",
       "  <thead>\n",
       "    <tr style=\"text-align: right;\">\n",
       "      <th></th>\n",
       "      <th>MSE</th>\n",
       "    </tr>\n",
       "  </thead>\n",
       "  <tbody>\n",
       "    <tr>\n",
       "      <th>線形回帰</th>\n",
       "      <td>1.876664e+09</td>\n",
       "    </tr>\n",
       "    <tr>\n",
       "      <th>SVM</th>\n",
       "      <td>5.844177e+09</td>\n",
       "    </tr>\n",
       "    <tr>\n",
       "      <th>決定木</th>\n",
       "      <td>2.556412e+09</td>\n",
       "    </tr>\n",
       "    <tr>\n",
       "      <th>ランダムフォレスト</th>\n",
       "      <td>2.097523e+09</td>\n",
       "    </tr>\n",
       "  </tbody>\n",
       "</table>\n",
       "</div>"
      ],
      "text/plain": [
       "                    MSE\n",
       "線形回帰       1.876664e+09\n",
       "SVM        5.844177e+09\n",
       "決定木        2.556412e+09\n",
       "ランダムフォレスト  2.097523e+09"
      ]
     },
     "execution_count": 113,
     "metadata": {},
     "output_type": "execute_result"
    }
   ],
   "source": [
    "# 指標表\n",
    "\n",
    "import pandas as pd\n",
    "shihyo2=[1876664363.8925722,5844177267.376383,2556411766.6907153,2097523162.6077576]\n",
    "'MSE'\n",
    "pd.DataFrame(shihyo2,columns=[\"MSE\"],index=[\"線形回帰\",\"SVM\",\"決定木\",\"ランダムフォレスト\"])"
   ]
  },
  {
   "cell_type": "markdown",
   "metadata": {},
   "source": [
    "結果を簡単に考察\n",
    "\n",
    "MSEと散布図で比べた結果、線形回帰が最も良い分析となった。\n",
    "SVMは４つの中で比較すると、かなり悪いものである結果となった。"
   ]
  },
  {
   "cell_type": "markdown",
   "metadata": {},
   "source": [
    "【問題4】（アドバンス課題）他の特徴量も使用しての学習"
   ]
  },
  {
   "cell_type": "markdown",
   "metadata": {},
   "source": [
    "追加の特徴量として「LotArea」を加えて線形回帰分析を行う"
   ]
  },
  {
   "cell_type": "code",
   "execution_count": 114,
   "metadata": {},
   "outputs": [
    {
     "data": {
      "text/html": [
       "<div>\n",
       "<style scoped>\n",
       "    .dataframe tbody tr th:only-of-type {\n",
       "        vertical-align: middle;\n",
       "    }\n",
       "\n",
       "    .dataframe tbody tr th {\n",
       "        vertical-align: top;\n",
       "    }\n",
       "\n",
       "    .dataframe thead th {\n",
       "        text-align: right;\n",
       "    }\n",
       "</style>\n",
       "<table border=\"1\" class=\"dataframe\">\n",
       "  <thead>\n",
       "    <tr style=\"text-align: right;\">\n",
       "      <th></th>\n",
       "      <th>GrLivArea</th>\n",
       "      <th>YearBuilt</th>\n",
       "      <th>LotArea</th>\n",
       "      <th>SalePrice</th>\n",
       "    </tr>\n",
       "  </thead>\n",
       "  <tbody>\n",
       "    <tr>\n",
       "      <th>0</th>\n",
       "      <td>1710</td>\n",
       "      <td>2003</td>\n",
       "      <td>8450</td>\n",
       "      <td>208500</td>\n",
       "    </tr>\n",
       "    <tr>\n",
       "      <th>1</th>\n",
       "      <td>1262</td>\n",
       "      <td>1976</td>\n",
       "      <td>9600</td>\n",
       "      <td>181500</td>\n",
       "    </tr>\n",
       "    <tr>\n",
       "      <th>2</th>\n",
       "      <td>1786</td>\n",
       "      <td>2001</td>\n",
       "      <td>11250</td>\n",
       "      <td>223500</td>\n",
       "    </tr>\n",
       "    <tr>\n",
       "      <th>3</th>\n",
       "      <td>1717</td>\n",
       "      <td>1915</td>\n",
       "      <td>9550</td>\n",
       "      <td>140000</td>\n",
       "    </tr>\n",
       "    <tr>\n",
       "      <th>4</th>\n",
       "      <td>2198</td>\n",
       "      <td>2000</td>\n",
       "      <td>14260</td>\n",
       "      <td>250000</td>\n",
       "    </tr>\n",
       "    <tr>\n",
       "      <th>...</th>\n",
       "      <td>...</td>\n",
       "      <td>...</td>\n",
       "      <td>...</td>\n",
       "      <td>...</td>\n",
       "    </tr>\n",
       "    <tr>\n",
       "      <th>1455</th>\n",
       "      <td>1647</td>\n",
       "      <td>1999</td>\n",
       "      <td>7917</td>\n",
       "      <td>175000</td>\n",
       "    </tr>\n",
       "    <tr>\n",
       "      <th>1456</th>\n",
       "      <td>2073</td>\n",
       "      <td>1978</td>\n",
       "      <td>13175</td>\n",
       "      <td>210000</td>\n",
       "    </tr>\n",
       "    <tr>\n",
       "      <th>1457</th>\n",
       "      <td>2340</td>\n",
       "      <td>1941</td>\n",
       "      <td>9042</td>\n",
       "      <td>266500</td>\n",
       "    </tr>\n",
       "    <tr>\n",
       "      <th>1458</th>\n",
       "      <td>1078</td>\n",
       "      <td>1950</td>\n",
       "      <td>9717</td>\n",
       "      <td>142125</td>\n",
       "    </tr>\n",
       "    <tr>\n",
       "      <th>1459</th>\n",
       "      <td>1256</td>\n",
       "      <td>1965</td>\n",
       "      <td>9937</td>\n",
       "      <td>147500</td>\n",
       "    </tr>\n",
       "  </tbody>\n",
       "</table>\n",
       "<p>1460 rows × 4 columns</p>\n",
       "</div>"
      ],
      "text/plain": [
       "      GrLivArea  YearBuilt  LotArea  SalePrice\n",
       "0          1710       2003     8450     208500\n",
       "1          1262       1976     9600     181500\n",
       "2          1786       2001    11250     223500\n",
       "3          1717       1915     9550     140000\n",
       "4          2198       2000    14260     250000\n",
       "...         ...        ...      ...        ...\n",
       "1455       1647       1999     7917     175000\n",
       "1456       2073       1978    13175     210000\n",
       "1457       2340       1941     9042     266500\n",
       "1458       1078       1950     9717     142125\n",
       "1459       1256       1965     9937     147500\n",
       "\n",
       "[1460 rows x 4 columns]"
      ]
     },
     "execution_count": 114,
     "metadata": {},
     "output_type": "execute_result"
    }
   ],
   "source": [
    "# 「LotArea」を加える\n",
    "\n",
    "setsumei2 =train_data.loc[:,['GrLivArea','YearBuilt','LotArea']]\n",
    "mokuteki2 =train_data.loc[:,\"SalePrice\"]\n",
    "chi2=pd.concat([setsumei2,mokuteki2],axis=1)\n",
    "\n",
    "chi2"
   ]
  },
  {
   "cell_type": "code",
   "execution_count": 115,
   "metadata": {},
   "outputs": [],
   "source": [
    "from sklearn.model_selection import train_test_split\n",
    "chi2_np_sp=train_test_split(chi2)"
   ]
  },
  {
   "cell_type": "code",
   "execution_count": 116,
   "metadata": {},
   "outputs": [],
   "source": [
    "# 訓練用データ\n",
    "\n",
    "chi2_kunren=chi2_np_sp[0]\n",
    "chi2_kunren_np=np.array(chi2_kunren)\n",
    "chi2_kunren_xx=chi2_kunren_np[:,0:2]\n",
    "chi2_kunren_yy=chi2_kunren_np[:,2]"
   ]
  },
  {
   "cell_type": "code",
   "execution_count": 117,
   "metadata": {},
   "outputs": [],
   "source": [
    "# 検証用データ\n",
    "\n",
    "chi2_kensyo=chi2_np_sp[1]\n",
    "chi2_kensyo_np=np.array(chi2_kensyo)\n",
    "\n",
    "chi2_kensyo_xx=chi2_kensyo_np[:,0:2]\n",
    "chi2_kensyo_yy=chi2_kensyo_np[:,2]"
   ]
  },
  {
   "cell_type": "code",
   "execution_count": 119,
   "metadata": {},
   "outputs": [],
   "source": [
    "#　線形回帰による学習\n",
    "\n",
    "from sklearn.linear_model import LinearRegression\n",
    "\n",
    "reg = LinearRegression()\n",
    "reg.fit(chi2_kunren_xx,chi2_kunren_yy)\n",
    "y_pred=reg.predict(chi2_kensyo_xx)"
   ]
  },
  {
   "cell_type": "code",
   "execution_count": 121,
   "metadata": {},
   "outputs": [
    {
     "data": {
      "text/plain": [
       "165634704.88755912"
      ]
     },
     "execution_count": 121,
     "metadata": {},
     "output_type": "execute_result"
    }
   ],
   "source": [
    "#　評価\n",
    "\n",
    "from sklearn.metrics import mean_squared_error\n",
    "mean_squared_error(chi2_kensyo_yy, y_pred)"
   ]
  },
  {
   "cell_type": "code",
   "execution_count": 130,
   "metadata": {},
   "outputs": [
    {
     "data": {
      "image/png": "[encoded data removed]",
      "text/plain": [
       "<Figure size 432x288 with 1 Axes>"
      ]
     },
     "metadata": {
      "needs_background": "light"
     },
     "output_type": "display_data"
    }
   ],
   "source": [
    "#　可視化\n",
    "\n",
    "import matplotlib.pyplot as plt\n",
    "%matplotlib inline\n",
    "\n",
    "x1 = np.arange(0,30000,5000)\n",
    "y1=x1\n",
    "\n",
    "plt.scatter(chi2_kensyo_yy,y_pred)\n",
    "plt.xlim([0,25000])\n",
    "plt.ylim([0,25000])\n",
    "plt.plot(x1,y1,color=\"red\")\n",
    "plt.show()"
   ]
  },
  {
   "cell_type": "markdown",
   "metadata": {},
   "source": [
    "＜検証　考察＞\n",
    "\n",
    "特徴量に「LotArea」を入れたが、MESを見ると、少し精度が上昇したようであった。\n",
    "\n",
    "作図を見ると、視覚からも少し上昇したように思える。\n",
    "\n",
    "説明変数としてこれよりも良い変数もまだあるかと思われる。\n",
    "今後の課題として、よりより説明変数を探索していきたい。"
   ]
  },
  {
   "cell_type": "code",
   "execution_count": null,
   "metadata": {},
   "outputs": [],
   "source": []
  }
 ],
 "metadata": {
  "kernelspec": {
   "display_name": "Python 3",
   "language": "python",
   "name": "python3"
  },
  "language_info": {
   "codemirror_mode": {
    "name": "ipython",
    "version": 3
   },
   "file_extension": ".py",
   "mimetype": "text/x-python",
   "name": "python",
   "nbconvert_exporter": "python",
   "pygments_lexer": "ipython3",
   "version": "3.7.2"
  }
 },
 "nbformat": 4,
 "nbformat_minor": 2
}
