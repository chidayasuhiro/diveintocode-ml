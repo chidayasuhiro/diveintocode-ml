{
 "cells": [
  {
   "cell_type": "markdown",
   "metadata": {},
   "source": [
    "アヤメの二値分類"
   ]
  },
  {
   "cell_type": "code",
   "execution_count": 3,
   "metadata": {},
   "outputs": [],
   "source": [
    "# データを取り込む\n",
    "\n",
    "from sklearn.datasets import load_iris\n",
    "iris = load_iris()\n",
    "\n",
    "import pandas as pd\n",
    "data1=pd.DataFrame(iris.data,columns=iris.feature_names)"
   ]
  },
  {
   "cell_type": "code",
   "execution_count": 4,
   "metadata": {},
   "outputs": [],
   "source": [
    "data2=pd.DataFrame(iris.target,columns=[\"Species\"])"
   ]
  },
  {
   "cell_type": "code",
   "execution_count": 5,
   "metadata": {},
   "outputs": [],
   "source": [
    "df=pd.concat([data1, data2], axis=1)"
   ]
  },
  {
   "cell_type": "code",
   "execution_count": 6,
   "metadata": {},
   "outputs": [
    {
     "data": {
      "text/html": [
       "<div>\n",
       "<style scoped>\n",
       "    .dataframe tbody tr th:only-of-type {\n",
       "        vertical-align: middle;\n",
       "    }\n",
       "\n",
       "    .dataframe tbody tr th {\n",
       "        vertical-align: top;\n",
       "    }\n",
       "\n",
       "    .dataframe thead th {\n",
       "        text-align: right;\n",
       "    }\n",
       "</style>\n",
       "<table border=\"1\" class=\"dataframe\">\n",
       "  <thead>\n",
       "    <tr style=\"text-align: right;\">\n",
       "      <th></th>\n",
       "      <th>sepal length (cm)</th>\n",
       "      <th>sepal width (cm)</th>\n",
       "      <th>petal length (cm)</th>\n",
       "      <th>petal width (cm)</th>\n",
       "      <th>Species</th>\n",
       "    </tr>\n",
       "  </thead>\n",
       "  <tbody>\n",
       "    <tr>\n",
       "      <th>0</th>\n",
       "      <td>5.1</td>\n",
       "      <td>3.5</td>\n",
       "      <td>1.4</td>\n",
       "      <td>0.2</td>\n",
       "      <td>0</td>\n",
       "    </tr>\n",
       "    <tr>\n",
       "      <th>1</th>\n",
       "      <td>4.9</td>\n",
       "      <td>3.0</td>\n",
       "      <td>1.4</td>\n",
       "      <td>0.2</td>\n",
       "      <td>0</td>\n",
       "    </tr>\n",
       "    <tr>\n",
       "      <th>2</th>\n",
       "      <td>4.7</td>\n",
       "      <td>3.2</td>\n",
       "      <td>1.3</td>\n",
       "      <td>0.2</td>\n",
       "      <td>0</td>\n",
       "    </tr>\n",
       "    <tr>\n",
       "      <th>3</th>\n",
       "      <td>4.6</td>\n",
       "      <td>3.1</td>\n",
       "      <td>1.5</td>\n",
       "      <td>0.2</td>\n",
       "      <td>0</td>\n",
       "    </tr>\n",
       "    <tr>\n",
       "      <th>4</th>\n",
       "      <td>5.0</td>\n",
       "      <td>3.6</td>\n",
       "      <td>1.4</td>\n",
       "      <td>0.2</td>\n",
       "      <td>0</td>\n",
       "    </tr>\n",
       "    <tr>\n",
       "      <th>...</th>\n",
       "      <td>...</td>\n",
       "      <td>...</td>\n",
       "      <td>...</td>\n",
       "      <td>...</td>\n",
       "      <td>...</td>\n",
       "    </tr>\n",
       "    <tr>\n",
       "      <th>145</th>\n",
       "      <td>6.7</td>\n",
       "      <td>3.0</td>\n",
       "      <td>5.2</td>\n",
       "      <td>2.3</td>\n",
       "      <td>2</td>\n",
       "    </tr>\n",
       "    <tr>\n",
       "      <th>146</th>\n",
       "      <td>6.3</td>\n",
       "      <td>2.5</td>\n",
       "      <td>5.0</td>\n",
       "      <td>1.9</td>\n",
       "      <td>2</td>\n",
       "    </tr>\n",
       "    <tr>\n",
       "      <th>147</th>\n",
       "      <td>6.5</td>\n",
       "      <td>3.0</td>\n",
       "      <td>5.2</td>\n",
       "      <td>2.0</td>\n",
       "      <td>2</td>\n",
       "    </tr>\n",
       "    <tr>\n",
       "      <th>148</th>\n",
       "      <td>6.2</td>\n",
       "      <td>3.4</td>\n",
       "      <td>5.4</td>\n",
       "      <td>2.3</td>\n",
       "      <td>2</td>\n",
       "    </tr>\n",
       "    <tr>\n",
       "      <th>149</th>\n",
       "      <td>5.9</td>\n",
       "      <td>3.0</td>\n",
       "      <td>5.1</td>\n",
       "      <td>1.8</td>\n",
       "      <td>2</td>\n",
       "    </tr>\n",
       "  </tbody>\n",
       "</table>\n",
       "<p>150 rows × 5 columns</p>\n",
       "</div>"
      ],
      "text/plain": [
       "     sepal length (cm)  sepal width (cm)  petal length (cm)  petal width (cm)  \\\n",
       "0                  5.1               3.5                1.4               0.2   \n",
       "1                  4.9               3.0                1.4               0.2   \n",
       "2                  4.7               3.2                1.3               0.2   \n",
       "3                  4.6               3.1                1.5               0.2   \n",
       "4                  5.0               3.6                1.4               0.2   \n",
       "..                 ...               ...                ...               ...   \n",
       "145                6.7               3.0                5.2               2.3   \n",
       "146                6.3               2.5                5.0               1.9   \n",
       "147                6.5               3.0                5.2               2.0   \n",
       "148                6.2               3.4                5.4               2.3   \n",
       "149                5.9               3.0                5.1               1.8   \n",
       "\n",
       "     Species  \n",
       "0          0  \n",
       "1          0  \n",
       "2          0  \n",
       "3          0  \n",
       "4          0  \n",
       "..       ...  \n",
       "145        2  \n",
       "146        2  \n",
       "147        2  \n",
       "148        2  \n",
       "149        2  \n",
       "\n",
       "[150 rows x 5 columns]"
      ]
     },
     "execution_count": 6,
     "metadata": {},
     "output_type": "execute_result"
    }
   ],
   "source": [
    "df"
   ]
  },
  {
   "cell_type": "markdown",
   "metadata": {},
   "source": [
    "【課題1】練習のために特徴量とカテゴリを選択"
   ]
  },
  {
   "cell_type": "code",
   "execution_count": 7,
   "metadata": {},
   "outputs": [
    {
     "data": {
      "text/html": [
       "<div>\n",
       "<style scoped>\n",
       "    .dataframe tbody tr th:only-of-type {\n",
       "        vertical-align: middle;\n",
       "    }\n",
       "\n",
       "    .dataframe tbody tr th {\n",
       "        vertical-align: top;\n",
       "    }\n",
       "\n",
       "    .dataframe thead th {\n",
       "        text-align: right;\n",
       "    }\n",
       "</style>\n",
       "<table border=\"1\" class=\"dataframe\">\n",
       "  <thead>\n",
       "    <tr style=\"text-align: right;\">\n",
       "      <th></th>\n",
       "      <th>sepal length (cm)</th>\n",
       "      <th>petal length (cm)</th>\n",
       "      <th>Species</th>\n",
       "    </tr>\n",
       "  </thead>\n",
       "  <tbody>\n",
       "    <tr>\n",
       "      <th>50</th>\n",
       "      <td>7.0</td>\n",
       "      <td>4.7</td>\n",
       "      <td>1</td>\n",
       "    </tr>\n",
       "    <tr>\n",
       "      <th>51</th>\n",
       "      <td>6.4</td>\n",
       "      <td>4.5</td>\n",
       "      <td>1</td>\n",
       "    </tr>\n",
       "    <tr>\n",
       "      <th>52</th>\n",
       "      <td>6.9</td>\n",
       "      <td>4.9</td>\n",
       "      <td>1</td>\n",
       "    </tr>\n",
       "    <tr>\n",
       "      <th>53</th>\n",
       "      <td>5.5</td>\n",
       "      <td>4.0</td>\n",
       "      <td>1</td>\n",
       "    </tr>\n",
       "    <tr>\n",
       "      <th>54</th>\n",
       "      <td>6.5</td>\n",
       "      <td>4.6</td>\n",
       "      <td>1</td>\n",
       "    </tr>\n",
       "    <tr>\n",
       "      <th>...</th>\n",
       "      <td>...</td>\n",
       "      <td>...</td>\n",
       "      <td>...</td>\n",
       "    </tr>\n",
       "    <tr>\n",
       "      <th>144</th>\n",
       "      <td>6.7</td>\n",
       "      <td>5.7</td>\n",
       "      <td>2</td>\n",
       "    </tr>\n",
       "    <tr>\n",
       "      <th>145</th>\n",
       "      <td>6.7</td>\n",
       "      <td>5.2</td>\n",
       "      <td>2</td>\n",
       "    </tr>\n",
       "    <tr>\n",
       "      <th>146</th>\n",
       "      <td>6.3</td>\n",
       "      <td>5.0</td>\n",
       "      <td>2</td>\n",
       "    </tr>\n",
       "    <tr>\n",
       "      <th>147</th>\n",
       "      <td>6.5</td>\n",
       "      <td>5.2</td>\n",
       "      <td>2</td>\n",
       "    </tr>\n",
       "    <tr>\n",
       "      <th>148</th>\n",
       "      <td>6.2</td>\n",
       "      <td>5.4</td>\n",
       "      <td>2</td>\n",
       "    </tr>\n",
       "  </tbody>\n",
       "</table>\n",
       "<p>99 rows × 3 columns</p>\n",
       "</div>"
      ],
      "text/plain": [
       "     sepal length (cm)  petal length (cm)  Species\n",
       "50                 7.0                4.7        1\n",
       "51                 6.4                4.5        1\n",
       "52                 6.9                4.9        1\n",
       "53                 5.5                4.0        1\n",
       "54                 6.5                4.6        1\n",
       "..                 ...                ...      ...\n",
       "144                6.7                5.7        2\n",
       "145                6.7                5.2        2\n",
       "146                6.3                5.0        2\n",
       "147                6.5                5.2        2\n",
       "148                6.2                5.4        2\n",
       "\n",
       "[99 rows x 3 columns]"
      ]
     },
     "execution_count": 7,
     "metadata": {},
     "output_type": "execute_result"
    }
   ],
   "source": [
    "# データフレームから抜き出し\n",
    "\n",
    "df1=df[50:149]\n",
    "df2=df1[[\"sepal length (cm)\",\"petal length (cm)\",\"Species\"]]\n",
    "\n",
    "df2"
   ]
  },
  {
   "cell_type": "markdown",
   "metadata": {},
   "source": [
    "【問題2】データの分析"
   ]
  },
  {
   "cell_type": "code",
   "execution_count": 9,
   "metadata": {},
   "outputs": [
    {
     "data": {
      "image/png": "[encoded data removed]",
      "text/plain": [
       "<Figure size 432x288 with 1 Axes>"
      ]
     },
     "metadata": {
      "needs_background": "light"
     },
     "output_type": "display_data"
    }
   ],
   "source": [
    "# 散布図と箱ひげ図（boxplot）、バイオリン図（violinplot）を表示\n",
    "\n",
    "import matplotlib.pyplot as plt\n",
    "df_sp=df[\"sepal length (cm)\"]\n",
    "df_pl=df[\"petal length (cm)\"]\n",
    "plt.scatter(df[\"sepal length (cm)\"],df[\"petal length (cm)\"])\n",
    "plt.show()"
   ]
  },
  {
   "cell_type": "code",
   "execution_count": 23,
   "metadata": {},
   "outputs": [
    {
     "data": {
      "image/png": "[encoded data removed]",
      "text/plain": [
       "<Figure size 432x288 with 1 Axes>"
      ]
     },
     "metadata": {
      "needs_background": "light"
     },
     "output_type": "display_data"
    }
   ],
   "source": [
    "df2.plot.box()\n",
    "plt.show()"
   ]
  },
  {
   "cell_type": "code",
   "execution_count": 28,
   "metadata": {},
   "outputs": [
    {
     "data": {
      "image/png": "[encoded data removed]",
      "text/plain": [
       "<Figure size 432x288 with 1 Axes>"
      ]
     },
     "metadata": {
      "needs_background": "light"
     },
     "output_type": "display_data"
    }
   ],
   "source": [
    "plt.violinplot(df_sp)\n",
    "plt.show()"
   ]
  },
  {
   "cell_type": "code",
   "execution_count": 29,
   "metadata": {},
   "outputs": [
    {
     "data": {
      "image/png": "[encoded data removed]",
      "text/plain": [
       "<Figure size 432x288 with 1 Axes>"
      ]
     },
     "metadata": {
      "needs_background": "light"
     },
     "output_type": "display_data"
    }
   ],
   "source": [
    "plt.violinplot(df_pl)\n",
    "plt.show()"
   ]
  },
  {
   "cell_type": "markdown",
   "metadata": {},
   "source": [
    "【問題3】前処理・訓練データと検証データの分割"
   ]
  },
  {
   "cell_type": "code",
   "execution_count": 68,
   "metadata": {},
   "outputs": [
    {
     "data": {
      "text/plain": [
       "array([[7. , 4.7, 1. ],\n",
       "       [6.4, 4.5, 1. ],\n",
       "       [6.9, 4.9, 1. ],\n",
       "       [5.5, 4. , 1. ],\n",
       "       [6.5, 4.6, 1. ],\n",
       "       [5.7, 4.5, 1. ],\n",
       "       [6.3, 4.7, 1. ],\n",
       "       [4.9, 3.3, 1. ],\n",
       "       [6.6, 4.6, 1. ],\n",
       "       [5.2, 3.9, 1. ],\n",
       "       [5. , 3.5, 1. ],\n",
       "       [5.9, 4.2, 1. ],\n",
       "       [6. , 4. , 1. ],\n",
       "       [6.1, 4.7, 1. ],\n",
       "       [5.6, 3.6, 1. ],\n",
       "       [6.7, 4.4, 1. ],\n",
       "       [5.6, 4.5, 1. ],\n",
       "       [5.8, 4.1, 1. ],\n",
       "       [6.2, 4.5, 1. ],\n",
       "       [5.6, 3.9, 1. ],\n",
       "       [5.9, 4.8, 1. ],\n",
       "       [6.1, 4. , 1. ],\n",
       "       [6.3, 4.9, 1. ],\n",
       "       [6.1, 4.7, 1. ],\n",
       "       [6.4, 4.3, 1. ],\n",
       "       [6.6, 4.4, 1. ],\n",
       "       [6.8, 4.8, 1. ],\n",
       "       [6.7, 5. , 1. ],\n",
       "       [6. , 4.5, 1. ],\n",
       "       [5.7, 3.5, 1. ],\n",
       "       [5.5, 3.8, 1. ],\n",
       "       [5.5, 3.7, 1. ],\n",
       "       [5.8, 3.9, 1. ],\n",
       "       [6. , 5.1, 1. ],\n",
       "       [5.4, 4.5, 1. ],\n",
       "       [6. , 4.5, 1. ],\n",
       "       [6.7, 4.7, 1. ],\n",
       "       [6.3, 4.4, 1. ],\n",
       "       [5.6, 4.1, 1. ],\n",
       "       [5.5, 4. , 1. ],\n",
       "       [5.5, 4.4, 1. ],\n",
       "       [6.1, 4.6, 1. ],\n",
       "       [5.8, 4. , 1. ],\n",
       "       [5. , 3.3, 1. ],\n",
       "       [5.6, 4.2, 1. ],\n",
       "       [5.7, 4.2, 1. ],\n",
       "       [5.7, 4.2, 1. ],\n",
       "       [6.2, 4.3, 1. ],\n",
       "       [5.1, 3. , 1. ],\n",
       "       [5.7, 4.1, 1. ],\n",
       "       [6.3, 6. , 2. ],\n",
       "       [5.8, 5.1, 2. ],\n",
       "       [7.1, 5.9, 2. ],\n",
       "       [6.3, 5.6, 2. ],\n",
       "       [6.5, 5.8, 2. ],\n",
       "       [7.6, 6.6, 2. ],\n",
       "       [4.9, 4.5, 2. ],\n",
       "       [7.3, 6.3, 2. ],\n",
       "       [6.7, 5.8, 2. ],\n",
       "       [7.2, 6.1, 2. ],\n",
       "       [6.5, 5.1, 2. ],\n",
       "       [6.4, 5.3, 2. ],\n",
       "       [6.8, 5.5, 2. ],\n",
       "       [5.7, 5. , 2. ],\n",
       "       [5.8, 5.1, 2. ],\n",
       "       [6.4, 5.3, 2. ],\n",
       "       [6.5, 5.5, 2. ],\n",
       "       [7.7, 6.7, 2. ],\n",
       "       [7.7, 6.9, 2. ],\n",
       "       [6. , 5. , 2. ],\n",
       "       [6.9, 5.7, 2. ],\n",
       "       [5.6, 4.9, 2. ],\n",
       "       [7.7, 6.7, 2. ],\n",
       "       [6.3, 4.9, 2. ],\n",
       "       [6.7, 5.7, 2. ],\n",
       "       [7.2, 6. , 2. ],\n",
       "       [6.2, 4.8, 2. ],\n",
       "       [6.1, 4.9, 2. ],\n",
       "       [6.4, 5.6, 2. ],\n",
       "       [7.2, 5.8, 2. ],\n",
       "       [7.4, 6.1, 2. ],\n",
       "       [7.9, 6.4, 2. ],\n",
       "       [6.4, 5.6, 2. ],\n",
       "       [6.3, 5.1, 2. ],\n",
       "       [6.1, 5.6, 2. ],\n",
       "       [7.7, 6.1, 2. ],\n",
       "       [6.3, 5.6, 2. ],\n",
       "       [6.4, 5.5, 2. ],\n",
       "       [6. , 4.8, 2. ],\n",
       "       [6.9, 5.4, 2. ],\n",
       "       [6.7, 5.6, 2. ],\n",
       "       [6.9, 5.1, 2. ],\n",
       "       [5.8, 5.1, 2. ],\n",
       "       [6.8, 5.9, 2. ],\n",
       "       [6.7, 5.7, 2. ],\n",
       "       [6.7, 5.2, 2. ],\n",
       "       [6.3, 5. , 2. ],\n",
       "       [6.5, 5.2, 2. ],\n",
       "       [6.2, 5.4, 2. ]])"
      ]
     },
     "execution_count": 68,
     "metadata": {},
     "output_type": "execute_result"
    }
   ],
   "source": [
    "df3=df[[\"sepal length (cm)\",\"petal length (cm)\",\"Species\"]]\n",
    "\n",
    "import numpy as np\n",
    "df3_np=np.array(df2)\n",
    "\n",
    "from sklearn.model_selection import train_test_split\n",
    "df3_np_sp=train_test_split(df3_np)\n",
    "\n",
    "\n",
    "df3_kunren=df3_np_sp[0]\n",
    "df3_kensyo=df3_np_sp[1]\n",
    "\n",
    "df3_kunren_xx=df3_kunren[:,0:2]\n",
    "df3_kensyo_xx=df3_kensyo[:,0:2]\n",
    "\n",
    "df3_kunren_yy=df3_kunren[:,2]\n",
    "df3_kensyo_yy=df3_kensyo[:,2]\n",
    "\n",
    "\n",
    "df3_np"
   ]
  },
  {
   "cell_type": "markdown",
   "metadata": {},
   "source": [
    "【問題4】前処理・標準化"
   ]
  },
  {
   "cell_type": "code",
   "execution_count": 11,
   "metadata": {},
   "outputs": [],
   "source": [
    "# 訓練用データの標準化 特徴量\n",
    "from sklearn.preprocessing import StandardScaler\n",
    "scaler = StandardScaler()\n",
    "scaler.fit(df3_kunren)\n",
    "scaler.transform(df3_kunren)\n",
    "df3_std_kunren = pd.DataFrame(scaler.transform(df3_kunren), columns=[\"sepal length (cm)\",\"petal length (cm)\",\"Species\"])\n",
    "\n",
    "df3_std_kunren_x=df3_std_kunren.loc[:,[\"sepal length (cm)\",\"petal length (cm)\"]]\n",
    "df3_std_kunren_xnp=np.array(df3_std_kunren_x)\n",
    "\n",
    "df3_std_kunren_y=df3_std_kunren.loc[:,[\"Species\"]]\n",
    "df3_std_kunren_ynp=np.array(df3_std_kunren_y)"
   ]
  },
  {
   "cell_type": "code",
   "execution_count": 12,
   "metadata": {},
   "outputs": [],
   "source": [
    "# 検証用データの標準化 特徴量\n",
    "\n",
    "from sklearn.preprocessing import StandardScaler\n",
    "scaler = StandardScaler()\n",
    "scaler.fit(df3_kensyo)\n",
    "scaler.transform(df3_kensyo)\n",
    "df3_std_kensyo = pd.DataFrame(scaler.transform(df3_kensyo), columns=[\"sepal length (cm)\",\"petal length (cm)\",\"Species\"])\n",
    "\n",
    "df3_std_kensyo_x=df3_std_kensyo.loc[:,[\"sepal length (cm)\",\"petal length (cm)\"]]\n",
    "df3_std_kensyo_xnp=np.array(df3_std_kensyo_x)\n",
    "\n",
    "df3_std_kensyo_y=df3_std_kensyo.loc[:,[\"Species\"]]\n",
    "df3_std_kensyo_ynp=np.array(df3_std_kensyo_y)"
   ]
  },
  {
   "cell_type": "markdown",
   "metadata": {},
   "source": [
    "【問題5】学習と推定"
   ]
  },
  {
   "cell_type": "code",
   "execution_count": 19,
   "metadata": {},
   "outputs": [
    {
     "data": {
      "text/plain": [
       "array([2., 1., 2., 2., 1., 1., 1., 1., 1., 2., 1., 1., 2., 2., 2., 2., 1.,\n",
       "       1., 1., 2., 1., 2., 2., 2., 2.])"
      ]
     },
     "execution_count": 19,
     "metadata": {},
     "output_type": "execute_result"
    }
   ],
   "source": [
    "# 最近傍法（k-nearest neighbors, 5-nn）で学習\n",
    "\n",
    "from sklearn.neighbors import KNeighborsClassifier\n",
    "\n",
    "neigh = KNeighborsClassifier()\n",
    "neigh.fit(df3_std_kunren_xnp,df3_kunren_yy)\n",
    "\n",
    "neigh.predict(df3_std_kensyo_xnp)"
   ]
  },
  {
   "cell_type": "code",
   "execution_count": 20,
   "metadata": {},
   "outputs": [
    {
     "data": {
      "text/plain": [
       "array([2., 1., 2., 2., 1., 1., 1., 1., 1., 2., 1., 1., 2., 2., 2., 2., 1.,\n",
       "       1., 1., 2., 1., 2., 2., 2., 2.])"
      ]
     },
     "execution_count": 20,
     "metadata": {},
     "output_type": "execute_result"
    }
   ],
   "source": [
    "# 最近傍法（k-nearest neighbors, 3-nn）で学習\n",
    "\n",
    "from sklearn.neighbors import KNeighborsClassifier\n",
    "\n",
    "neigh = KNeighborsClassifier(n_neighbors=3)\n",
    "neigh.fit(df3_std_kunren_xnp,df3_kunren_yy)\n",
    "\n",
    "neigh.predict(df3_std_kensyo_xnp)"
   ]
  },
  {
   "cell_type": "code",
   "execution_count": 21,
   "metadata": {},
   "outputs": [
    {
     "data": {
      "text/plain": [
       "array([1., 1., 2., 2., 1., 2., 1., 1., 1., 2., 1., 1., 2., 2., 2., 2., 1.,\n",
       "       1., 1., 2., 1., 2., 2., 2., 2.])"
      ]
     },
     "execution_count": 21,
     "metadata": {},
     "output_type": "execute_result"
    }
   ],
   "source": [
    "# 最近傍法（k-nearest neighbors, 1-nn）で学習\n",
    "\n",
    "from sklearn.neighbors import KNeighborsClassifier\n",
    "\n",
    "neigh = KNeighborsClassifier(n_neighbors=1)\n",
    "neigh.fit(df3_std_kunren_xnp,df3_kunren_yy)\n",
    "\n",
    "neigh.predict(df3_std_kensyo_xnp)"
   ]
  },
  {
   "cell_type": "markdown",
   "metadata": {},
   "source": [
    "【問題6】評価"
   ]
  },
  {
   "cell_type": "code",
   "execution_count": 14,
   "metadata": {},
   "outputs": [
    {
     "name": "stdout",
     "output_type": "stream",
     "text": [
      "0.88\n",
      "22\n"
     ]
    }
   ],
   "source": [
    "# scikit-learnを使い4種類の指標を計算する\n",
    "# Accuracy（正解率）\n",
    "y_pred=neigh.predict(df3_std_kensyo_xnp)\n",
    "from sklearn.metrics import accuracy_score\n",
    "print(accuracy_score(df3_kensyo_yy, y_pred))\n",
    "print(accuracy_score(df3_kensyo_yy, y_pred,normalize=False))"
   ]
  },
  {
   "cell_type": "code",
   "execution_count": 28,
   "metadata": {},
   "outputs": [
    {
     "data": {
      "text/plain": [
       "0.9230769230769231"
      ]
     },
     "execution_count": 28,
     "metadata": {},
     "output_type": "execute_result"
    }
   ],
   "source": [
    "# scikit-learnを使い4種類の指標を計算する\n",
    "# Precision（適合率）\n",
    "\n",
    "from sklearn.metrics import precision_score\n",
    "precision_score(df3_kensyo_yy, y_pred)"
   ]
  },
  {
   "cell_type": "code",
   "execution_count": 29,
   "metadata": {},
   "outputs": [
    {
     "data": {
      "text/plain": [
       "0.8571428571428571"
      ]
     },
     "execution_count": 29,
     "metadata": {},
     "output_type": "execute_result"
    }
   ],
   "source": [
    "# scikit-learnを使い4種類の指標を計算する\n",
    "# Recall（再現率）\n",
    "\n",
    "from sklearn.metrics import recall_score\n",
    "recall_score(df3_kensyo_yy, y_pred)"
   ]
  },
  {
   "cell_type": "code",
   "execution_count": 30,
   "metadata": {},
   "outputs": [
    {
     "data": {
      "text/plain": [
       "0.888888888888889"
      ]
     },
     "execution_count": 30,
     "metadata": {},
     "output_type": "execute_result"
    }
   ],
   "source": [
    "# scikit-learnを使い4種類の指標を計算する\n",
    "# F値\n",
    "\n",
    "from sklearn.metrics import f1_score\n",
    "f1_score(df3_kensyo_yy, y_pred)"
   ]
  },
  {
   "cell_type": "code",
   "execution_count": 18,
   "metadata": {},
   "outputs": [
    {
     "data": {
      "text/plain": [
       "array([[12,  2],\n",
       "       [ 1, 10]])"
      ]
     },
     "execution_count": 18,
     "metadata": {},
     "output_type": "execute_result"
    }
   ],
   "source": [
    "# 混同行列をscikit-learnを使い表示する\n",
    "from sklearn.metrics import confusion_matrix\n",
    "confusion_matrix(df3_kensyo_yy, y_pred)"
   ]
  },
  {
   "cell_type": "markdown",
   "metadata": {},
   "source": [
    "4種類の指標値の意味について簡単に調査して文章でまとめる\n",
    "\n",
    "ccuracy（正解率）・・・すべてのサンプルのうち正解したサンプルの割合\n",
    "\n",
    "Precision（適合率）・・・適合率（precision）は、陽性と予測されたサンプルのうち正解したサンプルの割合\n",
    "\n",
    "Recall（再現率）・・・実際に陽性のサンプルのうち正解したサンプルの割合\n",
    "\n",
    "F値・・・適合率と再現率の調和平均"
   ]
  },
  {
   "cell_type": "code",
   "execution_count": 22,
   "metadata": {},
   "outputs": [],
   "source": [
    "import matplotlib.pyplot as plt\n",
    "from matplotlib.colors import ListedColormap\n",
    "import matplotlib.patches as mpatches\n",
    "def decision_region(X, y, model, step=0.01, title='decision region', xlabel='xlabel', ylabel='ylabel', target_names=['versicolor', 'virginica']):\n",
    "    \"\"\"\n",
    "    2値分類を2次元の特徴量で学習したモデルの決定領域を描く。\n",
    "    背景の色が学習したモデルによる推定値から描画される。\n",
    "    散布図の点は訓練データまたは検証データである。\n",
    "    Parameters\n",
    "    ----------------\n",
    "    X : ndarray, shape(n_samples, 2)\n",
    "        特徴量\n",
    "    y : ndarray, shape(n_samples,)\n",
    "        ラベル\n",
    "    model : object\n",
    "        学習したモデルのインスンタスを入れる\n",
    "    step : float, (default : 0.1)\n",
    "        推定値を計算する間隔を設定する\n",
    "    title : str\n",
    "        グラフのタイトルの文章を与える\n",
    "    xlabel, ylabel : str\n",
    "        軸ラベルの文章を与える\n",
    "    target_names= : list of str\n",
    "        凡例の一覧を与える\n",
    "    \"\"\"\n",
    "    # setting\n",
    "    scatter_color = ['red', 'blue']\n",
    "    contourf_color = ['pink', 'skyblue']\n",
    "    n_class = 2\n",
    "    # pred\n",
    "    mesh_f0, mesh_f1  = np.meshgrid(np.arange(np.min(X[:,0])-0.5, np.max(X[:,0])+0.5, step), np.arange(np.min(X[:,1])-0.5, np.max(X[:,1])+0.5, step))\n",
    "    mesh = np.c_[np.ravel(mesh_f0),np.ravel(mesh_f1)]\n",
    "    y_pred = model.predict(mesh).reshape(mesh_f0.shape)\n",
    "    # plot\n",
    "    plt.title(title)\n",
    "    plt.xlabel(xlabel)\n",
    "    plt.ylabel(ylabel)\n",
    "    plt.contourf(mesh_f0, mesh_f1, y_pred, n_class-1, cmap=ListedColormap(contourf_color))\n",
    "    plt.contour(mesh_f0, mesh_f1, y_pred, n_class-1, colors='y', linewidths=3, alpha=0.5)\n",
    "    for i, target in enumerate(set(y)):\n",
    "        plt.scatter(X[y==target][:, 0], X[y==target][:, 1], s=80, color=scatter_color[i], label=target_names[i], marker='o')\n",
    "    patches = [mpatches.Patch(color=scatter_color[i], label=target_names[i]) for i in range(n_class)]\n",
    "    plt.legend(handles=patches)\n",
    "    plt.legend()\n",
    "    plt.show()\n",
    "    "
   ]
  },
  {
   "cell_type": "code",
   "execution_count": 23,
   "metadata": {
    "scrolled": true
   },
   "outputs": [
    {
     "data": {
      "image/png": "[encoded data removed]",
      "text/plain": [
       "<Figure size 432x288 with 1 Axes>"
      ]
     },
     "metadata": {
      "needs_background": "light"
     },
     "output_type": "display_data"
    }
   ],
   "source": [
    "decision_region(df3_std_kunren_xnp,df3_kunren_yy,neigh, step=0.01, title='decision region', xlabel='xlabel', ylabel='ylabel', target_names=['versicolor', 'virginica'])"
   ]
  },
  {
   "cell_type": "markdown",
   "metadata": {},
   "source": [
    "【問題8】他の手法の学習"
   ]
  },
  {
   "cell_type": "markdown",
   "metadata": {},
   "source": [
    "＜ロジスティック回帰＞"
   ]
  },
  {
   "cell_type": "code",
   "execution_count": 26,
   "metadata": {},
   "outputs": [
    {
     "data": {
      "text/plain": [
       "array([2., 1., 2., 2., 1., 2., 1., 1., 1., 2., 1., 1., 2., 2., 2., 2., 1.,\n",
       "       1., 2., 2., 1., 2., 2., 2., 2.])"
      ]
     },
     "execution_count": 26,
     "metadata": {},
     "output_type": "execute_result"
    }
   ],
   "source": [
    "#　学習\n",
    "from sklearn.linear_model import LogisticRegression\n",
    "clf = LogisticRegression()\n",
    "clf.fit(df3_std_kunren_xnp,df3_kunren_yy)\n",
    "\n",
    "# 推定\n",
    "clf.predict(df3_std_kensyo_xnp)"
   ]
  },
  {
   "cell_type": "code",
   "execution_count": 15,
   "metadata": {},
   "outputs": [
    {
     "name": "stdout",
     "output_type": "stream",
     "text": [
      "0.96\n",
      "24\n"
     ]
    }
   ],
   "source": [
    "#　評価\n",
    "y_pred_clf=clf.predict(df3_std_kensyo_xnp)\n",
    "\n",
    "# Accuracy（正解率）\n",
    "from sklearn.metrics import accuracy_score\n",
    "print(accuracy_score(df3_kensyo_yy, y_pred_clf))\n",
    "print(accuracy_score(df3_kensyo_yy, y_pred_clf,normalize=False))"
   ]
  },
  {
   "cell_type": "code",
   "execution_count": 16,
   "metadata": {},
   "outputs": [
    {
     "data": {
      "text/plain": [
       "1.0"
      ]
     },
     "execution_count": 16,
     "metadata": {},
     "output_type": "execute_result"
    }
   ],
   "source": [
    "# Precision（適合率）\n",
    "from sklearn.metrics import precision_score\n",
    "precision_score(df3_kensyo_yy, y_pred_clf)"
   ]
  },
  {
   "cell_type": "code",
   "execution_count": 17,
   "metadata": {},
   "outputs": [
    {
     "data": {
      "text/plain": [
       "0.9090909090909091"
      ]
     },
     "execution_count": 17,
     "metadata": {},
     "output_type": "execute_result"
    }
   ],
   "source": [
    "# Recall（再現率）\n",
    "from sklearn.metrics import recall_score\n",
    "recall_score(df3_kensyo_yy, y_pred_clf)"
   ]
  },
  {
   "cell_type": "code",
   "execution_count": 18,
   "metadata": {},
   "outputs": [
    {
     "data": {
      "text/plain": [
       "0.9523809523809523"
      ]
     },
     "execution_count": 18,
     "metadata": {},
     "output_type": "execute_result"
    }
   ],
   "source": [
    "# F値\n",
    "from sklearn.metrics import f1_score\n",
    "f1_score(df3_kensyo_yy, y_pred_clf)"
   ]
  },
  {
   "cell_type": "code",
   "execution_count": 24,
   "metadata": {},
   "outputs": [
    {
     "data": {
      "image/png": "[encoded data removed]",
      "text/plain": [
       "<Figure size 432x288 with 1 Axes>"
      ]
     },
     "metadata": {
      "needs_background": "light"
     },
     "output_type": "display_data"
    }
   ],
   "source": [
    "#可視化\n",
    "\n",
    "decision_region(df3_std_kunren_xnp,df3_kunren_yy,clf, step=0.01, title='decision region', xlabel='xlabel', ylabel='ylabel', target_names=['versicolor', 'virginica'])"
   ]
  },
  {
   "cell_type": "markdown",
   "metadata": {},
   "source": [
    "＜SVM＞"
   ]
  },
  {
   "cell_type": "code",
   "execution_count": 28,
   "metadata": {},
   "outputs": [
    {
     "data": {
      "text/plain": [
       "array([2., 1., 2., 2., 1., 2., 1., 1., 1., 2., 1., 1., 2., 2., 2., 2., 1.,\n",
       "       1., 2., 2., 1., 2., 2., 2., 2.])"
      ]
     },
     "execution_count": 28,
     "metadata": {},
     "output_type": "execute_result"
    }
   ],
   "source": [
    "#　学習\n",
    "from sklearn.pipeline import make_pipeline\n",
    "from sklearn.svm import SVC\n",
    "\n",
    "clfsvm = make_pipeline(StandardScaler(), SVC(gamma='auto'))\n",
    "clfsvm.fit(df3_std_kunren_xnp,df3_kunren_yy)\n",
    "\n",
    "# 推定\n",
    "clfsvm.predict(df3_std_kensyo_xnp)"
   ]
  },
  {
   "cell_type": "code",
   "execution_count": 29,
   "metadata": {},
   "outputs": [
    {
     "name": "stdout",
     "output_type": "stream",
     "text": [
      "0.96\n",
      "24\n"
     ]
    }
   ],
   "source": [
    "#　評価\n",
    "y_pred_clfsvm=clfsvm.predict(df3_std_kensyo_xnp)\n",
    "\n",
    "# Accuracy（正解率）\n",
    "from sklearn.metrics import accuracy_score\n",
    "print(accuracy_score(df3_kensyo_yy, y_pred_clfsvm))\n",
    "print(accuracy_score(df3_kensyo_yy, y_pred_clfsvm,normalize=False))"
   ]
  },
  {
   "cell_type": "code",
   "execution_count": 30,
   "metadata": {},
   "outputs": [
    {
     "data": {
      "text/plain": [
       "1.0"
      ]
     },
     "execution_count": 30,
     "metadata": {},
     "output_type": "execute_result"
    }
   ],
   "source": [
    "# Precision（適合率）\n",
    "from sklearn.metrics import precision_score\n",
    "precision_score(df3_kensyo_yy, y_pred_clfsvm)"
   ]
  },
  {
   "cell_type": "code",
   "execution_count": 31,
   "metadata": {},
   "outputs": [
    {
     "data": {
      "text/plain": [
       "0.9090909090909091"
      ]
     },
     "execution_count": 31,
     "metadata": {},
     "output_type": "execute_result"
    }
   ],
   "source": [
    "# Recall（再現率）\n",
    "from sklearn.metrics import recall_score\n",
    "recall_score(df3_kensyo_yy, y_pred_clfsvm)"
   ]
  },
  {
   "cell_type": "code",
   "execution_count": 32,
   "metadata": {},
   "outputs": [
    {
     "data": {
      "text/plain": [
       "0.9523809523809523"
      ]
     },
     "execution_count": 32,
     "metadata": {},
     "output_type": "execute_result"
    }
   ],
   "source": [
    "# F値\n",
    "from sklearn.metrics import f1_score\n",
    "f1_score(df3_kensyo_yy, y_pred_clfsvm)"
   ]
  },
  {
   "cell_type": "code",
   "execution_count": 33,
   "metadata": {},
   "outputs": [
    {
     "data": {
      "image/png": "[encoded data removed]",
      "text/plain": [
       "<Figure size 432x288 with 1 Axes>"
      ]
     },
     "metadata": {
      "needs_background": "light"
     },
     "output_type": "display_data"
    }
   ],
   "source": [
    "#可視化\n",
    "\n",
    "decision_region(df3_std_kunren_xnp,df3_kunren_yy,clfsvm, step=0.01, title='decision region', xlabel='xlabel', ylabel='ylabel', target_names=['versicolor', 'virginica'])"
   ]
  },
  {
   "cell_type": "markdown",
   "metadata": {},
   "source": [
    "＜決定木＞"
   ]
  },
  {
   "cell_type": "code",
   "execution_count": 34,
   "metadata": {},
   "outputs": [
    {
     "data": {
      "text/plain": [
       "array([2., 1., 2., 2., 1., 2., 1., 1., 1., 2., 1., 1., 2., 2., 2., 2., 1.,\n",
       "       1., 1., 2., 1., 2., 2., 2., 2.])"
      ]
     },
     "execution_count": 34,
     "metadata": {},
     "output_type": "execute_result"
    }
   ],
   "source": [
    "#　学習\n",
    "from sklearn.model_selection import cross_val_score\n",
    "from sklearn.tree import DecisionTreeClassifier\n",
    "\n",
    "clftree = DecisionTreeClassifier(random_state=0)\n",
    "clftree.fit(df3_std_kunren_xnp,df3_kunren_yy)\n",
    "\n",
    "# 推定\n",
    "clftree.predict(df3_std_kensyo_xnp)"
   ]
  },
  {
   "cell_type": "code",
   "execution_count": 35,
   "metadata": {},
   "outputs": [
    {
     "name": "stdout",
     "output_type": "stream",
     "text": [
      "0.92\n",
      "23\n"
     ]
    }
   ],
   "source": [
    "#　評価\n",
    "y_pred_clftree=clftree.predict(df3_std_kensyo_xnp)\n",
    "\n",
    "# Accuracy（正解率）\n",
    "from sklearn.metrics import accuracy_score\n",
    "print(accuracy_score(df3_kensyo_yy, y_pred_clftree))\n",
    "print(accuracy_score(df3_kensyo_yy, y_pred_clftree,normalize=False))"
   ]
  },
  {
   "cell_type": "code",
   "execution_count": 36,
   "metadata": {},
   "outputs": [
    {
     "data": {
      "text/plain": [
       "0.9090909090909091"
      ]
     },
     "execution_count": 36,
     "metadata": {},
     "output_type": "execute_result"
    }
   ],
   "source": [
    "# Precision（適合率）\n",
    "from sklearn.metrics import precision_score\n",
    "precision_score(df3_kensyo_yy, y_pred_clftree)"
   ]
  },
  {
   "cell_type": "code",
   "execution_count": 37,
   "metadata": {},
   "outputs": [
    {
     "data": {
      "text/plain": [
       "0.9090909090909091"
      ]
     },
     "execution_count": 37,
     "metadata": {},
     "output_type": "execute_result"
    }
   ],
   "source": [
    "# Recall（再現率）\n",
    "from sklearn.metrics import recall_score\n",
    "recall_score(df3_kensyo_yy, y_pred_clftree)"
   ]
  },
  {
   "cell_type": "code",
   "execution_count": 38,
   "metadata": {},
   "outputs": [
    {
     "data": {
      "text/plain": [
       "0.9090909090909091"
      ]
     },
     "execution_count": 38,
     "metadata": {},
     "output_type": "execute_result"
    }
   ],
   "source": [
    "# F値\n",
    "from sklearn.metrics import f1_score\n",
    "f1_score(df3_kensyo_yy, y_pred_clftree)"
   ]
  },
  {
   "cell_type": "code",
   "execution_count": 39,
   "metadata": {},
   "outputs": [
    {
     "data": {
      "image/png": "[encoded data removed]",
      "text/plain": [
       "<Figure size 432x288 with 1 Axes>"
      ]
     },
     "metadata": {
      "needs_background": "light"
     },
     "output_type": "display_data"
    }
   ],
   "source": [
    "#可視化\n",
    "\n",
    "decision_region(df3_std_kunren_xnp,df3_kunren_yy,clftree, step=0.01, title='decision region', xlabel='xlabel', ylabel='ylabel', target_names=['versicolor', 'virginica'])"
   ]
  },
  {
   "cell_type": "markdown",
   "metadata": {},
   "source": [
    "＜ランダムフォレスト＞"
   ]
  },
  {
   "cell_type": "code",
   "execution_count": 41,
   "metadata": {},
   "outputs": [
    {
     "data": {
      "text/plain": [
       "array([2., 1., 2., 2., 1., 2., 1., 1., 1., 2., 1., 1., 2., 2., 2., 2., 1.,\n",
       "       1., 2., 2., 1., 2., 2., 2., 2.])"
      ]
     },
     "execution_count": 41,
     "metadata": {},
     "output_type": "execute_result"
    }
   ],
   "source": [
    "#　学習\n",
    "from sklearn.ensemble import RandomForestClassifier\n",
    "from sklearn.datasets import make_classification\n",
    "\n",
    "clfrandom = RandomForestClassifier(max_depth=2, random_state=0)\n",
    "clfrandom.fit(df3_std_kunren_xnp,df3_kunren_yy)\n",
    "\n",
    "# 推定\n",
    "clfrandom.predict(df3_std_kensyo_xnp)"
   ]
  },
  {
   "cell_type": "code",
   "execution_count": 42,
   "metadata": {},
   "outputs": [
    {
     "name": "stdout",
     "output_type": "stream",
     "text": [
      "0.96\n",
      "24\n"
     ]
    }
   ],
   "source": [
    "#　評価\n",
    "y_pred_clfrandom=clfrandom.predict(df3_std_kensyo_xnp)\n",
    "\n",
    "# Accuracy（正解率）\n",
    "from sklearn.metrics import accuracy_score\n",
    "print(accuracy_score(df3_kensyo_yy, y_pred_clfrandom))\n",
    "print(accuracy_score(df3_kensyo_yy, y_pred_clfrandom,normalize=False))"
   ]
  },
  {
   "cell_type": "code",
   "execution_count": 43,
   "metadata": {},
   "outputs": [
    {
     "data": {
      "text/plain": [
       "1.0"
      ]
     },
     "execution_count": 43,
     "metadata": {},
     "output_type": "execute_result"
    }
   ],
   "source": [
    "# Precision（適合率）\n",
    "from sklearn.metrics import precision_score\n",
    "precision_score(df3_kensyo_yy, y_pred_clfrandom)"
   ]
  },
  {
   "cell_type": "code",
   "execution_count": 44,
   "metadata": {},
   "outputs": [
    {
     "data": {
      "text/plain": [
       "0.9090909090909091"
      ]
     },
     "execution_count": 44,
     "metadata": {},
     "output_type": "execute_result"
    }
   ],
   "source": [
    "# Recall（再現率）\n",
    "from sklearn.metrics import recall_score\n",
    "recall_score(df3_kensyo_yy, y_pred_clfrandom)"
   ]
  },
  {
   "cell_type": "code",
   "execution_count": 45,
   "metadata": {},
   "outputs": [
    {
     "data": {
      "text/plain": [
       "0.9523809523809523"
      ]
     },
     "execution_count": 45,
     "metadata": {},
     "output_type": "execute_result"
    }
   ],
   "source": [
    "# F値\n",
    "from sklearn.metrics import f1_score\n",
    "f1_score(df3_kensyo_yy, y_pred_clfrandom)"
   ]
  },
  {
   "cell_type": "code",
   "execution_count": 46,
   "metadata": {},
   "outputs": [
    {
     "data": {
      "image/png": "[encoded data removed]",
      "text/plain": [
       "<Figure size 432x288 with 1 Axes>"
      ]
     },
     "metadata": {
      "needs_background": "light"
     },
     "output_type": "display_data"
    }
   ],
   "source": [
    "#可視化\n",
    "\n",
    "decision_region(df3_std_kunren_xnp,df3_kunren_yy,clfrandom, step=0.01, title='decision region', xlabel='xlabel', ylabel='ylabel', target_names=['versicolor', 'virginica'])"
   ]
  },
  {
   "cell_type": "code",
   "execution_count": 48,
   "metadata": {},
   "outputs": [],
   "source": [
    "#　指標値を１つの表にまとめる\n",
    "\n",
    "shihyo=[[0.88,0.92,0.85,0.88],[0.96,1,0.9,0.95],[0.96,1,0.9,0.95],[0.92,0.9,0.9,0.9],[0.96,1,0.9,0.95]]"
   ]
  },
  {
   "cell_type": "code",
   "execution_count": 94,
   "metadata": {},
   "outputs": [
    {
     "data": {
      "text/html": [
       "<div>\n",
       "<style scoped>\n",
       "    .dataframe tbody tr th:only-of-type {\n",
       "        vertical-align: middle;\n",
       "    }\n",
       "\n",
       "    .dataframe tbody tr th {\n",
       "        vertical-align: top;\n",
       "    }\n",
       "\n",
       "    .dataframe thead th {\n",
       "        text-align: right;\n",
       "    }\n",
       "</style>\n",
       "<table border=\"1\" class=\"dataframe\">\n",
       "  <thead>\n",
       "    <tr style=\"text-align: right;\">\n",
       "      <th></th>\n",
       "      <th>Accuracy（正解率）</th>\n",
       "      <th>Precision（適合率）</th>\n",
       "      <th>Recall（再現率）</th>\n",
       "      <th>F値</th>\n",
       "    </tr>\n",
       "  </thead>\n",
       "  <tbody>\n",
       "    <tr>\n",
       "      <th>最近傍法</th>\n",
       "      <td>0.88</td>\n",
       "      <td>0.92</td>\n",
       "      <td>0.85</td>\n",
       "      <td>0.88</td>\n",
       "    </tr>\n",
       "    <tr>\n",
       "      <th>ロジスティック回帰</th>\n",
       "      <td>0.96</td>\n",
       "      <td>1.00</td>\n",
       "      <td>0.90</td>\n",
       "      <td>0.95</td>\n",
       "    </tr>\n",
       "    <tr>\n",
       "      <th>SVM</th>\n",
       "      <td>0.96</td>\n",
       "      <td>1.00</td>\n",
       "      <td>0.90</td>\n",
       "      <td>0.95</td>\n",
       "    </tr>\n",
       "    <tr>\n",
       "      <th>決定木</th>\n",
       "      <td>0.92</td>\n",
       "      <td>0.90</td>\n",
       "      <td>0.90</td>\n",
       "      <td>0.90</td>\n",
       "    </tr>\n",
       "    <tr>\n",
       "      <th>ランダムフォレスト</th>\n",
       "      <td>0.96</td>\n",
       "      <td>1.00</td>\n",
       "      <td>0.90</td>\n",
       "      <td>0.95</td>\n",
       "    </tr>\n",
       "  </tbody>\n",
       "</table>\n",
       "</div>"
      ],
      "text/plain": [
       "           Accuracy（正解率）  Precision（適合率）  Recall（再現率）    F値\n",
       "最近傍法                0.88            0.92         0.85  0.88\n",
       "ロジスティック回帰           0.96            1.00         0.90  0.95\n",
       "SVM                 0.96            1.00         0.90  0.95\n",
       "決定木                 0.92            0.90         0.90  0.90\n",
       "ランダムフォレスト           0.96            1.00         0.90  0.95"
      ]
     },
     "execution_count": 94,
     "metadata": {},
     "output_type": "execute_result"
    }
   ],
   "source": [
    "import pandas as pd\n",
    "\n",
    "df1=pd.DataFrame(shihyo,columns=[\"Accuracy（正解率）\",\"Precision（適合率）\",\"Recall（再現率）\",\"F値\"],index=['最近傍法', 'ロジスティック回帰', 'SVM', '決定木', 'ランダムフォレスト'])\n",
    "\n",
    "df1"
   ]
  },
  {
   "cell_type": "markdown",
   "metadata": {},
   "source": [
    "表と決定領域を利用して結果を簡単に考察\n",
    "\n",
    "決定領域に関して、学習方法によって特出するような大きな違いはそれほど観測はされなかった。\n",
    "指標値に関しても大きな違いはあまり見られないが、ロジスティック回帰、SVM、ランダムフォレストに関しては高い数値を示していた。"
   ]
  },
  {
   "cell_type": "markdown",
   "metadata": {},
   "source": [
    "【問題9】（アドバンス課題）標準化の有無の比較"
   ]
  },
  {
   "cell_type": "markdown",
   "metadata": {},
   "source": [
    "＜最近傍法＞"
   ]
  },
  {
   "cell_type": "code",
   "execution_count": 72,
   "metadata": {},
   "outputs": [
    {
     "data": {
      "text/plain": [
       "array([1., 1., 2., 1., 2., 1., 1., 2., 1., 2., 1., 1., 1., 2., 2., 1., 1.,\n",
       "       1., 1., 1., 1., 2., 1., 2., 1.])"
      ]
     },
     "execution_count": 72,
     "metadata": {},
     "output_type": "execute_result"
    }
   ],
   "source": [
    "# 最近傍法（k-nearest neighbors, 5-nn）で学習\n",
    "# 標準化しない場合の学習\n",
    "\n",
    "from sklearn.neighbors import KNeighborsClassifier\n",
    "\n",
    "neigh = KNeighborsClassifier()\n",
    "neigh.fit(df3_kunren_xx,df3_kunren_yy)\n",
    "\n",
    "neigh.predict(df3_kensyo_xx)"
   ]
  },
  {
   "cell_type": "code",
   "execution_count": 73,
   "metadata": {},
   "outputs": [
    {
     "name": "stdout",
     "output_type": "stream",
     "text": [
      "0.92\n",
      "0.8823529411764706\n",
      "1.0\n",
      "0.9375\n"
     ]
    }
   ],
   "source": [
    "# Accuracy（正解率）\n",
    "y_pred_kin=neigh.predict(df3_kensyo_xx)\n",
    "from sklearn.metrics import accuracy_score\n",
    "print(accuracy_score(df3_kensyo_yy, y_pred_kin))\n",
    "\n",
    "# Precision（適合率）\n",
    "from sklearn.metrics import precision_score\n",
    "print(precision_score(df3_kensyo_yy, y_pred_kin))\n",
    "\n",
    "# Recall（再現率）\n",
    "from sklearn.metrics import recall_score\n",
    "print(recall_score(df3_kensyo_yy, y_pred_kin))\n",
    "\n",
    "# F値\n",
    "from sklearn.metrics import f1_score\n",
    "print(f1_score(df3_kensyo_yy, y_pred_kin))"
   ]
  },
  {
   "cell_type": "code",
   "execution_count": 74,
   "metadata": {},
   "outputs": [
    {
     "data": {
      "image/png": "[encoded data removed]",
      "text/plain": [
       "<Figure size 432x288 with 1 Axes>"
      ]
     },
     "metadata": {
      "needs_background": "light"
     },
     "output_type": "display_data"
    }
   ],
   "source": [
    "decision_region(df3_kunren_xx,df3_kunren_yy,neigh, step=0.01, title='decision region', xlabel='xlabel', ylabel='ylabel', target_names=['versicolor', 'virginica'])"
   ]
  },
  {
   "cell_type": "markdown",
   "metadata": {},
   "source": [
    "標準化ありとなしを比較して、指標に関しては悪くなったものもあれば、よくなったものがあり、評価をするのは難しい結果となった、決定領域についても同じような結果であった。"
   ]
  },
  {
   "cell_type": "markdown",
   "metadata": {},
   "source": [
    "＜ロジスティック回帰＞"
   ]
  },
  {
   "cell_type": "code",
   "execution_count": 77,
   "metadata": {},
   "outputs": [
    {
     "data": {
      "text/plain": [
       "array([1., 1., 2., 1., 2., 1., 1., 2., 1., 2., 1., 1., 1., 2., 2., 1., 1.,\n",
       "       2., 2., 1., 1., 2., 1., 2., 1.])"
      ]
     },
     "execution_count": 77,
     "metadata": {},
     "output_type": "execute_result"
    }
   ],
   "source": [
    "#　学習\n",
    "from sklearn.linear_model import LogisticRegression\n",
    "clf = LogisticRegression()\n",
    "clf.fit(df3_kunren_xx,df3_kunren_yy)\n",
    "\n",
    "# 推定\n",
    "clf.predict(df3_kensyo_xx)"
   ]
  },
  {
   "cell_type": "code",
   "execution_count": 81,
   "metadata": {},
   "outputs": [
    {
     "name": "stdout",
     "output_type": "stream",
     "text": [
      "0.84\n",
      "0.8666666666666667\n",
      "0.8666666666666667\n",
      "0.8666666666666667\n"
     ]
    }
   ],
   "source": [
    "y_pred_clf=clf.predict(df3_kensyo_xx)\n",
    "\n",
    "# Accuracy（正解率）\n",
    "from sklearn.metrics import accuracy_score\n",
    "print(accuracy_score(df3_kensyo_yy, y_pred_clf))\n",
    "\n",
    "# Precision（適合率）\n",
    "from sklearn.metrics import precision_score\n",
    "print(precision_score(df3_kensyo_yy, y_pred_clf))\n",
    "\n",
    "# Recall（再現率）\n",
    "from sklearn.metrics import recall_score\n",
    "print(recall_score(df3_kensyo_yy, y_pred_clf))\n",
    "\n",
    "# F値\n",
    "from sklearn.metrics import f1_score\n",
    "print(f1_score(df3_kensyo_yy, y_pred_clf))"
   ]
  },
  {
   "cell_type": "code",
   "execution_count": 82,
   "metadata": {},
   "outputs": [
    {
     "data": {
      "image/png": "[encoded data removed]",
      "text/plain": [
       "<Figure size 432x288 with 1 Axes>"
      ]
     },
     "metadata": {
      "needs_background": "light"
     },
     "output_type": "display_data"
    }
   ],
   "source": [
    "decision_region(df3_kunren_xx,df3_kunren_yy,clf, step=0.01, title='decision region', xlabel='xlabel', ylabel='ylabel', target_names=['versicolor', 'virginica'])"
   ]
  },
  {
   "cell_type": "markdown",
   "metadata": {},
   "source": [
    "＜SVM＞"
   ]
  },
  {
   "cell_type": "code",
   "execution_count": 83,
   "metadata": {},
   "outputs": [
    {
     "data": {
      "text/plain": [
       "array([1., 1., 2., 1., 2., 1., 1., 2., 1., 1., 1., 1., 1., 2., 2., 1., 1.,\n",
       "       1., 1., 1., 1., 2., 1., 2., 1.])"
      ]
     },
     "execution_count": 83,
     "metadata": {},
     "output_type": "execute_result"
    }
   ],
   "source": [
    "clfsvm = make_pipeline(StandardScaler(), SVC(gamma='auto'))\n",
    "clfsvm.fit(df3_kunren_xx,df3_kunren_yy)\n",
    "\n",
    "# 推定\n",
    "clfsvm.predict(df3_kensyo_xx)"
   ]
  },
  {
   "cell_type": "code",
   "execution_count": 84,
   "metadata": {},
   "outputs": [
    {
     "name": "stdout",
     "output_type": "stream",
     "text": [
      "0.88\n",
      "0.8333333333333334\n",
      "1.0\n",
      "0.9090909090909091\n"
     ]
    }
   ],
   "source": [
    "y_pred_clfsvm=clfsvm.predict(df3_kensyo_xx)\n",
    "\n",
    "# Accuracy（正解率）\n",
    "from sklearn.metrics import accuracy_score\n",
    "print(accuracy_score(df3_kensyo_yy, y_pred_clfsvm))\n",
    "\n",
    "# Precision（適合率）\n",
    "from sklearn.metrics import precision_score\n",
    "print(precision_score(df3_kensyo_yy, y_pred_clfsvm))\n",
    "\n",
    "# Recall（再現率）\n",
    "from sklearn.metrics import recall_score\n",
    "print(recall_score(df3_kensyo_yy, y_pred_clfsvm))\n",
    "\n",
    "# F値\n",
    "from sklearn.metrics import f1_score\n",
    "print(f1_score(df3_kensyo_yy, y_pred_clfsvm))"
   ]
  },
  {
   "cell_type": "code",
   "execution_count": 85,
   "metadata": {},
   "outputs": [
    {
     "data": {
      "image/png": "[encoded data removed]",
      "text/plain": [
       "<Figure size 432x288 with 1 Axes>"
      ]
     },
     "metadata": {
      "needs_background": "light"
     },
     "output_type": "display_data"
    }
   ],
   "source": [
    "decision_region(df3_kunren_xx,df3_kunren_yy,clfsvm, step=0.01, title='decision region', xlabel='xlabel', ylabel='ylabel', target_names=['versicolor', 'virginica'])"
   ]
  },
  {
   "cell_type": "markdown",
   "metadata": {},
   "source": [
    "＜決定木＞"
   ]
  },
  {
   "cell_type": "code",
   "execution_count": 87,
   "metadata": {},
   "outputs": [
    {
     "data": {
      "text/plain": [
       "array([1., 1., 2., 1., 2., 1., 1., 2., 1., 1., 1., 1., 1., 1., 2., 1., 1.,\n",
       "       1., 1., 1., 2., 2., 1., 2., 1.])"
      ]
     },
     "execution_count": 87,
     "metadata": {},
     "output_type": "execute_result"
    }
   ],
   "source": [
    "clftree = DecisionTreeClassifier(random_state=0)\n",
    "clftree.fit(df3_kunren_xx,df3_kunren_yy)\n",
    "\n",
    "# 推定\n",
    "clftree.predict(df3_kensyo_xx)"
   ]
  },
  {
   "cell_type": "code",
   "execution_count": 88,
   "metadata": {},
   "outputs": [
    {
     "name": "stdout",
     "output_type": "stream",
     "text": [
      "0.88\n",
      "0.8333333333333334\n",
      "1.0\n",
      "0.9090909090909091\n"
     ]
    }
   ],
   "source": [
    "y_pred_clftree=clftree.predict(df3_kensyo_xx)\n",
    "\n",
    "# Accuracy（正解率）\n",
    "from sklearn.metrics import accuracy_score\n",
    "print(accuracy_score(df3_kensyo_yy, y_pred_clftree))\n",
    "\n",
    "# Precision（適合率）\n",
    "from sklearn.metrics import precision_score\n",
    "print(precision_score(df3_kensyo_yy, y_pred_clftree))\n",
    "\n",
    "# Recall（再現率）\n",
    "from sklearn.metrics import recall_score\n",
    "print(recall_score(df3_kensyo_yy, y_pred_clftree))\n",
    "\n",
    "# F値\n",
    "from sklearn.metrics import f1_score\n",
    "print(f1_score(df3_kensyo_yy, y_pred_clftree))"
   ]
  },
  {
   "cell_type": "code",
   "execution_count": 89,
   "metadata": {},
   "outputs": [
    {
     "data": {
      "image/png": "[encoded data removed]",
      "text/plain": [
       "<Figure size 432x288 with 1 Axes>"
      ]
     },
     "metadata": {
      "needs_background": "light"
     },
     "output_type": "display_data"
    }
   ],
   "source": [
    "decision_region(df3_kunren_xx,df3_kunren_yy,clftree, step=0.01, title='decision region', xlabel='xlabel', ylabel='ylabel', target_names=['versicolor', 'virginica'])"
   ]
  },
  {
   "cell_type": "markdown",
   "metadata": {},
   "source": [
    "＜ランダムフォレスト＞"
   ]
  },
  {
   "cell_type": "code",
   "execution_count": 90,
   "metadata": {},
   "outputs": [
    {
     "data": {
      "text/plain": [
       "array([1., 2., 2., 1., 2., 1., 1., 2., 1., 1., 1., 1., 1., 2., 2., 1., 1.,\n",
       "       1., 1., 1., 1., 2., 1., 2., 1.])"
      ]
     },
     "execution_count": 90,
     "metadata": {},
     "output_type": "execute_result"
    }
   ],
   "source": [
    "clfrandom = RandomForestClassifier(max_depth=2, random_state=0)\n",
    "clfrandom.fit(df3_kunren_xx,df3_kunren_yy)\n",
    "\n",
    "# 推定\n",
    "clfrandom.predict(df3_kensyo_xx)"
   ]
  },
  {
   "cell_type": "code",
   "execution_count": 91,
   "metadata": {},
   "outputs": [
    {
     "name": "stdout",
     "output_type": "stream",
     "text": [
      "0.92\n",
      "0.8823529411764706\n",
      "1.0\n",
      "0.9375\n"
     ]
    }
   ],
   "source": [
    "y_pred_clfrandom=clfrandom.predict(df3_kensyo_xx)\n",
    "\n",
    "# Accuracy（正解率）\n",
    "from sklearn.metrics import accuracy_score\n",
    "print(accuracy_score(df3_kensyo_yy, y_pred_clfrandom))\n",
    "\n",
    "# Precision（適合率）\n",
    "from sklearn.metrics import precision_score\n",
    "print(precision_score(df3_kensyo_yy, y_pred_clfrandom))\n",
    "\n",
    "# Recall（再現率）\n",
    "from sklearn.metrics import recall_score\n",
    "print(recall_score(df3_kensyo_yy, y_pred_clfrandom))\n",
    "\n",
    "# F値\n",
    "from sklearn.metrics import f1_score\n",
    "print(f1_score(df3_kensyo_yy, y_pred_clfrandom))"
   ]
  },
  {
   "cell_type": "code",
   "execution_count": 92,
   "metadata": {},
   "outputs": [
    {
     "data": {
      "image/png": "[encoded data removed]",
      "text/plain": [
       "<Figure size 432x288 with 1 Axes>"
      ]
     },
     "metadata": {
      "needs_background": "light"
     },
     "output_type": "display_data"
    }
   ],
   "source": [
    "decision_region(df3_kunren_xx,df3_kunren_yy,clfrandom, step=0.01, title='decision region', xlabel='xlabel', ylabel='ylabel', target_names=['versicolor', 'virginica'])"
   ]
  },
  {
   "cell_type": "code",
   "execution_count": 97,
   "metadata": {},
   "outputs": [],
   "source": [
    "#　指標値作成\n",
    "\n",
    "shihyo1=[[0.92,0.88,1.,0.93],[0.84,0.86,0.86,0.86],[0.88,0.83,1,0.9],[0.88,0.83,1,0.9],[0.92,0.88,1,0.93]]\n",
    "\n",
    "\n",
    "df2=pd.DataFrame(shihyo1,columns=[\"Accuracy（正解率）非\",\"Precision（適合率）非\",\"Recall（再現率）非\",\"F値非\"],index=['最近傍法', 'ロジスティック回帰', 'SVM', '決定木', 'ランダムフォレスト'])"
   ]
  },
  {
   "cell_type": "code",
   "execution_count": 101,
   "metadata": {},
   "outputs": [
    {
     "data": {
      "text/html": [
       "<div>\n",
       "<style scoped>\n",
       "    .dataframe tbody tr th:only-of-type {\n",
       "        vertical-align: middle;\n",
       "    }\n",
       "\n",
       "    .dataframe tbody tr th {\n",
       "        vertical-align: top;\n",
       "    }\n",
       "\n",
       "    .dataframe thead th {\n",
       "        text-align: right;\n",
       "    }\n",
       "</style>\n",
       "<table border=\"1\" class=\"dataframe\">\n",
       "  <thead>\n",
       "    <tr style=\"text-align: right;\">\n",
       "      <th></th>\n",
       "      <th>Accuracy（正解率）</th>\n",
       "      <th>Precision（適合率）</th>\n",
       "      <th>Recall（再現率）</th>\n",
       "      <th>F値</th>\n",
       "    </tr>\n",
       "  </thead>\n",
       "  <tbody>\n",
       "    <tr>\n",
       "      <th>最近傍法</th>\n",
       "      <td>0.88</td>\n",
       "      <td>0.92</td>\n",
       "      <td>0.85</td>\n",
       "      <td>0.88</td>\n",
       "    </tr>\n",
       "    <tr>\n",
       "      <th>ロジスティック回帰</th>\n",
       "      <td>0.96</td>\n",
       "      <td>1.00</td>\n",
       "      <td>0.90</td>\n",
       "      <td>0.95</td>\n",
       "    </tr>\n",
       "    <tr>\n",
       "      <th>SVM</th>\n",
       "      <td>0.96</td>\n",
       "      <td>1.00</td>\n",
       "      <td>0.90</td>\n",
       "      <td>0.95</td>\n",
       "    </tr>\n",
       "    <tr>\n",
       "      <th>決定木</th>\n",
       "      <td>0.92</td>\n",
       "      <td>0.90</td>\n",
       "      <td>0.90</td>\n",
       "      <td>0.90</td>\n",
       "    </tr>\n",
       "    <tr>\n",
       "      <th>ランダムフォレスト</th>\n",
       "      <td>0.96</td>\n",
       "      <td>1.00</td>\n",
       "      <td>0.90</td>\n",
       "      <td>0.95</td>\n",
       "    </tr>\n",
       "  </tbody>\n",
       "</table>\n",
       "</div>"
      ],
      "text/plain": [
       "           Accuracy（正解率）  Precision（適合率）  Recall（再現率）    F値\n",
       "最近傍法                0.88            0.92         0.85  0.88\n",
       "ロジスティック回帰           0.96            1.00         0.90  0.95\n",
       "SVM                 0.96            1.00         0.90  0.95\n",
       "決定木                 0.92            0.90         0.90  0.90\n",
       "ランダムフォレスト           0.96            1.00         0.90  0.95"
      ]
     },
     "execution_count": 101,
     "metadata": {},
     "output_type": "execute_result"
    }
   ],
   "source": [
    "df1"
   ]
  },
  {
   "cell_type": "code",
   "execution_count": 102,
   "metadata": {},
   "outputs": [
    {
     "data": {
      "text/html": [
       "<div>\n",
       "<style scoped>\n",
       "    .dataframe tbody tr th:only-of-type {\n",
       "        vertical-align: middle;\n",
       "    }\n",
       "\n",
       "    .dataframe tbody tr th {\n",
       "        vertical-align: top;\n",
       "    }\n",
       "\n",
       "    .dataframe thead th {\n",
       "        text-align: right;\n",
       "    }\n",
       "</style>\n",
       "<table border=\"1\" class=\"dataframe\">\n",
       "  <thead>\n",
       "    <tr style=\"text-align: right;\">\n",
       "      <th></th>\n",
       "      <th>Accuracy（正解率）非</th>\n",
       "      <th>Precision（適合率）非</th>\n",
       "      <th>Recall（再現率）非</th>\n",
       "      <th>F値非</th>\n",
       "    </tr>\n",
       "  </thead>\n",
       "  <tbody>\n",
       "    <tr>\n",
       "      <th>最近傍法</th>\n",
       "      <td>0.92</td>\n",
       "      <td>0.88</td>\n",
       "      <td>1.00</td>\n",
       "      <td>0.93</td>\n",
       "    </tr>\n",
       "    <tr>\n",
       "      <th>ロジスティック回帰</th>\n",
       "      <td>0.84</td>\n",
       "      <td>0.86</td>\n",
       "      <td>0.86</td>\n",
       "      <td>0.86</td>\n",
       "    </tr>\n",
       "    <tr>\n",
       "      <th>SVM</th>\n",
       "      <td>0.88</td>\n",
       "      <td>0.83</td>\n",
       "      <td>1.00</td>\n",
       "      <td>0.90</td>\n",
       "    </tr>\n",
       "    <tr>\n",
       "      <th>決定木</th>\n",
       "      <td>0.88</td>\n",
       "      <td>0.83</td>\n",
       "      <td>1.00</td>\n",
       "      <td>0.90</td>\n",
       "    </tr>\n",
       "    <tr>\n",
       "      <th>ランダムフォレスト</th>\n",
       "      <td>0.92</td>\n",
       "      <td>0.88</td>\n",
       "      <td>1.00</td>\n",
       "      <td>0.93</td>\n",
       "    </tr>\n",
       "  </tbody>\n",
       "</table>\n",
       "</div>"
      ],
      "text/plain": [
       "           Accuracy（正解率）非  Precision（適合率）非  Recall（再現率）非   F値非\n",
       "最近傍法                 0.92             0.88          1.00  0.93\n",
       "ロジスティック回帰            0.84             0.86          0.86  0.86\n",
       "SVM                  0.88             0.83          1.00  0.90\n",
       "決定木                  0.88             0.83          1.00  0.90\n",
       "ランダムフォレスト            0.92             0.88          1.00  0.93"
      ]
     },
     "execution_count": 102,
     "metadata": {},
     "output_type": "execute_result"
    }
   ],
   "source": [
    "df2"
   ]
  },
  {
   "cell_type": "markdown",
   "metadata": {},
   "source": [
    "＜考察＞\n",
    "\n",
    "指標のまとめを見ると、標準化をしなかった結果、悪くなった指標もあれば、よくなった指標もあり一概に評価をするのが難しいが、正解率、適合率はどの手法でも標準化をしないと数値の評価は悪くなっている。\n",
    "しかし、再現率は標準化をしない方が高い傾向にあるような傾向も見られる（ロジスティック回帰を除く）\n",
    "\n",
    "決定領域に関しては、グラフを見ると領域に変化が見られたのが、ロジスティック回帰とSVMであった。\n",
    "残りの手法では特出するような大きな変化は少なかった。\n",
    "\n",
    "前処理をすることで、基本的にどの手法でも指標の数値がよくなり、より良い機械学習を行うことができることがわかる。\n",
    "\n",
    "標準化をしないと、手法によって大きく結果に違いが見られるものもあり、安定した分析ができない可能性がある。"
   ]
  },
  {
   "cell_type": "markdown",
   "metadata": {},
   "source": [
    "【問題10】（アドバンス課題）すべての目的変数を使用して精度が高い手法"
   ]
  },
  {
   "cell_type": "code",
   "execution_count": 107,
   "metadata": {},
   "outputs": [],
   "source": [
    "# データフレームから抜き出しをして整理\n",
    "\n",
    "df3chi=df[[\"sepal length (cm)\",\"petal length (cm)\",\"Species\"]]"
   ]
  },
  {
   "cell_type": "code",
   "execution_count": 108,
   "metadata": {},
   "outputs": [],
   "source": [
    "# データ分割\n",
    "\n",
    "import numpy as np\n",
    "df3chi_np=np.array(df3chi)\n",
    "\n",
    "from sklearn.model_selection import train_test_split\n",
    "df3chi_np_sp=train_test_split(df3chi_np)\n",
    "\n",
    "\n",
    "df3chi_kunren=df3chi_np_sp[0]\n",
    "df3chi_kensyo=df3chi_np_sp[1]\n",
    "\n",
    "df3chi_kunren_xx=df3chi_kunren[:,0:2]\n",
    "df3chi_kensyo_xx=df3chi_kensyo[:,0:2]\n",
    "\n",
    "df3chi_kunren_yy=df3chi_kunren[:,2]\n",
    "df3chi_kensyo_yy=df3chi_kensyo[:,2]"
   ]
  },
  {
   "cell_type": "code",
   "execution_count": 111,
   "metadata": {},
   "outputs": [],
   "source": [
    "# 訓練用データの標準化 特徴量\n",
    "from sklearn.preprocessing import StandardScaler\n",
    "scaler = StandardScaler()\n",
    "scaler.fit(df3chi_kunren)\n",
    "scaler.transform(df3chi_kunren)\n",
    "df3chi_std_kunren = pd.DataFrame(scaler.transform(df3chi_kunren), columns=[\"sepal length (cm)\",\"petal length (cm)\",\"Species\"])\n",
    "\n",
    "df3chi_std_kunren_x=df3chi_std_kunren.loc[:,[\"sepal length (cm)\",\"petal length (cm)\"]]\n",
    "df3chi_std_kunren_xnp=np.array(df3chi_std_kunren_x)\n",
    "\n",
    "df3chi_std_kunren_y=df3chi_std_kunren.loc[:,[\"Species\"]]\n",
    "df3chi_std_kunren_ynp=np.array(df3chi_std_kunren_y)"
   ]
  },
  {
   "cell_type": "code",
   "execution_count": 109,
   "metadata": {},
   "outputs": [],
   "source": [
    "# データ標準化\n",
    "\n",
    "# 検証用データの標準化 特徴量\n",
    "\n",
    "from sklearn.preprocessing import StandardScaler\n",
    "scaler = StandardScaler()\n",
    "scaler.fit(df3chi_kensyo)\n",
    "scaler.transform(df3chi_kensyo)\n",
    "df3chi_std_kensyo = pd.DataFrame(scaler.transform(df3chi_kensyo), columns=[\"sepal length (cm)\",\"petal length (cm)\",\"Species\"])\n",
    "\n",
    "df3chi_std_kensyo_x=df3chi_std_kensyo.loc[:,[\"sepal length (cm)\",\"petal length (cm)\"]]\n",
    "df3chi_std_kensyo_xnp=np.array(df3chi_std_kensyo_x)\n",
    "\n",
    "df3chi_std_kensyo_y=df3chi_std_kensyo.loc[:,[\"Species\"]]\n",
    "df3chi_std_kensyo_ynp=np.array(df3chi_std_kensyo_y)"
   ]
  },
  {
   "cell_type": "markdown",
   "metadata": {},
   "source": [
    "＜最近傍法　３値＞"
   ]
  },
  {
   "cell_type": "code",
   "execution_count": 116,
   "metadata": {},
   "outputs": [
    {
     "data": {
      "text/plain": [
       "array([2., 1., 1., 1., 2., 1., 2., 0., 1., 2., 0., 2., 0., 2., 2., 1., 0.,\n",
       "       1., 2., 1., 0., 2., 2., 0., 0., 0., 0., 0., 1., 1., 2., 1., 1., 0.,\n",
       "       2., 1., 0., 1.])"
      ]
     },
     "execution_count": 116,
     "metadata": {},
     "output_type": "execute_result"
    }
   ],
   "source": [
    "# 最近傍法（k-nearest neighbors, 5-nn）で学習\n",
    "\n",
    "from sklearn.neighbors import KNeighborsClassifier\n",
    "\n",
    "neigh = KNeighborsClassifier()\n",
    "neigh.fit(df3chi_std_kunren_xnp,df3chi_kunren_yy)\n",
    "\n",
    "neigh.predict(df3chi_std_kensyo_xnp)"
   ]
  },
  {
   "cell_type": "code",
   "execution_count": 138,
   "metadata": {},
   "outputs": [
    {
     "name": "stdout",
     "output_type": "stream",
     "text": [
      "0.9210526315789473\n",
      "0.9210526315789473\n",
      "0.9210526315789473\n",
      "0.9210526315789473\n"
     ]
    }
   ],
   "source": [
    "# Accuracy（正解率）\n",
    "y_pred_kin=neigh.predict(df3chi_std_kensyo_xnp)\n",
    "from sklearn.metrics import accuracy_score\n",
    "print(accuracy_score(df3chi_kensyo_yy, y_pred_kin))\n",
    "\n",
    "# Precision（適合率）\n",
    "from sklearn.metrics import precision_score\n",
    "print(precision_score(df3chi_kensyo_yy, y_pred_kin,average='micro'))\n",
    "\n",
    "# Recall（再現率）\n",
    "from sklearn.metrics import recall_score\n",
    "print(recall_score(df3chi_kensyo_yy, y_pred_kin,average='micro'))\n",
    "\n",
    "# F値\n",
    "from sklearn.metrics import f1_score\n",
    "print(f1_score(df3chi_kensyo_yy, y_pred_kin,average='micro'))"
   ]
  },
  {
   "cell_type": "code",
   "execution_count": 133,
   "metadata": {},
   "outputs": [],
   "source": [
    "import matplotlib.pyplot as plt\n",
    "from matplotlib.colors import ListedColormap\n",
    "import matplotlib.patches as mpatches\n",
    "def decision_region(X, y, model, step=0.01, title='decision region', xlabel='xlabel', ylabel='ylabel', target_names=['setosa','versicolor', 'virginica']):\n",
    "    \"\"\"\n",
    "    2値分類を2次元の特徴量で学習したモデルの決定領域を描く。\n",
    "    背景の色が学習したモデルによる推定値から描画される。\n",
    "    散布図の点は訓練データまたは検証データである。\n",
    "    Parameters\n",
    "    ----------------\n",
    "    X : ndarray, shape(n_samples, 2)\n",
    "        特徴量\n",
    "    y : ndarray, shape(n_samples,)\n",
    "        ラベル\n",
    "    model : object\n",
    "        学習したモデルのインスンタスを入れる\n",
    "    step : float, (default : 0.1)\n",
    "        推定値を計算する間隔を設定する\n",
    "    title : str\n",
    "        グラフのタイトルの文章を与える\n",
    "    xlabel, ylabel : str\n",
    "        軸ラベルの文章を与える\n",
    "    target_names= : list of str\n",
    "        凡例の一覧を与える\n",
    "    \"\"\"\n",
    "    # setting\n",
    "    scatter_color = ['red', 'blue','green']\n",
    "    contourf_color = ['pink', 'skyblue','lightgreen']\n",
    "    n_class = 3\n",
    "    # pred\n",
    "    mesh_f0, mesh_f1  = np.meshgrid(np.arange(np.min(X[:,0])-0.5, np.max(X[:,0])+0.5, step), np.arange(np.min(X[:,1])-0.5, np.max(X[:,1])+0.5, step))\n",
    "    mesh = np.c_[np.ravel(mesh_f0),np.ravel(mesh_f1)]\n",
    "    y_pred = model.predict(mesh).reshape(mesh_f0.shape)\n",
    "    # plot\n",
    "    plt.title(title)\n",
    "    plt.xlabel(xlabel)\n",
    "    plt.ylabel(ylabel)\n",
    "    plt.contourf(mesh_f0, mesh_f1, y_pred, n_class-1, cmap=ListedColormap(contourf_color))\n",
    "    plt.contour(mesh_f0, mesh_f1, y_pred, n_class-1, colors='y', linewidths=3, alpha=0.5)\n",
    "    for i, target in enumerate(set(y)):\n",
    "        plt.scatter(X[y==target][:, 0], X[y==target][:, 1], s=80, color=scatter_color[i], label=target_names[i], marker='o')\n",
    "    patches = [mpatches.Patch(color=scatter_color[i], label=target_names[i]) for i in range(n_class)]\n",
    "    plt.legend(handles=patches)\n",
    "    plt.legend()\n",
    "    plt.show()\n",
    "    "
   ]
  },
  {
   "cell_type": "code",
   "execution_count": 134,
   "metadata": {},
   "outputs": [
    {
     "data": {
      "image/png": "[encoded data removed]",
      "text/plain": [
       "<Figure size 432x288 with 1 Axes>"
      ]
     },
     "metadata": {
      "needs_background": "light"
     },
     "output_type": "display_data"
    }
   ],
   "source": [
    "decision_region(df3chi_std_kunren_xnp,df3chi_kunren_yy,neigh, step=0.01, title='decision region', xlabel='xlabel', ylabel='ylabel', target_names=['setosa','versicolor', 'virginica'])"
   ]
  },
  {
   "cell_type": "markdown",
   "metadata": {},
   "source": [
    "＜ロジスティック回帰　３値＞"
   ]
  },
  {
   "cell_type": "code",
   "execution_count": 135,
   "metadata": {},
   "outputs": [
    {
     "data": {
      "text/plain": [
       "array([2., 1., 2., 1., 2., 1., 2., 0., 2., 2., 0., 2., 0., 2., 2., 1., 0.,\n",
       "       2., 2., 1., 0., 2., 2., 0., 0., 0., 0., 0., 2., 1., 2., 1., 1., 0.,\n",
       "       2., 2., 0., 1.])"
      ]
     },
     "execution_count": 135,
     "metadata": {},
     "output_type": "execute_result"
    }
   ],
   "source": [
    "#　学習\n",
    "from sklearn.linear_model import LogisticRegression\n",
    "clf = LogisticRegression()\n",
    "clf.fit(df3chi_std_kunren_xnp,df3chi_kunren_yy)\n",
    "\n",
    "# 推定\n",
    "clf.predict(df3chi_std_kensyo_xnp)"
   ]
  },
  {
   "cell_type": "code",
   "execution_count": 140,
   "metadata": {},
   "outputs": [
    {
     "name": "stdout",
     "output_type": "stream",
     "text": [
      "0.8421052631578947\n",
      "0.8421052631578947\n",
      "0.8421052631578947\n",
      "0.8421052631578947\n"
     ]
    }
   ],
   "source": [
    "# Accuracy（正解率）\n",
    "y_pred_kin=clf.predict(df3chi_std_kensyo_xnp)\n",
    "from sklearn.metrics import accuracy_score\n",
    "print(accuracy_score(df3chi_kensyo_yy, y_pred_kin))\n",
    "\n",
    "# Precision（適合率）\n",
    "from sklearn.metrics import precision_score\n",
    "print(precision_score(df3chi_kensyo_yy, y_pred_kin,average='micro'))\n",
    "\n",
    "# Recall（再現率）\n",
    "from sklearn.metrics import recall_score\n",
    "print(recall_score(df3chi_kensyo_yy, y_pred_kin,average='micro'))\n",
    "\n",
    "# F値\n",
    "from sklearn.metrics import f1_score\n",
    "print(f1_score(df3chi_kensyo_yy, y_pred_kin,average='micro'))"
   ]
  },
  {
   "cell_type": "code",
   "execution_count": 137,
   "metadata": {},
   "outputs": [
    {
     "data": {
      "image/png": "[encoded data removed]",
      "text/plain": [
       "<Figure size 432x288 with 1 Axes>"
      ]
     },
     "metadata": {
      "needs_background": "light"
     },
     "output_type": "display_data"
    }
   ],
   "source": [
    "decision_region(df3chi_std_kunren_xnp,df3chi_kunren_yy,clf, step=0.01, title='decision region', xlabel='xlabel', ylabel='ylabel', target_names=['setosa','versicolor', 'virginica'])"
   ]
  },
  {
   "cell_type": "markdown",
   "metadata": {},
   "source": [
    "＜SVM＞"
   ]
  },
  {
   "cell_type": "code",
   "execution_count": 139,
   "metadata": {},
   "outputs": [
    {
     "data": {
      "text/plain": [
       "array([2., 1., 1., 1., 1., 1., 2., 0., 1., 2., 0., 2., 0., 2., 2., 1., 0.,\n",
       "       1., 2., 1., 0., 2., 2., 0., 0., 0., 0., 0., 1., 1., 2., 1., 1., 0.,\n",
       "       2., 1., 0., 1.])"
      ]
     },
     "execution_count": 139,
     "metadata": {},
     "output_type": "execute_result"
    }
   ],
   "source": [
    "clfsvm = make_pipeline(StandardScaler(), SVC(gamma='auto'))\n",
    "clfsvm.fit(df3chi_std_kunren_xnp,df3chi_kunren_yy)\n",
    "\n",
    "# 推定\n",
    "clfsvm.predict(df3chi_std_kensyo_xnp)"
   ]
  },
  {
   "cell_type": "code",
   "execution_count": 141,
   "metadata": {},
   "outputs": [
    {
     "name": "stdout",
     "output_type": "stream",
     "text": [
      "0.9473684210526315\n",
      "0.9473684210526315\n",
      "0.9473684210526315\n",
      "0.9473684210526315\n"
     ]
    }
   ],
   "source": [
    "# Accuracy（正解率）\n",
    "y_pred_kin=clfsvm.predict(df3chi_std_kensyo_xnp)\n",
    "from sklearn.metrics import accuracy_score\n",
    "print(accuracy_score(df3chi_kensyo_yy, y_pred_kin))\n",
    "\n",
    "# Precision（適合率）\n",
    "from sklearn.metrics import precision_score\n",
    "print(precision_score(df3chi_kensyo_yy, y_pred_kin,average='micro'))\n",
    "\n",
    "# Recall（再現率）\n",
    "from sklearn.metrics import recall_score\n",
    "print(recall_score(df3chi_kensyo_yy, y_pred_kin,average='micro'))\n",
    "\n",
    "# F値\n",
    "from sklearn.metrics import f1_score\n",
    "print(f1_score(df3chi_kensyo_yy, y_pred_kin,average='micro'))"
   ]
  },
  {
   "cell_type": "code",
   "execution_count": 142,
   "metadata": {},
   "outputs": [
    {
     "data": {
      "image/png": "[encoded data removed]",
      "text/plain": [
       "<Figure size 432x288 with 1 Axes>"
      ]
     },
     "metadata": {
      "needs_background": "light"
     },
     "output_type": "display_data"
    }
   ],
   "source": [
    "decision_region(df3chi_std_kunren_xnp,df3chi_kunren_yy,clfsvm, step=0.01, title='decision region', xlabel='xlabel', ylabel='ylabel', target_names=['setosa','versicolor', 'virginica'])"
   ]
  },
  {
   "cell_type": "markdown",
   "metadata": {},
   "source": [
    "＜決定木＞"
   ]
  },
  {
   "cell_type": "code",
   "execution_count": 143,
   "metadata": {},
   "outputs": [
    {
     "data": {
      "text/plain": [
       "array([2., 1., 1., 1., 1., 1., 2., 0., 1., 2., 0., 2., 0., 2., 2., 1., 0.,\n",
       "       1., 1., 1., 0., 2., 2., 0., 0., 0., 0., 0., 1., 1., 2., 1., 1., 0.,\n",
       "       2., 1., 0., 1.])"
      ]
     },
     "execution_count": 143,
     "metadata": {},
     "output_type": "execute_result"
    }
   ],
   "source": [
    "clftree = DecisionTreeClassifier(random_state=0)\n",
    "clftree.fit(df3chi_std_kunren_xnp,df3chi_kunren_yy)\n",
    "\n",
    "# 推定\n",
    "clftree.predict(df3chi_std_kensyo_xnp)"
   ]
  },
  {
   "cell_type": "code",
   "execution_count": 156,
   "metadata": {},
   "outputs": [
    {
     "name": "stdout",
     "output_type": "stream",
     "text": [
      "0.9210526315789473\n",
      "0.9210526315789473\n",
      "0.9210526315789473\n",
      "0.9210526315789473\n"
     ]
    }
   ],
   "source": [
    "# Accuracy（正解率）\n",
    "y_pred_kin=clftree.predict(df3chi_std_kensyo_xnp)\n",
    "from sklearn.metrics import accuracy_score\n",
    "print(accuracy_score(df3chi_kensyo_yy, y_pred_kin))\n",
    "\n",
    "# Precision（適合率）\n",
    "from sklearn.metrics import precision_score\n",
    "print(precision_score(df3chi_kensyo_yy, y_pred_kin,average='micro'))\n",
    "\n",
    "# Recall（再現率）\n",
    "from sklearn.metrics import recall_score\n",
    "print(recall_score(df3chi_kensyo_yy, y_pred_kin,average='micro'))\n",
    "\n",
    "# F値\n",
    "from sklearn.metrics import f1_score\n",
    "print(f1_score(df3chi_kensyo_yy, y_pred_kin,average='micro'))"
   ]
  },
  {
   "cell_type": "code",
   "execution_count": 157,
   "metadata": {},
   "outputs": [
    {
     "data": {
      "image/png": "[encoded data removed]",
      "text/plain": [
       "<Figure size 432x288 with 1 Axes>"
      ]
     },
     "metadata": {
      "needs_background": "light"
     },
     "output_type": "display_data"
    }
   ],
   "source": [
    "decision_region(df3chi_std_kunren_xnp,df3chi_kunren_yy,clftree, step=0.01, title='decision region', xlabel='xlabel', ylabel='ylabel', target_names=['setosa','versicolor', 'virginica'])"
   ]
  },
  {
   "cell_type": "markdown",
   "metadata": {},
   "source": [
    "＜ランダムフォレスト＞"
   ]
  },
  {
   "cell_type": "code",
   "execution_count": 158,
   "metadata": {},
   "outputs": [
    {
     "data": {
      "text/plain": [
       "array([2., 1., 1., 1., 1., 1., 2., 0., 1., 1., 0., 2., 0., 2., 2., 1., 0.,\n",
       "       1., 2., 1., 0., 2., 2., 0., 0., 0., 0., 0., 1., 1., 2., 1., 1., 0.,\n",
       "       2., 2., 0., 1.])"
      ]
     },
     "execution_count": 158,
     "metadata": {},
     "output_type": "execute_result"
    }
   ],
   "source": [
    "clfrandom = RandomForestClassifier(max_depth=2, random_state=0)\n",
    "clfrandom.fit(df3chi_std_kunren_xnp,df3chi_kunren_yy)\n",
    "\n",
    "# 推定\n",
    "clfrandom.predict(df3chi_std_kensyo_xnp)"
   ]
  },
  {
   "cell_type": "code",
   "execution_count": 159,
   "metadata": {},
   "outputs": [
    {
     "name": "stdout",
     "output_type": "stream",
     "text": [
      "0.9473684210526315\n",
      "0.9473684210526315\n",
      "0.9473684210526315\n",
      "0.9473684210526315\n"
     ]
    }
   ],
   "source": [
    "# Accuracy（正解率）\n",
    "y_pred_kin=clfrandom.predict(df3chi_std_kensyo_xnp)\n",
    "from sklearn.metrics import accuracy_score\n",
    "print(accuracy_score(df3chi_kensyo_yy, y_pred_kin))\n",
    "\n",
    "# Precision（適合率）\n",
    "from sklearn.metrics import precision_score\n",
    "print(precision_score(df3chi_kensyo_yy, y_pred_kin,average='micro'))\n",
    "\n",
    "# Recall（再現率）\n",
    "from sklearn.metrics import recall_score\n",
    "print(recall_score(df3chi_kensyo_yy, y_pred_kin,average='micro'))\n",
    "\n",
    "# F値\n",
    "from sklearn.metrics import f1_score\n",
    "print(f1_score(df3chi_kensyo_yy, y_pred_kin,average='micro'))"
   ]
  },
  {
   "cell_type": "code",
   "execution_count": 160,
   "metadata": {},
   "outputs": [
    {
     "data": {
      "image/png": "[encoded data removed]",
      "text/plain": [
       "<Figure size 432x288 with 1 Axes>"
      ]
     },
     "metadata": {
      "needs_background": "light"
     },
     "output_type": "display_data"
    }
   ],
   "source": [
    "decision_region(df3chi_std_kunren_xnp,df3chi_kunren_yy,clfrandom, step=0.01, title='decision region', xlabel='xlabel', ylabel='ylabel', target_names=['setosa','versicolor', 'virginica'])"
   ]
  },
  {
   "cell_type": "markdown",
   "metadata": {},
   "source": [
    "＜考察＞\n",
    "\n",
    "５パターンで３値で行ったところ、ロジスティック回帰では他の４つと比べ少し悪い数値となった。\n",
    "もっとも良い手法は＜ランダムフォレスト＞＜SVM＞となった。\n",
    "ただ近傍法もまずまずの数値であった。"
   ]
  }
 ],
 "metadata": {
  "kernelspec": {
   "display_name": "Python 3",
   "language": "python",
   "name": "python3"
  },
  "language_info": {
   "codemirror_mode": {
    "name": "ipython",
    "version": 3
   },
   "file_extension": ".py",
   "mimetype": "text/x-python",
   "name": "python",
   "nbconvert_exporter": "python",
   "pygments_lexer": "ipython3",
   "version": "3.7.2"
  }
 },
 "nbformat": 4,
 "nbformat_minor": 2
}
