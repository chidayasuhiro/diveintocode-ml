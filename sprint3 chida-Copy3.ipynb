{
 "cells": [
  {
   "cell_type": "markdown",
   "metadata": {},
   "source": [
    "線形回帰"
   ]
  },
  {
   "cell_type": "markdown",
   "metadata": {},
   "source": [
    "線形回帰スクラッチ"
   ]
  },
  {
   "cell_type": "markdown",
   "metadata": {},
   "source": [
    "【問題1】仮定関数"
   ]
  },
  {
   "cell_type": "code",
   "execution_count": 6,
   "metadata": {},
   "outputs": [],
   "source": [
    "# パラメータベクトルは仮でnp.arangeで作成する,そこに本来はパラメータの推定量が入る\n",
    "\n",
    "def _linear_hypothesis(self, X):\n",
    "    \"\"\"\n",
    "    線形の仮定関数を計算する\n",
    "    Parameters\n",
    "    ----------\n",
    "    X : 次の形のndarray, shape (n_samples, n_features)\n",
    "      訓練データ\n",
    "    Returns\n",
    "    -------\n",
    "    y :次の形のndarray, shape (n_samples, 1)\n",
    "       線形の仮定関数による推定結果\n",
    "    \"\"\"\n",
    "    theta=np.arange(1,len(X)+1)\n",
    "    theta=theta.reshape(len(X),1)\n",
    "    y=x@theta\n",
    "\n",
    "    return y"
   ]
  },
  {
   "cell_type": "markdown",
   "metadata": {},
   "source": [
    "【問題2】最急降下法"
   ]
  },
  {
   "cell_type": "code",
   "execution_count": 74,
   "metadata": {},
   "outputs": [],
   "source": [
    "def gradient_descent(X, y, number, gakusyu):\n",
    "    \"\"\"\n",
    "    最急降下法によるパラメータの推定値を求める\n",
    "    初期値は１で行っている\n",
    "    それぞれのイテレーション毎の値のリストも返す\n",
    "    分析が安定するため定数項も入れて行い、定数項入りのリストも変える\n",
    "    Parameters\n",
    "    ----------\n",
    "    X : 次の形のndarray, shape (n_samples, n_features)\n",
    "      訓練データ\n",
    "    y : 次の形のndarray, shape (n_samples, )\n",
    "    　訓練データの正解値\n",
    "    number:　int\n",
    "    　最急降下法のイテレーション数\n",
    "    gakusyu: int\n",
    "    　学習率\n",
    "     \n",
    "    Returns\n",
    "    -------\n",
    "    theta_pre : 次の形のndarray, shape (n_samples, 1)\n",
    "                線形の仮定関数の最急降下法によるパラメータの推定値の行列\n",
    "    list_param:　次の形のndarray, shape (number, 1)   \n",
    "    \n",
    "    X_a: 次の形のndarray, shape (n_samples, n_features+1)\n",
    "         定数項入りの説明変数リスト\n",
    "    \"\"\"\n",
    "    #　定数項を作成\n",
    "    X1=np.ones(len(X))\n",
    "    #　定数項を接続\n",
    "    X2=np.insert(X,0,X1,axis=1)\n",
    "    X_a=X2\n",
    "    #　初期値　１で設定\n",
    "    param=np.ones(X2.shape[1])\n",
    "\n",
    "    theta_pre=[]\n",
    "    list_param=[]\n",
    "    for i in range(number) :\n",
    "        a1=X2@param-y\n",
    "        a2=X2.T@a1\n",
    "        a3=param-(gakusyu*a2)/len(X2)\n",
    "        theta_pre=a3\n",
    "        list_param.append(theta_pre)\n",
    "        param=theta_pre\n",
    "        \n",
    "    return theta_pre,X_a,list_param"
   ]
  },
  {
   "cell_type": "code",
   "execution_count": 67,
   "metadata": {},
   "outputs": [],
   "source": [
    "a,b,c=gradient_descent(setsumei_np,mokuteki_np,10,0.0000002)"
   ]
  },
  {
   "cell_type": "markdown",
   "metadata": {},
   "source": [
    "【問題3】推定"
   ]
  },
  {
   "cell_type": "code",
   "execution_count": 75,
   "metadata": {},
   "outputs": [],
   "source": [
    "def predict(X, y, number, gakusyu):\n",
    "    \"\"\"\n",
    "    線形回帰を使い推定する。\n",
    "    Parameters\n",
    "    ----------\n",
    "    X : 次の形のndarray, shape (n_samples, n_features)\n",
    "        サンプル\n",
    "    Returns\n",
    "    -------\n",
    "    y_pred:次の形のndarray, shape (n_samples, 1)\n",
    "    　　　  線形回帰による推定結果\n",
    "    \"\"\"\n",
    "    theta_pre,X_a,list_param=gradient_descent(X, y, number, gakusyu)\n",
    "    theta_pre=theta_pre.reshape(len(theta_pre),1)\n",
    "    \n",
    "    y_pred=X_a@theta_pre\n",
    "    \n",
    "    return y_pred"
   ]
  },
  {
   "cell_type": "markdown",
   "metadata": {},
   "source": [
    "【問題4】平均二乗誤差"
   ]
  },
  {
   "cell_type": "code",
   "execution_count": 5,
   "metadata": {},
   "outputs": [],
   "source": [
    "def MSE(y_pred, y):\n",
    "    \"\"\"\n",
    "    平均二乗誤差の計算\n",
    "    Parameters\n",
    "    ----------\n",
    "    y_pred : 次の形のndarray, shape (n_samples,)\n",
    "      推定した値\n",
    "    y : 次の形のndarray, shape (n_samples,)\n",
    "      正解値\n",
    "    Returns\n",
    "    ----------\n",
    "    mse : numpy.float\n",
    "      平均二乗誤差\n",
    "    \"\"\"\n",
    "    e_sum=0\n",
    "    for i in range(len(y_pred)):\n",
    "        e_sum += (y_pred[i]-y[i])**2\n",
    "    \n",
    "    mse=e_sum/len(y_pred)\n",
    "    \n",
    "    return mse"
   ]
  },
  {
   "cell_type": "markdown",
   "metadata": {},
   "source": [
    "【問題5】目的関数"
   ]
  },
  {
   "cell_type": "code",
   "execution_count": 6,
   "metadata": {},
   "outputs": [],
   "source": [
    "def obje_func(y_pred, y):\n",
    "    \"\"\"\n",
    "    平均二乗誤差の計算\n",
    "    Parameters\n",
    "    ----------\n",
    "    y_pred : 次の形のndarray, shape (n_samples,)\n",
    "      推定した値\n",
    "    y : 次の形のndarray, shape (n_samples,)\n",
    "      正解値\n",
    "    Returns\n",
    "    ----------\n",
    "    obj : numpy.float\n",
    "      平均二乗誤差\n",
    "    \"\"\"\n",
    "    e_sum=0\n",
    "    for i in range(len(y_pred)):\n",
    "        e_sum += (y_pred[i]-y[i])**2\n",
    "    \n",
    "    mse=e_sum/2*len(y_pred)\n",
    "    \n",
    "    return obj"
   ]
  },
  {
   "cell_type": "markdown",
   "metadata": {},
   "source": [
    "【問題6】学習と推定"
   ]
  },
  {
   "cell_type": "code",
   "execution_count": 7,
   "metadata": {},
   "outputs": [],
   "source": [
    "# PandasのDataFrame型のtrain_dataに格納\n",
    "import pandas as pd\n",
    "import numpy as np\n",
    "\n",
    "train_data=pd.read_csv(\"/Users/chidayasuhiro/diveintocode-ml/train.csv\")"
   ]
  },
  {
   "cell_type": "code",
   "execution_count": 8,
   "metadata": {},
   "outputs": [],
   "source": [
    "setsumei =train_data.loc[:,['GrLivArea','YearBuilt']]\n",
    "mokuteki =train_data.loc[:,\"SalePrice\"]\n",
    "chi=pd.concat([setsumei,mokuteki],axis=1)"
   ]
  },
  {
   "cell_type": "code",
   "execution_count": 9,
   "metadata": {},
   "outputs": [],
   "source": [
    "setsumei_np=np.array(setsumei)\n",
    "mokuteki_np=np.array(mokuteki)"
   ]
  },
  {
   "cell_type": "code",
   "execution_count": 68,
   "metadata": {},
   "outputs": [],
   "source": [
    "# 最急降下法の関数に入れてみる\n",
    "# イテレーション数は２０回、学習率は0.0000001で行ってみる\n",
    "# 最急降下法による推定値とイテレーションごとの推定値が返ってくる\n",
    "a,b,c=gradient_descent(setsumei_np,mokuteki_np,20,0.0000002)"
   ]
  },
  {
   "cell_type": "code",
   "execution_count": 76,
   "metadata": {},
   "outputs": [
    {
     "data": {
      "text/plain": [
       "array([[199185.24803543],\n",
       "       [164479.09733593],\n",
       "       [204841.84448429],\n",
       "       ...,\n",
       "       [244480.5995767 ],\n",
       "       [149701.22998136],\n",
       "       [163640.74010461]])"
      ]
     },
     "execution_count": 76,
     "metadata": {},
     "output_type": "execute_result"
    }
   ],
   "source": [
    "# 問題３で作った関数で推定を行う\n",
    "\n",
    "predict(setsumei_np,mokuteki_np,20,0.0000002)"
   ]
  },
  {
   "cell_type": "code",
   "execution_count": 28,
   "metadata": {},
   "outputs": [
    {
     "data": {
      "text/plain": [
       "array([232622.20382914, 161748.95310014, 237763.19633558, ...,\n",
       "       227734.15392307, 117045.74083225, 149673.46248532])"
      ]
     },
     "execution_count": 28,
     "metadata": {},
     "output_type": "execute_result"
    }
   ],
   "source": [
    "# scikit-learnによる結果比べてみる\n",
    "\n",
    "from sklearn.linear_model import LinearRegression\n",
    "reg = LinearRegression()\n",
    "reg.fit(setsumei_np,mokuteki_np)\n",
    "y_pred=reg.predict(setsumei_np)\n",
    "y_pred"
   ]
  },
  {
   "cell_type": "markdown",
   "metadata": {},
   "source": [
    "ぱっと見では大きく離れてはいなく、ケタ数などはある程度許容範囲内にいるように見える"
   ]
  },
  {
   "cell_type": "code",
   "execution_count": 161,
   "metadata": {},
   "outputs": [],
   "source": [
    "# ここまでのをまとめて雛形を使用し線形回帰のクラスをスクラッチで作成\n",
    "\n",
    "class ScratchLinearRegression():\n",
    "    \"\"\"\n",
    "    線形回帰のスクラッチ実装\n",
    "    \n",
    "    Parameters\n",
    "    ----------\n",
    "    num_iter : int\n",
    "      イテレーション数\n",
    "    lr : float\n",
    "      学習率\n",
    "    no_bias : bool\n",
    "      バイアス項を入れない場合はTrue\n",
    "    verbose : bool\n",
    "      学習過程を出力する場合はTrue\n",
    "    \n",
    "    Attributes\n",
    "    ----------\n",
    "    self.coef_ : 次の形のndarray, shape (n_features,)\n",
    "      パラメータ\n",
    "    self.loss : 次の形のndarray, shape (self.iter,)\n",
    "      訓練データに対する損失の記録\n",
    "    self.val_loss : 次の形のndarray, shape (self.iter,)\n",
    "      検証データに対する損失の記録\n",
    "    \"\"\"\n",
    "    \n",
    "    def __init__(self, num_iter, lr, no_bias, verbose):\n",
    "        # ハイパーパラメータを属性として記録\n",
    "        self.iter = num_iter\n",
    "        self.lr = lr\n",
    "        self.no_bias = no_bias\n",
    "        self.verbose = verbose\n",
    "        # 損失を記録する配列を用意\n",
    "        self.loss = np.zeros(self.iter)\n",
    "        self.val_loss = np.zeros(self.iter)\n",
    "        \n",
    "    def fit(self,X, y,number,gakusyu):\n",
    "        \"\"\"\n",
    "        最急降下法によるパラメータの推定値を求める\n",
    "        初期値は１で行っている\n",
    "        それぞれのイテレーション毎の値のリストも返す\n",
    "        分析が安定するため定数項も入れて行い、定数項入りのリストも変える\n",
    "        Parameters\n",
    "        ----------\n",
    "        X : 次の形のndarray, shape (n_samples, n_features)\n",
    "          訓練データ\n",
    "        y : 次の形のndarray, shape (n_samples, )\n",
    "         訓練データの正解値\n",
    "        number:　int\n",
    "         最急降下法のイテレーション数\n",
    "        gakusyu: int\n",
    "         学習率\n",
    "\n",
    "        Returns\n",
    "        -------\n",
    "        theta_pre : 次の形のndarray, shape (n_samples, 1)\n",
    "                    線形の仮定関数の最急降下法によるパラメータの推定値の行列\n",
    "        list_param:　次の形のndarray, shape (number, 1)   \n",
    "\n",
    "        X_a: 次の形のndarray, shape (n_samples, n_features+1)\n",
    "             定数項入りの説明変数リスト\n",
    "        \"\"\"\n",
    "        #　定数項を作成\n",
    "        X1=np.ones(len(X))\n",
    "        #　定数項を接続\n",
    "        X2=np.insert(X,0,X1,axis=1)\n",
    "        X_a=X2\n",
    "        #　初期値　１で設定\n",
    "        param=np.ones(X2.shape[1])\n",
    "\n",
    "        theta_pre=[]\n",
    "        list_param=[]\n",
    "        for i in range(number) :\n",
    "            a1=X2@param-y\n",
    "            a2=X2.T@a1\n",
    "            a3=param-(gakusyu*a2)/len(X2)\n",
    "            theta_pre=a3\n",
    "            list_param.append(theta_pre)\n",
    "            param=theta_pre\n",
    "\n",
    "        return theta_pre,X_a,list_param\n",
    "        \n",
    "\n",
    "        \n",
    "    def predict(self,X,X_val,y,y_val,param,list_param):\n",
    "        \"\"\"\n",
    "        線形回帰を使い推定する。\n",
    "        Parameters\n",
    "        ----------\n",
    "        X : 次の形のndarray, shape (n_samples, n_features+1)\n",
    "            定数項を加えたサンプル\n",
    "\n",
    "        X_val : 次の形のndarray, shape (n_samples, n_features+1)\n",
    "            検証データの特徴量\n",
    "        y : 次の形のndarray, shape (n_samples,)\n",
    "\n",
    "        y_val : 次の形のndarray, shape (n_samples,)\n",
    "            検証データ用\n",
    "\n",
    "        param: 次の形のndarray, shape (n_features+1)\n",
    "            分析結果の推定値\n",
    "        list_param：次の形のndarray, shape (イテレーション数の数,n_features+1)\n",
    "            イテレーション毎の推定値リスト\n",
    "        Returns\n",
    "        -------\n",
    "        y_pred1:次の形のndarray, shape (n_samples, 1)\n",
    "             線形回帰による訓練データの推定結果\n",
    "        y_pred2:次の形のndarray, shape (n_samples, 1)\n",
    "             線形回帰による検証データの推定結果\n",
    "        \"\"\"\n",
    "        param_pre=param.reshape(len(param),1)\n",
    "\n",
    "        y_pred1=X@param_pre\n",
    "        y_pred2=X_val@param_pre\n",
    "\n",
    "        loss=[]\n",
    "        for i in range(len(list_param)):\n",
    "            son1=X@list_param[i]\n",
    "            son2=sum((son1-y)**2)\n",
    "            son3=son2/2*len(X)\n",
    "            loss.append(son3)\n",
    "            \n",
    "        val_loss=[]\n",
    "        for i in range(len(list_param)):\n",
    "            son1=X_val@list_param[i]\n",
    "            son2=sum((son1-y_val)**2)\n",
    "            son3=son2/2*len(X_val)\n",
    "            val_loss.append(son3)\n",
    "    \n",
    "        return y_pred1,y_pred2,loss,val_loss"
   ]
  },
  {
   "cell_type": "markdown",
   "metadata": {},
   "source": [
    "【問題7】学習曲線のプロット"
   ]
  },
  {
   "cell_type": "code",
   "execution_count": 170,
   "metadata": {},
   "outputs": [],
   "source": [
    "from sklearn.model_selection import train_test_split\n",
    "xx=train_test_split(b)\n",
    "xx1=xx[0]\n",
    "xx1_val=xx[1]\n",
    "\n",
    "yy=train_test_split(mokuteki_np)\n",
    "yy1=yy[0]\n",
    "yy1_val=yy[1]"
   ]
  },
  {
   "cell_type": "code",
   "execution_count": 179,
   "metadata": {},
   "outputs": [],
   "source": [
    "slr2=ScratchLinearRegression(10,0.0000001,True,True)\n",
    "a,b,c=slr2.fit(setsumei_np,mokuteki_np,10,0.0000001)\n",
    "o,p,q,r=slr2.predict(xx1,xx1_val,yy1,yy1_val,a,c)"
   ]
  },
  {
   "cell_type": "code",
   "execution_count": 187,
   "metadata": {},
   "outputs": [
    {
     "data": {
      "text/plain": [
       "[<matplotlib.lines.Line2D at 0x7f87e889cf98>]"
      ]
     },
     "execution_count": 187,
     "metadata": {},
     "output_type": "execute_result"
    },
    {
     "data": {
      "image/png": "[encoded data removed]",
      "text/plain": [
       "<Figure size 432x288 with 1 Axes>"
      ]
     },
     "metadata": {
      "needs_background": "light"
     },
     "output_type": "display_data"
    }
   ],
   "source": [
    "# lossのグラフ\n",
    "plt.plot(r)"
   ]
  },
  {
   "cell_type": "code",
   "execution_count": 188,
   "metadata": {},
   "outputs": [
    {
     "data": {
      "text/plain": [
       "[<matplotlib.lines.Line2D at 0x7f87da541dd8>]"
      ]
     },
     "execution_count": 188,
     "metadata": {},
     "output_type": "execute_result"
    },
    {
     "data": {
      "image/png": "[encoded data removed]",
      "text/plain": [
       "<Figure size 432x288 with 1 Axes>"
      ]
     },
     "metadata": {
      "needs_background": "light"
     },
     "output_type": "display_data"
    }
   ],
   "source": [
    "# val_lossのグラフ\n",
    "plt.plot(q)"
   ]
  },
  {
   "cell_type": "code",
   "execution_count": null,
   "metadata": {},
   "outputs": [],
   "source": []
  }
 ],
 "metadata": {
  "kernelspec": {
   "display_name": "Python 3",
   "language": "python",
   "name": "python3"
  },
  "language_info": {
   "codemirror_mode": {
    "name": "ipython",
    "version": 3
   },
   "file_extension": ".py",
   "mimetype": "text/x-python",
   "name": "python",
   "nbconvert_exporter": "python",
   "pygments_lexer": "ipython3",
   "version": "3.7.2"
  }
 },
 "nbformat": 4,
 "nbformat_minor": 2
}
