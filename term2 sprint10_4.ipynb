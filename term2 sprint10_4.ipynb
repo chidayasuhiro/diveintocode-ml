{
 "cells": [
  {
   "cell_type": "code",
   "execution_count": 523,
   "metadata": {},
   "outputs": [],
   "source": [
    "import numpy as np\n",
    "import math \n",
    "from keras.datasets import mnist\n",
    "(X_train, y_train), (X_test, y_test) = mnist.load_data()"
   ]
  },
  {
   "cell_type": "code",
   "execution_count": 524,
   "metadata": {},
   "outputs": [],
   "source": [
    "X_train = X_train.reshape(-1, 784)\n",
    "X_test = X_test.reshape(-1, 784)"
   ]
  },
  {
   "cell_type": "code",
   "execution_count": 525,
   "metadata": {},
   "outputs": [
    {
     "data": {
      "image/png": "[encoded data removed]",
      "text/plain": [
       "<Figure size 432x288 with 1 Axes>"
      ]
     },
     "metadata": {
      "needs_background": "light"
     },
     "output_type": "display_data"
    }
   ],
   "source": [
    "import matplotlib.pyplot as plt\n",
    "%matplotlib inline\n",
    "index = 0\n",
    "image = X_train[index].reshape(28,28)\n",
    "# X_train[index]: (784,)\n",
    "# image: (28, 28)\n",
    "plt.imshow(image, 'gray')\n",
    "plt.title('label : {}'.format(y_train[index]))\n",
    "plt.show()"
   ]
  },
  {
   "cell_type": "code",
   "execution_count": 526,
   "metadata": {},
   "outputs": [
    {
     "name": "stdout",
     "output_type": "stream",
     "text": [
      "1.0\n",
      "0.0\n"
     ]
    }
   ],
   "source": [
    "X_train = X_train.astype(np.float)\n",
    "X_test = X_test.astype(np.float)\n",
    "X_train /= 255\n",
    "X_test /= 255\n",
    "print(X_train.max()) # 1.0\n",
    "print(X_train.min()) # 0.0"
   ]
  },
  {
   "cell_type": "code",
   "execution_count": 527,
   "metadata": {},
   "outputs": [
    {
     "name": "stdout",
     "output_type": "stream",
     "text": [
      "(60000,)\n",
      "(60000, 10)\n",
      "float64\n"
     ]
    }
   ],
   "source": [
    "from sklearn.preprocessing import OneHotEncoder\n",
    "enc = OneHotEncoder(handle_unknown='ignore', sparse=False)\n",
    "y_train_one_hot = enc.fit_transform(y_train[:, np.newaxis])\n",
    "y_test_one_hot = enc.transform(y_test[:, np.newaxis])\n",
    "print(y_train.shape) # (60000,)\n",
    "print(y_train_one_hot.shape) # (60000, 10)\n",
    "print(y_train_one_hot.dtype) # float64"
   ]
  },
  {
   "cell_type": "code",
   "execution_count": 528,
   "metadata": {},
   "outputs": [
    {
     "name": "stdout",
     "output_type": "stream",
     "text": [
      "(48000, 784)\n",
      "(12000, 784)\n"
     ]
    }
   ],
   "source": [
    "from sklearn.model_selection import train_test_split\n",
    "X_train, X_val, y_train, y_val = train_test_split(X_train, y_train_one_hot, test_size=0.2)\n",
    "print(X_train.shape) # (48000, 784)\n",
    "print(X_val.shape) # (12000, 784)"
   ]
  },
  {
   "cell_type": "code",
   "execution_count": 646,
   "metadata": {},
   "outputs": [],
   "source": [
    "class GetMiniBatch:\n",
    "    \"\"\"\n",
    "    ミニバッチを取得するイテレータ\n",
    "    Parameters\n",
    "    ----------\n",
    "    X : 次の形のndarray, shape (n_samples, n_features)\n",
    "      訓練データ\n",
    "    y : 次の形のndarray, shape (n_samples, 1)\n",
    "      正解値\n",
    "    batch_size : int\n",
    "      バッチサイズ\n",
    "    seed : int\n",
    "      NumPyの乱数のシード\n",
    "    \"\"\"\n",
    "    def __init__(self, X, y, batch_size = 20, seed=0):\n",
    "        self.batch_size = batch_size\n",
    "        np.random.seed(seed)\n",
    "        shuffle_index = np.random.permutation(np.arange(X.shape[0]))\n",
    "        self._X = X[shuffle_index]\n",
    "        self._y = y[shuffle_index]\n",
    "        self._stop = np.ceil(X.shape[0]/self.batch_size).astype(np.int)\n",
    "    def __len__(self):\n",
    "        return self._stop\n",
    "    def __getitem__(self,item):\n",
    "        p0 = item*self.batch_size\n",
    "        p1 = item*self.batch_size + self.batch_size\n",
    "        return self._X[p0:p1], self._y[p0:p1]        \n",
    "    def __iter__(self):\n",
    "        self._counter = 0\n",
    "        return self\n",
    "    def __next__(self):\n",
    "        if self._counter >= self._stop:\n",
    "            raise StopIteration()\n",
    "        p0 = self._counter*self.batch_size\n",
    "        p1 = self._counter*self.batch_size + self.batch_size\n",
    "        self._counter += 1\n",
    "        return self._X[p0:p1], self._y[p0:p1]"
   ]
  },
  {
   "cell_type": "code",
   "execution_count": null,
   "metadata": {},
   "outputs": [],
   "source": []
  },
  {
   "cell_type": "markdown",
   "metadata": {},
   "source": [
    "【問題1】全結合層のクラス化"
   ]
  },
  {
   "cell_type": "code",
   "execution_count": 738,
   "metadata": {},
   "outputs": [],
   "source": [
    "class FC_B:\n",
    "    \"\"\"\n",
    "    ノード数n_nodes1からn_nodes2への全結合層\n",
    "    Parameters\n",
    "    ----------\n",
    "    n_nodes1 : int\n",
    "      前の層のノード数\n",
    "    n_nodes2 : int\n",
    "      後の層のノード数\n",
    "    initializer : 初期化方法のインスタンス\n",
    "    optimizer : 最適化手法のインスタンス\n",
    "    \"\"\"\n",
    "    def __init__(self, n_nodes1, n_nodes2,initializer,optimizer):        \n",
    "        self.n_nodes1=n_nodes1\n",
    "        self.n_nodes2=n_nodes2\n",
    "        self.initializer = initializer\n",
    "        self.W1=self.initializer.W(self.n_nodes1,self.n_nodes2)\n",
    "        self.B1=self.initializer.B(self.n_nodes2)        \n",
    "        self.optimizer = optimizer\n",
    "        \n",
    "    def forward(self, X):\n",
    "        \"\"\"\n",
    "        フォワード\n",
    "        Parameters\n",
    "        ----------\n",
    "        X : 次の形のndarray, shape (batch_size, n_nodes1)\n",
    "            入力\n",
    "        Returns\n",
    "        ----------\n",
    "        A : 次の形のndarray, shape (batch_size, n_nodes2)\n",
    "            出力\n",
    "        \"\"\"        \n",
    "        \n",
    "        A=X@self.W1+self.B1\n",
    "        self.A=A\n",
    "        return A\n",
    "\n",
    "    \n",
    "    def backward(self, dA,Z):\n",
    "        \"\"\"\n",
    "        バックワード\n",
    "        Parameters\n",
    "        ----------\n",
    "        dA : 次の形のndarray, shape (batch_size, n_nodes2)\n",
    "            後ろから流れてきた勾配\n",
    "        Returns\n",
    "        ----------\n",
    "        dZ : 次の形のndarray, shape (batch_size, n_nodes1)\n",
    "            前に流す勾配\n",
    "        \"\"\"\n",
    "               \n",
    "        # 「3層目」\n",
    "        self.B2=np.sum(dA, axis=0)\n",
    "        self.W2=Z.T@dA\n",
    "        dZ=dA@self.W1.T\n",
    "        \n",
    "        #　参考で残す\n",
    "        #self.B1=self.B1-self.lr*self.B2\n",
    "        #self.W1=self.W1-self.lr*self.W2\n",
    "        \n",
    "        # 更新\n",
    "        self.B1,self.W1 = self.optimizer.update(self.B1,self.W1,self.B2,self.W2)\n",
    "    \n",
    "        return dZ"
   ]
  },
  {
   "cell_type": "markdown",
   "metadata": {},
   "source": [
    "（サンプルで確かめるための実行）"
   ]
  },
  {
   "cell_type": "code",
   "execution_count": 675,
   "metadata": {},
   "outputs": [],
   "source": [
    "class ScratchSimpleNeuralNetrowkClassifier_B():\n",
    "    \"\"\"\n",
    "    シンプルな三層ニューラルネットワーク分類器\n",
    "    Parameters\n",
    "    ----------\n",
    "    Attributes\n",
    "    ----------\n",
    "    \"\"\"\n",
    "    def __init__(self,ite_num, first_nodes,second_nodes,third_nodes,verbose = True):\n",
    "        self.verbose = verbose\n",
    "        self.ite_num=ite_num\n",
    "        self.first_nodes=first_nodes\n",
    "        self.second_nodes=second_nodes\n",
    "        self.third_nodes=third_nodes\n",
    "        self.loss = []\n",
    "        self.val_loss = []      \n",
    "\n",
    " \n",
    "    def fit(self, X, y, X_val=None, y_val=None):\n",
    "        \"\"\"\n",
    "        ニューラルネットワーク分類器を学習する。\n",
    "        Parameters\n",
    "        ----------\n",
    "        X : 次の形のndarray, shape (n_samples, n_features)\n",
    "            訓練データの特徴量\n",
    "        y : 次の形のndarray, shape (n_samples, )\n",
    "            訓練データの正解値\n",
    "        X_val : 次の形のndarray, shape (n_samples, n_features)\n",
    "            検証データの特徴量\n",
    "        y_val : 次の形のndarray, shape (n_samples, )\n",
    "            検証データの正解値\n",
    "        \"\"\" \n",
    "        #　初期設定の処理\n",
    "        #  シグモイドを前提とした設定\n",
    "        SI1=SimpleInitializer(1/math.sqrt(X.shape[1]))\n",
    "        optimizer1=SGD(0.1)\n",
    "        self.FC1 = FC_B(X.shape[1],self.first_nodes,SI1,optimizer1)\n",
    "        self.activation1=Sigmo_func()\n",
    "        \n",
    "        SI2=SimpleInitializer(1/math.sqrt(self.first_nodes))\n",
    "        optimizer2=SGD(0.1)\n",
    "        self.FC2 = FC_B(self.first_nodes,self.second_nodes,SI2,optimizer2)\n",
    "        self.activation2=Sigmo_func()\n",
    "        \n",
    "        SI3=SimpleInitializer(1/math.sqrt(self.second_nodes))\n",
    "        optimizer3=SGD(0.1)\n",
    "        self.FC3 = FC_B(self.second_nodes,self.third_nodes,SI3,optimizer3)\n",
    "        self.activation3=Softmax_func()\n",
    "        \n",
    "        \n",
    "        # 処理を行う\n",
    "        for _ in range(self.ite_num):\n",
    "            get_mini_batch = GetMiniBatch(X,y,batch_size=20)\n",
    "            for mini_X_train, mini_y_train in get_mini_batch:\n",
    "                # フォワード\n",
    "                A1=self.FC1.forward(mini_X_train)\n",
    "                Z1=self.activation1.Sigmo_func_f(self.FC1.forward(mini_X_train))\n",
    "                A2=self.FC2.forward(Z1)\n",
    "                Z2=self.activation2.Sigmo_func_f(A2)\n",
    "                A3=self.FC3.forward(Z2)\n",
    "                Z3=self.activation3.softmax_func_f(A3)\n",
    "                # バック\n",
    "                dA3=self.activation3.softmax_func_b(mini_y_train)\n",
    "                dZ2=self.FC3.backward(dA3,Z2)\n",
    "                dA2 = self.activation2.Sigmo_func_b(dZ2)\n",
    "                dZ1 = self.FC2.backward(dA2,Z1)\n",
    "                dA1 = self.activation1.Sigmo_func_b(dZ1)\n",
    "                dZ0 = self.FC1.backward(dA1,mini_X_train) # dZ0は使用しない\n",
    "              \n",
    "            self.loss.append(self.activation3.total)\n",
    "            \n",
    "            if X_val is not None:                             \n",
    "                A1_val=self.FC1.forward(X_val)\n",
    "                Z1_val=self.activation1.Sigmo_func_f(self.FC1.forward(X_val))\n",
    "                A2_val=self.FC2.forward(Z1_val)\n",
    "                Z2_val=self.activation2.Sigmo_func_f(A2_val)\n",
    "                A3_val=self.FC3.forward(Z2_val)\n",
    "                Z3_val=self.activation3.softmax_func_f(A3_val) \n",
    "                dA3_val=self.activation3.softmax_func_b(X_val)            \n",
    "            self.val_loss.append(self.activation3.total)  \n",
    "            \n",
    "            \n",
    "    def predict(self, X):\n",
    "        \"\"\"\n",
    "        ニューラルネットワーク分類器を使い推定する。\n",
    "        Parameters\n",
    "        ----------\n",
    "        X : 次の形のndarray, shape (n_samples, n_features)\n",
    "            サンプル\n",
    "        Returns\n",
    "        -------\n",
    "            次の形のndarray, shape (n_samples, 1)\n",
    "            推定結果\n",
    "        \"\"\"        \n",
    "        A1=self.FC1.forward(X)\n",
    "        Z1=self.activation1.Sigmo_func_f(SSNN2.FC1.forward(X))\n",
    "        A2=self.FC2.forward(Z1)\n",
    "        Z2=self.activation2.Sigmo_func_f(A2)                \n",
    "        A3=self.FC3.forward(Z2)\n",
    "        Z3=self.activation3.softmax_func_f(A3)\n",
    "        y_pred=np.argmax(Z3, axis=1)\n",
    "        \n",
    "        return y_pred"
   ]
  },
  {
   "cell_type": "code",
   "execution_count": 676,
   "metadata": {},
   "outputs": [],
   "source": [
    "ite_num=10\n",
    "first_nodes=400\n",
    "second_nodes=200\n",
    "third_nodes=10\n",
    "SSNN1=ScratchSimpleNeuralNetrowkClassifier_B(ite_num,first_nodes,second_nodes,third_nodes)\n",
    "SSNN1.fit(X_train,y_train, X_val=None, y_val=None)"
   ]
  },
  {
   "cell_type": "code",
   "execution_count": 739,
   "metadata": {},
   "outputs": [
    {
     "data": {
      "image/png": "[encoded data removed]",
      "text/plain": [
       "<Figure size 432x288 with 1 Axes>"
      ]
     },
     "metadata": {
      "needs_background": "light"
     },
     "output_type": "display_data"
    }
   ],
   "source": [
    "import matplotlib.pyplot as plt\n",
    "plt.plot(SSNN1.loss)\n",
    "plt.show()"
   ]
  },
  {
   "cell_type": "markdown",
   "metadata": {},
   "source": [
    "とりあえず動いていそうなことは確認できた"
   ]
  },
  {
   "cell_type": "code",
   "execution_count": null,
   "metadata": {},
   "outputs": [],
   "source": []
  },
  {
   "cell_type": "markdown",
   "metadata": {},
   "source": [
    "【問題2】初期化方法のクラス化"
   ]
  },
  {
   "cell_type": "code",
   "execution_count": 438,
   "metadata": {},
   "outputs": [],
   "source": [
    "class SimpleInitializer:\n",
    "    \"\"\"\n",
    "    ガウス分布によるシンプルな初期化\n",
    "    Parameters\n",
    "    ----------\n",
    "    sigma : float\n",
    "      ガウス分布の標準偏差\n",
    "    \"\"\"\n",
    "    def __init__(self, sigma):\n",
    "        self.sigma = sigma\n",
    "    def W(self, n_nodes1, n_nodes2):\n",
    "        \"\"\"\n",
    "        重みの初期化\n",
    "        Parameters\n",
    "        ----------\n",
    "        n_nodes1 : int\n",
    "          前の層のノード数\n",
    "        n_nodes2 : int\n",
    "          後の層のノード数\n",
    "        Returns\n",
    "        ----------\n",
    "        W :\n",
    "        \"\"\"\n",
    "        W = self.sigma * np.random.randn(n_nodes1,n_nodes2)\n",
    "        return W\n",
    "    \n",
    "    def B(self, n_nodes2):\n",
    "        \"\"\"\n",
    "        バイアスの初期化\n",
    "        Parameters\n",
    "        ----------\n",
    "        n_nodes2 : int\n",
    "          後の層のノード数\n",
    "        Returns\n",
    "        ----------\n",
    "        B :\n",
    "        \"\"\"\n",
    "        B = self.sigma * np.random.randn(n_nodes2,)        \n",
    "        return B"
   ]
  },
  {
   "cell_type": "code",
   "execution_count": null,
   "metadata": {},
   "outputs": [],
   "source": []
  },
  {
   "cell_type": "markdown",
   "metadata": {},
   "source": [
    "【問題3】最適化手法のクラス化"
   ]
  },
  {
   "cell_type": "code",
   "execution_count": 661,
   "metadata": {},
   "outputs": [],
   "source": [
    "class SGD:\n",
    "    \"\"\"\n",
    "    確率的勾配降下法\n",
    "    Parameters\n",
    "    ----------\n",
    "    lr : 学習率\n",
    "    \"\"\"\n",
    "    def __init__(self, lr):\n",
    "        self.lr = lr\n",
    "    def update(self,B1,W1,B2,W2):\n",
    "        \"\"\"\n",
    "        ある層の重みやバイアスの更新\n",
    "        Parameters\n",
    "        ----------\n",
    "        layer : 更新前の層のインスタンス\n",
    "        \"\"\"\n",
    "        self.B1=B1-self.lr*B2\n",
    "        self.W1=W1-self.lr*W2\n",
    "        \n",
    "        return self.B1,self.W1"
   ]
  },
  {
   "cell_type": "code",
   "execution_count": null,
   "metadata": {},
   "outputs": [],
   "source": []
  },
  {
   "cell_type": "markdown",
   "metadata": {},
   "source": [
    "【問題4】活性化関数のクラス化(シグモイド、ソフトマックス)"
   ]
  },
  {
   "cell_type": "code",
   "execution_count": 440,
   "metadata": {},
   "outputs": [],
   "source": [
    "# シグモイド関数のクラス\n",
    "class Sigmo_func:\n",
    "    \"\"\"\n",
    "    活性化関数のシグモイド関数クラス化\n",
    "    Parameters\n",
    "    ----------\n",
    "    \"\"\"\n",
    "    def Sigmo_func_f(self, A):\n",
    "        \"\"\"\n",
    "        シグモイド関数のフォワード\n",
    "        Parameters\n",
    "        ----------\n",
    "        \"\"\"\n",
    "        self.A=A\n",
    "        Z=1/(1+np.exp(-A))\n",
    "        self.Z=Z\n",
    "        return Z\n",
    "       \n",
    "    def Sigmo_func_b(self, Z):\n",
    "        \"\"\"\n",
    "        シグモイド関数のバック\n",
    "        Parameters\n",
    "        ----------\n",
    "        \"\"\"\n",
    "        sigmo1=(1-self.Sigmo_func_f(self.A))*self.Sigmo_func_f(self.A)\n",
    "        A=Z*sigmo1\n",
    "        return A"
   ]
  },
  {
   "cell_type": "code",
   "execution_count": 441,
   "metadata": {},
   "outputs": [],
   "source": [
    "# ソフトマックス関数のクラス\n",
    "class softmax_func:\n",
    "    \"\"\"\n",
    "    活性化関数のソフトマックス関数のクラス化\n",
    "    Parameters\n",
    "    ----------\n",
    "    \"\"\"\n",
    "    def softmax_func_f(self, A):\n",
    "        \"\"\"\n",
    "        ソフトマックス関数\n",
    "        Parameters\n",
    "        ----------\n",
    "        \"\"\"\n",
    "        Z=np.exp(A) / np.sum(np.exp(A), axis=1).reshape(-1, 1) \n",
    "        self.Z=Z\n",
    "        return Z\n",
    "       \n",
    "    def softmax_func_b(self, mini_y_train):\n",
    "        \"\"\"\n",
    "        シグモイド関数\n",
    "        Parameters\n",
    "        ----------\n",
    "        \"\"\"\n",
    "        # 交差エントロピー誤差\n",
    "        L = - np.sum(mini_y_train * np.log(self.Z)) / len(mini_y_train)\n",
    "        self.total=L\n",
    "        \n",
    "        # バックプロバケーション\n",
    "        A=(self.Z-mini_y_train)/len(self.Z)\n",
    "        self.A=A\n",
    "        return A"
   ]
  },
  {
   "cell_type": "code",
   "execution_count": null,
   "metadata": {},
   "outputs": [],
   "source": []
  },
  {
   "cell_type": "markdown",
   "metadata": {},
   "source": [
    "【問題5】ReLUクラスの作成"
   ]
  },
  {
   "cell_type": "code",
   "execution_count": 753,
   "metadata": {},
   "outputs": [],
   "source": [
    "# ReLUのクラス\n",
    "class ReLU_func:\n",
    "    \"\"\"\n",
    "    活性化関数のReLU_funcクラス化\n",
    "    Parameters\n",
    "    ----------\n",
    "    \"\"\"\n",
    "    def ReLU_f(self, A):\n",
    "        \"\"\"\n",
    "        ReLU_funcのフォワード\n",
    "        Parameters\n",
    "        ----------\n",
    "        \"\"\"\n",
    "        self.A=A\n",
    "        Z=np.where(A<=0,0,A)\n",
    "        self.Z=Z\n",
    "        return Z\n",
    "       \n",
    "    def ReLU_b(self, Z):\n",
    "        \"\"\"\n",
    "        ReLU_funcのバック\n",
    "        Parameters\n",
    "        ----------\n",
    "        \"\"\"        \n",
    "        A=np.where(Z>0,1,0)\n",
    "        self.A=A\n",
    "        return A"
   ]
  },
  {
   "cell_type": "code",
   "execution_count": 803,
   "metadata": {},
   "outputs": [],
   "source": [
    "# ReLUのクラス\n",
    "class ReLU_func_B:\n",
    "    \"\"\"\n",
    "    活性化関数のReLU_funcクラス化\n",
    "    Parameters\n",
    "    ----------\n",
    "    \"\"\"    \n",
    "    def __init__(self):\n",
    "        # 値を初期化\n",
    "        self.mask = None\n",
    "    \n",
    "    def ReLU_f(self, A):\n",
    "        \"\"\"\n",
    "        ReLU_funcのフォワード\n",
    "        Parameters\n",
    "        ----------\n",
    "        \"\"\"\n",
    "        self.A=A\n",
    "\n",
    "        self.mask = (A <= 0) # 0以下の要素のインデックスを検索\n",
    "        out = A.copy() # 引数の値をコピー\n",
    "        out[self.mask] = 0 # 0以下の要素を0に置換        \n",
    "        Z=out\n",
    "        self.Z=Z\n",
    "        return Z\n",
    "       \n",
    "    def ReLU_b(self, Z):\n",
    "        \"\"\"\n",
    "        ReLU_funcのバック\n",
    "        Parameters\n",
    "        ----------\n",
    "        \"\"\"                \n",
    "        Z[self.mask] = 0 # 0以下の要素を0に置換\n",
    "        A = Z        \n",
    "        self.A=A\n",
    "        return A"
   ]
  },
  {
   "cell_type": "code",
   "execution_count": null,
   "metadata": {},
   "outputs": [],
   "source": []
  },
  {
   "cell_type": "markdown",
   "metadata": {},
   "source": [
    "【問題6】重みの初期値・・・問題２の初期化をするクラスの中にSimpleInitializerの中に組み込み済"
   ]
  },
  {
   "cell_type": "code",
   "execution_count": 652,
   "metadata": {},
   "outputs": [],
   "source": [
    "# ReLUのときの Heの初期値の場合\n",
    "\n",
    "class ScratchSimpleNeuralNetrowkClassifier_C():\n",
    "    \"\"\"\n",
    "    シンプルな三層ニューラルネットワーク分類器\n",
    "    Parameters\n",
    "    ----------\n",
    "    Attributes\n",
    "    ----------\n",
    "    \"\"\"\n",
    "    def __init__(self,ite_num, first_nodes,second_nodes,third_nodes,verbose = True):\n",
    "        self.verbose = verbose\n",
    "        self.ite_num=ite_num\n",
    "        self.first_nodes=first_nodes\n",
    "        self.second_nodes=second_nodes\n",
    "        self.third_nodes=third_nodes\n",
    "        self.loss = []\n",
    "        self.val_loss = []      \n",
    "\n",
    " \n",
    "    def fit(self, X, y, X_val=None, y_val=None):\n",
    "        \"\"\"\n",
    "        ニューラルネットワーク分類器を学習する。\n",
    "        Parameters\n",
    "        ----------\n",
    "        X : 次の形のndarray, shape (n_samples, n_features)\n",
    "            訓練データの特徴量\n",
    "        y : 次の形のndarray, shape (n_samples, )\n",
    "            訓練データの正解値\n",
    "        X_val : 次の形のndarray, shape (n_samples, n_features)\n",
    "            検証データの特徴量\n",
    "        y_val : 次の形のndarray, shape (n_samples, )\n",
    "            検証データの正解値\n",
    "        \"\"\" \n",
    "        #　初期設定の処理\n",
    "        #  ReLUを前提とした設定\n",
    "        SI1=SimpleInitializer(math.sqrt(2/X.shape[1]))\n",
    "        optimizer1=SGD(0.1)\n",
    "        self.FC1 = FC_B(X.shape[1],self.first_nodes,SI1,optimizer1)\n",
    "        self.activation1=Sigmo_func()\n",
    "\n",
    "        SI2=SimpleInitializer(math.sqrt(2/self.first_nodes))\n",
    "        optimizer2=SGD(0.1)\n",
    "        self.FC2 = FC_B(self.first_nodes,self.second_nodes,SI2,optimizer2)\n",
    "        self.activation2=Sigmo_func()\n",
    "\n",
    "        SI3=SimpleInitializer(math.sqrt(2/self.second_nodes))\n",
    "        optimizer3=SGD(0.1)\n",
    "        self.FC3 = FC_B(self.second_nodes,self.third_nodes,SI3,optimizer3)\n",
    "        self.activation3=Softmax_func()\n",
    "        \n",
    "        \n",
    "        # 処理を行う\n",
    "        for _ in range(self.ite_num):\n",
    "            get_mini_batch = GetMiniBatch(X,y,batch_size=20)\n",
    "            for mini_X_train, mini_y_train in get_mini_batch:\n",
    "                # フォワード\n",
    "                A1=self.FC1.forward(mini_X_train)\n",
    "                Z1=self.activation1.Sigmo_func_f(self.FC1.forward(mini_X_train))\n",
    "                A2=self.FC2.forward(Z1)\n",
    "                Z2=self.activation2.Sigmo_func_f(A2)\n",
    "                A3=self.FC3.forward(Z2)\n",
    "                Z3=self.activation3.softmax_func_f(A3)\n",
    "                # バック\n",
    "                dA3=self.activation3.softmax_func_b(mini_y_train)\n",
    "                dZ2=self.FC3.backward(dA3,Z2)\n",
    "                dA2 = self.activation2.Sigmo_func_b(dZ2)\n",
    "                dZ1 = self.FC2.backward(dA2,Z1)\n",
    "                dA1 = self.activation1.Sigmo_func_b(dZ1)\n",
    "                dZ0 = self.FC1.backward(dA1,mini_X_train) # dZ0は使用しない\n",
    "              \n",
    "            self.loss.append(self.activation3.total)\n",
    "            \n",
    "            #if X_val is not None:\n",
    "                #self._forward_calculate(X_val)\n",
    "                #self._cross_entropy_error(y_val)\n",
    "                #self._back_calculate(X_val,y_val)\n",
    "                #self.val_loss.append(self.total)\n",
    "        "
   ]
  },
  {
   "cell_type": "code",
   "execution_count": null,
   "metadata": {},
   "outputs": [],
   "source": []
  },
  {
   "cell_type": "markdown",
   "metadata": {},
   "source": [
    "【問題7】最適化手法・・・問題３のものを修正した(SGD_Bとする)"
   ]
  },
  {
   "cell_type": "code",
   "execution_count": 665,
   "metadata": {},
   "outputs": [],
   "source": [
    "class SGD_B:\n",
    "    \"\"\"\n",
    "    確率的勾配降下法\n",
    "    Parameters\n",
    "    ----------\n",
    "    lr : 学習率\n",
    "    \"\"\"\n",
    "    def __init__(self, lr):\n",
    "        self.lr = lr\n",
    "        self.HW=0\n",
    "        self.HB=0\n",
    "    def update(self,B1,W1,B2,W2):\n",
    "        \"\"\"\n",
    "        ある層の重みやバイアスの更新\n",
    "        Parameters\n",
    "        ----------\n",
    "        #layer : 更新前の層のインスタンス\n",
    "        \"\"\"\n",
    "        \n",
    "        self.HW=self.HW+np.mean(W2,axis=0)@np.mean(W2,axis=0).T \n",
    "        self.W1=W1-self.lr*(1/math.sqrt(self.HW))*np.mean(W2,axis=0)\n",
    "        \n",
    "        self.HB=self.HB+np.mean(B2,axis=0)*np.mean(B2,axis=0).T\n",
    "        self.B1=B1-self.lr*(1/math.sqrt(self.HB))*np.mean(B2,axis=0)\n",
    "        \n",
    "        return self.B1,self.W1"
   ]
  },
  {
   "cell_type": "code",
   "execution_count": null,
   "metadata": {},
   "outputs": [],
   "source": []
  },
  {
   "cell_type": "markdown",
   "metadata": {},
   "source": [
    "【問題8】クラスの完成"
   ]
  },
  {
   "cell_type": "code",
   "execution_count": 673,
   "metadata": {},
   "outputs": [],
   "source": [
    "class ScratchSimpleNeuralNetrowkClassifier_A1():\n",
    "    \"\"\"\n",
    "    シンプルな三層ニューラルネットワーク分類器\n",
    "    Parameters\n",
    "    ----------\n",
    "    Attributes\n",
    "    ----------\n",
    "    \"\"\"\n",
    "    def __init__(self,ite_num, first_nodes,second_nodes,third_nodes,verbose = True):\n",
    "        self.verbose = verbose\n",
    "        self.ite_num=ite_num\n",
    "        self.first_nodes=first_nodes\n",
    "        self.second_nodes=second_nodes\n",
    "        self.third_nodes=third_nodes\n",
    "        self.loss = []\n",
    "        self.val_loss = []      \n",
    "\n",
    " \n",
    "    def fit(self, X, y, X_val=None, y_val=None):\n",
    "        \"\"\"\n",
    "        ニューラルネットワーク分類器を学習する。\n",
    "        Parameters\n",
    "        ----------\n",
    "        X : 次の形のndarray, shape (n_samples, n_features)\n",
    "            訓練データの特徴量\n",
    "        y : 次の形のndarray, shape (n_samples, )\n",
    "            訓練データの正解値\n",
    "        X_val : 次の形のndarray, shape (n_samples, n_features)\n",
    "            検証データの特徴量\n",
    "        y_val : 次の形のndarray, shape (n_samples, )\n",
    "            検証データの正解値\n",
    "        \"\"\" \n",
    "        #　初期設定の処理\n",
    "        #  シグモイドを前提とした設定\n",
    "        SI1=SimpleInitializer(1/math.sqrt(X.shape[1]))\n",
    "        optimizer1=SGD(0.1)\n",
    "        self.FC1 = FC_B(X.shape[1],self.first_nodes,SI1,optimizer1)\n",
    "        self.activation1=Sigmo_func()\n",
    "        \n",
    "        SI2=SimpleInitializer(1/math.sqrt(self.first_nodes))\n",
    "        optimizer2=SGD(0.1)\n",
    "        self.FC2 = FC_B(self.first_nodes,self.second_nodes,SI2,optimizer2)\n",
    "        self.activation2=Sigmo_func()\n",
    "        \n",
    "        SI3=SimpleInitializer(1/math.sqrt(self.second_nodes))\n",
    "        optimizer3=SGD(0.1)\n",
    "        self.FC3 = FC_B(self.second_nodes,self.third_nodes,SI3,optimizer3)\n",
    "        self.activation3=Softmax_func()\n",
    "        \n",
    "        \n",
    "        # 処理を行う\n",
    "        for _ in range(self.ite_num):\n",
    "            get_mini_batch = GetMiniBatch(X,y,batch_size=20)\n",
    "            for mini_X_train, mini_y_train in get_mini_batch:\n",
    "                # フォワード\n",
    "                A1=self.FC1.forward(mini_X_train)\n",
    "                Z1=self.activation1.Sigmo_func_f(self.FC1.forward(mini_X_train))\n",
    "                A2=self.FC2.forward(Z1)\n",
    "                Z2=self.activation2.Sigmo_func_f(A2)\n",
    "                A3=self.FC3.forward(Z2)\n",
    "                Z3=self.activation3.softmax_func_f(A3)\n",
    "                # バック\n",
    "                dA3=self.activation3.softmax_func_b(mini_y_train)\n",
    "                dZ2=self.FC3.backward(dA3,Z2)\n",
    "                dA2 = self.activation2.Sigmo_func_b(dZ2)\n",
    "                dZ1 = self.FC2.backward(dA2,Z1)\n",
    "                dA1 = self.activation1.Sigmo_func_b(dZ1)\n",
    "                dZ0 = self.FC1.backward(dA1,mini_X_train) # dZ0は使用しない\n",
    "              \n",
    "            self.loss.append(self.activation3.total)\n",
    "            \n",
    "            if X_val is not None:                             \n",
    "                A1_val=self.FC1.forward(X_val)\n",
    "                Z1_val=self.activation1.Sigmo_func_f(self.FC1.forward(X_val))\n",
    "                A2_val=self.FC2.forward(Z1_val)\n",
    "                Z2_val=self.activation2.Sigmo_func_f(A2_val)\n",
    "                A3_val=self.FC3.forward(Z2_val)\n",
    "                Z3_val=self.activation3.softmax_func_f(A3_val) \n",
    "                dA3_val=self.activation3.softmax_func_b(X_val)            \n",
    "            self.val_loss.append(self.activation3.total)  \n",
    "            \n",
    "            \n",
    "    def predict(self, X):\n",
    "        \"\"\"\n",
    "        ニューラルネットワーク分類器を使い推定する。\n",
    "        Parameters\n",
    "        ----------\n",
    "        X : 次の形のndarray, shape (n_samples, n_features)\n",
    "            サンプル\n",
    "        Returns\n",
    "        -------\n",
    "            次の形のndarray, shape (n_samples, 1)\n",
    "            推定結果\n",
    "        \"\"\"        \n",
    "        A1=self.FC1.forward(X)\n",
    "        Z1=self.activation1.Sigmo_func_f(SSNN2.FC1.forward(X))\n",
    "        A2=self.FC2.forward(Z1)\n",
    "        Z2=self.activation2.Sigmo_func_f(A2)                \n",
    "        A3=self.FC3.forward(Z2)\n",
    "        Z3=self.activation3.softmax_func_f(A3)\n",
    "        y_pred=np.argmax(Z3, axis=1)\n",
    "        \n",
    "        return y_pred"
   ]
  },
  {
   "cell_type": "markdown",
   "metadata": {},
   "source": [
    "【問題9】学習と推定"
   ]
  },
  {
   "cell_type": "markdown",
   "metadata": {},
   "source": [
    "まずは、前回のパターン（シグモイド、４００⇨２００⇨１０）で、重みの初期値をシグモイド関数として最適なXavierの初期値で行ってみる"
   ]
  },
  {
   "cell_type": "code",
   "execution_count": 702,
   "metadata": {},
   "outputs": [],
   "source": [
    "class ScratchSimpleNeuralNetrowkClassifier_A1():\n",
    "    \"\"\"\n",
    "    シンプルな三層ニューラルネットワーク分類器\n",
    "    Parameters\n",
    "    ----------\n",
    "    Attributes\n",
    "    ----------\n",
    "    \"\"\"\n",
    "    def __init__(self,ite_num, first_nodes,second_nodes,third_nodes,verbose = True):\n",
    "        self.verbose = verbose\n",
    "        self.ite_num=ite_num\n",
    "        self.first_nodes=first_nodes\n",
    "        self.second_nodes=second_nodes\n",
    "        self.third_nodes=third_nodes\n",
    "        self.loss = []\n",
    "        self.val_loss = []      \n",
    "\n",
    " \n",
    "    def fit(self, X, y, X_val=None, y_val=None):\n",
    "        \"\"\"\n",
    "        ニューラルネットワーク分類器を学習する。\n",
    "        Parameters\n",
    "        ----------\n",
    "        X : 次の形のndarray, shape (n_samples, n_features)\n",
    "            訓練データの特徴量\n",
    "        y : 次の形のndarray, shape (n_samples, )\n",
    "            訓練データの正解値\n",
    "        X_val : 次の形のndarray, shape (n_samples, n_features)\n",
    "            検証データの特徴量\n",
    "        y_val : 次の形のndarray, shape (n_samples, )\n",
    "            検証データの正解値\n",
    "        \"\"\" \n",
    "        #　初期設定の処理\n",
    "        #  シグモイドを前提とした設定\n",
    "        SI1=SimpleInitializer(1/math.sqrt(X.shape[1]))\n",
    "        optimizer1=SGD(0.1)\n",
    "        self.FC1 = FC_B(X.shape[1],self.first_nodes,SI1,optimizer1)\n",
    "        self.activation1=Sigmo_func()\n",
    "        \n",
    "        SI2=SimpleInitializer(1/math.sqrt(self.first_nodes))\n",
    "        optimizer2=SGD(0.1)\n",
    "        self.FC2 = FC_B(self.first_nodes,self.second_nodes,SI2,optimizer2)\n",
    "        self.activation2=Sigmo_func()\n",
    "        \n",
    "        SI3=SimpleInitializer(1/math.sqrt(self.second_nodes))\n",
    "        optimizer3=SGD(0.1)\n",
    "        self.FC3 = FC_B(self.second_nodes,self.third_nodes,SI3,optimizer3)\n",
    "        self.activation3=Softmax_func()\n",
    "        \n",
    "        \n",
    "        # 処理を行う\n",
    "        for _ in range(self.ite_num):\n",
    "            get_mini_batch = GetMiniBatch(X,y,batch_size=20)\n",
    "            for mini_X_train, mini_y_train in get_mini_batch:\n",
    "                # フォワード\n",
    "                A1=self.FC1.forward(mini_X_train)\n",
    "                Z1=self.activation1.Sigmo_func_f(self.FC1.forward(mini_X_train))\n",
    "                A2=self.FC2.forward(Z1)\n",
    "                Z2=self.activation2.Sigmo_func_f(A2)\n",
    "                A3=self.FC3.forward(Z2)\n",
    "                Z3=self.activation3.softmax_func_f(A3)\n",
    "                # バック\n",
    "                dA3=self.activation3.softmax_func_b(mini_y_train)\n",
    "                dZ2=self.FC3.backward(dA3,Z2)\n",
    "                dA2 = self.activation2.Sigmo_func_b(dZ2)\n",
    "                dZ1 = self.FC2.backward(dA2,Z1)\n",
    "                dA1 = self.activation1.Sigmo_func_b(dZ1)\n",
    "                dZ0 = self.FC1.backward(dA1,mini_X_train) # dZ0は使用しない\n",
    "              \n",
    "            self.loss.append(self.activation3.total)\n",
    "            \n",
    "            if X_val is not None:                             \n",
    "                A1_val=self.FC1.forward(X_val)\n",
    "                Z1_val=self.activation1.Sigmo_func_f(self.FC1.forward(X_val))\n",
    "                A2_val=self.FC2.forward(Z1_val)\n",
    "                Z2_val=self.activation2.Sigmo_func_f(A2_val)\n",
    "                A3_val=self.FC3.forward(Z2_val)\n",
    "                Z3_val=self.activation3.softmax_func_f(A3_val) \n",
    "                dA3_val=self.activation3.softmax_func_b(y_val)            \n",
    "                self.val_loss.append(self.activation3.total)  \n",
    "            \n",
    "            \n",
    "    def predict(self, X):\n",
    "        \"\"\"\n",
    "        ニューラルネットワーク分類器を使い推定する。\n",
    "        Parameters\n",
    "        ----------\n",
    "        X : 次の形のndarray, shape (n_samples, n_features)\n",
    "            サンプル\n",
    "        Returns\n",
    "        -------\n",
    "            次の形のndarray, shape (n_samples, 1)\n",
    "            推定結果\n",
    "        \"\"\"        \n",
    "        A1=self.FC1.forward(X)\n",
    "        Z1=self.activation1.Sigmo_func_f(self.FC1.forward(X))\n",
    "        A2=self.FC2.forward(Z1)\n",
    "        Z2=self.activation2.Sigmo_func_f(A2)                \n",
    "        A3=self.FC3.forward(Z2)\n",
    "        Z3=self.activation3.softmax_func_f(A3)\n",
    "        y_pred=np.argmax(Z3, axis=1)\n",
    "        \n",
    "        return y_pred"
   ]
  },
  {
   "cell_type": "code",
   "execution_count": 703,
   "metadata": {},
   "outputs": [],
   "source": [
    "ite_num=12\n",
    "first_nodes=400\n",
    "second_nodes=200\n",
    "third_nodes=10\n",
    "SSNN2=ScratchSimpleNeuralNetrowkClassifier_A1(ite_num,first_nodes,second_nodes,third_nodes)\n",
    "SSNN2.fit(X_train,y_train, X_val, y_val)"
   ]
  },
  {
   "cell_type": "code",
   "execution_count": 706,
   "metadata": {},
   "outputs": [
    {
     "data": {
      "image/png": "[encoded data removed]",
      "text/plain": [
       "<Figure size 432x288 with 1 Axes>"
      ]
     },
     "metadata": {
      "needs_background": "light"
     },
     "output_type": "display_data"
    }
   ],
   "source": [
    "import matplotlib.pyplot as plt\n",
    "plt.plot(SSNN2.loss)\n",
    "plt.plot(SSNN2.val_loss)\n",
    "plt.show()"
   ]
  },
  {
   "cell_type": "code",
   "execution_count": 714,
   "metadata": {},
   "outputs": [
    {
     "data": {
      "text/plain": [
       "0.9639"
      ]
     },
     "execution_count": 714,
     "metadata": {},
     "output_type": "execute_result"
    }
   ],
   "source": [
    "# Accuracyは元の初期値よりさらに上がった\n",
    "y_pred2=SSNN2.predict(X_test)\n",
    "from sklearn.metrics import accuracy_score\n",
    "accuracy_score(y_test,y_pred2)"
   ]
  },
  {
   "cell_type": "markdown",
   "metadata": {},
   "source": [
    "初期値をXavierで行ったことで、かなり効率的に適切な学習をしていることがlossの値からわかる。ただし、エポックを１０回ほど重ねると結果的に大きな差は生まれなかった。少ない学習回数で効率的な学習には適している初期値であることがわかった。"
   ]
  },
  {
   "cell_type": "code",
   "execution_count": null,
   "metadata": {},
   "outputs": [],
   "source": []
  },
  {
   "cell_type": "markdown",
   "metadata": {},
   "source": [
    "●活性化関数をReLUで行う"
   ]
  },
  {
   "cell_type": "code",
   "execution_count": 804,
   "metadata": {},
   "outputs": [],
   "source": [
    "class ScratchSimpleNeuralNetrowkClassifier_A2():\n",
    "    \"\"\"\n",
    "    シンプルな三層ニューラルネットワーク分類器\n",
    "    Parameters\n",
    "    ----------\n",
    "    Attributes\n",
    "    ----------\n",
    "    \"\"\"\n",
    "    def __init__(self,ite_num, first_nodes,second_nodes,third_nodes,verbose = True):\n",
    "        self.verbose = verbose\n",
    "        self.ite_num=ite_num\n",
    "        self.first_nodes=first_nodes\n",
    "        self.second_nodes=second_nodes\n",
    "        self.third_nodes=third_nodes\n",
    "        self.loss = []\n",
    "        self.val_loss = []      \n",
    "\n",
    " \n",
    "    def fit(self, X, y, X_val=None, y_val=None):\n",
    "        \"\"\"\n",
    "        ニューラルネットワーク分類器を学習する。\n",
    "        Parameters\n",
    "        ----------\n",
    "        X : 次の形のndarray, shape (n_samples, n_features)\n",
    "            訓練データの特徴量\n",
    "        y : 次の形のndarray, shape (n_samples, )\n",
    "            訓練データの正解値\n",
    "        X_val : 次の形のndarray, shape (n_samples, n_features)\n",
    "            検証データの特徴量\n",
    "        y_val : 次の形のndarray, shape (n_samples, )\n",
    "            検証データの正解値\n",
    "        \"\"\" \n",
    "        #　初期設定の処理\n",
    "        #  ReLUを前提とした設定\n",
    "        SI1=SimpleInitializer(math.sqrt(2/X.shape[1]))\n",
    "        optimizer1=SGD(0.01)\n",
    "        self.FC1 = FC_B(X.shape[1],self.first_nodes,SI1,optimizer1)\n",
    "        self.activation1=ReLU_func_B()\n",
    "        \n",
    "        SI2=SimpleInitializer(math.sqrt(2/self.first_nodes))\n",
    "        optimizer2=SGD(0.01)\n",
    "        self.FC2 = FC_B(self.first_nodes,self.second_nodes,SI2,optimizer2)\n",
    "        self.activation2=ReLU_func_B()\n",
    "        \n",
    "        SI3=SimpleInitializer(math.sqrt(2/self.second_nodes))\n",
    "        optimizer3=SGD(0.01)\n",
    "        self.FC3 = FC_B(self.second_nodes,self.third_nodes,SI3,optimizer3)\n",
    "        self.activation3=Softmax_func()\n",
    "        \n",
    "        \n",
    "        # 処理を行う\n",
    "        for _ in range(self.ite_num):\n",
    "            get_mini_batch = GetMiniBatch(X,y,batch_size=20)\n",
    "            for mini_X_train, mini_y_train in get_mini_batch:\n",
    "                # フォワード\n",
    "                A1=self.FC1.forward(mini_X_train)\n",
    "                Z1=self.activation1.ReLU_f(self.FC1.forward(mini_X_train))\n",
    "                A2=self.FC2.forward(Z1)\n",
    "                Z2=self.activation2.ReLU_f(A2)\n",
    "                A3=self.FC3.forward(Z2)\n",
    "                Z3=self.activation3.softmax_func_f(A3)\n",
    "                # バック\n",
    "                dA3=self.activation3.softmax_func_b(mini_y_train)\n",
    "                dZ2=self.FC3.backward(dA3,Z2)\n",
    "                dA2 = self.activation2.ReLU_b(dZ2)\n",
    "                dZ1 = self.FC2.backward(dA2,Z1)\n",
    "                dA1 = self.activation1.ReLU_b(dZ1)\n",
    "                dZ0 = self.FC1.backward(dA1,mini_X_train) # dZ0は使用しない\n",
    "              \n",
    "            self.loss.append(self.activation3.total)\n",
    "            \n",
    "            if X_val is not None:                             \n",
    "                A1_val=self.FC1.forward(X_val)\n",
    "                Z1_val=self.activation1.ReLU_f(self.FC1.forward(X_val))\n",
    "                A2_val=self.FC2.forward(Z1_val)\n",
    "                Z2_val=self.activation2.ReLU_f(A2_val)\n",
    "                A3_val=self.FC3.forward(Z2_val)\n",
    "                Z3_val=self.activation3.softmax_func_f(A3_val) \n",
    "                dA3_val=self.activation3.softmax_func_b(y_val)            \n",
    "                self.val_loss.append(self.activation3.total)  \n",
    "            \n",
    "            \n",
    "    def predict(self, X):\n",
    "        \"\"\"\n",
    "        ニューラルネットワーク分類器を使い推定する。\n",
    "        Parameters\n",
    "        ----------\n",
    "        X : 次の形のndarray, shape (n_samples, n_features)\n",
    "            サンプル\n",
    "        Returns\n",
    "        -------\n",
    "            次の形のndarray, shape (n_samples, 1)\n",
    "            推定結果\n",
    "        \"\"\"        \n",
    "        A1=self.FC1.forward(X)\n",
    "        Z1=self.activation1.ReLU_f(self.FC1.forward(X))\n",
    "        A2=self.FC2.forward(Z1)\n",
    "        Z2=self.activation2.ReLU_f(A2)                \n",
    "        A3=self.FC3.forward(Z2)\n",
    "        Z3=self.activation3.softmax_func_f(A3)\n",
    "        y_pred=np.argmax(Z3, axis=1)\n",
    "        \n",
    "        return y_pred"
   ]
  },
  {
   "cell_type": "code",
   "execution_count": 805,
   "metadata": {},
   "outputs": [],
   "source": [
    "ite_num=10\n",
    "first_nodes=400\n",
    "second_nodes=200\n",
    "third_nodes=10\n",
    "SSNN3=ScratchSimpleNeuralNetrowkClassifier_A2(ite_num,first_nodes,second_nodes,third_nodes)\n",
    "SSNN3.fit(X_train,y_train, X_val, y_val)"
   ]
  },
  {
   "cell_type": "code",
   "execution_count": 809,
   "metadata": {},
   "outputs": [
    {
     "data": {
      "image/png": "[encoded data removed]",
      "text/plain": [
       "<Figure size 432x288 with 1 Axes>"
      ]
     },
     "metadata": {
      "needs_background": "light"
     },
     "output_type": "display_data"
    }
   ],
   "source": [
    "import matplotlib.pyplot as plt\n",
    "plt.plot(SSNN3.loss)\n",
    "#plt.plot(SSNN3.val_loss)\n",
    "plt.show()"
   ]
  },
  {
   "cell_type": "code",
   "execution_count": 807,
   "metadata": {},
   "outputs": [
    {
     "data": {
      "text/plain": [
       "0.9709"
      ]
     },
     "execution_count": 807,
     "metadata": {},
     "output_type": "execute_result"
    }
   ],
   "source": [
    "# Accuracyは元の初期値よりさらに上がった\n",
    "y_pred3=SSNN3.predict(X_test)\n",
    "from sklearn.metrics import accuracy_score\n",
    "accuracy_score(y_test,y_pred3)"
   ]
  },
  {
   "cell_type": "code",
   "execution_count": null,
   "metadata": {},
   "outputs": [],
   "source": []
  },
  {
   "cell_type": "markdown",
   "metadata": {},
   "source": [
    "●ノードの数を変更して行ってみる、ノードをも少し増やして行ってみる。関数はシグモイドで行う。"
   ]
  },
  {
   "cell_type": "code",
   "execution_count": 780,
   "metadata": {},
   "outputs": [],
   "source": [
    "class ScratchSimpleNeuralNetrowkClassifier_A3():\n",
    "    \"\"\"\n",
    "    シンプルな三層ニューラルネットワーク分類器\n",
    "    Parameters\n",
    "    ----------\n",
    "    Attributes\n",
    "    ----------\n",
    "    \"\"\"\n",
    "    def __init__(self,ite_num, first_nodes,second_nodes,third_nodes,verbose = True):\n",
    "        self.verbose = verbose\n",
    "        self.ite_num=ite_num\n",
    "        self.first_nodes=first_nodes\n",
    "        self.second_nodes=second_nodes\n",
    "        self.third_nodes=third_nodes\n",
    "        self.loss = []\n",
    "        self.val_loss = []      \n",
    "\n",
    " \n",
    "    def fit(self, X, y, X_val=None, y_val=None):\n",
    "        \"\"\"\n",
    "        ニューラルネットワーク分類器を学習する。\n",
    "        Parameters\n",
    "        ----------\n",
    "        X : 次の形のndarray, shape (n_samples, n_features)\n",
    "            訓練データの特徴量\n",
    "        y : 次の形のndarray, shape (n_samples, )\n",
    "            訓練データの正解値\n",
    "        X_val : 次の形のndarray, shape (n_samples, n_features)\n",
    "            検証データの特徴量\n",
    "        y_val : 次の形のndarray, shape (n_samples, )\n",
    "            検証データの正解値\n",
    "        \"\"\" \n",
    "        #　初期設定の処理\n",
    "        #  シグモイドを前提とした設定\n",
    "        SI1=SimpleInitializer(1/math.sqrt(X.shape[1]))\n",
    "        optimizer1=SGD(0.1)\n",
    "        self.FC1 = FC_B(X.shape[1],self.first_nodes,SI1,optimizer1)\n",
    "        self.activation1=Sigmo_func()\n",
    "        \n",
    "        SI2=SimpleInitializer(1/math.sqrt(self.first_nodes))\n",
    "        optimizer2=SGD(0.1)\n",
    "        self.FC2 = FC_B(self.first_nodes,self.second_nodes,SI2,optimizer2)\n",
    "        self.activation2=Sigmo_func()\n",
    "        \n",
    "        SI3=SimpleInitializer(1/math.sqrt(self.second_nodes))\n",
    "        optimizer3=SGD(0.1)\n",
    "        self.FC3 = FC_B(self.second_nodes,self.third_nodes,SI3,optimizer3)\n",
    "        self.activation3=Softmax_func()\n",
    "        \n",
    "        \n",
    "        # 処理を行う\n",
    "        for _ in range(self.ite_num):\n",
    "            get_mini_batch = GetMiniBatch(X,y,batch_size=20)\n",
    "            for mini_X_train, mini_y_train in get_mini_batch:\n",
    "                # フォワード\n",
    "                A1=self.FC1.forward(mini_X_train)\n",
    "                Z1=self.activation1.Sigmo_func_f(self.FC1.forward(mini_X_train))\n",
    "                A2=self.FC2.forward(Z1)\n",
    "                Z2=self.activation2.Sigmo_func_f(A2)\n",
    "                A3=self.FC3.forward(Z2)\n",
    "                Z3=self.activation3.softmax_func_f(A3)\n",
    "                # バック\n",
    "                dA3=self.activation3.softmax_func_b(mini_y_train)\n",
    "                dZ2=self.FC3.backward(dA3,Z2)\n",
    "                dA2 = self.activation2.Sigmo_func_b(dZ2)\n",
    "                dZ1 = self.FC2.backward(dA2,Z1)\n",
    "                dA1 = self.activation1.Sigmo_func_b(dZ1)\n",
    "                dZ0 = self.FC1.backward(dA1,mini_X_train) # dZ0は使用しない\n",
    "              \n",
    "            self.loss.append(self.activation3.total)\n",
    "            \n",
    "            if X_val is not None:                             \n",
    "                A1_val=self.FC1.forward(X_val)\n",
    "                Z1_val=self.activation1.Sigmo_func_f(self.FC1.forward(X_val))\n",
    "                A2_val=self.FC2.forward(Z1_val)\n",
    "                Z2_val=self.activation2.Sigmo_func_f(A2_val)\n",
    "                A3_val=self.FC3.forward(Z2_val)\n",
    "                Z3_val=self.activation3.softmax_func_f(A3_val) \n",
    "                dA3_val=self.activation3.softmax_func_b(y_val)            \n",
    "                self.val_loss.append(self.activation3.total)  \n",
    "            \n",
    "            \n",
    "    def predict(self, X):\n",
    "        \"\"\"\n",
    "        ニューラルネットワーク分類器を使い推定する。\n",
    "        Parameters\n",
    "        ----------\n",
    "        X : 次の形のndarray, shape (n_samples, n_features)\n",
    "            サンプル\n",
    "        Returns\n",
    "        -------\n",
    "            次の形のndarray, shape (n_samples, 1)\n",
    "            推定結果\n",
    "        \"\"\"        \n",
    "        A1=self.FC1.forward(X)\n",
    "        Z1=self.activation1.Sigmo_func_f(self.FC1.forward(X))\n",
    "        A2=self.FC2.forward(Z1)\n",
    "        Z2=self.activation2.Sigmo_func_f(A2)                \n",
    "        A3=self.FC3.forward(Z2)\n",
    "        Z3=self.activation3.softmax_func_f(A3)\n",
    "        y_pred=np.argmax(Z3, axis=1)\n",
    "        \n",
    "        return y_pred"
   ]
  },
  {
   "cell_type": "code",
   "execution_count": 781,
   "metadata": {},
   "outputs": [],
   "source": [
    "ite_num=12\n",
    "first_nodes=500\n",
    "second_nodes=200\n",
    "third_nodes=10\n",
    "SSNN4=ScratchSimpleNeuralNetrowkClassifier_A3(ite_num,first_nodes,second_nodes,third_nodes)\n",
    "SSNN4.fit(X_train,y_train, X_val, y_val)"
   ]
  },
  {
   "cell_type": "code",
   "execution_count": 782,
   "metadata": {},
   "outputs": [
    {
     "data": {
      "image/png": "[encoded data removed]",
      "text/plain": [
       "<Figure size 432x288 with 1 Axes>"
      ]
     },
     "metadata": {
      "needs_background": "light"
     },
     "output_type": "display_data"
    }
   ],
   "source": [
    "import matplotlib.pyplot as plt\n",
    "plt.plot(SSNN4.loss)\n",
    "#plt.plot(SSNN4.val_loss)\n",
    "plt.show()"
   ]
  },
  {
   "cell_type": "code",
   "execution_count": 784,
   "metadata": {},
   "outputs": [
    {
     "data": {
      "text/plain": [
       "0.9625"
      ]
     },
     "execution_count": 784,
     "metadata": {},
     "output_type": "execute_result"
    }
   ],
   "source": [
    "# Accuracyは元の初期値よりさらに上がった\n",
    "y_pred4=SSNN4.predict(X_test)\n",
    "from sklearn.metrics import accuracy_score\n",
    "accuracy_score(y_test,y_pred4)"
   ]
  },
  {
   "cell_type": "markdown",
   "metadata": {},
   "source": [
    "ノードを増やしたが正解率にはそれほど変化はなかった。"
   ]
  },
  {
   "cell_type": "markdown",
   "metadata": {},
   "source": [
    "●階層の数を１つ増やしてみる"
   ]
  },
  {
   "cell_type": "code",
   "execution_count": 792,
   "metadata": {},
   "outputs": [],
   "source": [
    "class ScratchSimpleNeuralNetrowkClassifier_A4():\n",
    "    \"\"\"\n",
    "    シンプルな三層ニューラルネットワーク分類器\n",
    "    Parameters\n",
    "    ----------\n",
    "    Attributes\n",
    "    ----------\n",
    "    \"\"\"\n",
    "    def __init__(self,ite_num, first_nodes,second_nodes,third_nodes,fourth_nodes,verbose = True):\n",
    "        self.verbose = verbose\n",
    "        self.ite_num=ite_num\n",
    "        self.first_nodes=first_nodes\n",
    "        self.second_nodes=second_nodes\n",
    "        self.third_nodes=third_nodes\n",
    "        self.fourth_nodes=fourth_nodes\n",
    "        self.loss = []\n",
    "        self.val_loss = []      \n",
    "\n",
    " \n",
    "    def fit(self, X, y, X_val=None, y_val=None):\n",
    "        \"\"\"\n",
    "        ニューラルネットワーク分類器を学習する。\n",
    "        Parameters\n",
    "        ----------\n",
    "        X : 次の形のndarray, shape (n_samples, n_features)\n",
    "            訓練データの特徴量\n",
    "        y : 次の形のndarray, shape (n_samples, )\n",
    "            訓練データの正解値\n",
    "        X_val : 次の形のndarray, shape (n_samples, n_features)\n",
    "            検証データの特徴量\n",
    "        y_val : 次の形のndarray, shape (n_samples, )\n",
    "            検証データの正解値\n",
    "        \"\"\" \n",
    "        #　初期設定の処理\n",
    "        #  シグモイドを前提とした設定\n",
    "        SI1=SimpleInitializer(1/math.sqrt(X.shape[1]))\n",
    "        optimizer1=SGD(0.1)\n",
    "        self.FC1 = FC_B(X.shape[1],self.first_nodes,SI1,optimizer1)\n",
    "        self.activation1=Sigmo_func()\n",
    "        \n",
    "        SI2=SimpleInitializer(1/math.sqrt(self.first_nodes))\n",
    "        optimizer2=SGD(0.1)\n",
    "        self.FC2 = FC_B(self.first_nodes,self.second_nodes,SI2,optimizer2)\n",
    "        self.activation2=Sigmo_func()\n",
    "        \n",
    "        SI3=SimpleInitializer(1/math.sqrt(self.second_nodes))\n",
    "        optimizer3=SGD(0.1)\n",
    "        self.FC3 = FC_B(self.second_nodes,self.third_nodes,SI3,optimizer3)\n",
    "        self.activation3=Sigmo_func()\n",
    "        \n",
    "        \n",
    "        SI4=SimpleInitializer(1/math.sqrt(self.second_nodes))\n",
    "        optimizer4=SGD(0.1)\n",
    "        self.FC4 = FC_B(self.third_nodes,self.fourth_nodes,SI4,optimizer4)\n",
    "        self.activation4=Softmax_func()\n",
    "        \n",
    "        \n",
    "        # 処理を行う\n",
    "        for _ in range(self.ite_num):\n",
    "            get_mini_batch = GetMiniBatch(X,y,batch_size=20)\n",
    "            for mini_X_train, mini_y_train in get_mini_batch:\n",
    "                # フォワード\n",
    "                A1=self.FC1.forward(mini_X_train)\n",
    "                Z1=self.activation1.Sigmo_func_f(self.FC1.forward(mini_X_train))\n",
    "                A2=self.FC2.forward(Z1)\n",
    "                Z2=self.activation2.Sigmo_func_f(A2)                \n",
    "                A3=self.FC3.forward(Z2)\n",
    "                Z3=self.activation3.Sigmo_func_f(A3)                \n",
    "                A4=self.FC4.forward(Z3)\n",
    "                Z4=self.activation4.softmax_func_f(A4)\n",
    "                # バック\n",
    "                dA4=self.activation4.softmax_func_b(mini_y_train)\n",
    "                dZ3=self.FC4.backward(dA4,Z3)\n",
    "                dA3 = self.activation3.Sigmo_func_b(dZ3)\n",
    "                dZ2 = self.FC3.backward(dA3,Z2)                                \n",
    "                dA2 = self.activation2.Sigmo_func_b(dZ2)\n",
    "                dZ1 = self.FC2.backward(dA2,Z1)\n",
    "                dA1 = self.activation1.Sigmo_func_b(dZ1)\n",
    "                dZ0 = self.FC1.backward(dA1,mini_X_train) # dZ0は使用しない\n",
    "              \n",
    "            self.loss.append(self.activation4.total)\n",
    "            \n",
    "            if X_val is not None:                             \n",
    "                A1_val=self.FC1.forward(X_val)\n",
    "                Z1_val=self.activation1.Sigmo_func_f(self.FC1.forward(X_val))\n",
    "                A2_val=self.FC2.forward(Z1_val)\n",
    "                Z2_val=self.activation2.Sigmo_func_f(A2_val)               \n",
    "                A3_val=self.FC3.forward(Z2_val)\n",
    "                Z3_val=self.activation3.Sigmo_func_f(A3_val)                \n",
    "                A4_val=self.FC4.forward(Z3_val)\n",
    "                Z4_val=self.activation4.softmax_func_f(A4_val) \n",
    "                dA4_val=self.activation4.softmax_func_b(y_val)            \n",
    "                self.val_loss.append(self.activation4.total)  \n",
    "            \n",
    "            \n",
    "    def predict(self, X):\n",
    "        \"\"\"\n",
    "        ニューラルネットワーク分類器を使い推定する。\n",
    "        Parameters\n",
    "        ----------\n",
    "        X : 次の形のndarray, shape (n_samples, n_features)\n",
    "            サンプル\n",
    "        Returns\n",
    "        -------\n",
    "            次の形のndarray, shape (n_samples, 1)\n",
    "            推定結果\n",
    "        \"\"\"        \n",
    "        A1=self.FC1.forward(X)\n",
    "        Z1=self.activation1.Sigmo_func_f(self.FC1.forward(X))\n",
    "        A2=self.FC2.forward(Z1)\n",
    "        Z2=self.activation2.Sigmo_func_f(A2)\n",
    "        A3=self.FC3.forward(Z2)\n",
    "        Z3=self.activation3.Sigmo_func_f(A3)        \n",
    "        A4=self.FC4.forward(Z3)\n",
    "        Z4=self.activation4.softmax_func_f(A4)\n",
    "        y_pred=np.argmax(Z4, axis=1)\n",
    "        \n",
    "        return y_pred"
   ]
  },
  {
   "cell_type": "code",
   "execution_count": 793,
   "metadata": {},
   "outputs": [],
   "source": [
    "ite_num=12\n",
    "first_nodes=500\n",
    "second_nodes=200\n",
    "third_nodes=100\n",
    "fourth_nodes=10\n",
    "SSNN5=ScratchSimpleNeuralNetrowkClassifier_A4(ite_num,first_nodes,second_nodes,third_nodes,fourth_nodes)\n",
    "SSNN5.fit(X_train,y_train, X_val, y_val)"
   ]
  },
  {
   "cell_type": "code",
   "execution_count": 795,
   "metadata": {},
   "outputs": [
    {
     "data": {
      "image/png": "[encoded data removed]",
      "text/plain": [
       "<Figure size 432x288 with 1 Axes>"
      ]
     },
     "metadata": {
      "needs_background": "light"
     },
     "output_type": "display_data"
    }
   ],
   "source": [
    "import matplotlib.pyplot as plt\n",
    "plt.plot(SSNN5.loss)\n",
    "plt.plot(SSNN5.val_loss)\n",
    "plt.show()"
   ]
  },
  {
   "cell_type": "code",
   "execution_count": 796,
   "metadata": {},
   "outputs": [
    {
     "data": {
      "text/plain": [
       "0.9579"
      ]
     },
     "execution_count": 796,
     "metadata": {},
     "output_type": "execute_result"
    }
   ],
   "source": [
    "# Accuracyは元の初期値よりさらに上がった\n",
    "y_pred5=SSNN5.predict(X_test)\n",
    "from sklearn.metrics import accuracy_score\n",
    "accuracy_score(y_test,y_pred5)"
   ]
  },
  {
   "cell_type": "markdown",
   "metadata": {},
   "source": [
    "層を３層から４層にしたが、良い数値ではあるがAccuracyはあまり上昇しなかった。"
   ]
  },
  {
   "cell_type": "code",
   "execution_count": null,
   "metadata": {},
   "outputs": [],
   "source": []
  }
 ],
 "metadata": {
  "kernelspec": {
   "display_name": "Python 3",
   "language": "python",
   "name": "python3"
  },
  "language_info": {
   "codemirror_mode": {
    "name": "ipython",
    "version": 3
   },
   "file_extension": ".py",
   "mimetype": "text/x-python",
   "name": "python",
   "nbconvert_exporter": "python",
   "pygments_lexer": "ipython3",
   "version": "3.7.2"
  }
 },
 "nbformat": 4,
 "nbformat_minor": 2
}
