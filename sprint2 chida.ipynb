{
 "cells": [
  {
   "cell_type": "markdown",
   "metadata": {},
   "source": [
    "機械学習スクラッチ入門"
   ]
  },
  {
   "cell_type": "markdown",
   "metadata": {},
   "source": [
    "【問題1】train_test_split のスクラッチ"
   ]
  },
  {
   "cell_type": "code",
   "execution_count": 63,
   "metadata": {},
   "outputs": [],
   "source": [
    "def scratch_train_test_split(X, y, train_size=0.8):\n",
    "    \"\"\"検証データを分割する。\n",
    "    Parameters\n",
    "    ----------\n",
    "    X : ndarray\n",
    "      訓練データ (n_samples, n_features)\n",
    "    y : ndarray\n",
    "      正解値 (n_samples,)\n",
    "    train_size : float\n",
    "      何割をtrainとするか指定 (0 < train_size < 1)\n",
    "    Returns\n",
    "    -------\n",
    "    X_train : ndarray\n",
    "      訓練データ (n_samples, n_features)\n",
    "    X_test : ndarray\n",
    "      検証データ (n_samples, n_features)\n",
    "    y_train : ndarray\n",
    "      訓練データの正解値 (n_samples,)\n",
    "    y_test : ndarray\n",
    "      検証データの正解値 (n_samples,)\n",
    "    \"\"\"\n",
    "    import numpy as np\n",
    "    xy=np.concatenate([X, y],axis=1)\n",
    "    np.random.shuffle(xy)\n",
    "    split_number=round(len(xy)*train_size)\n",
    "    train=xy[0:split_number,:]\n",
    "    test=xy[split_number:,:]\n",
    "    X_train=train[:,:train.shape[1]-1]\n",
    "    y_train=train[:,-1]\n",
    "    X_test=test[:,:test.shape[1]-1]\n",
    "    y_test=test[:,-1]    \n",
    "    \n",
    "    return X_train, X_test, y_train, y_test"
   ]
  },
  {
   "cell_type": "code",
   "execution_count": 64,
   "metadata": {},
   "outputs": [],
   "source": [
    "# 実際にできているか実行を行う\n",
    "#　サンプルはアヤメで確認\n",
    "\n",
    "from sklearn.datasets import load_iris\n",
    "iris = load_iris()\n",
    "import pandas as pd\n",
    "data1=pd.DataFrame(iris.data,columns=iris.feature_names)\n",
    "data2=pd.DataFrame(iris.target,columns=[\"Species\"])\n"
   ]
  },
  {
   "cell_type": "code",
   "execution_count": 65,
   "metadata": {},
   "outputs": [
    {
     "data": {
      "text/plain": [
       "(array([[5.4, 3.4, 1.7, 0.2],\n",
       "        [5.4, 3.9, 1.3, 0.4],\n",
       "        [7.7, 2.8, 6.7, 2. ],\n",
       "        [5.8, 2.7, 4.1, 1. ],\n",
       "        [6. , 2.7, 5.1, 1.6],\n",
       "        [6.1, 2.8, 4. , 1.3],\n",
       "        [5.1, 3.3, 1.7, 0.5],\n",
       "        [5.8, 2.7, 3.9, 1.2],\n",
       "        [5.7, 3. , 4.2, 1.2],\n",
       "        [5.8, 4. , 1.2, 0.2],\n",
       "        [5.7, 2.6, 3.5, 1. ],\n",
       "        [5.5, 3.5, 1.3, 0.2],\n",
       "        [4.8, 3.4, 1.6, 0.2],\n",
       "        [5.1, 3.4, 1.5, 0.2],\n",
       "        [7.4, 2.8, 6.1, 1.9],\n",
       "        [6.1, 2.9, 4.7, 1.4],\n",
       "        [5.7, 2.8, 4.5, 1.3],\n",
       "        [7.2, 3.6, 6.1, 2.5],\n",
       "        [6.7, 3. , 5.2, 2.3],\n",
       "        [4.9, 3. , 1.4, 0.2],\n",
       "        [5. , 3.3, 1.4, 0.2],\n",
       "        [6.1, 3. , 4.6, 1.4],\n",
       "        [6. , 3.4, 4.5, 1.6],\n",
       "        [6.8, 3.2, 5.9, 2.3],\n",
       "        [6.5, 3. , 5.2, 2. ],\n",
       "        [4.9, 2.4, 3.3, 1. ],\n",
       "        [6.4, 3.2, 5.3, 2.3],\n",
       "        [4.6, 3.2, 1.4, 0.2],\n",
       "        [4.9, 3.1, 1.5, 0.1],\n",
       "        [7.7, 2.6, 6.9, 2.3],\n",
       "        [7.1, 3. , 5.9, 2.1],\n",
       "        [6.2, 2.2, 4.5, 1.5],\n",
       "        [4.9, 3.1, 1.5, 0.1],\n",
       "        [5.1, 2.5, 3. , 1.1],\n",
       "        [5. , 2. , 3.5, 1. ],\n",
       "        [6.9, 3.2, 5.7, 2.3],\n",
       "        [5.1, 3.5, 1.4, 0.3],\n",
       "        [6.4, 2.9, 4.3, 1.3],\n",
       "        [5.4, 3.7, 1.5, 0.2],\n",
       "        [4.8, 3.4, 1.9, 0.2],\n",
       "        [5. , 3.5, 1.3, 0.3],\n",
       "        [6.1, 2.8, 4.7, 1.2],\n",
       "        [6.4, 2.7, 5.3, 1.9],\n",
       "        [6. , 2.2, 4. , 1. ],\n",
       "        [4.6, 3.6, 1. , 0.2],\n",
       "        [4.6, 3.4, 1.4, 0.3],\n",
       "        [5.6, 3. , 4.5, 1.5],\n",
       "        [6.7, 2.5, 5.8, 1.8],\n",
       "        [6.6, 3. , 4.4, 1.4],\n",
       "        [6.3, 3.4, 5.6, 2.4],\n",
       "        [5. , 3.4, 1.5, 0.2],\n",
       "        [5.5, 2.5, 4. , 1.3],\n",
       "        [6.8, 2.8, 4.8, 1.4],\n",
       "        [6.4, 3.1, 5.5, 1.8],\n",
       "        [6.3, 3.3, 4.7, 1.6],\n",
       "        [5.9, 3. , 4.2, 1.5],\n",
       "        [6.7, 3.1, 4.7, 1.5],\n",
       "        [5.3, 3.7, 1.5, 0.2],\n",
       "        [5.5, 2.3, 4. , 1.3],\n",
       "        [5.6, 3. , 4.1, 1.3],\n",
       "        [6. , 3. , 4.8, 1.8],\n",
       "        [6.3, 2.8, 5.1, 1.5],\n",
       "        [4.6, 3.1, 1.5, 0.2],\n",
       "        [6.6, 2.9, 4.6, 1.3],\n",
       "        [5.5, 2.4, 3.7, 1. ],\n",
       "        [6.7, 3.1, 4.4, 1.4],\n",
       "        [6.9, 3.1, 5.4, 2.1],\n",
       "        [6.9, 3.1, 4.9, 1.5],\n",
       "        [5. , 3. , 1.6, 0.2],\n",
       "        [5.7, 2.8, 4.1, 1.3],\n",
       "        [4.8, 3.1, 1.6, 0.2],\n",
       "        [7.3, 2.9, 6.3, 1.8],\n",
       "        [6.7, 3.3, 5.7, 2.5],\n",
       "        [5.5, 4.2, 1.4, 0.2],\n",
       "        [6.3, 2.5, 5. , 1.9],\n",
       "        [6. , 2.9, 4.5, 1.5],\n",
       "        [5. , 3.6, 1.4, 0.2],\n",
       "        [7.7, 3. , 6.1, 2.3],\n",
       "        [5.7, 3.8, 1.7, 0.3],\n",
       "        [6.7, 3.1, 5.6, 2.4],\n",
       "        [4.4, 3.2, 1.3, 0.2],\n",
       "        [6.5, 3. , 5.8, 2.2],\n",
       "        [5.4, 3.9, 1.7, 0.4],\n",
       "        [6.5, 2.8, 4.6, 1.5],\n",
       "        [5.1, 3.8, 1.9, 0.4],\n",
       "        [7. , 3.2, 4.7, 1.4],\n",
       "        [5. , 3.5, 1.6, 0.6],\n",
       "        [5.6, 2.5, 3.9, 1.1],\n",
       "        [5.2, 3.4, 1.4, 0.2],\n",
       "        [5.9, 3. , 5.1, 1.8],\n",
       "        [5.8, 2.6, 4. , 1.2],\n",
       "        [6.3, 2.3, 4.4, 1.3],\n",
       "        [6.9, 3.1, 5.1, 2.3],\n",
       "        [7.7, 3.8, 6.7, 2.2],\n",
       "        [4.7, 3.2, 1.6, 0.2],\n",
       "        [5.6, 2.9, 3.6, 1.3],\n",
       "        [5.8, 2.7, 5.1, 1.9],\n",
       "        [4.9, 2.5, 4.5, 1.7],\n",
       "        [6.3, 3.3, 6. , 2.5],\n",
       "        [5. , 3.2, 1.2, 0.2],\n",
       "        [5.5, 2.6, 4.4, 1.2],\n",
       "        [5.2, 4.1, 1.5, 0.1],\n",
       "        [5. , 2.3, 3.3, 1. ],\n",
       "        [6.3, 2.9, 5.6, 1.8],\n",
       "        [4.9, 3.1, 1.5, 0.1],\n",
       "        [5.6, 2.7, 4.2, 1.3],\n",
       "        [7.2, 3.2, 6. , 1.8],\n",
       "        [5. , 3.4, 1.6, 0.4],\n",
       "        [5.7, 2.9, 4.2, 1.3],\n",
       "        [5.6, 2.8, 4.9, 2. ],\n",
       "        [5.1, 3.5, 1.4, 0.2],\n",
       "        [5.4, 3. , 4.5, 1.5],\n",
       "        [4.5, 2.3, 1.3, 0.3],\n",
       "        [7.6, 3. , 6.6, 2.1],\n",
       "        [5.2, 3.5, 1.5, 0.2],\n",
       "        [6.8, 3. , 5.5, 2.1],\n",
       "        [5.5, 2.4, 3.8, 1.1],\n",
       "        [6.4, 2.8, 5.6, 2.2],\n",
       "        [6.4, 3.2, 4.5, 1.5],\n",
       "        [5.8, 2.8, 5.1, 2.4]]), array([[4.8, 3. , 1.4, 0.3],\n",
       "        [4.4, 2.9, 1.4, 0.2],\n",
       "        [6.2, 3.4, 5.4, 2.3],\n",
       "        [7.9, 3.8, 6.4, 2. ],\n",
       "        [6.2, 2.8, 4.8, 1.8],\n",
       "        [6.1, 2.6, 5.6, 1.4],\n",
       "        [4.3, 3. , 1.1, 0.1],\n",
       "        [5.4, 3.4, 1.5, 0.4],\n",
       "        [6.2, 2.9, 4.3, 1.3],\n",
       "        [6.5, 3.2, 5.1, 2. ],\n",
       "        [6.7, 3. , 5. , 1.7],\n",
       "        [5.7, 4.4, 1.5, 0.4],\n",
       "        [6.4, 2.8, 5.6, 2.1],\n",
       "        [7.2, 3. , 5.8, 1.6],\n",
       "        [5.1, 3.8, 1.6, 0.2],\n",
       "        [5.7, 2.5, 5. , 2. ],\n",
       "        [5.2, 2.7, 3.9, 1.4],\n",
       "        [4.8, 3. , 1.4, 0.1],\n",
       "        [5.9, 3.2, 4.8, 1.8],\n",
       "        [4.7, 3.2, 1.3, 0.2],\n",
       "        [4.4, 3. , 1.3, 0.2],\n",
       "        [5.1, 3.8, 1.5, 0.3],\n",
       "        [5.1, 3.7, 1.5, 0.4],\n",
       "        [6.7, 3.3, 5.7, 2.1],\n",
       "        [6.5, 3. , 5.5, 1.8],\n",
       "        [6.3, 2.5, 4.9, 1.5],\n",
       "        [6.1, 3. , 4.9, 1.8],\n",
       "        [6.3, 2.7, 4.9, 1.8],\n",
       "        [5.8, 2.7, 5.1, 1.9],\n",
       "        [6. , 2.2, 5. , 1.5]]), array([0., 0., 2., 1., 1., 1., 0., 1., 1., 0., 1., 0., 0., 0., 2., 1., 1.,\n",
       "        2., 2., 0., 0., 1., 1., 2., 2., 1., 2., 0., 0., 2., 2., 1., 0., 1.,\n",
       "        1., 2., 0., 1., 0., 0., 0., 1., 2., 1., 0., 0., 1., 2., 1., 2., 0.,\n",
       "        1., 1., 2., 1., 1., 1., 0., 1., 1., 2., 2., 0., 1., 1., 1., 2., 1.,\n",
       "        0., 1., 0., 2., 2., 0., 2., 1., 0., 2., 0., 2., 0., 2., 0., 1., 0.,\n",
       "        1., 0., 1., 0., 2., 1., 1., 2., 2., 0., 1., 2., 2., 2., 0., 1., 0.,\n",
       "        1., 2., 0., 1., 2., 0., 1., 2., 0., 1., 0., 2., 0., 2., 1., 2., 1.,\n",
       "        2.]), array([0., 0., 2., 2., 2., 2., 0., 0., 1., 2., 1., 0., 2., 2., 0., 2., 1.,\n",
       "        0., 1., 0., 0., 0., 0., 2., 2., 1., 2., 2., 2., 2.]))"
      ]
     },
     "execution_count": 65,
     "metadata": {},
     "output_type": "execute_result"
    }
   ],
   "source": [
    "# data1がアヤメの特徴量　data2がラベルである\n",
    "# scratch_train_test_splitを試してみる\n",
    "#　無事に実行できていることが確認できた\n",
    "\n",
    "scratch_train_test_split(data1,data2,train_size=0.8)"
   ]
  },
  {
   "cell_type": "markdown",
   "metadata": {},
   "source": [
    "scikit-learnを用いて機械学習を行うコードの実装\n",
    "\n",
    "分類問題\n",
    "\n",
    "ロジスティック回帰、SVM、決定木の実装を行う\n",
    "\n",
    "先に３つ実装を行い、その後【問題２】を行う"
   ]
  },
  {
   "cell_type": "markdown",
   "metadata": {},
   "source": [
    "＜ロジスティック回帰＞のscikit-learnを使っての実装"
   ]
  },
  {
   "cell_type": "code",
   "execution_count": 120,
   "metadata": {},
   "outputs": [],
   "source": [
    "# ロジスティック回帰の実装として「logistic_func」という関数を作成\n",
    "def logistic_func(X, y, train_size=0.8):\n",
    "    \"\"\"検証データを分割する。\n",
    "    Parameters\n",
    "    ----------\n",
    "    X : ndarray\n",
    "      訓練データ (n_samples, n_features)\n",
    "    y : ndarray\n",
    "      正解値 (n_samples,)\n",
    "    train_size : float\n",
    "      何割をtrainとするか指定 (0 < train_size < 1)\n",
    "    Returns\n",
    "    -------\n",
    "    X_train : ndarray\n",
    "      訓練データ (n_samples, n_features)\n",
    "    X_test : ndarray\n",
    "      検証データ (n_samples, n_features)\n",
    "    y_train : ndarray\n",
    "      訓練データの正解値 (n_samples,)\n",
    "    y_test : ndarray\n",
    "      検証データの正解値 (n_samples,)\n",
    "    model : object\n",
    "        学習したモデルのインスンタス    \n",
    "    \"\"\"\n",
    "    \n",
    "    import numpy as np\n",
    "    xy=np.concatenate([X, y],axis=1)\n",
    "    np.random.shuffle(xy)\n",
    "    split_number=round(len(xy)*train_size)\n",
    "    train=xy[0:split_number,:]\n",
    "    test=xy[split_number:,:]\n",
    "    X_train=train[:,:train.shape[1]-1]\n",
    "    y_train=train[:,-1]\n",
    "    X_test=test[:,:test.shape[1]-1]\n",
    "    y_test=test[:,-1]  \n",
    "    \n",
    "    from sklearn.preprocessing import StandardScaler\n",
    "    scaler = StandardScaler()\n",
    "    scaler.fit(X_train)\n",
    "    X_train=scaler.transform(X_train)\n",
    "    X_test=scaler.transform(X_test)\n",
    "    \n",
    "    from sklearn.linear_model import SGDClassifier\n",
    "    clf = SGDClassifier(loss='log')\n",
    "    clf.fit(X_train,y_train)\n",
    "    \n",
    "    return X_train, X_test, y_train, y_test,clf"
   ]
  },
  {
   "cell_type": "code",
   "execution_count": 121,
   "metadata": {},
   "outputs": [],
   "source": [
    "a,b,c,d,e=logistic_func(data1,data2,train_size=0.8)"
   ]
  },
  {
   "cell_type": "markdown",
   "metadata": {},
   "source": [
    "＜SVM＞のscikit-learnを使っての実装"
   ]
  },
  {
   "cell_type": "code",
   "execution_count": 71,
   "metadata": {},
   "outputs": [],
   "source": [
    "# SVMの実装として「SVM_func」という関数を作成\n",
    "\n",
    "def SVM_func(X, y, train_size=0.8):\n",
    "    \"\"\"検証データを分割する。\n",
    "    Parameters\n",
    "    ----------\n",
    "    X : ndarray\n",
    "      訓練データ (n_samples, n_features)\n",
    "    y : ndarray\n",
    "      正解値 (n_samples,)\n",
    "    train_size : float\n",
    "      何割をtrainとするか指定 (0 < train_size < 1)\n",
    "    Returns\n",
    "    -------\n",
    "    X_train : ndarray\n",
    "      訓練データ (n_samples, n_features)\n",
    "    X_test : ndarray\n",
    "      検証データ (n_samples, n_features)\n",
    "    y_train : ndarray\n",
    "      訓練データの正解値 (n_samples,)\n",
    "    y_test : ndarray\n",
    "      検証データの正解値 (n_samples,)\n",
    "    model : object\n",
    "        学習したモデルのインスンタス    \n",
    "    \"\"\"\n",
    "    \n",
    "    import numpy as np\n",
    "    xy=np.concatenate([X, y],axis=1)\n",
    "    np.random.shuffle(xy)\n",
    "    split_number=round(len(xy)*train_size)\n",
    "    train=xy[0:split_number,:]\n",
    "    test=xy[split_number:,:]\n",
    "    X_train=train[:,:train.shape[1]-1]\n",
    "    y_train=train[:,-1]\n",
    "    X_test=test[:,:test.shape[1]-1]\n",
    "    y_test=test[:,-1]  \n",
    "    \n",
    "    from sklearn.preprocessing import StandardScaler\n",
    "    scaler = StandardScaler()\n",
    "    scaler.fit(X_train)\n",
    "    X_train=scaler.transform(X_train)\n",
    "    X_test=scaler.transform(X_test)\n",
    "    \n",
    "    from sklearn.pipeline import make_pipeline\n",
    "    from sklearn.svm import SVC\n",
    "    clfsvm = make_pipeline(StandardScaler(), SVC(gamma='auto'))\n",
    "    clfsvm.fit(X_train,y_train)\n",
    "    \n",
    "    return X_train,X_test,y_train,y_test,clfsvm"
   ]
  },
  {
   "cell_type": "code",
   "execution_count": 72,
   "metadata": {},
   "outputs": [],
   "source": [
    "a,b,c,d,e=SVM_func(data1,data2,train_size=0.8)"
   ]
  },
  {
   "cell_type": "markdown",
   "metadata": {},
   "source": [
    "＜決定木＞のscikit-learnを使っての実装"
   ]
  },
  {
   "cell_type": "code",
   "execution_count": 75,
   "metadata": {},
   "outputs": [],
   "source": [
    "# 決定木の実装として「tree_func」という関数を作成\n",
    "\n",
    "def tree_func(X, y, train_size=0.8):\n",
    "    \"\"\"検証データを分割する。\n",
    "    Parameters\n",
    "    ----------\n",
    "    X : ndarray\n",
    "      訓練データ (n_samples, n_features)\n",
    "    y : ndarray\n",
    "      正解値 (n_samples,)\n",
    "    train_size : float\n",
    "      何割をtrainとするか指定 (0 < train_size < 1)\n",
    "    Returns\n",
    "    -------\n",
    "    X_train : ndarray\n",
    "      訓練データ (n_samples, n_features)\n",
    "    X_test : ndarray\n",
    "      検証データ (n_samples, n_features)\n",
    "    y_train : ndarray\n",
    "      訓練データの正解値 (n_samples,)\n",
    "    y_test : ndarray\n",
    "      検証データの正解値 (n_samples,)\n",
    "    model : object\n",
    "        学習したモデルのインスンタス    \n",
    "    \"\"\"\n",
    "    \n",
    "    import numpy as np\n",
    "    xy=np.concatenate([X, y],axis=1)\n",
    "    np.random.shuffle(xy)\n",
    "    split_number=round(len(xy)*train_size)\n",
    "    train=xy[0:split_number,:]\n",
    "    test=xy[split_number:,:]\n",
    "    X_train=train[:,:train.shape[1]-1]\n",
    "    y_train=train[:,-1]\n",
    "    X_test=test[:,:test.shape[1]-1]\n",
    "    y_test=test[:,-1]  \n",
    "    \n",
    "    from sklearn.preprocessing import StandardScaler\n",
    "    scaler = StandardScaler()\n",
    "    scaler.fit(X_train)\n",
    "    X_train=scaler.transform(X_train)\n",
    "    X_test=scaler.transform(X_test)\n",
    "    \n",
    "    from sklearn.model_selection import cross_val_score\n",
    "    from sklearn.tree import DecisionTreeClassifier\n",
    "    clftree = DecisionTreeClassifier(random_state=0)\n",
    "    clftree.fit(X_train,y_train)\n",
    "    \n",
    "    return X_train,X_test,y_train,y_test,clftree"
   ]
  },
  {
   "cell_type": "code",
   "execution_count": 76,
   "metadata": {},
   "outputs": [],
   "source": [
    "a,b,c,d,e=tree_func(data1,data2,train_size=0.8)"
   ]
  },
  {
   "cell_type": "markdown",
   "metadata": {},
   "source": [
    "【問題2】 分類問題を解くコードの作成"
   ]
  },
  {
   "cell_type": "code",
   "execution_count": 103,
   "metadata": {},
   "outputs": [],
   "source": [
    "# ３種類のデータを揃える\n",
    "\n",
    "# irisデータセット\n",
    "data_a=iris.data[50:150,:]\n",
    "data_b=iris.target[50:150]"
   ]
  },
  {
   "cell_type": "code",
   "execution_count": 115,
   "metadata": {},
   "outputs": [],
   "source": [
    "# シンプルデータセット1\n",
    "# 変数名は区別するためX1とy1とする\n",
    "\n",
    "import numpy as np\n",
    "np.random.seed(seed=0)\n",
    "n_samples = 500\n",
    "f0 = [-1, 2]\n",
    "f1 = [2, -1]\n",
    "cov = [[1.0,0.8], [0.8, 1.0]]\n",
    "f0 = np.random.multivariate_normal(f0, cov, n_samples // 2)\n",
    "f1 = np.random.multivariate_normal(f1, cov, n_samples // 2)\n",
    "X1 = np.concatenate([f0, f1])\n",
    "y1 = np.concatenate([\n",
    "    np.full(n_samples // 2, 1),\n",
    "    np.full(n_samples // 2, -1)\n",
    "])"
   ]
  },
  {
   "cell_type": "code",
   "execution_count": 117,
   "metadata": {},
   "outputs": [],
   "source": [
    "# シンプルデータセット2\n",
    "# 変数名は区別するためX2とy2とする\n",
    "\n",
    "X2 = np.array([\n",
    "    [-0.44699 , -2.8073  ],[-1.4621  , -2.4586  ],\n",
    "    [ 0.10645 ,  1.9242  ],[-3.5944  , -4.0112  ],\n",
    "    [-0.9888  ,  4.5718  ],[-3.1625  , -3.9606  ],\n",
    "    [ 0.56421 ,  0.72888 ],[-0.60216 ,  8.4636  ],\n",
    "    [-0.61251 , -0.75345 ],[-0.73535 , -2.2718  ],\n",
    "    [-0.80647 , -2.2135  ],[ 0.86291 ,  2.3946  ],\n",
    "    [-3.1108  ,  0.15394 ],[-2.9362  ,  2.5462  ],\n",
    "    [-0.57242 , -2.9915  ],[ 1.4771  ,  3.4896  ],\n",
    "    [ 0.58619 ,  0.37158 ],[ 0.6017  ,  4.3439  ],\n",
    "    [-2.1086  ,  8.3428  ],[-4.1013  , -4.353   ],\n",
    "    [-1.9948  , -1.3927  ],[ 0.35084 , -0.031994],\n",
    "    [ 0.96765 ,  7.8929  ],[-1.281   , 15.6824  ],\n",
    "    [ 0.96765 , 10.083   ],[ 1.3763  ,  1.3347  ],\n",
    "    [-2.234   , -2.5323  ],[-2.9452  , -1.8219  ],\n",
    "    [ 0.14654 , -0.28733 ],[ 0.5461  ,  5.8245  ],\n",
    "    [-0.65259 ,  9.3444  ],[ 0.59912 ,  5.3524  ],\n",
    "    [ 0.50214 , -0.31818 ],[-3.0603  , -3.6461  ],\n",
    "    [-6.6797  ,  0.67661 ],[-2.353   , -0.72261 ],\n",
    "    [ 1.1319  ,  2.4023  ],[-0.12243 ,  9.0162  ],\n",
    "    [-2.5677  , 13.1779  ],[ 0.057313,  5.4681  ],\n",
    "])\n",
    "y2 = np.array([0, 0, 0, 0, 0, 0, 0, 0, 0, 0, 0, 0, 0, 0, 0, 0, 0, 0, 0, 0, 1, 1,\n",
    "       1, 1, 1, 1, 1, 1, 1, 1, 1, 1, 1, 1, 1, 1, 1, 1, 1, 1])"
   ]
  },
  {
   "cell_type": "markdown",
   "metadata": {},
   "source": [
    "＜ロジスティック回帰＞で学習させ推定を行う"
   ]
  },
  {
   "cell_type": "code",
   "execution_count": 167,
   "metadata": {},
   "outputs": [
    {
     "data": {
      "text/plain": [
       "0.9"
      ]
     },
     "execution_count": 167,
     "metadata": {},
     "output_type": "execute_result"
    }
   ],
   "source": [
    "# irisデータセットの場合　data_aが特徴量　data_bが目的変数\n",
    "# 関数を使い学習\n",
    "data_b=data_b.reshape(len(data_b),1)\n",
    "a,b,c,d,e=logistic_func(data_a,data_b,train_size=0.8)\n",
    "\n",
    "# 分割したX_testとy_testを使用して推定と確認のため評価を行う\n",
    "y_pred=e.predict(b)\n",
    "# Accuracy（正解率）\n",
    "\n",
    "from sklearn.metrics import accuracy_score\n",
    "accuracy_score(d,y_pred)"
   ]
  },
  {
   "cell_type": "code",
   "execution_count": 168,
   "metadata": {},
   "outputs": [
    {
     "data": {
      "text/plain": [
       "1.0"
      ]
     },
     "execution_count": 168,
     "metadata": {},
     "output_type": "execute_result"
    }
   ],
   "source": [
    "# シンプルデータセット1の場合　X1が特徴量　y1が目的変数\n",
    "# 関数を使い学習\n",
    "y1=y1.reshape(len(y1),1)\n",
    "a,b,c,d,e=logistic_func(X1,y1,train_size=0.8)\n",
    "\n",
    "# 分割したX_testとy_testを使用して推定と確認のため評価を行う\n",
    "y_pred=e.predict(b)\n",
    "# Accuracy（正解率）\n",
    "\n",
    "from sklearn.metrics import accuracy_score\n",
    "accuracy_score(d,y_pred)"
   ]
  },
  {
   "cell_type": "code",
   "execution_count": 169,
   "metadata": {},
   "outputs": [
    {
     "data": {
      "text/plain": [
       "0.25"
      ]
     },
     "execution_count": 169,
     "metadata": {},
     "output_type": "execute_result"
    }
   ],
   "source": [
    "# シンプルデータセット2の場合　X2が特徴量　y2が目的変数\n",
    "# 関数を使い学習\n",
    "y2=y2.reshape(len(y2),1)\n",
    "a,b,c,d,e=logistic_func(X2,y2,train_size=0.8)\n",
    "\n",
    "# 分割したX_testとy_testを使用して推定と確認のため評価を行う\n",
    "y_pred=e.predict(b)\n",
    "# Accuracy（正解率）\n",
    "\n",
    "from sklearn.metrics import accuracy_score\n",
    "accuracy_score(d,y_pred)"
   ]
  },
  {
   "cell_type": "markdown",
   "metadata": {},
   "source": [
    "＜SVM＞で学習させ推定を行う"
   ]
  },
  {
   "cell_type": "code",
   "execution_count": 170,
   "metadata": {},
   "outputs": [
    {
     "data": {
      "text/plain": [
       "1.0"
      ]
     },
     "execution_count": 170,
     "metadata": {},
     "output_type": "execute_result"
    }
   ],
   "source": [
    "# irisデータセットの場合　data_aが特徴量　data_bが目的変数\n",
    "# 関数を使い学習\n",
    "data_b=data_b.reshape(len(data_b),1)\n",
    "a,b,c,d,e=SVM_func(data_a,data_b,train_size=0.8)\n",
    "\n",
    "# 分割したX_testとy_testを使用して推定と確認のため評価を行う\n",
    "y_pred=e.predict(b)\n",
    "# Accuracy（正解率）\n",
    "\n",
    "from sklearn.metrics import accuracy_score\n",
    "accuracy_score(d,y_pred)"
   ]
  },
  {
   "cell_type": "code",
   "execution_count": 171,
   "metadata": {},
   "outputs": [
    {
     "data": {
      "text/plain": [
       "1.0"
      ]
     },
     "execution_count": 171,
     "metadata": {},
     "output_type": "execute_result"
    }
   ],
   "source": [
    "# シンプルデータセット1の場合　X1が特徴量　y1が目的変数\n",
    "# 関数を使い学習\n",
    "\n",
    "y1=y1.reshape(len(y1),1)\n",
    "a,b,c,d,e=SVM_func(X1,y1,train_size=0.8)\n",
    "\n",
    "# 分割したX_testとy_testを使用して推定と確認のため評価を行う\n",
    "y_pred=e.predict(b)\n",
    "# Accuracy（正解率）\n",
    "\n",
    "from sklearn.metrics import accuracy_score\n",
    "accuracy_score(d,y_pred)"
   ]
  },
  {
   "cell_type": "code",
   "execution_count": 172,
   "metadata": {},
   "outputs": [
    {
     "data": {
      "text/plain": [
       "0.625"
      ]
     },
     "execution_count": 172,
     "metadata": {},
     "output_type": "execute_result"
    }
   ],
   "source": [
    "# シンプルデータセット2の場合　X2が特徴量　y2が目的変数\n",
    "# 関数を使い学習\n",
    "\n",
    "y2=y2.reshape(len(y2),1)\n",
    "a,b,c,d,e=SVM_func(X2,y2,train_size=0.8)\n",
    "\n",
    "# 分割したX_testとy_testを使用して推定と確認のため評価を行う\n",
    "y_pred=e.predict(b)\n",
    "# Accuracy（正解率）\n",
    "\n",
    "from sklearn.metrics import accuracy_score\n",
    "accuracy_score(d,y_pred)"
   ]
  },
  {
   "cell_type": "markdown",
   "metadata": {},
   "source": [
    "＜決定木＞で学習させ推定を行う"
   ]
  },
  {
   "cell_type": "code",
   "execution_count": 180,
   "metadata": {},
   "outputs": [
    {
     "data": {
      "text/plain": [
       "0.95"
      ]
     },
     "execution_count": 180,
     "metadata": {},
     "output_type": "execute_result"
    }
   ],
   "source": [
    "# irisデータセットの場合　data_aが特徴量　data_bが目的変数\n",
    "# 関数を使い学習\n",
    "data_b=data_b.reshape(len(data_b),1)\n",
    "a,b,c,d,e=tree_func(data_a,data_b,train_size=0.8)\n",
    "\n",
    "# 分割したX_testとy_testを使用して推定と確認のため評価を行う\n",
    "y_pred=e.predict(b)\n",
    "\n",
    "# Accuracy（正解率）\n",
    "from sklearn.metrics import accuracy_score\n",
    "accuracy_score(d,y_pred)"
   ]
  },
  {
   "cell_type": "code",
   "execution_count": 179,
   "metadata": {},
   "outputs": [
    {
     "data": {
      "text/plain": [
       "1.0"
      ]
     },
     "execution_count": 179,
     "metadata": {},
     "output_type": "execute_result"
    }
   ],
   "source": [
    "# シンプルデータセット1の場合　X1が特徴量　y1が目的変数\n",
    "# 関数を使い学習\n",
    "\n",
    "y1=y1.reshape(len(y1),1)\n",
    "a,b,c,d,e=tree_func(X1,y1,train_size=0.8)\n",
    "\n",
    "# 分割したX_testとy_testを使用して推定と確認のため評価を行う\n",
    "y_pred=e.predict(b)\n",
    "\n",
    "# Accuracy（正解率）\n",
    "from sklearn.metrics import accuracy_score\n",
    "accuracy_score(d,y_pred)"
   ]
  },
  {
   "cell_type": "code",
   "execution_count": 178,
   "metadata": {},
   "outputs": [
    {
     "data": {
      "text/plain": [
       "0.375"
      ]
     },
     "execution_count": 178,
     "metadata": {},
     "output_type": "execute_result"
    }
   ],
   "source": [
    "# シンプルデータセット2の場合　X2が特徴量　y2が目的変数\n",
    "# 関数を使い学習\n",
    "\n",
    "y2=y2.reshape(len(y2),1)\n",
    "a,b,c,d,e=tree_func(X2,y2,train_size=0.8)\n",
    "\n",
    "# 分割したX_testとy_testを使用して推定と確認のため評価を行う\n",
    "y_pred=e.predict(b)\n",
    "\n",
    "# Accuracy（正解率）\n",
    "from sklearn.metrics import accuracy_score\n",
    "accuracy_score(d,y_pred)"
   ]
  },
  {
   "cell_type": "markdown",
   "metadata": {},
   "source": [
    "回帰問題\n",
    "\n",
    "まず線形回帰のscikit-learnを使った実装を行う、その後問題３を解く"
   ]
  },
  {
   "cell_type": "code",
   "execution_count": 151,
   "metadata": {},
   "outputs": [],
   "source": [
    "# ここまでと同様にscratch_train_test_splitを使用しtrain_size=0.8とする\n",
    "# 関数名はlinear_funcとする\n",
    "\n",
    "def linear_func(X, y, train_size=0.8):\n",
    "    \"\"\"検証データを分割する。\n",
    "    Parameters\n",
    "    ----------\n",
    "    X : ndarray\n",
    "      訓練データ (n_samples, n_features)\n",
    "    y : ndarray\n",
    "      正解値 (n_samples,)\n",
    "    train_size : float\n",
    "      何割をtrainとするか指定 (0 < train_size < 1)\n",
    "    Returns\n",
    "    -------\n",
    "    X_train : ndarray\n",
    "      訓練データ (n_samples, n_features)\n",
    "    X_test : ndarray\n",
    "      検証データ (n_samples, n_features)\n",
    "    y_train : ndarray\n",
    "      訓練データの正解値 (n_samples,)\n",
    "    y_test : ndarray\n",
    "      検証データの正解値 (n_samples,)\n",
    "    model : object\n",
    "        学習したモデルのインスンタス    \n",
    "    \"\"\"\n",
    "    \n",
    "    import numpy as np\n",
    "    xy=np.concatenate([X, y],axis=1)\n",
    "    np.random.shuffle(xy)\n",
    "    split_number=round(len(xy)*train_size)\n",
    "    train=xy[0:split_number,:]\n",
    "    test=xy[split_number:,:]\n",
    "    X_train=train[:,:train.shape[1]-1]\n",
    "    y_train=train[:,-1]\n",
    "    X_test=test[:,:test.shape[1]-1]\n",
    "    y_test=test[:,-1]  \n",
    "    \n",
    "    from sklearn.preprocessing import StandardScaler\n",
    "    scaler = StandardScaler()\n",
    "    scaler.fit(X_train)\n",
    "    X_train=scaler.transform(X_train)\n",
    "    X_test=scaler.transform(X_test)\n",
    "    \n",
    "    from sklearn.linear_model import SGDRegressor\n",
    "    reg = SGDRegressor()\n",
    "    reg.fit(X_train,y_train)\n",
    "    \n",
    "    return X_train, X_test, y_train, y_test,reg"
   ]
  },
  {
   "cell_type": "code",
   "execution_count": 152,
   "metadata": {},
   "outputs": [],
   "source": [
    "a,b,c,d,e=linear_func(X1, y1, train_size=0.8)"
   ]
  },
  {
   "cell_type": "code",
   "execution_count": 156,
   "metadata": {},
   "outputs": [],
   "source": [
    "# データセットを用意する\n",
    "# PandasのDataFrame型のtrain_dataに格納\n",
    "import pandas as pd\n",
    "import numpy as np\n",
    "\n",
    "train_data=pd.read_csv(\"/Users/chidayasuhiro/diveintocode-ml/train.csv\")\n",
    "\n",
    "setsumei =train_data.loc[:,['GrLivArea','YearBuilt']]\n",
    "mokuteki =train_data.loc[:,\"SalePrice\"]"
   ]
  },
  {
   "cell_type": "code",
   "execution_count": 165,
   "metadata": {},
   "outputs": [],
   "source": [
    "X3=np.array(setsumei)\n",
    "y3=np.array(mokuteki).reshape(len(mokuteki),1)"
   ]
  },
  {
   "cell_type": "markdown",
   "metadata": {},
   "source": [
    "【問題3】 回帰問題を解くコードの作成"
   ]
  },
  {
   "cell_type": "code",
   "execution_count": 183,
   "metadata": {},
   "outputs": [
    {
     "data": {
      "text/plain": [
       "2971648875.099315"
      ]
     },
     "execution_count": 183,
     "metadata": {},
     "output_type": "execute_result"
    }
   ],
   "source": [
    "# House Pricesの場合　X3が特徴量のGrLivAreaとYearBuilt　y3が目的変数のSalePrice\n",
    "# 関数を使い学習\n",
    "y3=y3.reshape(len(y3),1)\n",
    "a,b,c,d,e=tree_func(X3,y3,train_size=0.8)\n",
    "\n",
    "# 分割したX_testとy_testを使用して推定と確認のため評価を行う\n",
    "y_pred=e.predict(b)\n",
    "\n",
    "# 評価のために平均二乗誤差を計算\n",
    "from sklearn.metrics import mean_squared_error\n",
    "mean_squared_error(d, y_pred)"
   ]
  },
  {
   "cell_type": "code",
   "execution_count": null,
   "metadata": {},
   "outputs": [],
   "source": []
  }
 ],
 "metadata": {
  "kernelspec": {
   "display_name": "Python 3",
   "language": "python",
   "name": "python3"
  },
  "language_info": {
   "codemirror_mode": {
    "name": "ipython",
    "version": 3
   },
   "file_extension": ".py",
   "mimetype": "text/x-python",
   "name": "python",
   "nbconvert_exporter": "python",
   "pygments_lexer": "ipython3",
   "version": "3.7.2"
  }
 },
 "nbformat": 4,
 "nbformat_minor": 2
}
