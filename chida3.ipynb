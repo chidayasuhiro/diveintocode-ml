{
 "cells": [
  {
   "cell_type": "markdown",
   "metadata": {},
   "source": [
    "【問題1】何回折ったら富士山を超えるか"
   ]
  },
  {
   "cell_type": "code",
   "execution_count": 5,
   "metadata": {},
   "outputs": [
    {
     "name": "stdout",
     "output_type": "stream",
     "text": [
      "25\n",
      "3776mを超えるために紙を折る最小回数は25回\n"
     ]
    }
   ],
   "source": [
    "#　3776mを超える最小回数\n",
    "\n",
    "a=0.00008\n",
    "chi=0\n",
    "i=0\n",
    "while chi<=3776 :\n",
    "    chi+=a*(2**i)\n",
    "    i+=1\n",
    "print(i-1)\n",
    "print(\"3776mを超えるために紙を折る最小回数は\",i-1,\"回\",sep=\"\")"
   ]
  },
  {
   "cell_type": "markdown",
   "metadata": {},
   "source": [
    "【問題2】任意の厚さに対応した関数"
   ]
  },
  {
   "cell_type": "code",
   "execution_count": 12,
   "metadata": {},
   "outputs": [
    {
     "name": "stdout",
     "output_type": "stream",
     "text": [
      "23\n"
     ]
    }
   ],
   "source": [
    "#　必要な紙を折る最小回数を出力する関数\n",
    "#　関数名chida　高さhigh 折る前の厚さthickness\n",
    "#　出力例として厚さ0.00008 高さ1oooの場合を出す\n",
    "\n",
    "def chida(thickness,high):\n",
    "    chi=0\n",
    "    i=0\n",
    "    while chi<=high :\n",
    "        chi+=thickness*(2**i)\n",
    "        i+=1\n",
    "    print(i-1)\n",
    "    \n",
    "chida(0.00008,1000)"
   ]
  },
  {
   "cell_type": "code",
   "execution_count": 19,
   "metadata": {},
   "outputs": [
    {
     "name": "stdout",
     "output_type": "stream",
     "text": [
      "68\n"
     ]
    }
   ],
   "source": [
    "#　プロキシマ・ケンタウリまでは何回折るか\n",
    "#　プロキシマ・ケンタウリまでは約4.246光年で4.01703e+16メートル\n",
    "#　最初の厚さは0.00008メートルとする\n",
    "\n",
    "def chida(thickness,high):\n",
    "    chi=0\n",
    "    i=0\n",
    "    while chi<=high :\n",
    "        chi+=thickness*(2**i)\n",
    "        i+=1\n",
    "    print(i-1)\n",
    "\n",
    "chida(0.00008,int(4.01703e+16))"
   ]
  },
  {
   "cell_type": "markdown",
   "metadata": {},
   "source": [
    "【問題3】必要な紙の長さ"
   ]
  },
  {
   "cell_type": "code",
   "execution_count": 45,
   "metadata": {},
   "outputs": [
    {
     "name": "stdout",
     "output_type": "stream",
     "text": [
      "月までに必要な紙の長さは 3.239276436131184e+21 メートル\n",
      "富士山までに必要な紙の長さは 47137680314.24769 メートル\n",
      "プロキシマ・ケンタウリまでに必要な紙の長さは 3.6471010376763626e+36 メートル\n"
     ]
    }
   ],
   "source": [
    "# 月到達のために折る回数　43回\n",
    "# 富士山到達のために折る回数　25回\n",
    "# プロキシマ・ケンタウリ到達のために折る回数　68回\n",
    "# 必要な紙の長さを求める関数名yasu　折る前の厚さthickness　折る回数n\n",
    "# π=3.14で計算\n",
    "\n",
    "def yasu(thickness,n):\n",
    "    L=((3.14*thickness)/6)*((2**n)+4)*((2**n)-1)\n",
    "    return L\n",
    "\n",
    "yasu(0.00008,43)\n",
    "print(\"月までに必要な紙の長さは\",yasu(0.00008,43),\"メートル\")\n",
    "\n",
    "yasu(0.00008,25)\n",
    "print(\"富士山までに必要な紙の長さは\",yasu(0.00008,25),\"メートル\")\n",
    "\n",
    "yasu(0.00008,68)\n",
    "print(\"プロキシマ・ケンタウリまでに必要な紙の長さは\",yasu(0.00008,68),\"メートル\")"
   ]
  },
  {
   "cell_type": "code",
   "execution_count": null,
   "metadata": {},
   "outputs": [],
   "source": []
  }
 ],
 "metadata": {
  "kernelspec": {
   "display_name": "Python 3",
   "language": "python",
   "name": "python3"
  },
  "language_info": {
   "codemirror_mode": {
    "name": "ipython",
    "version": 3
   },
   "file_extension": ".py",
   "mimetype": "text/x-python",
   "name": "python",
   "nbconvert_exporter": "python",
   "pygments_lexer": "ipython3",
   "version": "3.7.0"
  }
 },
 "nbformat": 4,
 "nbformat_minor": 2
}
