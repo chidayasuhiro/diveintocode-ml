{
 "cells": [
  {
   "cell_type": "markdown",
   "metadata": {},
   "source": [
    "信用情報の学習"
   ]
  },
  {
   "cell_type": "markdown",
   "metadata": {},
   "source": [
    "【問題1】コンペティション内容の確認\n",
    "\n",
    "＜何を学習し、何を予測するのか＞\n",
    "\n",
    "学習する内容は、顧客の性別や、資産などの様々な情報\n",
    "目的変数は１と０のラベルデータで返済が困難な人か、そうでないか\n",
    "\n",
    "＜どのようなファイルを作りKaggleに提出するか＞\n",
    "\n",
    "テストセットの中のTARGET variableを予測する。\n",
    "その際に、「SUbmission File」のページ記載のヘッダーとフォーマットで提出\n",
    "\n",
    "＜提出されたものはどういった指標値で評価されるのか＞\n",
    "\n",
    "予測値と観測された目的変数間での、ROC曲線の下の面積(AUC)で評価される"
   ]
  },
  {
   "cell_type": "markdown",
   "metadata": {},
   "source": [
    "【問題2】学習と検証\n",
    "\n",
    "データを簡単に分析、前処理し、学習、検証するまでの一連の流れを作成・実行。検証にはこのコンペティションで使用される評価指標を用いるようにしてください。学習に用いる手法は指定しません。"
   ]
  },
  {
   "cell_type": "code",
   "execution_count": 18,
   "metadata": {},
   "outputs": [],
   "source": [
    "# 取り込みをしap_dataとする\n",
    "\n",
    "import pandas as pd\n",
    "import numpy as np\n",
    "\n",
    "ap_data=pd.read_csv(\"/Users/chidayasuhiro/diveintocode-ml/application_train.csv\")"
   ]
  },
  {
   "cell_type": "code",
   "execution_count": 19,
   "metadata": {},
   "outputs": [],
   "source": [
    "# testも取り込んでおき、ap_data_testとする\n",
    "\n",
    "ap_data_test=pd.read_csv(\"/Users/chidayasuhiro/diveintocode-ml/application_test.csv\")"
   ]
  },
  {
   "cell_type": "code",
   "execution_count": 20,
   "metadata": {},
   "outputs": [
    {
     "data": {
      "text/plain": [
       "0"
      ]
     },
     "execution_count": 20,
     "metadata": {},
     "output_type": "execute_result"
    }
   ],
   "source": [
    "ap_data[\"AMT_INCOME_TOTAL\"].isnull().sum()"
   ]
  },
  {
   "cell_type": "code",
   "execution_count": 21,
   "metadata": {},
   "outputs": [
    {
     "data": {
      "text/plain": [
       "278"
      ]
     },
     "execution_count": 21,
     "metadata": {},
     "output_type": "execute_result"
    }
   ],
   "source": [
    "ap_data[\"AMT_GOODS_PRICE\"].isnull().sum()"
   ]
  },
  {
   "cell_type": "code",
   "execution_count": 22,
   "metadata": {},
   "outputs": [],
   "source": [
    "# 説明変数としてAMT_INCOME_TOTALとAMT_GOODS_PRICEで学習を行う\n",
    "# AMT_GOODS_PRICEには278の欠損値があるのでそのIDは削除を行う\n",
    "\n",
    "ap_data1=ap_data[[\"AMT_INCOME_TOTAL\",\"AMT_GOODS_PRICE\",\"TARGET\"]]"
   ]
  },
  {
   "cell_type": "code",
   "execution_count": 23,
   "metadata": {},
   "outputs": [],
   "source": [
    "#　欠損値のある行を削除\n",
    "\n",
    "ap_data2=ap_data1.dropna(how=\"any\")"
   ]
  },
  {
   "cell_type": "code",
   "execution_count": 25,
   "metadata": {},
   "outputs": [],
   "source": [
    "#訓練データと検証データの分割\n",
    "\n",
    "# pandasからnparrayへ\n",
    "import numpy as np\n",
    "ap_data2_np=np.array(ap_data2)\n",
    "\n",
    "# 分割\n",
    "from sklearn.model_selection import train_test_split\n",
    "ap_data2_npsp=train_test_split(ap_data2_np)\n",
    "\n",
    "a_train,a_test=ap_data2_npsp"
   ]
  },
  {
   "cell_type": "code",
   "execution_count": 26,
   "metadata": {},
   "outputs": [
    {
     "data": {
      "text/plain": [
       "LogisticRegression(C=1.0, class_weight=None, dual=False, fit_intercept=True,\n",
       "          intercept_scaling=1, max_iter=100, multi_class='ovr', n_jobs=1,\n",
       "          penalty='l2', random_state=None, solver='liblinear', tol=0.0001,\n",
       "          verbose=0, warm_start=False)"
      ]
     },
     "execution_count": 26,
     "metadata": {},
     "output_type": "execute_result"
    }
   ],
   "source": [
    "# ＜ロジスティック回帰＞を行う\n",
    "a_train_x=a_train[:,0:2]\n",
    "a_train_y=a_train[:,2]\n",
    "a_test_x=a_test[:,0:2]\n",
    "a_test_y=a_test[:,2]\n",
    "\n",
    "#　学習\n",
    "from sklearn.linear_model import LogisticRegression\n",
    "clf = LogisticRegression()\n",
    "clf.fit(a_train_x,a_train_y)"
   ]
  },
  {
   "cell_type": "code",
   "execution_count": 27,
   "metadata": {},
   "outputs": [
    {
     "data": {
      "text/plain": [
       "array([0., 0., 0., ..., 0., 0., 0.])"
      ]
     },
     "execution_count": 27,
     "metadata": {},
     "output_type": "execute_result"
    }
   ],
   "source": [
    "# 推定\n",
    "clf.predict(a_test_x)"
   ]
  },
  {
   "cell_type": "code",
   "execution_count": 37,
   "metadata": {},
   "outputs": [],
   "source": [
    "#　評価　ROC曲線の下の面積(AUC)で評価\n",
    "\n",
    "y_pred_clf=clf.predict(a_test_x)\n",
    "from sklearn.metrics import roc_curve\n",
    "import matplotlib.pyplot as plt\n",
    "from sklearn.metrics import roc_auc_score\n",
    "\n",
    "chi=list(a_test_y)\n",
    "da=list(y_pred_clf)\n",
    "\n",
    "roc = roc_curve(chi,da)"
   ]
  },
  {
   "cell_type": "code",
   "execution_count": 29,
   "metadata": {},
   "outputs": [],
   "source": [
    "fpr, tpr, thresholds = roc_curve(chi,da)"
   ]
  },
  {
   "cell_type": "code",
   "execution_count": 30,
   "metadata": {},
   "outputs": [
    {
     "data": {
      "image/png": "[encoded data removed]",
      "text/plain": [
       "<Figure size 432x288 with 1 Axes>"
      ]
     },
     "metadata": {
      "needs_background": "light"
     },
     "output_type": "display_data"
    }
   ],
   "source": [
    "plt.plot(fpr, tpr, marker='o')\n",
    "plt.xlabel('FPR: False positive rate')\n",
    "plt.ylabel('TPR: True positive rate')\n",
    "plt.grid()"
   ]
  },
  {
   "cell_type": "markdown",
   "metadata": {},
   "source": [
    "＜評価について＞\n",
    "\n",
    "ROC曲線が対角線となってしまった\n",
    "これは不十分なモデルであると言える"
   ]
  },
  {
   "cell_type": "markdown",
   "metadata": {},
   "source": [
    "【問題3】テストデータに対する推定"
   ]
  },
  {
   "cell_type": "code",
   "execution_count": 31,
   "metadata": {},
   "outputs": [],
   "source": [
    "# テストデータの説明変数（特徴量）である、AMT_INCOME_TOTALとAMT_GOODS_PRICEを抜き出す\n",
    "\n",
    "ap_data_test_x=ap_data_test[[\"AMT_INCOME_TOTAL\",\"AMT_GOODS_PRICE\"]]"
   ]
  },
  {
   "cell_type": "code",
   "execution_count": 32,
   "metadata": {},
   "outputs": [
    {
     "data": {
      "text/plain": [
       "array([0., 0., 0., ..., 0., 0., 0.])"
      ]
     },
     "execution_count": 32,
     "metadata": {},
     "output_type": "execute_result"
    }
   ],
   "source": [
    "# 推定\n",
    "ap_data_test_xnp=np.array(ap_data_test_x)\n",
    "\n",
    "clf.predict(ap_data_test_xnp)"
   ]
  },
  {
   "cell_type": "code",
   "execution_count": 33,
   "metadata": {},
   "outputs": [],
   "source": [
    "y_pred_test=clf.predict(ap_data_test_xnp)\n",
    "y_pred_test=pd.DataFrame(y_pred_test,columns=[\"target\"])\n",
    "test1=pd.concat([ap_data_test[\"SK_ID_CURR\"],y_pred_test],axis=1)"
   ]
  },
  {
   "cell_type": "code",
   "execution_count": null,
   "metadata": {},
   "outputs": [],
   "source": [
    "# これをcsvに書き出してKaggleに提出を行う\n",
    "# 無事に提出完了\n",
    "\n",
    "# test1.to_csv(\"submission.csv\",index=False)"
   ]
  },
  {
   "cell_type": "markdown",
   "metadata": {},
   "source": [
    "【問題4】特徴量エンジニアリング\n",
    "\n",
    "精度を上げるために以下のような観点で 特徴量エンジニアリング（Feature Engineering） を行ってください。\n",
    "\n",
    "・どの特徴量を使うか\n",
    "\n",
    "・どう前処理をするか"
   ]
  },
  {
   "cell_type": "code",
   "execution_count": 34,
   "metadata": {},
   "outputs": [],
   "source": [
    "#　特徴量エンジニアリング１　問題２と問題３で行ったものを標準化しロジスティックを行う\n",
    "\n",
    "from sklearn.preprocessing import StandardScaler\n",
    "scaler = StandardScaler()\n",
    "scaler.fit(a_train_x)\n",
    "a_train_xstd=scaler.transform(a_train_x)\n",
    "a_test_xstd=scaler.transform(a_test_x)"
   ]
  },
  {
   "cell_type": "code",
   "execution_count": 35,
   "metadata": {},
   "outputs": [],
   "source": [
    "from sklearn.linear_model import LogisticRegression\n",
    "clf = LogisticRegression()\n",
    "clf.fit(a_train_xstd,a_train_y)\n",
    "# 推定\n",
    "y_pred_clf_std=clf.predict(a_test_xstd)"
   ]
  },
  {
   "cell_type": "code",
   "execution_count": 38,
   "metadata": {},
   "outputs": [
    {
     "data": {
      "text/plain": [
       "0.5"
      ]
     },
     "execution_count": 38,
     "metadata": {},
     "output_type": "execute_result"
    }
   ],
   "source": [
    "# ROC曲線と下の面積(AUC)で評価を行う\n",
    "# 結果は悪い物になった\n",
    "chi=list(a_test_y)\n",
    "da=list(y_pred_clf_std)\n",
    "\n",
    "roc_auc_score(chi, da)"
   ]
  },
  {
   "cell_type": "code",
   "execution_count": 39,
   "metadata": {},
   "outputs": [
    {
     "data": {
      "image/png": "[encoded data removed]",
      "text/plain": [
       "<Figure size 432x288 with 1 Axes>"
      ]
     },
     "metadata": {
      "needs_background": "light"
     },
     "output_type": "display_data"
    }
   ],
   "source": [
    "roc = roc_curve(chi,da)\n",
    "plt.plot(fpr, tpr, marker='o')\n",
    "plt.xlabel('FPR: False positive rate')\n",
    "plt.ylabel('TPR: True positive rate')\n",
    "plt.grid()"
   ]
  },
  {
   "cell_type": "code",
   "execution_count": 40,
   "metadata": {},
   "outputs": [],
   "source": [
    "#　特徴量エンジニアリング２　決定木の手法で分析を行う\n",
    "\n",
    "from sklearn.model_selection import cross_val_score\n",
    "from sklearn.tree import DecisionTreeClassifier\n",
    "\n",
    "clftree = DecisionTreeClassifier(random_state=0)\n",
    "clftree.fit(a_train_xstd,a_train_y)\n",
    "\n",
    "y_pred_clftree=clftree.predict(a_test_xstd)"
   ]
  },
  {
   "cell_type": "code",
   "execution_count": 41,
   "metadata": {},
   "outputs": [
    {
     "data": {
      "text/plain": [
       "0.5000359280966413"
      ]
     },
     "execution_count": 41,
     "metadata": {},
     "output_type": "execute_result"
    }
   ],
   "source": [
    "# ROC曲線と下の面積(AUC)で評価を行う\n",
    "# ロジスティック回帰よりほんの少しよくなった可能性はあるが、決定木でもあまり良い分析とは言えなかった\n",
    "chi=list(a_test_y)\n",
    "da=list(y_pred_clftree)\n",
    "\n",
    "roc_auc_score(chi, da)"
   ]
  },
  {
   "cell_type": "code",
   "execution_count": 42,
   "metadata": {},
   "outputs": [
    {
     "data": {
      "image/png": "[encoded data removed]",
      "text/plain": [
       "<Figure size 432x288 with 1 Axes>"
      ]
     },
     "metadata": {
      "needs_background": "light"
     },
     "output_type": "display_data"
    }
   ],
   "source": [
    "roc = roc_curve(chi,da)\n",
    "plt.plot(fpr, tpr, marker='o')\n",
    "plt.xlabel('FPR: False positive rate')\n",
    "plt.ylabel('TPR: True positive rate')\n",
    "plt.grid()"
   ]
  },
  {
   "cell_type": "code",
   "execution_count": 43,
   "metadata": {},
   "outputs": [],
   "source": [
    "#　特徴量エンジニアリング３　特徴量の変更 TOTAL_INCOMEをEXT_SOURCE_2に変更し分析を行ってみる\n",
    "#　手法は決定木で行う\n",
    "\n",
    "ap_data_es2=ap_data[\"EXT_SOURCE_2\"]\n",
    "ap_data_es2\n",
    "\n",
    "ap_data_3=ap_data[[\"EXT_SOURCE_2\",\"AMT_GOODS_PRICE\",\"TARGET\"]]"
   ]
  },
  {
   "cell_type": "code",
   "execution_count": 44,
   "metadata": {},
   "outputs": [],
   "source": [
    "# 欠損値のある行は削除\n",
    "\n",
    "ap_data_3no1=ap_data_3.dropna(how=\"any\")"
   ]
  },
  {
   "cell_type": "code",
   "execution_count": 45,
   "metadata": {},
   "outputs": [],
   "source": [
    "# 分割して標準化を行う\n",
    "\n",
    "# pandasからnparrayへ\n",
    "import numpy as np\n",
    "ap_data_3no1=np.array(ap_data_3no1)\n",
    "\n",
    "# 分割\n",
    "from sklearn.model_selection import train_test_split\n",
    "ap_data_3no1_sp=train_test_split(ap_data_3no1)\n",
    "\n",
    "a_train_x,a_test_x=ap_data_3no1_sp\n",
    "a_train_x2=a_train_x[:,0:2]\n",
    "a_train_y2=a_train_x[:,2]\n",
    "a_test_x2=a_test_x[:,0:2]\n",
    "a_test_y2=a_test_x[:,2]\n",
    "\n",
    "\n",
    "#　標準化\n",
    "from sklearn.preprocessing import StandardScaler\n",
    "scaler = StandardScaler()\n",
    "scaler.fit(a_train_x2)\n",
    "a_train_xstd=scaler.transform(a_train_x2)\n",
    "a_test_xstd=scaler.transform(a_test_x2)"
   ]
  },
  {
   "cell_type": "code",
   "execution_count": 46,
   "metadata": {},
   "outputs": [],
   "source": [
    "#　学習\n",
    "from sklearn.model_selection import cross_val_score\n",
    "from sklearn.tree import DecisionTreeClassifier\n",
    "\n",
    "clftree = DecisionTreeClassifier(random_state=0)\n",
    "clftree.fit(a_train_xstd,a_train_y2)\n",
    "\n",
    "y_pred_clftree=clftree.predict(a_test_xstd)"
   ]
  },
  {
   "cell_type": "code",
   "execution_count": 47,
   "metadata": {},
   "outputs": [
    {
     "data": {
      "text/plain": [
       "0.5174187551324425"
      ]
     },
     "execution_count": 47,
     "metadata": {},
     "output_type": "execute_result"
    }
   ],
   "source": [
    "# ROC曲線と下の面積(AUC)で評価を行う\n",
    "\n",
    "chi=list(a_test_y2)\n",
    "da=list(y_pred_clftree)\n",
    "\n",
    "roc_auc_score(chi, da)"
   ]
  },
  {
   "cell_type": "code",
   "execution_count": 48,
   "metadata": {},
   "outputs": [
    {
     "data": {
      "image/png": "[encoded data removed]",
      "text/plain": [
       "<Figure size 432x288 with 1 Axes>"
      ]
     },
     "metadata": {
      "needs_background": "light"
     },
     "output_type": "display_data"
    }
   ],
   "source": [
    "roc = roc_curve(chi,da)\n",
    "plt.plot(fpr, tpr, marker='o')\n",
    "plt.xlabel('FPR: False positive rate')\n",
    "plt.ylabel('TPR: True positive rate')\n",
    "plt.grid()"
   ]
  },
  {
   "cell_type": "code",
   "execution_count": 49,
   "metadata": {},
   "outputs": [],
   "source": [
    "#　特徴量エンジニアリング４　特徴量はエンジニアリング３のもので、手法を決定木からロジスティック回帰を行って精度の検証を行う\n",
    "\n",
    "# 学習\n",
    "from sklearn.linear_model import LogisticRegression\n",
    "clf = LogisticRegression()\n",
    "clf.fit(a_train_xstd,a_train_y2)\n",
    "\n",
    "y_pred_clf=clf.predict(a_test_xstd)"
   ]
  },
  {
   "cell_type": "code",
   "execution_count": 50,
   "metadata": {},
   "outputs": [
    {
     "data": {
      "text/plain": [
       "0.5"
      ]
     },
     "execution_count": 50,
     "metadata": {},
     "output_type": "execute_result"
    }
   ],
   "source": [
    "# ROC曲線と下の面積(AUC)で評価を行う\n",
    "chi=list(a_test_y2)\n",
    "da=list(y_pred_clf)\n",
    "\n",
    "roc_auc_score(chi, da)"
   ]
  },
  {
   "cell_type": "code",
   "execution_count": 51,
   "metadata": {},
   "outputs": [
    {
     "data": {
      "image/png": "[encoded data removed]",
      "text/plain": [
       "<Figure size 432x288 with 1 Axes>"
      ]
     },
     "metadata": {
      "needs_background": "light"
     },
     "output_type": "display_data"
    }
   ],
   "source": [
    "roc = roc_curve(chi,da)\n",
    "plt.plot(fpr, tpr, marker='o')\n",
    "plt.xlabel('FPR: False positive rate')\n",
    "plt.ylabel('TPR: True positive rate')\n",
    "plt.grid()"
   ]
  },
  {
   "cell_type": "code",
   "execution_count": 52,
   "metadata": {},
   "outputs": [],
   "source": [
    "#　特徴量エンジニアリング５　特徴量をAMT_INCOME_TOTALとAMT_GOODS_PRICEとEXT_SOURCE_2の３つで行う、手法は決定木で行う\n",
    "\n",
    "ap_data5=ap_data[[\"AMT_INCOME_TOTAL\",\"AMT_GOODS_PRICE\",\"EXT_SOURCE_2\",\"TARGET\"]]\n",
    "ap_data6=ap_data5.dropna(how=\"any\")"
   ]
  },
  {
   "cell_type": "code",
   "execution_count": 53,
   "metadata": {},
   "outputs": [],
   "source": [
    "# pandasからnparrayへ\n",
    "import numpy as np\n",
    "ap_data6=np.array(ap_data6)\n",
    "\n",
    "# 分割\n",
    "from sklearn.model_selection import train_test_split\n",
    "ap_data6_sp=train_test_split(ap_data6)\n",
    "\n",
    "a_train_x,a_test_x=ap_data6_sp\n",
    "a_train_x2=a_train_x[:,0:3]\n",
    "a_train_y2=a_train_x[:,3]\n",
    "a_test_x2=a_test_x[:,0:3]\n",
    "a_test_y2=a_test_x[:,3]"
   ]
  },
  {
   "cell_type": "code",
   "execution_count": 75,
   "metadata": {},
   "outputs": [],
   "source": [
    "#標準化\n",
    "from sklearn.preprocessing import StandardScaler\n",
    "scaler = StandardScaler()\n",
    "scaler.fit(a_train_x2)\n",
    "a_train_xstd=scaler.transform(a_train_x2)\n",
    "a_test_xstd=scaler.transform(a_test_x2)"
   ]
  },
  {
   "cell_type": "code",
   "execution_count": 78,
   "metadata": {},
   "outputs": [],
   "source": [
    "#　学習\n",
    "from sklearn.model_selection import cross_val_score\n",
    "from sklearn.tree import DecisionTreeClassifier\n",
    "\n",
    "clftree = DecisionTreeClassifier(random_state=0)\n",
    "clftree.fit(a_train_xstd,a_train_y2)\n",
    "y_pred_clftree=clftree.predict(a_test_xstd)"
   ]
  },
  {
   "cell_type": "code",
   "execution_count": 59,
   "metadata": {},
   "outputs": [
    {
     "data": {
      "text/plain": [
       "0.5212214882523694"
      ]
     },
     "execution_count": 59,
     "metadata": {},
     "output_type": "execute_result"
    }
   ],
   "source": [
    "# ROC曲線と下の面積(AUC)で評価を行う\n",
    "\n",
    "chi=list(a_test_y2)\n",
    "da=list(y_pred_clftree)\n",
    "\n",
    "roc_auc_score(chi, da)"
   ]
  },
  {
   "cell_type": "code",
   "execution_count": 60,
   "metadata": {},
   "outputs": [
    {
     "data": {
      "image/png": "[encoded data removed]",
      "text/plain": [
       "<Figure size 432x288 with 1 Axes>"
      ]
     },
     "metadata": {
      "needs_background": "light"
     },
     "output_type": "display_data"
    }
   ],
   "source": [
    "roc = roc_curve(chi,da)\n",
    "plt.plot(fpr, tpr, marker='o')\n",
    "plt.xlabel('FPR: False positive rate')\n",
    "plt.ylabel('TPR: True positive rate')\n",
    "plt.grid()"
   ]
  },
  {
   "cell_type": "code",
   "execution_count": 85,
   "metadata": {},
   "outputs": [],
   "source": [
    "# 特徴量エンジニアリング５が最も精度が良かったためテストに対して推定を行う\n",
    "# テストデータの説明変数（特徴量）である、AMT_INCOME_TOTALとAMT_GOODS_PRICEとEXT_SOURCE_2を抜き出す\n",
    "\n",
    "ap_data_test_x2=ap_data_test[[\"AMT_INCOME_TOTAL\",\"AMT_GOODS_PRICE\",\"EXT_SOURCE_2\"]]\n",
    "\n",
    "ap_data_test_x3=ap_data_test_x2.dropna(how=\"any\")\n",
    "ap_data_test_xnp3=np.array(ap_data_test_x3)"
   ]
  },
  {
   "cell_type": "code",
   "execution_count": 86,
   "metadata": {},
   "outputs": [],
   "source": [
    "# テストデータに対して推定を行う\n",
    "#　標準化\n",
    "\n",
    "ap_data_test_xnp2std=scaler.transform(ap_data_test_xnp3)"
   ]
  },
  {
   "cell_type": "code",
   "execution_count": 87,
   "metadata": {},
   "outputs": [],
   "source": [
    "y_pred_clftree=clftree.predict(ap_data_test_xnp2std)"
   ]
  },
  {
   "cell_type": "code",
   "execution_count": 89,
   "metadata": {},
   "outputs": [],
   "source": [
    "y_pred_test2=pd.DataFrame(y_pred_test,columns=[\"target\"])\n",
    "test2=pd.concat([ap_data_test[\"SK_ID_CURR\"],y_pred_test],axis=1)"
   ]
  },
  {
   "cell_type": "code",
   "execution_count": 90,
   "metadata": {},
   "outputs": [],
   "source": [
    "# これをcsvに書き出してKaggleに提出を行う\n",
    "# 無事に提出完了\n",
    "\n",
    "#test2.to_csv(\"submission2.csv\",index=False)"
   ]
  },
  {
   "cell_type": "code",
   "execution_count": null,
   "metadata": {},
   "outputs": [],
   "source": []
  }
 ],
 "metadata": {
  "kernelspec": {
   "display_name": "Python 3",
   "language": "python",
   "name": "python3"
  },
  "language_info": {
   "codemirror_mode": {
    "name": "ipython",
    "version": 3
   },
   "file_extension": ".py",
   "mimetype": "text/x-python",
   "name": "python",
   "nbconvert_exporter": "python",
   "pygments_lexer": "ipython3",
   "version": "3.7.2"
  }
 },
 "nbformat": 4,
 "nbformat_minor": 2
}
