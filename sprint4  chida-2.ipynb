{
 "cells": [
  {
   "cell_type": "markdown",
   "metadata": {},
   "source": [
    "ロジスティック回帰\n",
    "\n",
    "問題１〜問題４まで順番に関数を作っていき、問題５の手前で雛形を完成させて実際のデータに入れて検証する"
   ]
  },
  {
   "cell_type": "markdown",
   "metadata": {},
   "source": [
    "【問題1】仮定関数"
   ]
  },
  {
   "cell_type": "code",
   "execution_count": 4,
   "metadata": {},
   "outputs": [],
   "source": [
    "# ロジスティック回帰の仮定関数をここで仮の実装を行う\n",
    "# 特徴量ベクトル(i行j列)とパラメータ（重み）ベクトル（j列）を使用する\n",
    "\n",
    "\n",
    "def sample_Logistic(X,param):\n",
    "    \"\"\"\n",
    "    線形の仮定関数を計算する\n",
    "    Parameters\n",
    "    ----------\n",
    "    X : 次の形のndarray, shape (n_samples, n_features)\n",
    "      訓練データ\n",
    "    param : 次の形のndarray, shape (n_features,1)\n",
    "    \n",
    "    Returns\n",
    "    -------\n",
    "    y :次の形のndarray, shape (n_samples, 1)\n",
    "       線形の仮定関数による推定結果\n",
    "    \"\"\"\n",
    "    \n",
    "    import math\n",
    "    # 式をわかりやすく、expの中身をlogiで定義しておく\n",
    "    logi=-(X@param)\n",
    "    y=1/(1+math.exp(logi))\n",
    "    \n",
    "    return y"
   ]
  },
  {
   "cell_type": "markdown",
   "metadata": {},
   "source": [
    "【問題2】最急降下法"
   ]
  },
  {
   "cell_type": "code",
   "execution_count": 6,
   "metadata": {},
   "outputs": [],
   "source": [
    "def _gradient_descent(X, y, X_val, y_val):\n",
    "    \"\"\"\n",
    "    ロジスティック回帰を学習する。検証データが入力された場合はそれに対する損失と精度もイテレーションごとに計算する。\n",
    "    Parameters\n",
    "    ----------\n",
    "    X : 次の形のndarray, shape (n_samples, n_features)\n",
    "        訓練データの特徴量\n",
    "    y : 次の形のndarray, shape (n_samples, )\n",
    "        訓練データの正解値\n",
    "    X_val : 次の形のndarray, shape (n_samples, n_features)\n",
    "        検証データの特徴量\n",
    "    y_val : 次の形のndarray, shape (n_samples, )\n",
    "        検証データの正解値\n",
    "    \"\"\"\n",
    "    import math\n",
    "    \n",
    "    # バイアスがあるかないかの分岐、あるなら定数項の列を挿入\n",
    "    if not (self.no_bias):    \n",
    "        #　Xの定数項を作成\n",
    "        X1=np.ones(len(X))\n",
    "        #　定数項を接続\n",
    "        X2=np.insert(X,0,X1,axis=1)\n",
    "        X=X2\n",
    "        \n",
    "        #　X_valの定数項を作成\n",
    "        X_val1=np.ones(len(X_val))\n",
    "        #　定数項を接続\n",
    "        X_val2=np.insert(X,0,X_val1,axis=1)\n",
    "        X_val=X_val2    \n",
    "        #　初期値　１で設定\n",
    "        param=np.ones(X.shape[1])\n",
    "    if self.no_bias:\n",
    "        param=np.ones(X.shape[1])\n",
    "\n",
    "    loss=[]\n",
    "    param_pre=[]\n",
    "    list_param=[]\n",
    "    for i in range(self.num_iter) :\n",
    "        # 正則化パラメータは仮で0.5とする\n",
    "        seisoku=0.5\n",
    "        logi=-(X@param)\n",
    "        suitei_y=1/(1+math.exp(logi))\n",
    "        a1=suitei_y-y\n",
    "        a2=X.T@a1\n",
    "        a3=a2+seisoku*param\n",
    "        a4=a3/(len(X))\n",
    "        a5=param-gakusyu*a4\n",
    "        list_param.append(a5)\n",
    "        param=a5\n",
    "      \n",
    "    for i in range(len(list_param)):\n",
    "        son1=X@list_param[i]\n",
    "        son2=sum((son1-y)**2)\n",
    "        son3=son2/2*len(X)\n",
    "        loss.append(son3)\n",
    "\n",
    "    for i in range(len(list_param)):\n",
    "        son1=X_val@list_param[i]\n",
    "        son2=sum((son1-y_val)**2)\n",
    "        son3=son2/2*len(X_val)\n",
    "        val_loss.append(son3)\n",
    "    \n",
    "    \n",
    "    self.loss= loss\n",
    "    self.val_loss= val_loss\n",
    "    \n",
    "    if self.verbose:\n",
    "        print(loss)\n",
    "        print(val_loss)\n",
    "\n",
    "    return param_pre,list_param,loss,val_loss\n",
    "        "
   ]
  },
  {
   "cell_type": "markdown",
   "metadata": {},
   "source": [
    "【問題3】推定"
   ]
  },
  {
   "cell_type": "code",
   "execution_count": 7,
   "metadata": {},
   "outputs": [],
   "source": [
    "def predict_proba(self, X,param_pre):\n",
    "    \"\"\"\n",
    "    ロジスティック回帰を使いラベルを推定する。\n",
    "    Parameters\n",
    "    ----------\n",
    "    X : 次の形のndarray, shape (n_samples, n_features)\n",
    "        サンプル\n",
    "    param_pre : パラメータの推定値ベクトル\n",
    "    \n",
    "    Returns\n",
    "    -------\n",
    "    y_pred:\n",
    "        次の形のndarray, shape (n_samples, 1)\n",
    "        ロジスティック回帰による推定結果\n",
    "    \"\"\"\n",
    "    \n",
    "    y_pred=X@param_pre\n",
    "    \n",
    "    return y_pred\n",
    "\n",
    "def predict(self, X,param_pre,shikii):\n",
    "    \"\"\"\n",
    "    ロジスティック回帰を使い確率を推定する。\n",
    "    Parameters\n",
    "    ----------\n",
    "    X : 次の形のndarray, shape (n_samples, n_features)\n",
    "        サンプル\n",
    "    param_pre : パラメータの推定値ベクトル\n",
    "    shikii: 0<=shikii<=1での閾値\n",
    "    Returns\n",
    "    -------\n",
    "        次の形のndarray, shape (n_samples, 1)\n",
    "        ロジスティック回帰による推定結果\n",
    "    \"\"\"\n",
    "    \n",
    "    y_pred=X@param_pre\n",
    "    y_pred_list=[]\n",
    "    for i in range(len(y_pred)):\n",
    "        d=y_pred[i]\n",
    "        if d<=shikii:\n",
    "            y_pred_list.append(0)\n",
    "        else:\n",
    "            y_pred_list.append(1)\n",
    "    \n",
    "    \n",
    "    return y_pred_list"
   ]
  },
  {
   "cell_type": "markdown",
   "metadata": {},
   "source": [
    "【問題4】目的関数\n",
    "\n",
    "【問題2】の中ですでに計算して出力するようにプログラムした"
   ]
  },
  {
   "cell_type": "markdown",
   "metadata": {},
   "source": [
    "【問題5】学習と推定\n",
    "\n",
    "実際のデータで検証するため、クラスの実装を雛形と今までやってきたものを中心にまず完成させる"
   ]
  },
  {
   "cell_type": "code",
   "execution_count": 325,
   "metadata": {},
   "outputs": [],
   "source": [
    "import numpy as np\n",
    "class ScratchLogisticRegression():\n",
    "    \"\"\"\n",
    "    ロジスティック回帰のスクラッチ実装\n",
    "    Parameters\n",
    "    ----------\n",
    "    num_iter : int\n",
    "      イテレーション数\n",
    "    lr : float\n",
    "      学習率\n",
    "    bias : bool\n",
    "      バイアス項を入れる場合はTrue\n",
    "    verbose : bool\n",
    "      学習過程を出力する場合はTrue\n",
    "    Attributes\n",
    "    ----------\n",
    "    self.coef_ : 次の形のndarray, shape (n_features,)\n",
    "      パラメータ\n",
    "    self.loss : 次の形のndarray, shape (self.iter,)\n",
    "      訓練データに対する損失の記録\n",
    "    self.val_loss : 次の形のndarray, shape (self.iter,)\n",
    "      検証データに対する損失の記録\n",
    "    \"\"\"\n",
    "    def __init__(self, num_iter, lr, bias, verbose):\n",
    "        # ハイパーパラメータを属性として記録\n",
    "        self.iter = num_iter\n",
    "        self.lr = lr\n",
    "        self.bias = bias\n",
    "        self.verbose = verbose\n",
    "        # 損失を記録する配列を用意\n",
    "        self.loss = np.zeros(self.iter)\n",
    "        self.val_loss = np.zeros(self.iter)                \n",
    "        \n",
    "    def fit(self,X, y, X_val, y_val):\n",
    "        \"\"\"\n",
    "        ロジスティック回帰を学習する。検証データが入力された場合はそれに対する損失と精度もイテレーションごとに計算する。\n",
    "        Parameters\n",
    "        ----------\n",
    "        X : 次の形のndarray, shape (n_samples, n_features)\n",
    "            訓練データの特徴量\n",
    "        y : 次の形のndarray, shape (n_samples, )\n",
    "            訓練データの正解値\n",
    "        X_val : 次の形のndarray, shape (n_samples, n_features)\n",
    "            検証データの特徴量\n",
    "        y_val : 次の形のndarray, shape (n_samples, )\n",
    "            検証データの正解値\n",
    "        \"\"\"\n",
    "        import math\n",
    "\n",
    "        # バイアスがあるかないかの分岐、あるなら定数項の列を挿入\n",
    "        if self.bias:    \n",
    "            #　Xの定数項を作成\n",
    "            X1=np.ones(len(X))\n",
    "            #　定数項を接続\n",
    "            X2=np.insert(X,0,X1,axis=1)\n",
    "            X=X2\n",
    "\n",
    "            #　X_valの定数項を作成\n",
    "            X_val1=np.ones(len(X_val))\n",
    "            #　定数項を接続\n",
    "            X_val2=np.insert(X_val,0,X_val1,axis=1)\n",
    "            X_val=X_val2    \n",
    "            #　初期値　１で設定\n",
    "            param=np.ones(X.shape[1])\n",
    "            param=param.reshape(len(param),1)\n",
    "        else:\n",
    "            param=np.ones(X.shape[1])\n",
    "            param=param.reshape(len(param),1)\n",
    "\n",
    "        loss=[]\n",
    "        val_loss=[]\n",
    "        list_param=[]\n",
    "        for i in range(self.iter) :\n",
    "            # 正則化パラメータは仮で0.5とする\n",
    "            seisoku=0.5\n",
    "            logi=-(X@param)\n",
    "            suitei_y=np.array(1)/(np.array(1)+np.exp(logi))\n",
    "            suitei_y=suitei_y.reshape(len(suitei_y),1)\n",
    "            a1=suitei_y-y\n",
    "            a2=X.T@a1\n",
    "            a22=(seisoku*param).reshape(len(seisoku*param),1)\n",
    "            a3=a22+seisoku*param\n",
    "            a4=a3/(len(X))\n",
    "            param=param.reshape(len(param),1)\n",
    "            a5=param-np.array(gakusyu)*a4\n",
    "            list_param.append(a5)\n",
    "            param_pre=a5\n",
    "            param=param_pre\n",
    "\n",
    "        for i in range(len(list_param)):\n",
    "            son1=X@list_param[i]\n",
    "            son2=sum((son1-y)**2)\n",
    "            son3=son2/2*len(X)\n",
    "            loss.append(son3)\n",
    "\n",
    "        for i in range(len(list_param)):\n",
    "            son1=X_val@list_param[i]\n",
    "            son2=sum((son1-y_val)**2)\n",
    "            son3=son2/2*len(X_val)\n",
    "            val_loss.append(son3)\n",
    "\n",
    "\n",
    "        self.loss= loss\n",
    "        self.val_loss= val_loss\n",
    "\n",
    "        if self.verbose:\n",
    "            print(loss)\n",
    "            print(val_loss)\n",
    "\n",
    "        return param_pre,list_param,loss,val_loss\n",
    "               \n",
    "    def predict_proba(self, X,param_pre):\n",
    "        \"\"\"\n",
    "        ロジスティック回帰を使いラベルを推定する。\n",
    "        Parameters\n",
    "        ----------\n",
    "        X : 次の形のndarray, shape (n_samples, n_features)\n",
    "            サンプル\n",
    "        param_pre : パラメータの推定値ベクトル\n",
    "\n",
    "        Returns\n",
    "        -------\n",
    "        y_pred:\n",
    "            次の形のndarray, shape (n_samples, 1)\n",
    "            ロジスティック回帰による推定結果\n",
    "        \"\"\"\n",
    "\n",
    "        logi=-(X@param_pre)\n",
    "        y_pred=np.array(1)/(np.array(1)+np.exp(logi))\n",
    "\n",
    "        return y_pred\n",
    "\n",
    "    def predict(self, X,param_pre,shikii):\n",
    "        \"\"\"\n",
    "        ロジスティック回帰を使い確率を推定する。\n",
    "        Parameters\n",
    "        ----------\n",
    "        X : 次の形のndarray, shape (n_samples, n_features)\n",
    "            サンプル\n",
    "        param_pre : パラメータの推定値ベクトル\n",
    "        shikii: 0<=shikii<=1での閾値\n",
    "        Returns\n",
    "        -------\n",
    "            次の形のndarray, shape (n_samples, 1)\n",
    "            ロジスティック回帰による推定結果\n",
    "        \"\"\"\n",
    "        \n",
    "        logi=-(X@param_pre)\n",
    "        y_pred=np.array(1)/(np.array(1)+np.exp(logi))\n",
    "        \n",
    "        y_pred_list=[]\n",
    "        for i in range(len(y_pred)):\n",
    "            d=y_pred[i]\n",
    "            if d<=shikii:\n",
    "                y_pred_list.append(0)\n",
    "            else:\n",
    "                y_pred_list.append(1)\n",
    "\n",
    "\n",
    "        return y_pred_list"
   ]
  },
  {
   "cell_type": "code",
   "execution_count": 13,
   "metadata": {},
   "outputs": [],
   "source": [
    "# アヤメのデータ取り込み\n",
    "\n",
    "from sklearn.datasets import load_iris\n",
    "iris = load_iris()\n",
    "import pandas as pd\n",
    "data1=pd.DataFrame(iris.data,columns=iris.feature_names)\n",
    "data2=pd.DataFrame(iris.target,columns=[\"Species\"])\n",
    "\n"
   ]
  },
  {
   "cell_type": "code",
   "execution_count": 27,
   "metadata": {},
   "outputs": [],
   "source": [
    "data1_1=data1[50:150]\n",
    "data2_1=data2[50:150]\n",
    "\n",
    "data1_1=np.array(data1_1)\n",
    "data2_1=np.array(data2_1)"
   ]
  },
  {
   "cell_type": "code",
   "execution_count": 235,
   "metadata": {},
   "outputs": [],
   "source": [
    "from sklearn.model_selection import train_test_split\n",
    "train_xx=train_test_split(data1_1)\n",
    "train_x=train_xx[0]\n",
    "test_x=train_xx[1]\n",
    "\n",
    "train_yy=train_test_split(data2_1)\n",
    "train_y=train_yy[0]\n",
    "test_y=train_yy[1]"
   ]
  },
  {
   "cell_type": "code",
   "execution_count": 390,
   "metadata": {},
   "outputs": [],
   "source": [
    "slg=ScratchLogisticRegression(1000,0.9,False,False)\n",
    "pre_list,b,c,d=slg.fit(train_x,train_y,test_x,test_y)"
   ]
  },
  {
   "cell_type": "code",
   "execution_count": 342,
   "metadata": {},
   "outputs": [
    {
     "data": {
      "text/plain": [
       "array([[0.99999795],\n",
       "       [1.        ],\n",
       "       [0.99999999],\n",
       "       [0.99999992],\n",
       "       [0.99999989],\n",
       "       [0.99999979],\n",
       "       [0.99999833],\n",
       "       [0.99999972],\n",
       "       [0.99999999],\n",
       "       [0.99999994],\n",
       "       [0.99999898],\n",
       "       [0.99999995],\n",
       "       [0.99999981],\n",
       "       [0.99999944],\n",
       "       [0.99999998],\n",
       "       [0.99999979],\n",
       "       [0.99999986],\n",
       "       [0.99999083],\n",
       "       [0.99999996],\n",
       "       [0.99999724],\n",
       "       [0.99999954],\n",
       "       [0.99999959],\n",
       "       [0.99999876],\n",
       "       [0.99999997],\n",
       "       [0.99999997]])"
      ]
     },
     "execution_count": 342,
     "metadata": {},
     "output_type": "execute_result"
    }
   ],
   "source": [
    "slg.predict_proba(test_x,pre_list)"
   ]
  },
  {
   "cell_type": "code",
   "execution_count": 330,
   "metadata": {},
   "outputs": [
    {
     "data": {
      "text/plain": [
       "[0, 1, 1, 1, 1, 1, 0, 1, 1, 1, 0, 1, 1, 1, 1, 1, 1, 0, 1, 0, 1, 1, 0, 1, 1]"
      ]
     },
     "execution_count": 330,
     "metadata": {},
     "output_type": "execute_result"
    }
   ],
   "source": [
    "# shikiiを仮で0.999999で想定\n",
    "slg.predict(test_x,a,0.999999)"
   ]
  },
  {
   "cell_type": "code",
   "execution_count": 356,
   "metadata": {},
   "outputs": [],
   "source": [
    "pred1=slg.predict(test_x,a,0.999999)\n",
    "pred2=np.array(pred1)+1"
   ]
  },
  {
   "cell_type": "code",
   "execution_count": 358,
   "metadata": {},
   "outputs": [
    {
     "name": "stdout",
     "output_type": "stream",
     "text": [
      "0.64\n",
      "16\n"
     ]
    }
   ],
   "source": [
    "# Accuracy（正解率）\n",
    "from sklearn.metrics import accuracy_score\n",
    "print(accuracy_score(test_y,pred2))\n",
    "print(accuracy_score(test_y,pred2,normalize=False))\n",
    "\n"
   ]
  },
  {
   "cell_type": "code",
   "execution_count": 359,
   "metadata": {},
   "outputs": [
    {
     "data": {
      "text/plain": [
       "0.6666666666666666"
      ]
     },
     "execution_count": 359,
     "metadata": {},
     "output_type": "execute_result"
    }
   ],
   "source": [
    "# Precision（適合率）\n",
    "from sklearn.metrics import precision_score\n",
    "precision_score(test_y,pred2)"
   ]
  },
  {
   "cell_type": "code",
   "execution_count": 360,
   "metadata": {},
   "outputs": [
    {
     "data": {
      "text/plain": [
       "0.36363636363636365"
      ]
     },
     "execution_count": 360,
     "metadata": {},
     "output_type": "execute_result"
    }
   ],
   "source": [
    "# Recall（再現率）\n",
    "from sklearn.metrics import recall_score\n",
    "recall_score(test_y,pred2)"
   ]
  },
  {
   "cell_type": "code",
   "execution_count": 361,
   "metadata": {},
   "outputs": [
    {
     "data": {
      "text/plain": [
       "0.4705882352941177"
      ]
     },
     "execution_count": 361,
     "metadata": {},
     "output_type": "execute_result"
    }
   ],
   "source": [
    "from sklearn.metrics import f1_score\n",
    "f1_score(test_y,pred2)"
   ]
  },
  {
   "cell_type": "markdown",
   "metadata": {},
   "source": [
    "scikit-learnによる実装と比べると、まだまだ更新数が少ないこともあり、違いが見られる、イレテーション数をもっと増やすことでパラメータの推定が良くなっていくかと思われる。"
   ]
  },
  {
   "cell_type": "markdown",
   "metadata": {},
   "source": [
    "【問題6】学習曲線のプロット\n",
    "\n",
    "１０００回ほどのイテレーション数ではまだまだ収束はしないようだった"
   ]
  },
  {
   "cell_type": "code",
   "execution_count": 313,
   "metadata": {},
   "outputs": [
    {
     "data": {
      "image/png": "[encoded data removed]",
      "text/plain": [
       "<Figure size 432x288 with 1 Axes>"
      ]
     },
     "metadata": {
      "needs_background": "light"
     },
     "output_type": "display_data"
    }
   ],
   "source": [
    "# self.loss, self.val_lossに記録されている値をもとに学習曲線をプロットする\n",
    "\n",
    "plt.plot(slg.loss)\n",
    "plt.show()"
   ]
  },
  {
   "cell_type": "code",
   "execution_count": 317,
   "metadata": {},
   "outputs": [
    {
     "data": {
      "image/png": "[encoded data removed]",
      "text/plain": [
       "<Figure size 432x288 with 1 Axes>"
      ]
     },
     "metadata": {
      "needs_background": "light"
     },
     "output_type": "display_data"
    }
   ],
   "source": [
    "plt.plot(slg.val_loss)\n",
    "plt.show()"
   ]
  },
  {
   "cell_type": "markdown",
   "metadata": {},
   "source": [
    "【問題7】決定領域の可視化"
   ]
  },
  {
   "cell_type": "code",
   "execution_count": 399,
   "metadata": {},
   "outputs": [],
   "source": [
    "train_xx=train_test_split(data1_1)\n",
    "train_x=train_xx[0]\n",
    "test_x=train_xx[1]\n",
    "\n",
    "train_yy=train_test_split(data2_1)\n",
    "train_y=train_yy[0]\n",
    "test_y=train_yy[1]\n",
    "\n",
    "train_x2=train_x[:,0:2]\n",
    "test_x2=test_x[:,0:2]\n"
   ]
  },
  {
   "cell_type": "code",
   "execution_count": 401,
   "metadata": {},
   "outputs": [],
   "source": [
    "slg2=ScratchLogisticRegression(500,0.9,False,False)\n",
    "pre_list,b,c,d=slg2.fit(train_x2,train_y,test_x2,test_y)"
   ]
  },
  {
   "cell_type": "code",
   "execution_count": 455,
   "metadata": {},
   "outputs": [
    {
     "data": {
      "image/png": "[encoded data removed]",
      "text/plain": [
       "<Figure size 432x288 with 1 Axes>"
      ]
     },
     "metadata": {
      "needs_background": "light"
     },
     "output_type": "display_data"
    }
   ],
   "source": [
    "chi=mesh@pre_list\n",
    "chi1=(1/(1+np.exp(-chi)))+1\n",
    "chi1.shape\n",
    "\n",
    "X=train_x2\n",
    "train_y3=train_y.reshape(75,)\n",
    "y=train_y3\n",
    "step=0.01\n",
    "title='decision region'\n",
    "xlabel='xlabel'\n",
    "ylabel='ylabel'\n",
    "target_names=['versicolor', 'virginica']\n",
    "\"\"\"\n",
    "2値分類を2次元の特徴量で学習したモデルの決定領域を描く。\n",
    "背景の色が学習したモデルによる推定値から描画される。\n",
    "散布図の点は訓練データまたは検証データである。\n",
    "Parameters\n",
    "----------------\n",
    "X : ndarray, shape(n_samples, 2)\n",
    "    特徴量\n",
    "y : ndarray, shape(n_samples,)\n",
    "    ラベル\n",
    "model : object\n",
    "    学習したモデルのインスンタスを入れる\n",
    "step : float, (default : 0.1)\n",
    "    推定値を計算する間隔を設定する\n",
    "title : str\n",
    "    グラフのタイトルの文章を与える\n",
    "xlabel, ylabel : str\n",
    "    軸ラベルの文章を与える\n",
    "target_names= : list of str\n",
    "    凡例の一覧を与える\n",
    "\"\"\"\n",
    "# setting\n",
    "scatter_color = ['red', 'blue']\n",
    "contourf_color = ['pink', 'skyblue']\n",
    "n_class = 2\n",
    "# pred\n",
    "mesh_f0, mesh_f1  = np.meshgrid(np.arange(np.min(X[:,0])-0.5, np.max(X[:,0])+0.5, step), np.arange(np.min(X[:,1])-0.5, np.max(X[:,1])+0.5, step))\n",
    "mesh = np.c_[np.ravel(mesh_f0),np.ravel(mesh_f1)]\n",
    "\n",
    "y_pred = chi1.reshape(mesh_f0.shape)\n",
    "# plot\n",
    "plt.title(title)\n",
    "plt.xlabel(xlabel)\n",
    "plt.ylabel(ylabel)\n",
    "plt.contourf(mesh_f0, mesh_f1, y_pred, n_class-1, cmap=ListedColormap(contourf_color))\n",
    "plt.contour(mesh_f0, mesh_f1, y_pred, n_class-1, colors='y', linewidths=3, alpha=0.5)\n",
    "for i, target in enumerate(set(y)):\n",
    "    plt.scatter(X[y==target][:, 0], X[y==target][:, 1], s=80, color=scatter_color[i], label=target_names[i], marker='o')\n",
    "patches = [mpatches.Patch(color=scatter_color[i], label=target_names[i]) for i in range(n_class)]\n",
    "plt.legend(handles=patches)\n",
    "plt.legend()\n",
    "plt.show()"
   ]
  },
  {
   "cell_type": "markdown",
   "metadata": {},
   "source": [
    "決定領域に関して、推定や学習が不十分だったため、良いものにはならなかった。\n",
    "\n",
    "赤い領域は左下のちょっとだけ見えている。\n",
    "\n",
    "イテレーション数をもっとあげて学習を進めれば良い数値が出るのではないかと思われる。"
   ]
  },
  {
   "cell_type": "code",
   "execution_count": null,
   "metadata": {},
   "outputs": [],
   "source": []
  }
 ],
 "metadata": {
  "kernelspec": {
   "display_name": "Python 3",
   "language": "python",
   "name": "python3"
  },
  "language_info": {
   "codemirror_mode": {
    "name": "ipython",
    "version": 3
   },
   "file_extension": ".py",
   "mimetype": "text/x-python",
   "name": "python",
   "nbconvert_exporter": "python",
   "pygments_lexer": "ipython3",
   "version": "3.7.2"
  }
 },
 "nbformat": 4,
 "nbformat_minor": 2
}
