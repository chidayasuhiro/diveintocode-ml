{
 "cells": [
  {
   "cell_type": "code",
   "execution_count": 511,
   "metadata": {},
   "outputs": [],
   "source": [
    "from keras.datasets import mnist\n",
    "(X_train, y_train), (X_test, y_test) = mnist.load_data()"
   ]
  },
  {
   "cell_type": "code",
   "execution_count": 516,
   "metadata": {},
   "outputs": [
    {
     "name": "stdout",
     "output_type": "stream",
     "text": [
      "(60000, 28, 28)\n",
      "(10000, 28, 28)\n",
      "uint8\n",
      "[[  0   0   0   0   0   0   0   0   0   0   0   0   0   0   0   0   0   0\n",
      "    0   0   0   0   0   0   0   0   0   0]\n",
      " [  0   0   0   0   0   0   0   0   0   0   0   0   0   0   0   0   0   0\n",
      "    0   0   0   0   0   0   0   0   0   0]\n",
      " [  0   0   0   0   0   0   0   0   0   0   0   0   0   0   0   0   0   0\n",
      "    0   0   0   0   0   0   0   0   0   0]\n",
      " [  0   0   0   0   0   0   0   0   0   0   0   0   0   0   0   0   0   0\n",
      "    0   0   0   0   0   0   0   0   0   0]\n",
      " [  0   0   0   0   0   0   0   0   0   0   0   0   0   0   0   0   0   0\n",
      "    0   0   0   0   0   0   0   0   0   0]\n",
      " [  0   0   0   0   0   0   0   0   0   0   0   0   3  18  18  18 126 136\n",
      "  175  26 166 255 247 127   0   0   0   0]\n",
      " [  0   0   0   0   0   0   0   0  30  36  94 154 170 253 253 253 253 253\n",
      "  225 172 253 242 195  64   0   0   0   0]\n",
      " [  0   0   0   0   0   0   0  49 238 253 253 253 253 253 253 253 253 251\n",
      "   93  82  82  56  39   0   0   0   0   0]\n",
      " [  0   0   0   0   0   0   0  18 219 253 253 253 253 253 198 182 247 241\n",
      "    0   0   0   0   0   0   0   0   0   0]\n",
      " [  0   0   0   0   0   0   0   0  80 156 107 253 253 205  11   0  43 154\n",
      "    0   0   0   0   0   0   0   0   0   0]\n",
      " [  0   0   0   0   0   0   0   0   0  14   1 154 253  90   0   0   0   0\n",
      "    0   0   0   0   0   0   0   0   0   0]\n",
      " [  0   0   0   0   0   0   0   0   0   0   0 139 253 190   2   0   0   0\n",
      "    0   0   0   0   0   0   0   0   0   0]\n",
      " [  0   0   0   0   0   0   0   0   0   0   0  11 190 253  70   0   0   0\n",
      "    0   0   0   0   0   0   0   0   0   0]\n",
      " [  0   0   0   0   0   0   0   0   0   0   0   0  35 241 225 160 108   1\n",
      "    0   0   0   0   0   0   0   0   0   0]\n",
      " [  0   0   0   0   0   0   0   0   0   0   0   0   0  81 240 253 253 119\n",
      "   25   0   0   0   0   0   0   0   0   0]\n",
      " [  0   0   0   0   0   0   0   0   0   0   0   0   0   0  45 186 253 253\n",
      "  150  27   0   0   0   0   0   0   0   0]\n",
      " [  0   0   0   0   0   0   0   0   0   0   0   0   0   0   0  16  93 252\n",
      "  253 187   0   0   0   0   0   0   0   0]\n",
      " [  0   0   0   0   0   0   0   0   0   0   0   0   0   0   0   0   0 249\n",
      "  253 249  64   0   0   0   0   0   0   0]\n",
      " [  0   0   0   0   0   0   0   0   0   0   0   0   0   0  46 130 183 253\n",
      "  253 207   2   0   0   0   0   0   0   0]\n",
      " [  0   0   0   0   0   0   0   0   0   0   0   0  39 148 229 253 253 253\n",
      "  250 182   0   0   0   0   0   0   0   0]\n",
      " [  0   0   0   0   0   0   0   0   0   0  24 114 221 253 253 253 253 201\n",
      "   78   0   0   0   0   0   0   0   0   0]\n",
      " [  0   0   0   0   0   0   0   0  23  66 213 253 253 253 253 198  81   2\n",
      "    0   0   0   0   0   0   0   0   0   0]\n",
      " [  0   0   0   0   0   0  18 171 219 253 253 253 253 195  80   9   0   0\n",
      "    0   0   0   0   0   0   0   0   0   0]\n",
      " [  0   0   0   0  55 172 226 253 253 253 253 244 133  11   0   0   0   0\n",
      "    0   0   0   0   0   0   0   0   0   0]\n",
      " [  0   0   0   0 136 253 253 253 212 135 132  16   0   0   0   0   0   0\n",
      "    0   0   0   0   0   0   0   0   0   0]\n",
      " [  0   0   0   0   0   0   0   0   0   0   0   0   0   0   0   0   0   0\n",
      "    0   0   0   0   0   0   0   0   0   0]\n",
      " [  0   0   0   0   0   0   0   0   0   0   0   0   0   0   0   0   0   0\n",
      "    0   0   0   0   0   0   0   0   0   0]\n",
      " [  0   0   0   0   0   0   0   0   0   0   0   0   0   0   0   0   0   0\n",
      "    0   0   0   0   0   0   0   0   0   0]]\n"
     ]
    }
   ],
   "source": [
    "print(X_train.shape) # (60000, 28, 28)\n",
    "print(X_test.shape) # (10000, 28, 28)\n",
    "print(X_train[0].dtype) # uint8\n",
    "print(X_train[0])"
   ]
  },
  {
   "cell_type": "code",
   "execution_count": 517,
   "metadata": {},
   "outputs": [],
   "source": [
    "X_train = X_train.reshape(-1, 784)\n",
    "X_test = X_test.reshape(-1, 784)"
   ]
  },
  {
   "cell_type": "code",
   "execution_count": 518,
   "metadata": {},
   "outputs": [
    {
     "data": {
      "image/png": "[encoded data removed]",
      "text/plain": [
       "<Figure size 432x288 with 1 Axes>"
      ]
     },
     "metadata": {
      "needs_background": "light"
     },
     "output_type": "display_data"
    }
   ],
   "source": [
    "import matplotlib.pyplot as plt\n",
    "%matplotlib inline\n",
    "index = 0\n",
    "image = X_train[index].reshape(28,28)\n",
    "# X_train[index]: (784,)\n",
    "# image: (28, 28)\n",
    "plt.imshow(image, 'gray')\n",
    "plt.title('label : {}'.format(y_train[index]))\n",
    "plt.show()"
   ]
  },
  {
   "cell_type": "code",
   "execution_count": 519,
   "metadata": {},
   "outputs": [
    {
     "data": {
      "text/plain": [
       "<matplotlib.image.AxesImage at 0x7fd9633dd358>"
      ]
     },
     "execution_count": 519,
     "metadata": {},
     "output_type": "execute_result"
    },
    {
     "data": {
      "image/png": "[encoded data removed]",
      "text/plain": [
       "<Figure size 432x288 with 1 Axes>"
      ]
     },
     "metadata": {
      "needs_background": "light"
     },
     "output_type": "display_data"
    }
   ],
   "source": [
    "plt.imshow(image, 'gray', vmin = 0, vmax = 255)"
   ]
  },
  {
   "cell_type": "code",
   "execution_count": 520,
   "metadata": {},
   "outputs": [
    {
     "name": "stdout",
     "output_type": "stream",
     "text": [
      "1.0\n",
      "0.0\n"
     ]
    }
   ],
   "source": [
    "X_train = X_train.astype(np.float)\n",
    "X_test = X_test.astype(np.float)\n",
    "X_train /= 255\n",
    "X_test /= 255\n",
    "print(X_train.max()) # 1.0\n",
    "print(X_train.min()) # 0.0"
   ]
  },
  {
   "cell_type": "code",
   "execution_count": 521,
   "metadata": {},
   "outputs": [
    {
     "name": "stdout",
     "output_type": "stream",
     "text": [
      "(60000,)\n",
      "(60000, 10)\n",
      "float64\n"
     ]
    }
   ],
   "source": [
    "from sklearn.preprocessing import OneHotEncoder\n",
    "enc = OneHotEncoder(handle_unknown='ignore', sparse=False)\n",
    "y_train_one_hot = enc.fit_transform(y_train[:, np.newaxis])\n",
    "y_test_one_hot = enc.transform(y_test[:, np.newaxis])\n",
    "print(y_train.shape) # (60000,)\n",
    "print(y_train_one_hot.shape) # (60000, 10)\n",
    "print(y_train_one_hot.dtype) # float64"
   ]
  },
  {
   "cell_type": "code",
   "execution_count": 522,
   "metadata": {},
   "outputs": [
    {
     "name": "stdout",
     "output_type": "stream",
     "text": [
      "(48000, 784)\n",
      "(12000, 784)\n"
     ]
    }
   ],
   "source": [
    "from sklearn.model_selection import train_test_split\n",
    "X_train, X_val, y_train, y_val = train_test_split(X_train, y_train_one_hot, test_size=0.2)\n",
    "print(X_train.shape) # (48000, 784)\n",
    "print(X_val.shape) # (12000, 784)"
   ]
  },
  {
   "cell_type": "code",
   "execution_count": 523,
   "metadata": {},
   "outputs": [
    {
     "name": "stdout",
     "output_type": "stream",
     "text": [
      "(38400, 784)\n",
      "(9600, 784)\n"
     ]
    }
   ],
   "source": [
    "from sklearn.model_selection import train_test_split\n",
    "X_train, X_val, y_train, y_val = train_test_split(X_train, y_train, test_size=0.2)\n",
    "print(X_train.shape) # (48000, 784)\n",
    "print(X_val.shape) # (12000, 784)"
   ]
  },
  {
   "cell_type": "code",
   "execution_count": null,
   "metadata": {},
   "outputs": [],
   "source": []
  },
  {
   "cell_type": "code",
   "execution_count": null,
   "metadata": {},
   "outputs": [],
   "source": []
  },
  {
   "cell_type": "code",
   "execution_count": null,
   "metadata": {},
   "outputs": [],
   "source": []
  },
  {
   "cell_type": "code",
   "execution_count": null,
   "metadata": {},
   "outputs": [],
   "source": []
  },
  {
   "cell_type": "code",
   "execution_count": null,
   "metadata": {},
   "outputs": [],
   "source": []
  },
  {
   "cell_type": "code",
   "execution_count": 233,
   "metadata": {},
   "outputs": [],
   "source": [
    "class GetMiniBatch:\n",
    "    \"\"\"\n",
    "    ミニバッチを取得するイテレータ\n",
    "    Parameters\n",
    "    ----------\n",
    "    X : 次の形のndarray, shape (n_samples, n_features)\n",
    "      訓練データ\n",
    "    y : 次の形のndarray, shape (n_samples, 1)\n",
    "      正解値\n",
    "    batch_size : int\n",
    "      バッチサイズ\n",
    "    seed : int\n",
    "      NumPyの乱数のシード\n",
    "    \"\"\"\n",
    "    def __init__(self, X, y, batch_size = 20, seed=0):\n",
    "        self.batch_size = batch_size\n",
    "        np.random.seed(seed)\n",
    "        shuffle_index = np.random.permutation(np.arange(X.shape[0]))\n",
    "        self._X = X[shuffle_index]\n",
    "        self._y = y[shuffle_index]\n",
    "        self._stop = np.ceil(X.shape[0]/self.batch_size).astype(np.int)\n",
    "    def __len__(self):\n",
    "        return self._stop\n",
    "    def __getitem__(self,item):\n",
    "        p0 = item*self.batch_size\n",
    "        p1 = item*self.batch_size + self.batch_size\n",
    "        return self._X[p0:p1], self._y[p0:p1]        \n",
    "    def __iter__(self):\n",
    "        self._counter = 0\n",
    "        return self\n",
    "    def __next__(self):\n",
    "        if self._counter >= self._stop:\n",
    "            raise StopIteration()\n",
    "        p0 = self._counter*self.batch_size\n",
    "        p1 = self._counter*self.batch_size + self.batch_size\n",
    "        self._counter += 1\n",
    "        return self._X[p0:p1], self._y[p0:p1]"
   ]
  },
  {
   "cell_type": "code",
   "execution_count": 248,
   "metadata": {},
   "outputs": [],
   "source": [
    "get_mini_batch = GetMiniBatch(X_train, y_train, batch_size=20)\n",
    "#print(len(get_mini_batch)) # 2400\n",
    "#print(get_mini_batch[5]) # 5番目のミニバッチが取得できる\n",
    "for mini_X_train, mini_y_train in get_mini_batch:\n",
    "    mini_X_train"
   ]
  },
  {
   "cell_type": "code",
   "execution_count": null,
   "metadata": {},
   "outputs": [],
   "source": []
  },
  {
   "cell_type": "markdown",
   "metadata": {},
   "source": [
    "【問題1】重みの初期値を決めるコードの作成"
   ]
  },
  {
   "cell_type": "code",
   "execution_count": 45,
   "metadata": {},
   "outputs": [],
   "source": [
    "#　初期値を決める関数を作成する\n",
    "import numpy as np\n",
    "def initial_value(n_features,n_nodes,sigma = 0.01):\n",
    "    W = sigma * np.random.randn(n_features, n_nodes)\n",
    "    return W \n",
    "\n",
    "def initial_value_bias(n_nodes,sigma = 0.01):\n",
    "    B = sigma * np.random.randn(n_nodes,)\n",
    "    return B "
   ]
  },
  {
   "cell_type": "code",
   "execution_count": 51,
   "metadata": {},
   "outputs": [],
   "source": [
    "#　関数を使用して今回必要な初期値を制作しておく\n",
    "# W1(784,400) B1(400,) W1(784,400) W2(400,200) B2(200,) W3(200,10) B3(10,) \n",
    "\n",
    "n_features1 = 784\n",
    "n_nodes1 = 400\n",
    "W1=initial_value(n_features1,n_nodes1,sigma = 0.01)\n",
    "B1=initial_value_bias(n_nodes1,sigma = 0.01)\n",
    "\n",
    "n_features2 = 400\n",
    "n_nodes2 = 200\n",
    "W2=initial_value(n_features2,n_nodes2,sigma = 0.01)\n",
    "B2=initial_value_bias(n_nodes2,sigma = 0.01)\n",
    "\n",
    "n_features3 = 200\n",
    "n_nodes3 = 10\n",
    "W3=initial_value(n_features3,n_nodes3,sigma = 0.01)\n",
    "B3=initial_value_bias(n_nodes3,sigma = 0.01)"
   ]
  },
  {
   "cell_type": "code",
   "execution_count": null,
   "metadata": {},
   "outputs": [],
   "source": []
  },
  {
   "cell_type": "markdown",
   "metadata": {},
   "source": [
    "【完成雛形】"
   ]
  },
  {
   "cell_type": "code",
   "execution_count": 644,
   "metadata": {},
   "outputs": [],
   "source": [
    "import numpy as np\n",
    "import math \n",
    "\n",
    "class ScratchSimpleNeuralNetrowkClassifier():\n",
    "    \"\"\"\n",
    "    シンプルな三層ニューラルネットワーク分類器\n",
    "    Parameters\n",
    "    ----------\n",
    "    Attributes\n",
    "    ----------\n",
    "    \"\"\"\n",
    "    def __init__(self,ite_num, lr, first_nodes,second_nodes,third_nodes,verbose = True):\n",
    "        self.verbose = verbose\n",
    "        self.ite_num=ite_num\n",
    "        self.lr = lr\n",
    "        self.first_nodes=first_nodes\n",
    "        self.second_nodes=second_nodes\n",
    "        self.third_nodes=third_nodes\n",
    "        self.loss = []\n",
    "        self.val_loss = []\n",
    "    \n",
    "    # 初期値を決める関数\n",
    "    def _initial_value(self,n_features,n_nodes,sigma = 0.01):\n",
    "        W = sigma * np.random.randn(n_features, n_nodes)\n",
    "        return W\n",
    "\n",
    "    def _initial_value_bias(self,n_nodes,sigma = 0.01):\n",
    "        B = sigma * np.random.randn(n_nodes,)\n",
    "        return B\n",
    "       \n",
    "    # シグモイド関数を定義\n",
    "    def _sigmo(self,X):\n",
    "        return 1/(1+np.exp(-X))\n",
    "       \n",
    "    # ソフトマックス関数を定義\n",
    "  \n",
    "    def _softmax(self, A):\n",
    "        return np.exp(A) / np.sum(np.exp(A), axis=1).reshape(-1, 1) \n",
    "    \n",
    "    #def _softmax(self,a):\n",
    "        #exp_a=np.exp(a)\n",
    "        #sum_exp_a=sum(exp_a)\n",
    "        #b=exp_a/sum_exp_a\n",
    "        #return b\n",
    "    \n",
    "    # フォワードプロバゲーション\n",
    "    def _forward_calculate(self,mini_X_train):\n",
    "        self.A1=mini_X_train@self.W1+self.B1\n",
    "        self.Z1=self._sigmo(self.A1)\n",
    "        self.A2=self.Z1@self.W2+self.B2\n",
    "        self.Z2=self._sigmo(self.A2)\n",
    "        self.A3=self.Z2@self.W3+self.B3\n",
    "        self.Z3=self._softmax(self.A3)\n",
    "        \n",
    "    # 交差エントロピー計算\n",
    "    #def _cross_entropy(self, mini_y_train):\n",
    "        #total=0\n",
    "        #for i in range(len(self.Z3)):\n",
    "            #total+=-np.log((self.Z3[i]*mini_y_train[i])+1e-7)/len(self.Z3)            \n",
    "        #self.total=np.sum(total)\n",
    "        \n",
    "        \n",
    "    def _cross_entropy_error(self,mini_y_train):\n",
    "        L = - np.sum(mini_y_train * np.log(self.Z3)) / len(mini_y_train)\n",
    "        self.total=L\n",
    "   \n",
    "    \n",
    "    # バックプロバゲーション\n",
    "    def _back_calculate(self,mini_X_train,mini_y_train):     \n",
    "        # 「3層目」\n",
    "        update3=(self.Z3-mini_y_train)/len(self.Z3)\n",
    "        update3_B3=np.sum(update3, axis=0)\n",
    "        update3_W3=self.Z2.T@update3\n",
    "        update3_2=update3@self.W3.T\n",
    "        # 3層目の更新\n",
    "        self.B3=self.B3-self.lr*update3_B3\n",
    "        self.W3=self.W3-self.lr*update3_W3\n",
    "\n",
    "        # 「2層目」\n",
    "        sigmo2=(1-self._sigmo(self.A2))*self._sigmo(self.A2)\n",
    "        update2=update3_2*sigmo2\n",
    "        update2_B2=np.sum(update2, axis=0)\n",
    "        update2_W2=self.Z1.T@update2\n",
    "        update2_2=update2@self.W2.T\n",
    "        # 2層目の更新\n",
    "        self.B2=self.B2-self.lr*update2_B2\n",
    "        self.W2=self.W2-self.lr*update2_W2\n",
    "\n",
    "        # 「1層目」\n",
    "        sigmo1=(1-self._sigmo(self.A1))*self._sigmo(self.A1)\n",
    "        update1=update2_2*sigmo1        \n",
    "        update1_B1=np.sum(update1, axis=0)\n",
    "        update1_W1=mini_X_train.T@update1\n",
    "        # 1層目の更新\n",
    "        self.B1=self.B1-self.lr*update1_B1\n",
    "        self.W1=self.W1-self.lr*update1_W1\n",
    "       \n",
    "    \n",
    "    \n",
    "    def fit(self, X, y, X_val=None, y_val=None):\n",
    "        \"\"\"\n",
    "        ニューラルネットワーク分類器を学習する。\n",
    "        Parameters\n",
    "        ----------\n",
    "        X : 次の形のndarray, shape (n_samples, n_features)\n",
    "            訓練データの特徴量\n",
    "        y : 次の形のndarray, shape (n_samples, )\n",
    "            訓練データの正解値\n",
    "        X_val : 次の形のndarray, shape (n_samples, n_features)\n",
    "            検証データの特徴量\n",
    "        y_val : 次の形のndarray, shape (n_samples, )\n",
    "            検証データの正解値\n",
    "        \"\"\"\n",
    "        # 初期値を制作        \n",
    "        self.W1=self._initial_value(X.shape[1],self.first_nodes,sigma = 0.01)\n",
    "        self.B1=self._initial_value_bias(first_nodes,sigma = 0.01)\n",
    "        \n",
    "        self.W2=self._initial_value(self.first_nodes,self.second_nodes,sigma = 0.01)\n",
    "        self.B2=self._initial_value_bias(self.second_nodes,sigma = 0.01)\n",
    "        \n",
    "        self.W3=self._initial_value(self.second_nodes,self.third_nodes,sigma = 0.01)\n",
    "        self.B3=self._initial_value_bias(self.third_nodes,sigma = 0.01)\n",
    "        \n",
    "        \n",
    "        # 処理を行う\n",
    "        for _ in range(self.ite_num):\n",
    "            get_mini_batch = GetMiniBatch(X,y,batch_size=20)\n",
    "            for mini_X_train, mini_y_train in get_mini_batch:\n",
    "                self._forward_calculate(mini_X_train)\n",
    "                self._cross_entropy_error(mini_y_train)\n",
    "                self._back_calculate(mini_X_train,mini_y_train)\n",
    "            self.loss.append(self.total)\n",
    "            \n",
    "            if X_val is not None:\n",
    "                self._forward_calculate(X_val)\n",
    "                self._cross_entropy_error(y_val)\n",
    "                self._back_calculate(X_val,y_val)\n",
    "                self.val_loss.append(self.total)\n",
    "        \n",
    "        \n",
    "        \n",
    "        if self.verbose:\n",
    "            #verboseをTrueにした際は学習過程などを出力する\n",
    "            print()\n",
    "        \n",
    "    def predict(self, X):\n",
    "        \"\"\"\n",
    "        ニューラルネットワーク分類器を使い推定する。\n",
    "        Parameters\n",
    "        ----------\n",
    "        X : 次の形のndarray, shape (n_samples, n_features)\n",
    "            サンプル\n",
    "        Returns\n",
    "        -------\n",
    "            次の形のndarray, shape (n_samples, 1)\n",
    "            推定結果\n",
    "        \"\"\"\n",
    "        self._forward_calculate(X)\n",
    "        y_pred=np.argmax(self.Z3, axis=1)\n",
    "        \n",
    "        return y_pred"
   ]
  },
  {
   "cell_type": "markdown",
   "metadata": {},
   "source": [
    "【問題2】フォワードプロパゲーションの実装・・・上の雛形の_forward_calculateで制作"
   ]
  },
  {
   "cell_type": "markdown",
   "metadata": {},
   "source": [
    "【問題3】交差エントロピー誤差の実装・・・上の雛形の_cross_entropy_errorで作成"
   ]
  },
  {
   "cell_type": "markdown",
   "metadata": {},
   "source": [
    "【問題4】バックプロパゲーションの実装・・・上の雛形の_back_calculateで作成"
   ]
  },
  {
   "cell_type": "markdown",
   "metadata": {},
   "source": [
    "【問題5】推定・・・上の雛形のpredictで作成"
   ]
  },
  {
   "cell_type": "markdown",
   "metadata": {},
   "source": [
    "【問題6】学習と推定"
   ]
  },
  {
   "cell_type": "code",
   "execution_count": 660,
   "metadata": {},
   "outputs": [
    {
     "name": "stdout",
     "output_type": "stream",
     "text": [
      "\n"
     ]
    }
   ],
   "source": [
    "# 実装したスクラッチを実行する\n",
    "# 10回分のエポック、学習率0.1、その他の設定はテキストの指示通りである\n",
    "\n",
    "ite_num=10\n",
    "lr=0.1\n",
    "first_nodes=400\n",
    "second_nodes=200\n",
    "third_nodes=10\n",
    "\n",
    "SNN3=ScratchSimpleNeuralNetrowkClassifier(ite_num,lr, first_nodes,second_nodes,third_nodes,verbose = True)\n",
    "SNN3.fit(X_train,y_train,X_val,y_val)"
   ]
  },
  {
   "cell_type": "code",
   "execution_count": 661,
   "metadata": {},
   "outputs": [
    {
     "data": {
      "text/plain": [
       "0.9372"
      ]
     },
     "execution_count": 661,
     "metadata": {},
     "output_type": "execute_result"
    }
   ],
   "source": [
    "# Accuracyを計算\n",
    "# 93%ほどとまずまず高いものとなった\n",
    "\n",
    "from sklearn.metrics import accuracy_score\n",
    "accuracy_score(y_test,y_pred)"
   ]
  },
  {
   "cell_type": "markdown",
   "metadata": {},
   "source": [
    "【問題7】学習曲線のプロット"
   ]
  },
  {
   "cell_type": "code",
   "execution_count": 655,
   "metadata": {},
   "outputs": [
    {
     "data": {
      "image/png": "[encoded data removed]",
      "text/plain": [
       "<Figure size 432x288 with 1 Axes>"
      ]
     },
     "metadata": {
      "needs_background": "light"
     },
     "output_type": "display_data"
    }
   ],
   "source": [
    "import matplotlib.pyplot as plt\n",
    "plt.plot(SNN3.loss)\n",
    "plt.plot(SNN3.val_loss)\n",
    "plt.show()"
   ]
  },
  {
   "cell_type": "code",
   "execution_count": null,
   "metadata": {},
   "outputs": [],
   "source": []
  }
 ],
 "metadata": {
  "kernelspec": {
   "display_name": "Python 3",
   "language": "python",
   "name": "python3"
  },
  "language_info": {
   "codemirror_mode": {
    "name": "ipython",
    "version": 3
   },
   "file_extension": ".py",
   "mimetype": "text/x-python",
   "name": "python",
   "nbconvert_exporter": "python",
   "pygments_lexer": "ipython3",
   "version": "3.7.2"
  }
 },
 "nbformat": 4,
 "nbformat_minor": 2
}
