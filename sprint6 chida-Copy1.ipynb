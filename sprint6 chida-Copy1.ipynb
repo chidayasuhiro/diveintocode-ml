{
 "cells": [
  {
   "cell_type": "markdown",
   "metadata": {},
   "source": [
    "決定木\n",
    "\n",
    "問題１〜４で順番に関数を制作し、問題５の前で雛形を完成させる"
   ]
  },
  {
   "cell_type": "code",
   "execution_count": 1,
   "metadata": {},
   "outputs": [],
   "source": [
    "#　シンプルデータセット2を取り込んでおく\n",
    "\n",
    "import numpy as np\n",
    "\n",
    "X = np.array([\n",
    "    [-0.44699 , -2.8073  ],[-1.4621  , -2.4586  ],\n",
    "    [ 0.10645 ,  1.9242  ],[-3.5944  , -4.0112  ],\n",
    "    [-0.9888  ,  4.5718  ],[-3.1625  , -3.9606  ],\n",
    "    [ 0.56421 ,  0.72888 ],[-0.60216 ,  8.4636  ],\n",
    "    [-0.61251 , -0.75345 ],[-0.73535 , -2.2718  ],\n",
    "    [-0.80647 , -2.2135  ],[ 0.86291 ,  2.3946  ],\n",
    "    [-3.1108  ,  0.15394 ],[-2.9362  ,  2.5462  ],\n",
    "    [-0.57242 , -2.9915  ],[ 1.4771  ,  3.4896  ],\n",
    "    [ 0.58619 ,  0.37158 ],[ 0.6017  ,  4.3439  ],\n",
    "    [-2.1086  ,  8.3428  ],[-4.1013  , -4.353   ],\n",
    "    [-1.9948  , -1.3927  ],[ 0.35084 , -0.031994],\n",
    "    [ 0.96765 ,  7.8929  ],[-1.281   , 15.6824  ],\n",
    "    [ 0.96765 , 10.083   ],[ 1.3763  ,  1.3347  ],\n",
    "    [-2.234   , -2.5323  ],[-2.9452  , -1.8219  ],\n",
    "    [ 0.14654 , -0.28733 ],[ 0.5461  ,  5.8245  ],\n",
    "    [-0.65259 ,  9.3444  ],[ 0.59912 ,  5.3524  ],\n",
    "    [ 0.50214 , -0.31818 ],[-3.0603  , -3.6461  ],\n",
    "    [-6.6797  ,  0.67661 ],[-2.353   , -0.72261 ],\n",
    "    [ 1.1319  ,  2.4023  ],[-0.12243 ,  9.0162  ],\n",
    "    [-2.5677  , 13.1779  ],[ 0.057313,  5.4681  ],\n",
    "])\n",
    "y = np.array([0, 0, 0, 0, 0, 0, 0, 0, 0, 0, 0, 0, 0, 0, 0, 0, 0, 0, 0, 0, 1, 1,\n",
    "       1, 1, 1, 1, 1, 1, 1, 1, 1, 1, 1, 1, 1, 1, 1, 1, 1, 1])"
   ]
  },
  {
   "cell_type": "markdown",
   "metadata": {},
   "source": [
    "【問題1】不純度を求める関数"
   ]
  },
  {
   "cell_type": "code",
   "execution_count": 2,
   "metadata": {},
   "outputs": [],
   "source": [
    "#　ジニ係数をginiとし、それを求める関数をgini_funcとする\n",
    "def gini_func(N_all,N_i):\n",
    "    \n",
    "    \"\"\"ジニ係数を計算する。\n",
    "    Parameters\n",
    "    ----------\n",
    "    N_all : ndarray\n",
    "      正解値 (n_samples,)\n",
    "    N_i : ndarray\n",
    "      対象ノードのサンプル数 (クラス数,)\n",
    "    Returns\n",
    "    -------\n",
    "    gini2 : 対象ノードのジニ係数を返す\n",
    "    \"\"\"\n",
    "    \n",
    "    gini1=0\n",
    "    for i in range(len(N_i)):\n",
    "        gini1 += (N_i[i]/len(N_all))**2\n",
    "        \n",
    "    gini2=1-gini1\n",
    "    \n",
    "    return gini2"
   ]
  },
  {
   "cell_type": "markdown",
   "metadata": {},
   "source": [
    "【問題2】情報利得を求める関数"
   ]
  },
  {
   "cell_type": "code",
   "execution_count": 3,
   "metadata": {},
   "outputs": [],
   "source": [
    "#　情報利得をritokuとし、それを求める関数をritoku_funcとする\n",
    "def ritoku_func(N_all,N_p,N_right,N_left): \n",
    "    \"\"\"ジニ係数を計算する。\n",
    "    Parameters\n",
    "    ----------\n",
    "    N_all : ndarray\n",
    "      正解値 (n_samples,)\n",
    "    N_p : ndarray\n",
    "      親ノードのそれぞれのクラスに所属するサンプル数 (クラスごとのサンプル数,)\n",
    "    N_right : ndarray\n",
    "      子ノードleftのそれぞれのクラスに所属するサンプル数 (クラスごとのサンプル数,)\n",
    "    N_left : ndarray\n",
    "      子ノードrightのそれぞれのクラスに所属するサンプル数 (クラスごとのサンプル数,)\n",
    "    Returns\n",
    "    -------\n",
    "    ritoku : 対象ノードのジニ係数を返す\n",
    "    \"\"\"\n",
    "\n",
    "    Nall=0\n",
    "    for i in range(len(N_p)):\n",
    "        Nall+=(N_p[i]/len(N_all))**2\n",
    "    Nall=1-Nall\n",
    "\n",
    "    right=0\n",
    "    for i in range(len(N_right)):\n",
    "        right+= (N_right[i]/(N_right.sum()))**2\n",
    "    right=1-right\n",
    "    right1=N_right.sum()/len(N_all)\n",
    "    right=right*right1\n",
    "\n",
    "    left=0\n",
    "    for i in range(len(N_left)):\n",
    "        left+= (N_left[i]/(N_left.sum()))**2\n",
    "    left=1-left\n",
    "    left1=N_left.sum()/len(N_all)\n",
    "    left=left*left1\n",
    "\n",
    "    ritoku=Nall-right-left\n",
    "\n",
    "    return ritoku"
   ]
  },
  {
   "cell_type": "markdown",
   "metadata": {},
   "source": [
    "【問題3】学習"
   ]
  },
  {
   "cell_type": "code",
   "execution_count": 4,
   "metadata": {},
   "outputs": [],
   "source": [
    "#　学習をさせる、全ての特徴量で情報利得を求め、最大のものを分割基準とし、分割基準とそのリストを出力\n",
    "\n",
    "def tree_samplefunc(X,y,kumi=2):\n",
    "    \"\"\"分割基準とそのリストを出力\n",
    "    Parameters\n",
    "    ----------\n",
    "    X : 次の形のndarray, shape (n_samples, n_features)\n",
    "        訓練データの特徴量\n",
    "    y : 次の形のndarray, shape (n_samples,)\n",
    "            訓練データの正解値\n",
    "    kumi:クラス数　デフォルトは２値分析\n",
    "    Returns\n",
    "    -------\n",
    "    ritoku_list:情報利得リスト\n",
    "    bunkatu:分割基準\n",
    "    gaitou_list:分割基準の特徴量の該当リスト\n",
    "\n",
    "    \"\"\"\n",
    "    y=y.reshape(len(y),1)\n",
    "    Xy=np.concatenate([X,y],axis=1)\n",
    "    ritoku_list=[]\n",
    "    X_list=[]\n",
    "    for k in range(X.shape[1]):\n",
    "        X1=Xy[np.argsort(Xy[:,k])][:,k]\n",
    "        Xy1=Xy[np.argsort(Xy[:,k])]\n",
    "        X1_list=list(X1)\n",
    "        X_list.extend(X1_list)\n",
    "        for j in range(len(Xy)):\n",
    "            left=[]\n",
    "            right=[]                        \n",
    "            for i in range(len(X1)):\n",
    "                if X1[j]>=X1[i]:\n",
    "                    left.append(Xy1[i])\n",
    "                else:\n",
    "                    right.append(Xy1[i])\n",
    "\n",
    "            if not(len(left)==0):  \n",
    "                left1=np.array(left)\n",
    "                left2=left1[:,-1]\n",
    "            else:\n",
    "                left=[]\n",
    "                left1=np.array(left)\n",
    "            if not(len(right)==0):\n",
    "                right1=np.array(right)\n",
    "                right2=right1[:,-1]\n",
    "            else:\n",
    "                raight=[]\n",
    "                right1=np.array(right)\n",
    "\n",
    "            N_all1=np.count_nonzero(y==1)\n",
    "            N_all0=np.count_nonzero(y==0)\n",
    "            N_allA=[N_all0,N_all1]\n",
    "\n",
    "            N_left1=np.count_nonzero(left2==1)\n",
    "            N_left0=np.count_nonzero(left2==0)\n",
    "            N_leftA=[N_left0,N_left1]\n",
    "            N_leftA=np.array(N_leftA)\n",
    "\n",
    "            N_right1=np.count_nonzero(right2==1)\n",
    "            N_right0=np.count_nonzero(right2==0)\n",
    "            N_rightA=[N_right0,N_right1]\n",
    "            N_rightA=np.array(N_rightA)\n",
    "\n",
    "            gini1=0\n",
    "            for i in range(kumi):\n",
    "                gini1+= (N_allA[i]/len(y))**2\n",
    "            gini2=1-gini1\n",
    "\n",
    "            #　ここから利得計算\n",
    "\n",
    "            Nall=0\n",
    "            for i in range(kumi):\n",
    "                Nall+=(N_allA[i]/len(y))**2\n",
    "            Nall=1-Nall\n",
    "\n",
    "            right_kou=0\n",
    "            for i in range(kumi):\n",
    "                right_kou+= (N_rightA[i]/(N_rightA.sum()))**2\n",
    "            right_kou=1-right_kou\n",
    "            right_kou2=N_rightA.sum()/len(y)\n",
    "            right_kou3=right_kou*right_kou2\n",
    "\n",
    "            left_kou=0\n",
    "            for i in range(kumi):\n",
    "                left_kou+= (N_leftA[i]/(N_leftA.sum()))**2\n",
    "            ritoku=0\n",
    "            left_kou=1-left_kou\n",
    "            left_kou2=N_leftA.sum()/len(y)\n",
    "            left_kou3=left_kou*left_kou2\n",
    "\n",
    "            ritoku=Nall-right_kou3-left_kou3\n",
    "\n",
    "            ritoku_list.append(ritoku)\n",
    "        \n",
    "    bunkatu=X_list[ritoku_list.index(max(ritoku_list))]\n",
    "        \n",
    "    gaitou_list=(X==X_list[ritoku_list.index(max(ritoku_list))])\n",
    "        \n",
    "    return ritoku_list,bunkatu,gaitou_list"
   ]
  },
  {
   "cell_type": "code",
   "execution_count": 5,
   "metadata": {},
   "outputs": [],
   "source": [
    "#　例としてシンプルデータセット2の2値分類を出力してみる\n",
    "a,b,c=tree_samplefunc(X,y,kumi=2)"
   ]
  },
  {
   "cell_type": "code",
   "execution_count": 6,
   "metadata": {},
   "outputs": [
    {
     "data": {
      "text/plain": [
       "[0.012820512820512775,\n",
       " 2.0816681711721685e-17,\n",
       " 0.0045045045045044516,\n",
       " 0.013888888888888867,\n",
       " 0.02571428571428569,\n",
       " 0.009803921568627458,\n",
       " 0.002164502164502216,\n",
       " 0.0078125,\n",
       " 0.0017921146953404632,\n",
       " 0.0,\n",
       " 0.0015673981191222097,\n",
       " 2.7755575615628914e-17,\n",
       " 0.0014245014245013732,\n",
       " 0.0,\n",
       " 0.001333333333333353,\n",
       " 0.0,\n",
       " 0.0012787723785166738,\n",
       " 0.005050505050504972,\n",
       " 0.001253132832080145,\n",
       " 0.0050000000000001155,\n",
       " 0.01127819548872172,\n",
       " 0.020202020202020277,\n",
       " 0.03196930946291571,\n",
       " 0.02083333333333337,\n",
       " 0.012000000000000066,\n",
       " 0.021978021978021955,\n",
       " 0.01282051282051283,\n",
       " 0.005952380952380987,\n",
       " 0.0015673981191222097,\n",
       " 0.0,\n",
       " 0.0017921146953404632,\n",
       " 0.0078125,\n",
       " 0.0021645021645022022,\n",
       " 0.009803921568627472,\n",
       " 0.02571428571428569,\n",
       " 0.0045045045045044585,\n",
       " 0.0045045045045044585,\n",
       " 0.0,\n",
       " 0.012820512820512775,\n",
       " 0.0,\n",
       " 0.012820512820512775,\n",
       " 0.026315789473684126,\n",
       " 0.040540540540540515,\n",
       " 0.013888888888888867,\n",
       " 0.02571428571428569,\n",
       " 0.03921568627450981,\n",
       " 0.019480519480519404,\n",
       " 0.031249999999999944,\n",
       " 0.04480286738351258,\n",
       " 0.06000000000000005,\n",
       " 0.03918495297805638,\n",
       " 0.023809523809523753,\n",
       " 0.035612535612535495,\n",
       " 0.021978021978021955,\n",
       " 0.012000000000000066,\n",
       " 0.005208333333333259,\n",
       " 0.0012787723785166738,\n",
       " 0.005050505050504972,\n",
       " 0.01127819548872172,\n",
       " 0.0050000000000001155,\n",
       " 0.01127819548872172,\n",
       " 0.005050505050504972,\n",
       " 0.011508951406649648,\n",
       " 0.02083333333333337,\n",
       " 0.012000000000000066,\n",
       " 0.021978021978021955,\n",
       " 0.03561253561253547,\n",
       " 0.05357142857142855,\n",
       " 0.07680250783699061,\n",
       " 0.06000000000000005,\n",
       " 0.04480286738351258,\n",
       " 0.031249999999999944,\n",
       " 0.01948051948051943,\n",
       " 0.03921568627450983,\n",
       " 0.07142857142857134,\n",
       " 0.05555555555555558,\n",
       " 0.040540540540540515,\n",
       " 0.026315789473684126,\n",
       " 0.012820512820512775,\n",
       " 0.0]"
      ]
     },
     "execution_count": 6,
     "metadata": {},
     "output_type": "execute_result"
    }
   ],
   "source": [
    "a"
   ]
  },
  {
   "cell_type": "code",
   "execution_count": 7,
   "metadata": {},
   "outputs": [
    {
     "data": {
      "text/plain": [
       "4.5718"
      ]
     },
     "execution_count": 7,
     "metadata": {},
     "output_type": "execute_result"
    }
   ],
   "source": [
    "b"
   ]
  },
  {
   "cell_type": "code",
   "execution_count": 8,
   "metadata": {},
   "outputs": [
    {
     "data": {
      "text/plain": [
       "array([[False, False],\n",
       "       [False, False],\n",
       "       [False, False],\n",
       "       [False, False],\n",
       "       [False,  True],\n",
       "       [False, False],\n",
       "       [False, False],\n",
       "       [False, False],\n",
       "       [False, False],\n",
       "       [False, False],\n",
       "       [False, False],\n",
       "       [False, False],\n",
       "       [False, False],\n",
       "       [False, False],\n",
       "       [False, False],\n",
       "       [False, False],\n",
       "       [False, False],\n",
       "       [False, False],\n",
       "       [False, False],\n",
       "       [False, False],\n",
       "       [False, False],\n",
       "       [False, False],\n",
       "       [False, False],\n",
       "       [False, False],\n",
       "       [False, False],\n",
       "       [False, False],\n",
       "       [False, False],\n",
       "       [False, False],\n",
       "       [False, False],\n",
       "       [False, False],\n",
       "       [False, False],\n",
       "       [False, False],\n",
       "       [False, False],\n",
       "       [False, False],\n",
       "       [False, False],\n",
       "       [False, False],\n",
       "       [False, False],\n",
       "       [False, False],\n",
       "       [False, False],\n",
       "       [False, False]])"
      ]
     },
     "execution_count": 8,
     "metadata": {},
     "output_type": "execute_result"
    }
   ],
   "source": [
    "c"
   ]
  },
  {
   "cell_type": "code",
   "execution_count": 9,
   "metadata": {},
   "outputs": [],
   "source": [
    "# 最も良い分け方の場合の分け方を確認し子ノードのクラスを確認する関数\n",
    "\n",
    "def tree_kakuninn(X,y,bunkatu,x_index):\n",
    "    \"\"\"子ノードのクラスを確認\n",
    "    Parameters\n",
    "    ----------\n",
    "    bunkatu : 分割基準\n",
    "    x_index : 特徴量のどの列のものか\n",
    "    X : 次の形のndarray, shape (n_samples, n_features)\n",
    "        訓練データの特徴量\n",
    "    y : 次の形のndarray, shape (n_samples,)\n",
    "            訓練データの正解値\n",
    "    \n",
    "    Returns\n",
    "    -------\n",
    "    left:left側のリスト\n",
    "    right:right側のリスト\n",
    "    left_count:left側内訳\n",
    "    raight_count:right側内訳\n",
    "\n",
    "    \"\"\"\n",
    "    y=y.reshape(len(y),1)\n",
    "    Xy=np.concatenate([X,y],axis=1)\n",
    "    X1=X[:,x_index-1]\n",
    "    left=[]\n",
    "    right=[]\n",
    "    Xy1=Xy[np.argsort(Xy[:,x_index-1])]\n",
    "\n",
    "    for i in range(len(X1)):\n",
    "        if bunkatu>=X1[i]:\n",
    "            left.append(Xy1[i])\n",
    "        else:\n",
    "            right.append(Xy1[i])\n",
    "\n",
    "    if not(len(left)==0):  \n",
    "        left1=np.array(left)\n",
    "        left2=left1[:,-1]\n",
    "    else:\n",
    "        left=[]\n",
    "        left1=np.array(left)\n",
    "    if not(len(right)==0):\n",
    "        right1=np.array(right)\n",
    "        right2=right1[:,-1]\n",
    "    else:\n",
    "        raight=[]\n",
    "        right1=np.array(right)\n",
    "    \n",
    "    import collections\n",
    "    left3=collections.Counter(left2)\n",
    "    right3=collections.Counter(right2)\n",
    "    \n",
    "    return left2,left3,right2,right3"
   ]
  },
  {
   "cell_type": "code",
   "execution_count": 10,
   "metadata": {},
   "outputs": [],
   "source": [
    "#　例としてシンプルデータセット2の2値分類を出力してみる\n",
    "e,f,g,h=tree_kakuninn(X,y,4.5718,2)"
   ]
  },
  {
   "cell_type": "code",
   "execution_count": 11,
   "metadata": {},
   "outputs": [
    {
     "data": {
      "text/plain": [
       "array([0., 0., 0., 1., 0., 0., 1., 0., 0., 1., 1., 0., 1., 1., 1., 1., 0.,\n",
       "       1., 0., 1., 0., 0., 0., 0., 1., 0., 0., 1., 1.])"
      ]
     },
     "execution_count": 11,
     "metadata": {},
     "output_type": "execute_result"
    }
   ],
   "source": [
    "e"
   ]
  },
  {
   "cell_type": "code",
   "execution_count": 12,
   "metadata": {},
   "outputs": [
    {
     "data": {
      "text/plain": [
       "Counter({0.0: 16, 1.0: 13})"
      ]
     },
     "execution_count": 12,
     "metadata": {},
     "output_type": "execute_result"
    }
   ],
   "source": [
    "f"
   ]
  },
  {
   "cell_type": "code",
   "execution_count": 13,
   "metadata": {},
   "outputs": [
    {
     "data": {
      "text/plain": [
       "array([0., 0., 0., 0., 1., 1., 1., 1., 1., 1., 1.])"
      ]
     },
     "execution_count": 13,
     "metadata": {},
     "output_type": "execute_result"
    }
   ],
   "source": [
    "g"
   ]
  },
  {
   "cell_type": "code",
   "execution_count": 14,
   "metadata": {},
   "outputs": [
    {
     "data": {
      "text/plain": [
       "Counter({0.0: 4, 1.0: 7})"
      ]
     },
     "execution_count": 14,
     "metadata": {},
     "output_type": "execute_result"
    }
   ],
   "source": [
    "h"
   ]
  },
  {
   "cell_type": "markdown",
   "metadata": {},
   "source": [
    "【問題4】推定"
   ]
  },
  {
   "cell_type": "code",
   "execution_count": 15,
   "metadata": {},
   "outputs": [],
   "source": [
    "# 推定を行う関数を生成\n",
    "\n",
    "def tree_samplepredict(bunkatu,xx,x_index,left_class=0,raight_class=1):\n",
    "    \"\"\"子ノードのクラスを確認\n",
    "    Parameters\n",
    "    ----------\n",
    "    bunkatu : 分割基準\n",
    "    x_index : 特徴量のどの列のものか\n",
    "    left_class:left側のクラス名　デフォルトは0\n",
    "    raight_class:right側のクラス名　デフォルトは1\n",
    "    xx:推定したい特徴量行列(n_samples, n_features)\n",
    "    \n",
    "    Returns\n",
    "    -------\n",
    "    y_pred:予測値のリスト\n",
    "\n",
    "    \"\"\"\n",
    "    y_pred=[]\n",
    "    for i in range(len(xx)):\n",
    "        if bunkatu>=xx[i,x_index]:\n",
    "            bunkatu_list.append(left_class)\n",
    "        else:\n",
    "            bunkatu_list.append(raight_class)"
   ]
  },
  {
   "cell_type": "markdown",
   "metadata": {},
   "source": [
    "これで０か１かの予測値が返ってくる"
   ]
  },
  {
   "cell_type": "markdown",
   "metadata": {},
   "source": [
    "ここで雛形を完成させる"
   ]
  },
  {
   "cell_type": "code",
   "execution_count": 52,
   "metadata": {},
   "outputs": [],
   "source": [
    "class ScratchDecesionTreeClassifierDepth1():\n",
    "    \"\"\"\n",
    "    深さ1の決定木分類器のスクラッチ実装\n",
    "    Parameters\n",
    "    ----------\n",
    "    verbose : bool\n",
    "      学習過程を出力する場合はTrue\n",
    "    \"\"\"\n",
    "    def __init__(self, verbose=False):\n",
    "        # ハイパーパラメータを属性として記録\n",
    "        self.verbose = verbose\n",
    "        \n",
    "    def tree_sample_fit(self,X,y,kumi=2):\n",
    "        \"\"\"分割基準とそのリストを出力\n",
    "        Parameters\n",
    "        ----------\n",
    "        X : 次の形のndarray, shape (n_samples, n_features)\n",
    "            訓練データの特徴量\n",
    "        y : 次の形のndarray, shape (n_samples,)\n",
    "                訓練データの正解値\n",
    "        kumi:クラス数　デフォルトは２値分析\n",
    "        Returns\n",
    "        -------\n",
    "        ritoku_list:情報利得リスト\n",
    "        bunkatu:分割基準\n",
    "        gaitou_list:分割基準の特徴量の該当リスト\n",
    "\n",
    "        \"\"\"\n",
    "        y=y.reshape(len(y),1)\n",
    "        Xy=np.concatenate([X,y],axis=1)\n",
    "        ritoku_list=[]\n",
    "        X_list=[]\n",
    "        for k in range(X.shape[1]):\n",
    "            X1=Xy[np.argsort(Xy[:,k])][:,k]\n",
    "            Xy1=Xy[np.argsort(Xy[:,k])]\n",
    "            X1_list=list(X1)\n",
    "            X_list.extend(X1_list)\n",
    "            for j in range(len(Xy)):\n",
    "                left=[]\n",
    "                right=[]                        \n",
    "                for i in range(len(X1)):\n",
    "                    if X1[j]>=X1[i]:\n",
    "                        left.append(Xy1[i])\n",
    "                    else:\n",
    "                        right.append(Xy1[i])\n",
    "\n",
    "                if not(len(left)==0):  \n",
    "                    left1=np.array(left)\n",
    "                    left2=left1[:,-1]\n",
    "                else:\n",
    "                    left=[]\n",
    "                    left1=np.array(left)\n",
    "                if not(len(right)==0):\n",
    "                    right1=np.array(right)\n",
    "                    right2=right1[:,-1]\n",
    "                else:\n",
    "                    raight=[]\n",
    "                    right1=np.array(right)\n",
    "\n",
    "                N_all1=np.count_nonzero(y==1)\n",
    "                N_all0=np.count_nonzero(y==0)\n",
    "                N_allA=[N_all0,N_all1]\n",
    "\n",
    "                N_left1=np.count_nonzero(left2==1)\n",
    "                N_left0=np.count_nonzero(left2==0)\n",
    "                N_leftA=[N_left0,N_left1]\n",
    "                N_leftA=np.array(N_leftA)\n",
    "\n",
    "                N_right1=np.count_nonzero(right2==1)\n",
    "                N_right0=np.count_nonzero(right2==0)\n",
    "                N_rightA=[N_right0,N_right1]\n",
    "                N_rightA=np.array(N_rightA)\n",
    "\n",
    "                gini1=0\n",
    "                for i in range(kumi):\n",
    "                    gini1+= (N_allA[i]/len(y))**2\n",
    "                gini2=1-gini1\n",
    "\n",
    "                #　ここから利得計算\n",
    "\n",
    "                Nall=0\n",
    "                for i in range(kumi):\n",
    "                    Nall+=(N_allA[i]/len(y))**2\n",
    "                Nall=1-Nall\n",
    "\n",
    "                right_kou=0\n",
    "                for i in range(kumi):\n",
    "                    right_kou+= (N_rightA[i]/(N_rightA.sum()))**2\n",
    "                right_kou=1-right_kou\n",
    "                right_kou2=N_rightA.sum()/len(y)\n",
    "                right_kou3=right_kou*right_kou2\n",
    "\n",
    "                left_kou=0\n",
    "                for i in range(kumi):\n",
    "                    left_kou+= (N_leftA[i]/(N_leftA.sum()))**2\n",
    "                ritoku=0\n",
    "                left_kou=1-left_kou\n",
    "                left_kou2=N_leftA.sum()/len(y)\n",
    "                left_kou3=left_kou*left_kou2\n",
    "\n",
    "                ritoku=Nall-right_kou3-left_kou3\n",
    "\n",
    "                ritoku_list.append(ritoku)\n",
    "\n",
    "        bunkatu=X_list[ritoku_list.index(max(ritoku_list))]\n",
    "\n",
    "        gaitou_list=(X==X_list[ritoku_list.index(max(ritoku_list))])\n",
    "\n",
    "        return ritoku_list,bunkatu,gaitou_list\n",
    "    \n",
    "    def tree_check(self,X,y,bunkatu,x_index):\n",
    "        \"\"\"子ノードのクラスを確認\n",
    "        Parameters\n",
    "        ----------\n",
    "        bunkatu : 分割基準\n",
    "        x_index : 特徴量のどの列のものか\n",
    "        X : 次の形のndarray, shape (n_samples, n_features)\n",
    "            訓練データの特徴量\n",
    "        y : 次の形のndarray, shape (n_samples,)\n",
    "                訓練データの正解値\n",
    "\n",
    "        Returns\n",
    "        -------\n",
    "        left:left側のリスト\n",
    "        right:right側のリスト\n",
    "        left_count:left側内訳\n",
    "        raight_count:right側内訳\n",
    "\n",
    "        \"\"\"\n",
    "        y=y.reshape(len(y),1)\n",
    "        Xy=np.concatenate([X,y],axis=1)\n",
    "        X1=X[:,x_index-1]\n",
    "        left=[]\n",
    "        right=[]\n",
    "        Xy1=Xy[np.argsort(Xy[:,x_index-1])]\n",
    "\n",
    "        for i in range(len(X1)):\n",
    "            if bunkatu>=X1[i]:\n",
    "                left.append(Xy1[i])\n",
    "            else:\n",
    "                right.append(Xy1[i])\n",
    "\n",
    "        if not(len(left)==0):  \n",
    "            left1=np.array(left)\n",
    "            left2=left1[:,-1]\n",
    "        else:\n",
    "            left=[]\n",
    "            left1=np.array(left)\n",
    "        if not(len(right)==0):\n",
    "            right1=np.array(right)\n",
    "            right2=right1[:,-1]\n",
    "        else:\n",
    "            raight=[]\n",
    "            right1=np.array(right)\n",
    "\n",
    "        import collections\n",
    "        left3=collections.Counter(left2)\n",
    "        right3=collections.Counter(right2)\n",
    "\n",
    "        return left2,left3,right2,right3  \n",
    "    \n",
    "    def tree_sample_predict(self,bunkatu,xx,x_index,left_class=0,raight_class=1):\n",
    "        \"\"\"子ノードのクラスを確認\n",
    "        Parameters\n",
    "        ----------\n",
    "        bunkatu : 分割基準\n",
    "        x_index : 特徴量のどの列のものか\n",
    "        left_class:left側のクラス名　デフォルトは0\n",
    "        raight_class:right側のクラス名　デフォルトは1\n",
    "        xx:推定したい特徴量行列(n_samples, n_features)\n",
    "\n",
    "        Returns\n",
    "        -------\n",
    "        y_pred:予測値のリスト\n",
    "\n",
    "        \"\"\"\n",
    "        y_pred=[]\n",
    "        for i in range(len(xx)):\n",
    "            if bunkatu>=xx[i,(x_index)-1]:\n",
    "                y_pred.append(left_class)\n",
    "            else:\n",
    "                y_pred.append(raight_class)\n",
    "        return y_pred"
   ]
  },
  {
   "cell_type": "markdown",
   "metadata": {},
   "source": [
    "【問題5】学習と推定"
   ]
  },
  {
   "cell_type": "code",
   "execution_count": 53,
   "metadata": {},
   "outputs": [],
   "source": [
    "# 雛形をもとにシンプルデータセット2の2値分類の学習と推定を行う\n",
    "\n",
    "from sklearn.model_selection import train_test_split\n",
    "train_x,test_x,train_y,test_y=train_test_split(X,y)\n",
    "\n",
    "SDT=ScratchDecesionTreeClassifierDepth1()\n",
    "a,b,c=SDT.tree_sample_fit(X,y,kumi=2)\n",
    "d,e,f,g=SDT.tree_check(X,y,b,2)\n"
   ]
  },
  {
   "cell_type": "code",
   "execution_count": 27,
   "metadata": {},
   "outputs": [
    {
     "data": {
      "text/plain": [
       "array([0., 0., 0., 1., 0., 0., 1., 0., 0., 1., 1., 0., 1., 1., 1., 1., 0.,\n",
       "       1., 0., 1., 0., 0., 0., 0., 1., 0., 0., 1., 1.])"
      ]
     },
     "execution_count": 27,
     "metadata": {},
     "output_type": "execute_result"
    }
   ],
   "source": [
    "d"
   ]
  },
  {
   "cell_type": "code",
   "execution_count": 28,
   "metadata": {},
   "outputs": [
    {
     "data": {
      "text/plain": [
       "Counter({0.0: 16, 1.0: 13})"
      ]
     },
     "execution_count": 28,
     "metadata": {},
     "output_type": "execute_result"
    }
   ],
   "source": [
    "e"
   ]
  },
  {
   "cell_type": "code",
   "execution_count": 29,
   "metadata": {},
   "outputs": [
    {
     "data": {
      "text/plain": [
       "array([0., 0., 0., 0., 1., 1., 1., 1., 1., 1., 1.])"
      ]
     },
     "execution_count": 29,
     "metadata": {},
     "output_type": "execute_result"
    }
   ],
   "source": [
    "f"
   ]
  },
  {
   "cell_type": "code",
   "execution_count": 30,
   "metadata": {},
   "outputs": [
    {
     "data": {
      "text/plain": [
       "Counter({0.0: 4, 1.0: 7})"
      ]
     },
     "execution_count": 30,
     "metadata": {},
     "output_type": "execute_result"
    }
   ],
   "source": [
    "g"
   ]
  },
  {
   "cell_type": "markdown",
   "metadata": {},
   "source": [
    "最も情報利得が高い分割で行った結果が上のような結果になった。\n",
    "これをもとに推定と評価を行ってみる"
   ]
  },
  {
   "cell_type": "code",
   "execution_count": 59,
   "metadata": {},
   "outputs": [],
   "source": [
    "y_pred=SDT.tree_sample_predict(b,test_x,2,left_class=0,raight_class=1)"
   ]
  },
  {
   "cell_type": "code",
   "execution_count": 65,
   "metadata": {},
   "outputs": [
    {
     "data": {
      "text/plain": [
       "[0, 0, 0, 0, 0, 0, 0, 0, 0, 0]"
      ]
     },
     "execution_count": 65,
     "metadata": {},
     "output_type": "execute_result"
    }
   ],
   "source": [
    "y_pred"
   ]
  },
  {
   "cell_type": "code",
   "execution_count": 58,
   "metadata": {},
   "outputs": [
    {
     "data": {
      "text/plain": [
       "array([1, 0, 0, 0, 1, 1, 0, 0, 0, 0])"
      ]
     },
     "execution_count": 58,
     "metadata": {},
     "output_type": "execute_result"
    }
   ],
   "source": [
    "test_y"
   ]
  },
  {
   "cell_type": "code",
   "execution_count": 61,
   "metadata": {},
   "outputs": [
    {
     "data": {
      "text/plain": [
       "0.7"
      ]
     },
     "execution_count": 61,
     "metadata": {},
     "output_type": "execute_result"
    }
   ],
   "source": [
    "# Accuracy（正解率）\n",
    "from sklearn.metrics import accuracy_score\n",
    "accuracy_score(test_y, y_pred)"
   ]
  },
  {
   "cell_type": "markdown",
   "metadata": {},
   "source": [
    "適合率は７０％ほどとまずまずだった、たまたま分割したものが０の分類が多かったため、予測に偏りがあったが、もう少しサンプル多ければ結果をもう少し解釈することができそうかと思われる"
   ]
  },
  {
   "cell_type": "markdown",
   "metadata": {},
   "source": [
    "【問題6】決定領域の可視化"
   ]
  },
  {
   "cell_type": "code",
   "execution_count": 82,
   "metadata": {},
   "outputs": [
    {
     "data": {
      "image/png": "[encoded data removed]",
      "text/plain": [
       "<Figure size 432x288 with 1 Axes>"
      ]
     },
     "metadata": {
      "needs_background": "light"
     },
     "output_type": "display_data"
    }
   ],
   "source": [
    "import matplotlib.pyplot as plt\n",
    "from matplotlib.colors import ListedColormap\n",
    "import matplotlib.patches as mpatches\n",
    "step=0.01\n",
    "title='decision region'\n",
    "xlabel='xlabel'\n",
    "ylabel='ylabel'\n",
    "target_names=['0', '1']\n",
    "chida=SDT.tree_sample_predict(b,mesh,2,left_class=0,raight_class=1)\n",
    "chida=np.array(chida)\n",
    "\"\"\"\n",
    "2値分類を2次元の特徴量で学習したモデルの決定領域を描く。\n",
    "背景の色が学習したモデルによる推定値から描画される。\n",
    "散布図の点は訓練データまたは検証データである。\n",
    "Parameters\n",
    "----------------\n",
    "X : ndarray, shape(n_samples, 2)\n",
    "    特徴量\n",
    "y : ndarray, shape(n_samples,)\n",
    "    ラベル\n",
    "model : object\n",
    "    学習したモデルのインスンタスを入れる\n",
    "step : float, (default : 0.1)\n",
    "    推定値を計算する間隔を設定する\n",
    "title : str\n",
    "    グラフのタイトルの文章を与える\n",
    "xlabel, ylabel : str\n",
    "    軸ラベルの文章を与える\n",
    "target_names= : list of str\n",
    "    凡例の一覧を与える\n",
    "\"\"\"\n",
    "# setting\n",
    "scatter_color = ['red', 'blue']\n",
    "contourf_color = ['pink', 'skyblue']\n",
    "n_class = 2\n",
    "# pred\n",
    "mesh_f0, mesh_f1  = np.meshgrid(np.arange(np.min(X[:,0])-0.5, np.max(X[:,0])+0.5, step), np.arange(np.min(X[:,1])-0.5, np.max(X[:,1])+0.5, step))\n",
    "mesh = np.c_[np.ravel(mesh_f0),np.ravel(mesh_f1)]\n",
    "y_pred = chida.reshape(mesh_f0.shape)\n",
    "# plot\n",
    "plt.title(title)\n",
    "plt.xlabel(xlabel)\n",
    "plt.ylabel(ylabel)\n",
    "plt.contourf(mesh_f0, mesh_f1, y_pred, n_class-1, cmap=ListedColormap(contourf_color))\n",
    "plt.contour(mesh_f0, mesh_f1, y_pred, n_class-1, colors='y', linewidths=3, alpha=0.5)\n",
    "for i, target in enumerate(set(y)):\n",
    "    plt.scatter(X[y==target][:, 0], X[y==target][:, 1], s=80, color=scatter_color[i], label=target_names[i], marker='o')\n",
    "patches = [mpatches.Patch(color=scatter_color[i], label=target_names[i]) for i in range(n_class)]\n",
    "plt.legend(handles=patches)\n",
    "plt.legend()\n",
    "plt.show()"
   ]
  },
  {
   "cell_type": "markdown",
   "metadata": {},
   "source": [
    "データセット自体がなかなか分割の難しいようなものであったものあり、難しい分析となった"
   ]
  },
  {
   "cell_type": "code",
   "execution_count": null,
   "metadata": {},
   "outputs": [],
   "source": []
  }
 ],
 "metadata": {
  "kernelspec": {
   "display_name": "Python 3",
   "language": "python",
   "name": "python3"
  },
  "language_info": {
   "codemirror_mode": {
    "name": "ipython",
    "version": 3
   },
   "file_extension": ".py",
   "mimetype": "text/x-python",
   "name": "python",
   "nbconvert_exporter": "python",
   "pygments_lexer": "ipython3",
   "version": "3.7.2"
  }
 },
 "nbformat": 4,
 "nbformat_minor": 2
}
