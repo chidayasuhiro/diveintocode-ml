{
 "cells": [
  {
   "cell_type": "markdown",
   "metadata": {},
   "source": [
    "【問題1】行列積を手計算する"
   ]
  },
  {
   "cell_type": "markdown",
   "metadata": {},
   "source": [
    "AB11を行列Aと行列Bの積の1行1列の成分とする\n",
    "\n",
    "AB11=0+0+6=6\n",
    "AB12=-2+4+27=29\n",
    "AB13=-1-16-3=-20\n",
    "\n",
    "AB21=0+0+12=12\n",
    "AB22=8-10+54=52\n",
    "AB23=4+40-6=38\n",
    "\n",
    "AB31=0+0-18=-18\n",
    "AB32=14+16-81=-51\n",
    "AB33=7-64+9=-48\n",
    "\n",
    "よってABは\n",
    "[6,29,-20]\n",
    "[12,52,38]\n",
    "[-18,-51,-48]\n",
    "となる"
   ]
  },
  {
   "cell_type": "markdown",
   "metadata": {},
   "source": [
    "【問題2】NumPyの関数による計算"
   ]
  },
  {
   "cell_type": "code",
   "execution_count": 5,
   "metadata": {},
   "outputs": [
    {
     "data": {
      "text/plain": [
       "array([[  6,  29, -20],\n",
       "       [ 12,  52,  38],\n",
       "       [-18, -51, -48]])"
      ]
     },
     "execution_count": 5,
     "metadata": {},
     "output_type": "execute_result"
    }
   ],
   "source": [
    "import numpy as np\n",
    "a_ndarray = np.array([[-1, 2, 3], [4, -5, 6], [7, 8, -9]])\n",
    "b_ndarray = np.array([[0, 2, 1], [0, 2, -8], [2, 9, -1]])\n",
    "\n",
    "# np.matmul()で計算\n",
    "np.matmul(a_ndarray,b_ndarray)"
   ]
  },
  {
   "cell_type": "code",
   "execution_count": 4,
   "metadata": {},
   "outputs": [
    {
     "data": {
      "text/plain": [
       "array([[  6,  29, -20],\n",
       "       [ 12,  52,  38],\n",
       "       [-18, -51, -48]])"
      ]
     },
     "execution_count": 4,
     "metadata": {},
     "output_type": "execute_result"
    }
   ],
   "source": [
    "import numpy as np\n",
    "a_ndarray = np.array([[-1, 2, 3], [4, -5, 6], [7, 8, -9]])\n",
    "b_ndarray = np.array([[0, 2, 1], [0, 2, -8], [2, 9, -1]])\n",
    "\n",
    "# np.dot()で計算\n",
    "np.dot(a_ndarray,b_ndarray)"
   ]
  },
  {
   "cell_type": "code",
   "execution_count": 6,
   "metadata": {},
   "outputs": [
    {
     "data": {
      "text/plain": [
       "array([[  6,  29, -20],\n",
       "       [ 12,  52,  38],\n",
       "       [-18, -51, -48]])"
      ]
     },
     "execution_count": 6,
     "metadata": {},
     "output_type": "execute_result"
    }
   ],
   "source": [
    "import numpy as np\n",
    "a_ndarray = np.array([[-1, 2, 3], [4, -5, 6], [7, 8, -9]])\n",
    "b_ndarray = np.array([[0, 2, 1], [0, 2, -8], [2, 9, -1]])\n",
    "\n",
    "# @で計算\n",
    "a_ndarray @ b_ndarray"
   ]
  },
  {
   "cell_type": "markdown",
   "metadata": {},
   "source": [
    "【問題3】ある要素の計算を実装"
   ]
  },
  {
   "cell_type": "code",
   "execution_count": 19,
   "metadata": {},
   "outputs": [
    {
     "name": "stdout",
     "output_type": "stream",
     "text": [
      "6\n"
     ]
    }
   ],
   "source": [
    "# AB11の計算式のプログラミング\n",
    "\n",
    "import numpy as np\n",
    "a_ndarray = np.array([[-1, 2, 3], [4, -5, 6], [7, 8, -9]])\n",
    "b_ndarray = np.array([[0, 2, 1], [0, 2, -8], [2, 9, -1]])\n",
    "\n",
    "sigma00=a_ndarray[0,0]*b_ndarray[0,0]+a_ndarray[0,1]*b_ndarray[1,0]+a_ndarray[0,2]*b_ndarray[2,0]\n",
    "print(sigma00)"
   ]
  },
  {
   "cell_type": "markdown",
   "metadata": {},
   "source": [
    "【問題4】行列積を行う関数の作成"
   ]
  },
  {
   "cell_type": "code",
   "execution_count": 20,
   "metadata": {},
   "outputs": [
    {
     "data": {
      "text/plain": [
       "array([[  6,  29, -20],\n",
       "       [ 12,  52,  38],\n",
       "       [-18, -51, -48]])"
      ]
     },
     "execution_count": 20,
     "metadata": {},
     "output_type": "execute_result"
    }
   ],
   "source": [
    "# 3×3の行列の積を出力\n",
    "\n",
    "def chida(a,b):\n",
    "    import numpy as np\n",
    "    a_ndarray = np.array(a)\n",
    "    b_ndarray = np.array(b)\n",
    "    sigma00=a_ndarray[0,0]*b_ndarray[0,0]+a_ndarray[0,1]*b_ndarray[1,0]+a_ndarray[0,2]*b_ndarray[2,0]\n",
    "    sigma01=a_ndarray[0,0]*b_ndarray[0,1]+a_ndarray[0,1]*b_ndarray[1,1]+a_ndarray[0,2]*b_ndarray[2,1]\n",
    "    sigma02=a_ndarray[0,0]*b_ndarray[0,2]+a_ndarray[0,1]*b_ndarray[1,2]+a_ndarray[0,2]*b_ndarray[2,2]\n",
    "    sigma10=a_ndarray[1,0]*b_ndarray[0,0]+a_ndarray[1,1]*b_ndarray[1,0]+a_ndarray[1,2]*b_ndarray[2,0]\n",
    "    sigma11=a_ndarray[1,0]*b_ndarray[0,1]+a_ndarray[1,1]*b_ndarray[1,1]+a_ndarray[1,2]*b_ndarray[2,1]\n",
    "    sigma12=a_ndarray[1,0]*b_ndarray[0,2]+a_ndarray[1,1]*b_ndarray[1,2]+a_ndarray[1,2]*b_ndarray[2,2]\n",
    "    sigma20=a_ndarray[2,0]*b_ndarray[0,0]+a_ndarray[2,1]*b_ndarray[1,0]+a_ndarray[2,2]*b_ndarray[2,0]\n",
    "    sigma21=a_ndarray[2,0]*b_ndarray[0,1]+a_ndarray[2,1]*b_ndarray[1,1]+a_ndarray[2,2]*b_ndarray[2,1]\n",
    "    sigma22=a_ndarray[2,0]*b_ndarray[0,2]+a_ndarray[2,1]*b_ndarray[1,2]+a_ndarray[2,2]*b_ndarray[2,2]\n",
    "    \n",
    "    matrix=np.array([[sigma00,sigma01,sigma02], [sigma10,sigma11,sigma12], [sigma20,sigma21,sigma22]])\n",
    "    return matrix\n",
    "\n",
    "a = ([[-1, 2, 3], [4, -5, 6], [7, 8, -9]])\n",
    "b = ([[0, 2, 1], [0, 2, -8], [2, 9, -1]])\n",
    "\n",
    "chida(a,b)"
   ]
  },
  {
   "cell_type": "markdown",
   "metadata": {},
   "source": [
    "【問題5】計算が定義されない入力を判定する"
   ]
  },
  {
   "cell_type": "code",
   "execution_count": 40,
   "metadata": {},
   "outputs": [
    {
     "name": "stdout",
     "output_type": "stream",
     "text": [
      "[[  6  29 -20]\n",
      " [ 12  52  38]\n",
      " [-18 -51 -48]]\n",
      "計算ができません\n"
     ]
    }
   ],
   "source": [
    "# 行列が3×3じゃない場合計は「計算ができません」と表示させる\n",
    "# 例として計算ができる場合とできない場合を表示\n",
    "\n",
    "def chida(a,b):\n",
    "    import numpy as np\n",
    "    a_ndarray = np.array(a)\n",
    "    b_ndarray = np.array(b)\n",
    "    if a_ndarray.shape==b_ndarray.shape:\n",
    "        sigma00=a_ndarray[0,0]*b_ndarray[0,0]+a_ndarray[0,1]*b_ndarray[1,0]+a_ndarray[0,2]*b_ndarray[2,0]\n",
    "        sigma01=a_ndarray[0,0]*b_ndarray[0,1]+a_ndarray[0,1]*b_ndarray[1,1]+a_ndarray[0,2]*b_ndarray[2,1]\n",
    "        sigma02=a_ndarray[0,0]*b_ndarray[0,2]+a_ndarray[0,1]*b_ndarray[1,2]+a_ndarray[0,2]*b_ndarray[2,2]\n",
    "        sigma10=a_ndarray[1,0]*b_ndarray[0,0]+a_ndarray[1,1]*b_ndarray[1,0]+a_ndarray[1,2]*b_ndarray[2,0]\n",
    "        sigma11=a_ndarray[1,0]*b_ndarray[0,1]+a_ndarray[1,1]*b_ndarray[1,1]+a_ndarray[1,2]*b_ndarray[2,1]\n",
    "        sigma12=a_ndarray[1,0]*b_ndarray[0,2]+a_ndarray[1,1]*b_ndarray[1,2]+a_ndarray[1,2]*b_ndarray[2,2]\n",
    "        sigma20=a_ndarray[2,0]*b_ndarray[0,0]+a_ndarray[2,1]*b_ndarray[1,0]+a_ndarray[2,2]*b_ndarray[2,0]\n",
    "        sigma21=a_ndarray[2,0]*b_ndarray[0,1]+a_ndarray[2,1]*b_ndarray[1,1]+a_ndarray[2,2]*b_ndarray[2,1]\n",
    "        sigma22=a_ndarray[2,0]*b_ndarray[0,2]+a_ndarray[2,1]*b_ndarray[1,2]+a_ndarray[2,2]*b_ndarray[2,2]\n",
    "    \n",
    "        matrix=np.array([[sigma00,sigma01,sigma02], [sigma10,sigma11,sigma12], [sigma20,sigma21,sigma22]])\n",
    "        return matrix\n",
    "    else:\n",
    "        print(\"計算ができません\")\n",
    "\n",
    "a = ([[-1, 2, 3], [4, -5, 6],[7, 8, -9]])\n",
    "b = ([[0, 2, 1], [0, 2, -8],[2, 9, -1]])\n",
    "\n",
    "print(chida(a,b))\n",
    "\n",
    "a = ([[-1, 2, 3], [4, -5, 6],[7, 8, -9]])\n",
    "b = ([[0, 2, 1], [0, 2, -8]])\n",
    "\n",
    "chida(a,b)"
   ]
  },
  {
   "cell_type": "markdown",
   "metadata": {},
   "source": [
    "【問題6】転置"
   ]
  },
  {
   "cell_type": "code",
   "execution_count": 44,
   "metadata": {},
   "outputs": [
    {
     "data": {
      "text/plain": [
       "array([[ 33, -28,   9],\n",
       "       [-48,  41,  -6],\n",
       "       [  9,  -6,  45]])"
      ]
     },
     "execution_count": 44,
     "metadata": {},
     "output_type": "execute_result"
    }
   ],
   "source": [
    "\n",
    "import numpy as np\n",
    "d_ndarray = np.array([[-1, 2, 3], [4, -5, 6]])\n",
    "e_ndarray = np.array([[-9, 8, 7], [6, -5, 4]])\n",
    "\n",
    "# d_ndarrayを転置し、３×２と２×３の行列として計算\n",
    "\n",
    "d_ndarray2=d_ndarray.T\n",
    "\n",
    "d_ndarray.T @ e_ndarray"
   ]
  },
  {
   "cell_type": "code",
   "execution_count": null,
   "metadata": {},
   "outputs": [],
   "source": []
  }
 ],
 "metadata": {
  "kernelspec": {
   "display_name": "Python 3",
   "language": "python",
   "name": "python3"
  },
  "language_info": {
   "codemirror_mode": {
    "name": "ipython",
    "version": 3
   },
   "file_extension": ".py",
   "mimetype": "text/x-python",
   "name": "python",
   "nbconvert_exporter": "python",
   "pygments_lexer": "ipython3",
   "version": "3.7.0"
  }
 },
 "nbformat": 4,
 "nbformat_minor": 2
}
